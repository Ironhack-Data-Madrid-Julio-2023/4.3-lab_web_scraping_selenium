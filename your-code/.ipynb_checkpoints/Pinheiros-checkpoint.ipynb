{
 "cells": [
  {
   "cell_type": "code",
   "execution_count": 1,
   "id": "77edc55d",
   "metadata": {},
   "outputs": [],
   "source": [
    "# https://www.booking.com/searchresults.pt-br.html?ss=Pinheiros%2C+S%C3%A3o+Paulo%2C+Estado+de+S%C3%A3o+Paulo%2C+Brasil&ssne=S%C3%A3o+Paulo&ssne_untouched=S%C3%A3o+Paulo&efdco=1&label=pt-br-booking-desktop-9_uvqir24qvA6x6xGiDvCQS652796015463%3Apl%3Ata%3Ap1%3Ap2%3Aac%3Aap%3Aneg%3Afi%3Atikwd-65526620%3Alp9061033%3Ali1001773%3Adec%3Adm&aid=2311236&lang=pt-br&sb=1&src_elem=sb&src=index&dest_id=2350&dest_type=district&ac_position=0&ac_click_type=b&ac_langcode=xb&ac_suggestion_list_length=5&search_selected=true&search_pageview_id=6a8e61d6955d032f&ac_meta=GhA2YThlNjFkNjk1NWQwMzJmIAAoATICeGI6CXBpbmhlaXJvc0AASgBQAA%3D%3D&checkin=2023-09-12&checkout=2023-09-13&group_adults=2&no_rooms=1&group_children=0&sb_travel_purpose=leisure"
   ]
  },
  {
   "cell_type": "code",
   "execution_count": 1,
   "id": "31c7aa7d",
   "metadata": {},
   "outputs": [
    {
     "name": "stdout",
     "output_type": "stream",
     "text": [
      "Requirement already satisfied: selenium in c:\\users\\demia\\anaconda3\\lib\\site-packages (4.7.1)\n",
      "Requirement already satisfied: selenium-wire in c:\\users\\demia\\anaconda3\\lib\\site-packages (5.1.0)\n",
      "Requirement already satisfied: webdriver-manager in c:\\users\\demia\\anaconda3\\lib\\site-packages (4.0.0)\n",
      "Requirement already satisfied: trio~=0.17 in c:\\users\\demia\\anaconda3\\lib\\site-packages (from selenium) (0.22.2)\n",
      "Requirement already satisfied: urllib3[socks]~=1.26 in c:\\users\\demia\\anaconda3\\lib\\site-packages (from selenium) (1.26.14)\n",
      "Requirement already satisfied: trio-websocket~=0.9 in c:\\users\\demia\\anaconda3\\lib\\site-packages (from selenium) (0.10.3)\n",
      "Requirement already satisfied: certifi>=2021.10.8 in c:\\users\\demia\\anaconda3\\lib\\site-packages (from selenium) (2023.5.7)\n",
      "Requirement already satisfied: pysocks>=1.7.1 in c:\\users\\demia\\anaconda3\\lib\\site-packages (from selenium-wire) (1.7.1)\n",
      "Requirement already satisfied: wsproto>=0.14 in c:\\users\\demia\\anaconda3\\lib\\site-packages (from selenium-wire) (1.2.0)\n",
      "Requirement already satisfied: brotli>=1.0.9 in c:\\users\\demia\\anaconda3\\lib\\site-packages (from selenium-wire) (1.0.9)\n",
      "Requirement already satisfied: hyperframe>=6.0 in c:\\users\\demia\\anaconda3\\lib\\site-packages (from selenium-wire) (6.0.1)\n",
      "Requirement already satisfied: kaitaistruct>=0.7 in c:\\users\\demia\\anaconda3\\lib\\site-packages (from selenium-wire) (0.10)\n",
      "Requirement already satisfied: zstandard>=0.14.1 in c:\\users\\demia\\anaconda3\\lib\\site-packages (from selenium-wire) (0.19.0)\n",
      "Requirement already satisfied: pyparsing>=2.4.2 in c:\\users\\demia\\anaconda3\\lib\\site-packages (from selenium-wire) (3.0.9)\n",
      "Requirement already satisfied: pyOpenSSL>=22.0.0 in c:\\users\\demia\\anaconda3\\lib\\site-packages (from selenium-wire) (23.0.0)\n",
      "Requirement already satisfied: blinker>=1.4 in c:\\users\\demia\\anaconda3\\lib\\site-packages (from selenium-wire) (1.6.2)\n",
      "Requirement already satisfied: h2>=4.0 in c:\\users\\demia\\anaconda3\\lib\\site-packages (from selenium-wire) (4.1.0)\n",
      "Requirement already satisfied: pyasn1>=0.3.1 in c:\\users\\demia\\anaconda3\\lib\\site-packages (from selenium-wire) (0.4.8)\n",
      "Requirement already satisfied: pydivert>=2.0.3 in c:\\users\\demia\\anaconda3\\lib\\site-packages (from selenium-wire) (2.1.0)\n",
      "Requirement already satisfied: packaging in c:\\users\\demia\\anaconda3\\lib\\site-packages (from webdriver-manager) (22.0)\n",
      "Requirement already satisfied: python-dotenv in c:\\users\\demia\\anaconda3\\lib\\site-packages (from webdriver-manager) (1.0.0)\n",
      "Requirement already satisfied: requests in c:\\users\\demia\\anaconda3\\lib\\site-packages (from webdriver-manager) (2.28.1)\n",
      "Requirement already satisfied: hpack<5,>=4.0 in c:\\users\\demia\\anaconda3\\lib\\site-packages (from h2>=4.0->selenium-wire) (4.0.0)\n",
      "Requirement already satisfied: cryptography<40,>=38.0.0 in c:\\users\\demia\\anaconda3\\lib\\site-packages (from pyOpenSSL>=22.0.0->selenium-wire) (39.0.1)\n",
      "Requirement already satisfied: sortedcontainers in c:\\users\\demia\\anaconda3\\lib\\site-packages (from trio~=0.17->selenium) (2.4.0)\n",
      "Requirement already satisfied: cffi>=1.14 in c:\\users\\demia\\anaconda3\\lib\\site-packages (from trio~=0.17->selenium) (1.15.1)\n",
      "Requirement already satisfied: attrs>=20.1.0 in c:\\users\\demia\\anaconda3\\lib\\site-packages (from trio~=0.17->selenium) (22.1.0)\n",
      "Requirement already satisfied: exceptiongroup>=1.0.0rc9 in c:\\users\\demia\\anaconda3\\lib\\site-packages (from trio~=0.17->selenium) (1.1.2)\n",
      "Requirement already satisfied: sniffio in c:\\users\\demia\\anaconda3\\lib\\site-packages (from trio~=0.17->selenium) (1.2.0)\n",
      "Requirement already satisfied: outcome in c:\\users\\demia\\anaconda3\\lib\\site-packages (from trio~=0.17->selenium) (1.2.0)\n",
      "Requirement already satisfied: idna in c:\\users\\demia\\anaconda3\\lib\\site-packages (from trio~=0.17->selenium) (3.4)\n",
      "Requirement already satisfied: h11<1,>=0.9.0 in c:\\users\\demia\\anaconda3\\lib\\site-packages (from wsproto>=0.14->selenium-wire) (0.14.0)\n",
      "Requirement already satisfied: charset-normalizer<3,>=2 in c:\\users\\demia\\anaconda3\\lib\\site-packages (from requests->webdriver-manager) (2.0.4)\n",
      "Requirement already satisfied: pycparser in c:\\users\\demia\\anaconda3\\lib\\site-packages (from cffi>=1.14->trio~=0.17->selenium) (2.21)\n",
      "Note: you may need to restart the kernel to use updated packages.\n"
     ]
    }
   ],
   "source": []
  },
  {
   "cell_type": "code",
   "execution_count": 17,
   "id": "6bf03558",
   "metadata": {},
   "outputs": [],
   "source": [
    "import time\n",
    "from seleniumwire import webdriver\n",
    "from selenium.webdriver.chrome.service import Service\n",
    "from webdriver_manager.chrome import ChromeDriverManager\n",
    "from selenium.webdriver.common.by import By\n",
    "from selenium.webdriver.chrome.options import Options\n",
    "from selenium.common.exceptions import NoSuchElementException\n",
    "from selenium.webdriver.support.ui import WebDriverWait\n",
    "from selenium.webdriver.support import expected_conditions as EC\n",
    "from selenium.common.exceptions import StaleElementReferenceException\n",
    "from selenium.webdriver.common.action_chains import ActionChains\n",
    "\n",
    "opciones=Options()\n",
    "\n",
    "opciones.add_experimental_option('excludeSwitches', ['enable-automation'])\n",
    "opciones.add_experimental_option('useAutomationExtension', False)\n",
    "opciones.headless=False    \n",
    "opciones.add_argument('--start-maximized')         \n",
    "opciones.add_argument('--incognito')\n",
    "opciones.add_argument(\"--disable-cookies\")\n"
   ]
  },
  {
   "cell_type": "code",
   "execution_count": 3,
   "id": "4edd3237",
   "metadata": {},
   "outputs": [],
   "source": [
    "# Initialize the Chrome driver\n",
    "driver = webdriver.Chrome(service=Service(ChromeDriverManager().install()), options=opciones)\n",
    "\n",
    "url = \"https://www.booking.com/searchresults.pt-br.html?ss=Pinheiros%2C+S%C3%A3o+Paulo%2C+Estado+de+S%C3%A3o+Paulo%2C+Brasil&ssne=S%C3%A3o+Paulo&ssne_untouched=S%C3%A3o+Paulo&efdco=1&label=pt-br-booking-desktop-9_uvqir24qvA6x6xGiDvCQS652796015463%3Apl%3Ata%3Ap1%3Ap2%3Aac%3Aap%3Aneg%3Afi%3Atikwd-65526620%3Alp9061033%3Ali1001773%3Adec%3Adm&aid=2311236&lang=pt-br&sb=1&src_elem=sb&src=index&dest_id=2350&dest_type=district&ac_position=0&ac_click_type=b&ac_langcode=xb&ac_suggestion_list_length=5&search_selected=true&search_pageview_id=6a8e61d6955d032f&ac_meta=GhA2YThlNjFkNjk1NWQwMzJmIAAoATICeGI6CXBpbmhlaXJvc0AASgBQAA%3D%3D&checkin=2023-09-12&checkout=2023-09-13&group_adults=2&no_rooms=1&group_children=0&sb_travel_purpose=leisure\"\n",
    "driver.get(url)"
   ]
  },
  {
   "cell_type": "code",
   "execution_count": 4,
   "id": "dbc1eaef",
   "metadata": {},
   "outputs": [],
   "source": [
    "wait = WebDriverWait(driver, 20)\n",
    "\n",
    "try:\n",
    "    cookie_button = wait.until(EC.element_to_be_clickable((By.ID, \"onetrust-reject-all-handler\")))\n",
    "    cookie_button.click()\n",
    "    \n",
    "    \n",
    "except TimeoutException:\n",
    "    pass  "
   ]
  },
  {
   "cell_type": "code",
   "execution_count": 48,
   "id": "f5ce665f",
   "metadata": {},
   "outputs": [
    {
     "name": "stdout",
     "output_type": "stream",
     "text": [
      "Total pages: 4\n"
     ]
    }
   ],
   "source": [
    "properties = []\n",
    "\n",
    "def extract_properties():\n",
    "    property_cards = driver.find_elements(By.CSS_SELECTOR, 'div[data-testid=\"property-card\"]')\n",
    "    for property in property_cards:\n",
    "        name = property.find_element(By.CSS_SELECTOR, 'div[data-testid=\"title\"]').text\n",
    "        price = property.find_element(By.CSS_SELECTOR, '[data-testid=\"price-and-discounted-price\"]').text\n",
    "        chk_in = property.find_element(By.XPATH, '//button[contains(@class, \"d47738b911\") and @data-testid=\"date-display-field-start\"]').text\n",
    "        chk_out = property.find_element(By.XPATH, '//button[contains(@class, \"d47738b911\") and @data-testid=\"date-display-field-end\"]').text\n",
    "        \n",
    "        new_property = {}\n",
    "        new_property['name'] = name\n",
    "        new_property['price'] = price\n",
    "        new_property['chk_in'] = chk_in\n",
    "        new_property['chk_out'] = chk_out\n",
    "        \n",
    "        properties.append(new_property)\n",
    "\n",
    "\n",
    "total_pages = int(driver.find_element(By.CSS_SELECTOR, 'div[data-testid=\"pagination\"] li:last-child').text)\n",
    "print(f\"Total pages: {total_pages}\")\n",
    "\n",
    "current_page = 0"
   ]
  },
  {
   "cell_type": "code",
   "execution_count": 49,
   "id": "7273086e",
   "metadata": {},
   "outputs": [],
   "source": [
    "for current_page in range(total_pages):\n",
    "    driver.delete_all_cookies()\n",
    "    extract_properties()\n",
    "    next_page_btn = driver.find_element(By.CSS_SELECTOR, 'button[aria-label*=\"Página seguinte\"]')\n",
    "    next_page_btn.click()"
   ]
  },
  {
   "cell_type": "code",
   "execution_count": 50,
   "id": "d8dd88a6",
   "metadata": {},
   "outputs": [
    {
     "name": "stdout",
     "output_type": "stream",
     "text": [
      "[{'name': 'Charlie Alves Guimarães Pinheiros - Soft opening', 'price': '€ 91', 'chk_out': 'qua., 13 de set.'}, {'name': 'Uniclass Hotel Pinheiros', 'price': '€ 78', 'chk_out': 'qua., 13 de set.'}, {'name': 'Charlie Faria Lima', 'price': '€ 97', 'chk_out': 'qua., 13 de set.'}, {'name': 'Charlie Houx Pinheiros', 'price': '€ 77', 'chk_out': 'qua., 13 de set.'}, {'name': 'Studio Quality Oscar Freire', 'price': '€ 58', 'chk_out': 'qua., 13 de set.'}, {'name': 'Charlie Rua dos Pinheiros', 'price': '€ 82', 'chk_out': 'qua., 13 de set.'}, {'name': 'Ô de Casa Hostel', 'price': '€ 39', 'chk_out': 'qua., 13 de set.'}, {'name': 'Radisson Pinheiros', 'price': '€ 245', 'chk_out': 'qua., 13 de set.'}, {'name': 'Q-Flats Hotel - Faria Lima', 'price': '€ 78', 'chk_out': 'qua., 13 de set.'}, {'name': 'Guest Urban Hotel Design Pinheiros', 'price': '€ 82', 'chk_out': 'qua., 13 de set.'}, {'name': 'Casa Savana', 'price': '€ 68', 'chk_out': 'qua., 13 de set.'}, {'name': 'Filadelfia Hotel', 'price': '€ 41', 'chk_out': 'qua., 13 de set.'}, {'name': 'Studio Ben', 'price': '€ 50', 'chk_out': 'qua., 13 de set.'}, {'name': 'HomeLike ao lado da Av Faria Lima', 'price': '€ 79', 'chk_out': 'qua., 13 de set.'}, {'name': 'Moderno e sofisticado', 'price': '€ 120', 'chk_out': 'qua., 13 de set.'}, {'name': 'Golden Tower Pinheiros by Fênix Hotéis', 'price': '€ 172', 'chk_out': 'qua., 13 de set.'}, {'name': 'Hostel e Pousada Vila Madalena', 'price': '€ 37', 'chk_out': 'qua., 13 de set.'}, {'name': 'Cawy Pinheiros - São Paulo', 'price': '€ 63', 'chk_out': 'qua., 13 de set.'}, {'name': 'Elite Oscar Freire - Vivare', 'price': '€ 87', 'chk_out': 'qua., 13 de set.'}, {'name': 'Studio Living Mercure Pinheiros', 'price': '€ 64', 'chk_out': 'qua., 13 de set.'}, {'name': 'George V Alto De Pinheiros', 'price': '€ 218', 'chk_out': 'qua., 13 de set.'}, {'name': 'Flat Capote Valente 500 Pinheiros', 'price': '€ 65', 'chk_out': 'qua., 13 de set.'}, {'name': 'Pousada e Hostel São Paulo Comfort', 'price': '€ 49', 'chk_out': 'qua., 13 de set.'}, {'name': 'Selina Madalena Sao Paulo', 'price': '€ 39', 'chk_out': 'qua., 13 de set.'}, {'name': 'Hostel Brasil Boutique', 'price': '€ 34', 'chk_out': 'qua., 13 de set.'}, {'name': 'MichiH - Exclusivo Studio em Pinheiros', 'price': '€ 71', 'chk_out': 'qua., 13 de set.'}, {'name': 'Comfort Flat Pinheiros em Hotel 4,5 estrelas', 'price': '€ 101', 'chk_out': 'qua., 13 de set.'}, {'name': 'UrbanComfort Apt Fradique Coutinho SP', 'price': '€ 114', 'chk_out': 'qua., 13 de set.'}, {'name': 'Único Motel Faria Lima', 'price': '€ 37', 'chk_out': 'qua., 13 de set.'}, {'name': 'MichH - Maravilhoso Studio em Pinheiros', 'price': '€ 73', 'chk_out': 'qua., 13 de set.'}, {'name': 'Studio Savana', 'price': '€ 57', 'chk_out': 'qua., 13 de set.'}, {'name': 'Jardim Secreto', 'price': '€ 28', 'chk_out': 'qua., 13 de set.'}, {'name': 'Casa 11 by Victoria Design Europe', 'price': '€ 50', 'chk_out': 'qua., 13 de set.'}, {'name': 'Lamparina Hostel', 'price': '€ 48', 'chk_out': 'qua., 13 de set.'}, {'name': 'Smart Charlie Mobi Pinheiros', 'price': '€ 83', 'chk_out': 'qua., 13 de set.'}, {'name': 'Hotel Pousada Viana', 'price': '€ 35', 'chk_out': 'qua., 13 de set.'}, {'name': 'Oh! Madalena Hostel', 'price': '€ 29', 'chk_out': 'qua., 13 de set.'}, {'name': 'Flat Oscar Freire 1948 Pinheiros', 'price': '€ 65', 'chk_out': 'qua., 13 de set.'}, {'name': 'Hotel Jardim América ( Adults only)', 'price': '€ 38', 'chk_out': 'qua., 13 de set.'}, {'name': 'Charlie Pinheiros', 'price': '€ 93', 'chk_out': 'qua., 13 de set.'}, {'name': 'Cawy Pedroso - Pinheiros', 'price': '€ 71', 'chk_out': 'qua., 13 de set.'}, {'name': 'Garoa Hostel', 'price': '€ 49', 'chk_out': 'qua., 13 de set.'}, {'name': 'VN Pinheiros Alto Padrão', 'price': '€ 109', 'chk_out': 'qua., 13 de set.'}, {'name': 'Hotel Brothers São Paulo - By UP Hotel', 'price': '€ 28', 'chk_out': 'qua., 13 de set.'}, {'name': 'Lifestyle Pinheiros', 'price': '€ 88', 'chk_out': 'qua., 13 de set.'}, {'name': 'Charlie Oscar Freire', 'price': '€ 95', 'chk_out': 'qua., 13 de set.'}, {'name': 'Hilton Garden Inn Rebouças', 'price': '€ 208', 'chk_out': 'qua., 13 de set.'}, {'name': 'Charmoso Flat em Pinheiros', 'price': '€ 54', 'chk_out': 'qua., 13 de set.'}, {'name': '360 Suítes VN Oscar Freire - Apartamentos mobiliados', 'price': '€ 69', 'chk_out': 'qua., 13 de set.'}, {'name': 'Apto alto padrão Suite 70 metros Pinheiros Prédio Thera, até 6 pessoas Vista Incrivel', 'price': '€ 253', 'chk_out': 'qua., 13 de set.'}, {'name': 'QY1207 Flat na Faria Lima Com Vaga de Garagem', 'price': '€ 94', 'chk_out': 'qua., 13 de set.'}, {'name': 'Dois quartos HC e Metrô', 'price': '€ 95', 'chk_out': 'qua., 13 de set.'}, {'name': 'Único Motel Faria Lima', 'price': '€ 37', 'chk_out': 'qua., 13 de set.'}, {'name': 'Lamparina Hostel', 'price': '€ 48', 'chk_out': 'qua., 13 de set.'}, {'name': 'Smart Charlie Mobi Pinheiros', 'price': '€ 83', 'chk_out': 'qua., 13 de set.'}, {'name': '360 Suítes VN Capote Valente - Apartamentos mobiliados', 'price': '€ 84', 'chk_out': 'qua., 13 de set.'}, {'name': 'Duplex de Luxo Oscar Freire', 'price': '€ 236', 'chk_out': 'qua., 13 de set.'}, {'name': 'Loft Moderno na Rua Oscar Freire - Jardins', 'price': '€ 96', 'chk_out': 'qua., 13 de set.'}, {'name': 'Flat Lux Mercure in Pinheiros', 'price': '€ 99', 'chk_out': 'qua., 13 de set.'}, {'name': 'Charlie Pinheiros', 'price': '€ 93', 'chk_out': 'qua., 13 de set.'}, {'name': 'Studio Oscar Freire, na rua mais luxuosa de SP!1120', 'price': '€ 108', 'chk_out': 'qua., 13 de set.'}, {'name': 'MichiH - Lindo Studio em Pinheiros', 'price': '€ 78', 'chk_out': 'qua., 13 de set.'}, {'name': 'Pousada e Hostel São Paulo Econômica', 'price': '€ 37', 'chk_out': 'qua., 13 de set.'}, {'name': 'Apartamento Contemporâneo Na Oscar Freire', 'price': '€ 793', 'chk_out': 'qua., 13 de set.'}, {'name': 'Charlie Oscar Freire', 'price': '€ 95', 'chk_out': 'qua., 13 de set.'}, {'name': 'Apto luxuoso alto padrão Jardins VN C', 'price': '€ 118', 'chk_out': 'qua., 13 de set.'}, {'name': '360 Suítes Summit Pinheiros - Apartamentos Mobiliados', 'price': '€ 59', 'chk_out': 'qua., 13 de set.'}, {'name': 'Studio exclusivo na Rua Oscar Freire Novo', 'price': '€ 85', 'chk_out': 'qua., 13 de set.'}, {'name': 'SP-VTFL - Ventura Faria Lima', 'price': '€ 79', 'chk_out': 'qua., 13 de set.'}, {'name': 'Apto Alto padrão 2 dorms vista para Piscina até 6 pessoas', 'price': '€ 182', 'chk_out': 'qua., 13 de set.'}, {'name': 'MichiH - Perfeito Studio em Pinheiros', 'price': '€ 82', 'chk_out': 'qua., 13 de set.'}, {'name': 'Studio no Jardins proximo Metro Oscar Freire', 'price': '€ 94', 'chk_out': 'qua., 13 de set.'}, {'name': 'MIO106 Studio Em Pinheiros Prox Oscar Freire', 'price': '€ 92', 'chk_out': 'qua., 13 de set.'}, {'name': 'Condomínio luxuoso, apenas 50m do metrô Oscar freire e 5 minutos da Paulista', 'price': '€ 81', 'chk_out': 'qua., 13 de set.'}, {'name': 'Condomínio Fradik - Coração da Vila Madalena', 'price': '€ 89', 'chk_out': 'qua., 13 de set.'}, {'name': 'MiP6 Studio Pinheiros OscarFreire Prox Metrô', 'price': '€ 86', 'chk_out': 'qua., 13 de set.'}, {'name': 'Vossa Bossa Capote Valente', 'price': '€ 73', 'chk_out': 'qua., 13 de set.'}, {'name': 'Loft Oscar Freire, na rua mais luxuosa de SP!', 'price': '€ 100', 'chk_out': 'qua., 13 de set.'}, {'name': 'Apto alto padrão Suite 70 metros Pinheiros Prédio Thera, até 6 pessoas Vista Incrivel', 'price': '€ 253', 'chk_out': 'qua., 13 de set.'}, {'name': 'Apartamento espaçoso em Pinheiros ao lado do metrô', 'price': '€ 118', 'chk_out': 'qua., 13 de set.'}, {'name': 'Hotel Pousada Clínicas Valente', 'price': '€ 38', 'chk_out': 'qua., 13 de set.'}, {'name': 'Hotel Bali', 'price': '€ 45', 'chk_out': 'qua., 13 de set.'}, {'name': 'Pinheiros Hostel & Food', 'price': '€ 18', 'chk_out': 'qua., 13 de set.'}, {'name': 'Hostel Calábria 5 minutos da Vila Madalena e Beco do Batman', 'price': '€ 35', 'chk_out': 'qua., 13 de set.'}, {'name': 'Vilarejo Hostel Pinheiros Guest House', 'price': '€ 27', 'chk_out': 'qua., 13 de set.'}]\n"
     ]
    }
   ],
   "source": [
    "print(properties)"
   ]
  }
 ],
 "metadata": {
  "kernelspec": {
   "display_name": "Python 3 (ipykernel)",
   "language": "python",
   "name": "python3"
  },
  "language_info": {
   "codemirror_mode": {
    "name": "ipython",
    "version": 3
   },
   "file_extension": ".py",
   "mimetype": "text/x-python",
   "name": "python",
   "nbconvert_exporter": "python",
   "pygments_lexer": "ipython3",
   "version": "3.10.9"
  }
 },
 "nbformat": 4,
 "nbformat_minor": 5
}
