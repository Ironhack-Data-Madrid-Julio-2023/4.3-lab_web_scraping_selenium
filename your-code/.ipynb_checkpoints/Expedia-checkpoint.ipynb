{
 "cells": [
  {
   "cell_type": "code",
   "execution_count": 127,
   "id": "def88bc2",
   "metadata": {},
   "outputs": [],
   "source": [
    "driver.quit()"
   ]
  },
  {
   "cell_type": "code",
   "execution_count": 98,
   "id": "e8ccaf22",
   "metadata": {},
   "outputs": [
    {
     "name": "stdout",
     "output_type": "stream",
     "text": [
      "Requirement already satisfied: selenium==4.7.1 in c:\\users\\demia\\anaconda3\\lib\\site-packages (4.7.1)\n",
      "Requirement already satisfied: trio~=0.17 in c:\\users\\demia\\anaconda3\\lib\\site-packages (from selenium==4.7.1) (0.22.2)\n",
      "Requirement already satisfied: trio-websocket~=0.9 in c:\\users\\demia\\anaconda3\\lib\\site-packages (from selenium==4.7.1) (0.10.3)\n",
      "Requirement already satisfied: certifi>=2021.10.8 in c:\\users\\demia\\anaconda3\\lib\\site-packages (from selenium==4.7.1) (2023.5.7)\n",
      "Requirement already satisfied: urllib3[socks]~=1.26 in c:\\users\\demia\\anaconda3\\lib\\site-packages (from selenium==4.7.1) (1.26.14)\n",
      "Requirement already satisfied: attrs>=20.1.0 in c:\\users\\demia\\anaconda3\\lib\\site-packages (from trio~=0.17->selenium==4.7.1) (22.1.0)\n",
      "Requirement already satisfied: outcome in c:\\users\\demia\\anaconda3\\lib\\site-packages (from trio~=0.17->selenium==4.7.1) (1.2.0)\n",
      "Requirement already satisfied: cffi>=1.14 in c:\\users\\demia\\anaconda3\\lib\\site-packages (from trio~=0.17->selenium==4.7.1) (1.15.1)\n",
      "Requirement already satisfied: sniffio in c:\\users\\demia\\anaconda3\\lib\\site-packages (from trio~=0.17->selenium==4.7.1) (1.2.0)\n",
      "Requirement already satisfied: exceptiongroup>=1.0.0rc9 in c:\\users\\demia\\anaconda3\\lib\\site-packages (from trio~=0.17->selenium==4.7.1) (1.1.2)\n",
      "Requirement already satisfied: sortedcontainers in c:\\users\\demia\\anaconda3\\lib\\site-packages (from trio~=0.17->selenium==4.7.1) (2.4.0)\n",
      "Requirement already satisfied: idna in c:\\users\\demia\\anaconda3\\lib\\site-packages (from trio~=0.17->selenium==4.7.1) (3.4)\n",
      "Requirement already satisfied: wsproto>=0.14 in c:\\users\\demia\\anaconda3\\lib\\site-packages (from trio-websocket~=0.9->selenium==4.7.1) (1.2.0)\n",
      "Requirement already satisfied: PySocks!=1.5.7,<2.0,>=1.5.6 in c:\\users\\demia\\anaconda3\\lib\\site-packages (from urllib3[socks]~=1.26->selenium==4.7.1) (1.7.1)\n",
      "Requirement already satisfied: pycparser in c:\\users\\demia\\anaconda3\\lib\\site-packages (from cffi>=1.14->trio~=0.17->selenium==4.7.1) (2.21)\n",
      "Requirement already satisfied: h11<1,>=0.9.0 in c:\\users\\demia\\anaconda3\\lib\\site-packages (from wsproto>=0.14->trio-websocket~=0.9->selenium==4.7.1) (0.14.0)\n",
      "Note: you may need to restart the kernel to use updated packages.\n"
     ]
    }
   ],
   "source": []
  },
  {
   "cell_type": "code",
   "execution_count": null,
   "id": "3f80512b",
   "metadata": {},
   "outputs": [],
   "source": []
  },
  {
   "cell_type": "code",
   "execution_count": 128,
   "id": "144e29a7",
   "metadata": {},
   "outputs": [],
   "source": [
    "import pandas as pd\n",
    "import datetime\n",
    "from selenium import webdriver\n",
    "from selenium.webdriver.chrome.options import Options\n",
    "from webdriver_manager.chrome import ChromeDriverManager\n",
    "from selenium.common.exceptions import TimeoutException\n",
    "from selenium.webdriver.support import expected_conditions as EC\n",
    "from selenium.webdriver.common.by import By\n",
    "from selenium.webdriver.support.ui import WebDriverWait\n",
    "from selenium.common.exceptions import NoSuchElementException\n",
    "from selenium.webdriver.common.keys import Keys\n",
    "from selenium.webdriver.chrome.options import Options\n"
   ]
  },
  {
   "cell_type": "code",
   "execution_count": 129,
   "id": "a45b3043",
   "metadata": {},
   "outputs": [],
   "source": [
    "opciones=Options()\n",
    "\n",
    "opciones.add_experimental_option('excludeSwitches', ['enable-automation'])\n",
    "opciones.add_experimental_option('useAutomationExtension', False)\n",
    "opciones.headless=False    \n",
    "opciones.add_argument('--start-maximized')         \n",
    "opciones.add_argument('--incognito')\n",
    "opciones.add_argument(\"--disable-cookies\")"
   ]
  },
  {
   "cell_type": "code",
   "execution_count": 131,
   "id": "a30a5668",
   "metadata": {
    "scrolled": true
   },
   "outputs": [
    {
     "name": "stderr",
     "output_type": "stream",
     "text": [
      "C:\\Users\\demia\\AppData\\Local\\Temp\\ipykernel_20868\\557599310.py:3: DeprecationWarning: executable_path has been deprecated, please pass in a Service object\n",
      "  driver = webdriver.Chrome(driver,options = opciones)\n"
     ]
    }
   ],
   "source": [
    "driver = ChromeDriverManager().install()\n",
    "\n",
    "driver = webdriver.Chrome(driver,options = opciones) "
   ]
  },
  {
   "cell_type": "code",
   "execution_count": 132,
   "id": "ea45880c",
   "metadata": {},
   "outputs": [],
   "source": [
    "wait = WebDriverWait(driver, 20)\n",
    "driver.get('https://www.expedia.com.br/')"
   ]
  },
  {
   "cell_type": "code",
   "execution_count": 133,
   "id": "134f1f37",
   "metadata": {},
   "outputs": [],
   "source": [
    "wait = WebDriverWait(driver, 20)\n",
    "button_element = WebDriverWait(driver, 10).until(EC.element_to_be_clickable((By.CSS_SELECTOR, \"button#onetrust-reject-all-handler\")))\n",
    "button_element.click()"
   ]
  },
  {
   "cell_type": "code",
   "execution_count": 140,
   "id": "df8aeb30",
   "metadata": {},
   "outputs": [],
   "source": [
    "wait = WebDriverWait(driver, 5)\n",
    "button_element = WebDriverWait(driver, 5).until(EC.element_to_be_clickable((By.CSS_SELECTOR, \".uitk-fake-input.uitk-form-field-trigger\")))\n",
    "button_element.click()\n",
    "wait = WebDriverWait(driver, 5)\n",
    "\n",
    "import time\n",
    "wait = WebDriverWait(driver, 20)\n",
    "\n",
    "\n",
    "button_element = wait.until(EC.element_to_be_clickable((By.CSS_SELECTOR, \"button[data-stid='destination_form_field-dialog-trigger']\")))\n",
    "driver.execute_script(\"arguments[0].click();\", button_element)\n",
    "\n",
    "time.sleep(1)\n",
    "\n",
    "input_element = wait.until(EC.element_to_be_clickable((By.CSS_SELECTOR, \"input[data-stid='destination_form_field-dialog-input']\")))\n",
    "input_element.send_keys(\"Golden Tower Pinheiros by Fênix Hotéis, São Paulo, Estado de São Paulo, Brasil\")\n",
    "\n",
    "input_element.send_keys(Keys.RETURN)\n"
   ]
  },
  {
   "cell_type": "code",
   "execution_count": 124,
   "id": "9bdbf83a",
   "metadata": {},
   "outputs": [
    {
     "ename": "NoSuchElementException",
     "evalue": "Message: no such element: Unable to locate element: {\"method\":\"css selector\",\"selector\":\"input[data-stid='destination_form_field-dialog-input']\"}\n  (Session info: chrome=116.0.5845.111)\nStacktrace:\n\tGetHandleVerifier [0x00A237C3+48947]\n\t(No symbol) [0x009B8551]\n\t(No symbol) [0x008BC92D]\n\t(No symbol) [0x008E9E38]\n\t(No symbol) [0x008E9EFB]\n\t(No symbol) [0x008E2F61]\n\t(No symbol) [0x009050D4]\n\t(No symbol) [0x008E2EB6]\n\t(No symbol) [0x009053E4]\n\t(No symbol) [0x009175DA]\n\t(No symbol) [0x00904E86]\n\t(No symbol) [0x008E16C7]\n\t(No symbol) [0x008E284D]\n\tGetHandleVerifier [0x00C6FDF9+2458985]\n\tGetHandleVerifier [0x00CB744F+2751423]\n\tGetHandleVerifier [0x00CB1361+2726609]\n\tGetHandleVerifier [0x00AA0680+560624]\n\t(No symbol) [0x009C238C]\n\t(No symbol) [0x009BE268]\n\t(No symbol) [0x009BE392]\n\t(No symbol) [0x009B10B7]\n\tBaseThreadInitThunk [0x760700C9+25]\n\tRtlGetAppContainerNamedObjectPath [0x77C57B1E+286]\n\tRtlGetAppContainerNamedObjectPath [0x77C57AEE+238]\n",
     "output_type": "error",
     "traceback": [
      "\u001b[1;31m---------------------------------------------------------------------------\u001b[0m",
      "\u001b[1;31mNoSuchElementException\u001b[0m                    Traceback (most recent call last)",
      "Cell \u001b[1;32mIn[124], line 5\u001b[0m\n\u001b[0;32m      1\u001b[0m wait \u001b[38;5;241m=\u001b[39m WebDriverWait(driver, \u001b[38;5;241m20\u001b[39m)\n\u001b[0;32m      3\u001b[0m label_element \u001b[38;5;241m=\u001b[39m wait\u001b[38;5;241m.\u001b[39muntil(EC\u001b[38;5;241m.\u001b[39mpresence_of_element_located((By\u001b[38;5;241m.\u001b[39mCSS_SELECTOR, \u001b[38;5;124m\"\u001b[39m\u001b[38;5;124mlabel[for=\u001b[39m\u001b[38;5;124m'\u001b[39m\u001b[38;5;124mdestination_form_field\u001b[39m\u001b[38;5;124m'\u001b[39m\u001b[38;5;124m]\u001b[39m\u001b[38;5;124m\"\u001b[39m)))\n\u001b[1;32m----> 5\u001b[0m input_element \u001b[38;5;241m=\u001b[39m \u001b[43mlabel_element\u001b[49m\u001b[38;5;241;43m.\u001b[39;49m\u001b[43mfind_element\u001b[49m\u001b[43m(\u001b[49m\u001b[43mBy\u001b[49m\u001b[38;5;241;43m.\u001b[39;49m\u001b[43mCSS_SELECTOR\u001b[49m\u001b[43m,\u001b[49m\u001b[43m \u001b[49m\u001b[38;5;124;43m\"\u001b[39;49m\u001b[38;5;124;43minput[data-stid=\u001b[39;49m\u001b[38;5;124;43m'\u001b[39;49m\u001b[38;5;124;43mdestination_form_field-dialog-input\u001b[39;49m\u001b[38;5;124;43m'\u001b[39;49m\u001b[38;5;124;43m]\u001b[39;49m\u001b[38;5;124;43m\"\u001b[39;49m\u001b[43m)\u001b[49m\n\u001b[0;32m      7\u001b[0m text_to_write \u001b[38;5;241m=\u001b[39m \u001b[38;5;124m\"\u001b[39m\u001b[38;5;124mGolden Tower Pinheiros by Fênix Hotéis, São Paulo, Estado de São Paulo, Brasil\u001b[39m\u001b[38;5;124m\"\u001b[39m\n\u001b[0;32m      8\u001b[0m input_element\u001b[38;5;241m.\u001b[39msend_keys(text_to_write \u001b[38;5;241m+\u001b[39m Keys\u001b[38;5;241m.\u001b[39mSPACE)\n",
      "File \u001b[1;32m~\\anaconda3\\lib\\site-packages\\selenium\\webdriver\\remote\\webelement.py:433\u001b[0m, in \u001b[0;36mWebElement.find_element\u001b[1;34m(self, by, value)\u001b[0m\n\u001b[0;32m    430\u001b[0m     by \u001b[38;5;241m=\u001b[39m By\u001b[38;5;241m.\u001b[39mCSS_SELECTOR\n\u001b[0;32m    431\u001b[0m     value \u001b[38;5;241m=\u001b[39m \u001b[38;5;124m'\u001b[39m\u001b[38;5;124m[name=\u001b[39m\u001b[38;5;124m\"\u001b[39m\u001b[38;5;132;01m%s\u001b[39;00m\u001b[38;5;124m\"\u001b[39m\u001b[38;5;124m]\u001b[39m\u001b[38;5;124m'\u001b[39m \u001b[38;5;241m%\u001b[39m value\n\u001b[1;32m--> 433\u001b[0m \u001b[38;5;28;01mreturn\u001b[39;00m \u001b[38;5;28;43mself\u001b[39;49m\u001b[38;5;241;43m.\u001b[39;49m\u001b[43m_execute\u001b[49m\u001b[43m(\u001b[49m\u001b[43mCommand\u001b[49m\u001b[38;5;241;43m.\u001b[39;49m\u001b[43mFIND_CHILD_ELEMENT\u001b[49m\u001b[43m,\u001b[49m\u001b[43m \u001b[49m\u001b[43m{\u001b[49m\u001b[38;5;124;43m\"\u001b[39;49m\u001b[38;5;124;43musing\u001b[39;49m\u001b[38;5;124;43m\"\u001b[39;49m\u001b[43m:\u001b[49m\u001b[43m \u001b[49m\u001b[43mby\u001b[49m\u001b[43m,\u001b[49m\u001b[43m \u001b[49m\u001b[38;5;124;43m\"\u001b[39;49m\u001b[38;5;124;43mvalue\u001b[39;49m\u001b[38;5;124;43m\"\u001b[39;49m\u001b[43m:\u001b[49m\u001b[43m \u001b[49m\u001b[43mvalue\u001b[49m\u001b[43m}\u001b[49m\u001b[43m)\u001b[49m[\u001b[38;5;124m\"\u001b[39m\u001b[38;5;124mvalue\u001b[39m\u001b[38;5;124m\"\u001b[39m]\n",
      "File \u001b[1;32m~\\anaconda3\\lib\\site-packages\\selenium\\webdriver\\remote\\webelement.py:410\u001b[0m, in \u001b[0;36mWebElement._execute\u001b[1;34m(self, command, params)\u001b[0m\n\u001b[0;32m    408\u001b[0m     params \u001b[38;5;241m=\u001b[39m {}\n\u001b[0;32m    409\u001b[0m params[\u001b[38;5;124m\"\u001b[39m\u001b[38;5;124mid\u001b[39m\u001b[38;5;124m\"\u001b[39m] \u001b[38;5;241m=\u001b[39m \u001b[38;5;28mself\u001b[39m\u001b[38;5;241m.\u001b[39m_id\n\u001b[1;32m--> 410\u001b[0m \u001b[38;5;28;01mreturn\u001b[39;00m \u001b[38;5;28;43mself\u001b[39;49m\u001b[38;5;241;43m.\u001b[39;49m\u001b[43m_parent\u001b[49m\u001b[38;5;241;43m.\u001b[39;49m\u001b[43mexecute\u001b[49m\u001b[43m(\u001b[49m\u001b[43mcommand\u001b[49m\u001b[43m,\u001b[49m\u001b[43m \u001b[49m\u001b[43mparams\u001b[49m\u001b[43m)\u001b[49m\n",
      "File \u001b[1;32m~\\anaconda3\\lib\\site-packages\\selenium\\webdriver\\remote\\webdriver.py:444\u001b[0m, in \u001b[0;36mWebDriver.execute\u001b[1;34m(self, driver_command, params)\u001b[0m\n\u001b[0;32m    442\u001b[0m response \u001b[38;5;241m=\u001b[39m \u001b[38;5;28mself\u001b[39m\u001b[38;5;241m.\u001b[39mcommand_executor\u001b[38;5;241m.\u001b[39mexecute(driver_command, params)\n\u001b[0;32m    443\u001b[0m \u001b[38;5;28;01mif\u001b[39;00m response:\n\u001b[1;32m--> 444\u001b[0m     \u001b[38;5;28;43mself\u001b[39;49m\u001b[38;5;241;43m.\u001b[39;49m\u001b[43merror_handler\u001b[49m\u001b[38;5;241;43m.\u001b[39;49m\u001b[43mcheck_response\u001b[49m\u001b[43m(\u001b[49m\u001b[43mresponse\u001b[49m\u001b[43m)\u001b[49m\n\u001b[0;32m    445\u001b[0m     response[\u001b[38;5;124m\"\u001b[39m\u001b[38;5;124mvalue\u001b[39m\u001b[38;5;124m\"\u001b[39m] \u001b[38;5;241m=\u001b[39m \u001b[38;5;28mself\u001b[39m\u001b[38;5;241m.\u001b[39m_unwrap_value(response\u001b[38;5;241m.\u001b[39mget(\u001b[38;5;124m\"\u001b[39m\u001b[38;5;124mvalue\u001b[39m\u001b[38;5;124m\"\u001b[39m, \u001b[38;5;28;01mNone\u001b[39;00m))\n\u001b[0;32m    446\u001b[0m     \u001b[38;5;28;01mreturn\u001b[39;00m response\n",
      "File \u001b[1;32m~\\anaconda3\\lib\\site-packages\\selenium\\webdriver\\remote\\errorhandler.py:249\u001b[0m, in \u001b[0;36mErrorHandler.check_response\u001b[1;34m(self, response)\u001b[0m\n\u001b[0;32m    247\u001b[0m         alert_text \u001b[38;5;241m=\u001b[39m value[\u001b[38;5;124m\"\u001b[39m\u001b[38;5;124malert\u001b[39m\u001b[38;5;124m\"\u001b[39m]\u001b[38;5;241m.\u001b[39mget(\u001b[38;5;124m\"\u001b[39m\u001b[38;5;124mtext\u001b[39m\u001b[38;5;124m\"\u001b[39m)\n\u001b[0;32m    248\u001b[0m     \u001b[38;5;28;01mraise\u001b[39;00m exception_class(message, screen, stacktrace, alert_text)  \u001b[38;5;66;03m# type: ignore[call-arg]  # mypy is not smart enough here\u001b[39;00m\n\u001b[1;32m--> 249\u001b[0m \u001b[38;5;28;01mraise\u001b[39;00m exception_class(message, screen, stacktrace)\n",
      "\u001b[1;31mNoSuchElementException\u001b[0m: Message: no such element: Unable to locate element: {\"method\":\"css selector\",\"selector\":\"input[data-stid='destination_form_field-dialog-input']\"}\n  (Session info: chrome=116.0.5845.111)\nStacktrace:\n\tGetHandleVerifier [0x00A237C3+48947]\n\t(No symbol) [0x009B8551]\n\t(No symbol) [0x008BC92D]\n\t(No symbol) [0x008E9E38]\n\t(No symbol) [0x008E9EFB]\n\t(No symbol) [0x008E2F61]\n\t(No symbol) [0x009050D4]\n\t(No symbol) [0x008E2EB6]\n\t(No symbol) [0x009053E4]\n\t(No symbol) [0x009175DA]\n\t(No symbol) [0x00904E86]\n\t(No symbol) [0x008E16C7]\n\t(No symbol) [0x008E284D]\n\tGetHandleVerifier [0x00C6FDF9+2458985]\n\tGetHandleVerifier [0x00CB744F+2751423]\n\tGetHandleVerifier [0x00CB1361+2726609]\n\tGetHandleVerifier [0x00AA0680+560624]\n\t(No symbol) [0x009C238C]\n\t(No symbol) [0x009BE268]\n\t(No symbol) [0x009BE392]\n\t(No symbol) [0x009B10B7]\n\tBaseThreadInitThunk [0x760700C9+25]\n\tRtlGetAppContainerNamedObjectPath [0x77C57B1E+286]\n\tRtlGetAppContainerNamedObjectPath [0x77C57AEE+238]\n"
     ]
    }
   ],
   "source": [
    "wait = WebDriverWait(driver, 20)\n",
    "\n",
    "label_element = wait.until(EC.presence_of_element_located((By.CSS_SELECTOR, \"label[for='destination_form_field']\")))\n",
    "\n",
    "input_element = label_element.find_element(By.CSS_SELECTOR, \"input[data-stid='destination_form_field-dialog-input']\")\n",
    "\n",
    "text_to_write = \"Golden Tower Pinheiros by Fênix Hotéis, São Paulo, Estado de São Paulo, Brasil\"\n",
    "input_element.send_keys(text_to_write + Keys.SPACE)\n",
    "\n",
    "wait.until(EC.element_to_be_clickable((By.CSS_SELECTOR, \"input[data-stid='destination_form_field-dialog-input']\")))\n",
    "input_element.send_keys(Keys.RETURN)\n",
    "\n"
   ]
  },
  {
   "cell_type": "code",
   "execution_count": 125,
   "id": "9f83af79",
   "metadata": {},
   "outputs": [
    {
     "ename": "ElementClickInterceptedException",
     "evalue": "Message: element click intercepted: Element <button aria-label=\"Datas De 3 de set. a 7 de set.\" data-name=\"date_form_field\" id=\"date_form_field-btn\" data-stid=\"open-date-picker\" type=\"button\" class=\"uitk-faux-input uitk-form-field-trigger\">...</button> is not clickable at point (341, 262). Other element would receive the click: <div class=\"uitk-layout-flex uitk-layout-flex-block-size-full-size uitk-layout-flex-flex-direction-column uitk-layout-flex-justify-content-space-between\">...</div>\n  (Session info: chrome=116.0.5845.111)\nStacktrace:\n\tGetHandleVerifier [0x00A237C3+48947]\n\t(No symbol) [0x009B8551]\n\t(No symbol) [0x008BC92D]\n\t(No symbol) [0x008EE276]\n\t(No symbol) [0x008ECF4D]\n\t(No symbol) [0x008EB74B]\n\t(No symbol) [0x008EABA5]\n\t(No symbol) [0x008E3420]\n\t(No symbol) [0x0090508C]\n\t(No symbol) [0x008E2EB6]\n\t(No symbol) [0x009053E4]\n\t(No symbol) [0x009175DA]\n\t(No symbol) [0x00904E86]\n\t(No symbol) [0x008E16C7]\n\t(No symbol) [0x008E284D]\n\tGetHandleVerifier [0x00C6FDF9+2458985]\n\tGetHandleVerifier [0x00CB744F+2751423]\n\tGetHandleVerifier [0x00CB1361+2726609]\n\tGetHandleVerifier [0x00AA0680+560624]\n\t(No symbol) [0x009C238C]\n\t(No symbol) [0x009BE268]\n\t(No symbol) [0x009BE392]\n\t(No symbol) [0x009B10B7]\n\tBaseThreadInitThunk [0x760700C9+25]\n\tRtlGetAppContainerNamedObjectPath [0x77C57B1E+286]\n\tRtlGetAppContainerNamedObjectPath [0x77C57AEE+238]\n",
     "output_type": "error",
     "traceback": [
      "\u001b[1;31m---------------------------------------------------------------------------\u001b[0m",
      "\u001b[1;31mElementClickInterceptedException\u001b[0m          Traceback (most recent call last)",
      "Cell \u001b[1;32mIn[125], line 3\u001b[0m\n\u001b[0;32m      1\u001b[0m wait \u001b[38;5;241m=\u001b[39m WebDriverWait(driver, \u001b[38;5;241m10\u001b[39m)\n\u001b[0;32m      2\u001b[0m button_element \u001b[38;5;241m=\u001b[39m wait\u001b[38;5;241m.\u001b[39muntil(EC\u001b[38;5;241m.\u001b[39melement_to_be_clickable((By\u001b[38;5;241m.\u001b[39mCSS_SELECTOR, \u001b[38;5;124m\"\u001b[39m\u001b[38;5;124mbutton[data-stid=\u001b[39m\u001b[38;5;124m'\u001b[39m\u001b[38;5;124mopen-date-picker\u001b[39m\u001b[38;5;124m'\u001b[39m\u001b[38;5;124m]\u001b[39m\u001b[38;5;124m\"\u001b[39m)))\n\u001b[1;32m----> 3\u001b[0m \u001b[43mbutton_element\u001b[49m\u001b[38;5;241;43m.\u001b[39;49m\u001b[43mclick\u001b[49m\u001b[43m(\u001b[49m\u001b[43m)\u001b[49m\n",
      "File \u001b[1;32m~\\anaconda3\\lib\\site-packages\\selenium\\webdriver\\remote\\webelement.py:93\u001b[0m, in \u001b[0;36mWebElement.click\u001b[1;34m(self)\u001b[0m\n\u001b[0;32m     91\u001b[0m \u001b[38;5;28;01mdef\u001b[39;00m \u001b[38;5;21mclick\u001b[39m(\u001b[38;5;28mself\u001b[39m) \u001b[38;5;241m-\u001b[39m\u001b[38;5;241m>\u001b[39m \u001b[38;5;28;01mNone\u001b[39;00m:\n\u001b[0;32m     92\u001b[0m     \u001b[38;5;124;03m\"\"\"Clicks the element.\"\"\"\u001b[39;00m\n\u001b[1;32m---> 93\u001b[0m     \u001b[38;5;28;43mself\u001b[39;49m\u001b[38;5;241;43m.\u001b[39;49m\u001b[43m_execute\u001b[49m\u001b[43m(\u001b[49m\u001b[43mCommand\u001b[49m\u001b[38;5;241;43m.\u001b[39;49m\u001b[43mCLICK_ELEMENT\u001b[49m\u001b[43m)\u001b[49m\n",
      "File \u001b[1;32m~\\anaconda3\\lib\\site-packages\\selenium\\webdriver\\remote\\webelement.py:410\u001b[0m, in \u001b[0;36mWebElement._execute\u001b[1;34m(self, command, params)\u001b[0m\n\u001b[0;32m    408\u001b[0m     params \u001b[38;5;241m=\u001b[39m {}\n\u001b[0;32m    409\u001b[0m params[\u001b[38;5;124m\"\u001b[39m\u001b[38;5;124mid\u001b[39m\u001b[38;5;124m\"\u001b[39m] \u001b[38;5;241m=\u001b[39m \u001b[38;5;28mself\u001b[39m\u001b[38;5;241m.\u001b[39m_id\n\u001b[1;32m--> 410\u001b[0m \u001b[38;5;28;01mreturn\u001b[39;00m \u001b[38;5;28;43mself\u001b[39;49m\u001b[38;5;241;43m.\u001b[39;49m\u001b[43m_parent\u001b[49m\u001b[38;5;241;43m.\u001b[39;49m\u001b[43mexecute\u001b[49m\u001b[43m(\u001b[49m\u001b[43mcommand\u001b[49m\u001b[43m,\u001b[49m\u001b[43m \u001b[49m\u001b[43mparams\u001b[49m\u001b[43m)\u001b[49m\n",
      "File \u001b[1;32m~\\anaconda3\\lib\\site-packages\\selenium\\webdriver\\remote\\webdriver.py:444\u001b[0m, in \u001b[0;36mWebDriver.execute\u001b[1;34m(self, driver_command, params)\u001b[0m\n\u001b[0;32m    442\u001b[0m response \u001b[38;5;241m=\u001b[39m \u001b[38;5;28mself\u001b[39m\u001b[38;5;241m.\u001b[39mcommand_executor\u001b[38;5;241m.\u001b[39mexecute(driver_command, params)\n\u001b[0;32m    443\u001b[0m \u001b[38;5;28;01mif\u001b[39;00m response:\n\u001b[1;32m--> 444\u001b[0m     \u001b[38;5;28;43mself\u001b[39;49m\u001b[38;5;241;43m.\u001b[39;49m\u001b[43merror_handler\u001b[49m\u001b[38;5;241;43m.\u001b[39;49m\u001b[43mcheck_response\u001b[49m\u001b[43m(\u001b[49m\u001b[43mresponse\u001b[49m\u001b[43m)\u001b[49m\n\u001b[0;32m    445\u001b[0m     response[\u001b[38;5;124m\"\u001b[39m\u001b[38;5;124mvalue\u001b[39m\u001b[38;5;124m\"\u001b[39m] \u001b[38;5;241m=\u001b[39m \u001b[38;5;28mself\u001b[39m\u001b[38;5;241m.\u001b[39m_unwrap_value(response\u001b[38;5;241m.\u001b[39mget(\u001b[38;5;124m\"\u001b[39m\u001b[38;5;124mvalue\u001b[39m\u001b[38;5;124m\"\u001b[39m, \u001b[38;5;28;01mNone\u001b[39;00m))\n\u001b[0;32m    446\u001b[0m     \u001b[38;5;28;01mreturn\u001b[39;00m response\n",
      "File \u001b[1;32m~\\anaconda3\\lib\\site-packages\\selenium\\webdriver\\remote\\errorhandler.py:249\u001b[0m, in \u001b[0;36mErrorHandler.check_response\u001b[1;34m(self, response)\u001b[0m\n\u001b[0;32m    247\u001b[0m         alert_text \u001b[38;5;241m=\u001b[39m value[\u001b[38;5;124m\"\u001b[39m\u001b[38;5;124malert\u001b[39m\u001b[38;5;124m\"\u001b[39m]\u001b[38;5;241m.\u001b[39mget(\u001b[38;5;124m\"\u001b[39m\u001b[38;5;124mtext\u001b[39m\u001b[38;5;124m\"\u001b[39m)\n\u001b[0;32m    248\u001b[0m     \u001b[38;5;28;01mraise\u001b[39;00m exception_class(message, screen, stacktrace, alert_text)  \u001b[38;5;66;03m# type: ignore[call-arg]  # mypy is not smart enough here\u001b[39;00m\n\u001b[1;32m--> 249\u001b[0m \u001b[38;5;28;01mraise\u001b[39;00m exception_class(message, screen, stacktrace)\n",
      "\u001b[1;31mElementClickInterceptedException\u001b[0m: Message: element click intercepted: Element <button aria-label=\"Datas De 3 de set. a 7 de set.\" data-name=\"date_form_field\" id=\"date_form_field-btn\" data-stid=\"open-date-picker\" type=\"button\" class=\"uitk-faux-input uitk-form-field-trigger\">...</button> is not clickable at point (341, 262). Other element would receive the click: <div class=\"uitk-layout-flex uitk-layout-flex-block-size-full-size uitk-layout-flex-flex-direction-column uitk-layout-flex-justify-content-space-between\">...</div>\n  (Session info: chrome=116.0.5845.111)\nStacktrace:\n\tGetHandleVerifier [0x00A237C3+48947]\n\t(No symbol) [0x009B8551]\n\t(No symbol) [0x008BC92D]\n\t(No symbol) [0x008EE276]\n\t(No symbol) [0x008ECF4D]\n\t(No symbol) [0x008EB74B]\n\t(No symbol) [0x008EABA5]\n\t(No symbol) [0x008E3420]\n\t(No symbol) [0x0090508C]\n\t(No symbol) [0x008E2EB6]\n\t(No symbol) [0x009053E4]\n\t(No symbol) [0x009175DA]\n\t(No symbol) [0x00904E86]\n\t(No symbol) [0x008E16C7]\n\t(No symbol) [0x008E284D]\n\tGetHandleVerifier [0x00C6FDF9+2458985]\n\tGetHandleVerifier [0x00CB744F+2751423]\n\tGetHandleVerifier [0x00CB1361+2726609]\n\tGetHandleVerifier [0x00AA0680+560624]\n\t(No symbol) [0x009C238C]\n\t(No symbol) [0x009BE268]\n\t(No symbol) [0x009BE392]\n\t(No symbol) [0x009B10B7]\n\tBaseThreadInitThunk [0x760700C9+25]\n\tRtlGetAppContainerNamedObjectPath [0x77C57B1E+286]\n\tRtlGetAppContainerNamedObjectPath [0x77C57AEE+238]\n"
     ]
    }
   ],
   "source": [
    "wait = WebDriverWait(driver, 10)\n",
    "button_element = wait.until(EC.element_to_be_clickable((By.CSS_SELECTOR, \"button[data-stid='open-date-picker']\")))\n",
    "button_element.click()"
   ]
  },
  {
   "cell_type": "code",
   "execution_count": 71,
   "id": "ad8a4393",
   "metadata": {},
   "outputs": [
    {
     "ename": "NoSuchElementException",
     "evalue": "Message: no such element: Unable to locate element: {\"method\":\"xpath\",\"selector\":\"//span[contains(@class, 'ui-datepicker-next')]\"}\n  (Session info: chrome=116.0.5845.111)\nStacktrace:\n\tGetHandleVerifier [0x00AF37C3+48947]\n\t(No symbol) [0x00A88551]\n\t(No symbol) [0x0098C92D]\n\t(No symbol) [0x009B9E38]\n\t(No symbol) [0x009B9EFB]\n\t(No symbol) [0x009E8EF2]\n\t(No symbol) [0x009D50D4]\n\t(No symbol) [0x009E75DA]\n\t(No symbol) [0x009D4E86]\n\t(No symbol) [0x009B16C7]\n\t(No symbol) [0x009B284D]\n\tGetHandleVerifier [0x00D3FDF9+2458985]\n\tGetHandleVerifier [0x00D8744F+2751423]\n\tGetHandleVerifier [0x00D81361+2726609]\n\tGetHandleVerifier [0x00B70680+560624]\n\t(No symbol) [0x00A9238C]\n\t(No symbol) [0x00A8E268]\n\t(No symbol) [0x00A8E392]\n\t(No symbol) [0x00A810B7]\n\tBaseThreadInitThunk [0x760700C9+25]\n\tRtlGetAppContainerNamedObjectPath [0x77C57B1E+286]\n\tRtlGetAppContainerNamedObjectPath [0x77C57AEE+238]\n",
     "output_type": "error",
     "traceback": [
      "\u001b[1;31m---------------------------------------------------------------------------\u001b[0m",
      "\u001b[1;31mNoSuchElementException\u001b[0m                    Traceback (most recent call last)",
      "Cell \u001b[1;32mIn[71], line 20\u001b[0m\n\u001b[0;32m     16\u001b[0m next_month \u001b[38;5;241m=\u001b[39m next_day\u001b[38;5;241m.\u001b[39mmonth\n\u001b[0;32m     18\u001b[0m \u001b[38;5;28;01mif\u001b[39;00m next_month \u001b[38;5;241m!=\u001b[39m month:\n\u001b[0;32m     19\u001b[0m     \u001b[38;5;66;03m# Select the next month\u001b[39;00m\n\u001b[1;32m---> 20\u001b[0m     next_month_button \u001b[38;5;241m=\u001b[39m \u001b[43mdriver\u001b[49m\u001b[38;5;241;43m.\u001b[39;49m\u001b[43mfind_element\u001b[49m\u001b[43m(\u001b[49m\u001b[43mBy\u001b[49m\u001b[38;5;241;43m.\u001b[39;49m\u001b[43mXPATH\u001b[49m\u001b[43m,\u001b[49m\u001b[43m \u001b[49m\u001b[38;5;124;43m\"\u001b[39;49m\u001b[38;5;124;43m//span[contains(@class, \u001b[39;49m\u001b[38;5;124;43m'\u001b[39;49m\u001b[38;5;124;43mui-datepicker-next\u001b[39;49m\u001b[38;5;124;43m'\u001b[39;49m\u001b[38;5;124;43m)]\u001b[39;49m\u001b[38;5;124;43m\"\u001b[39;49m\u001b[43m)\u001b[49m\n\u001b[0;32m     21\u001b[0m     next_month_button\u001b[38;5;241m.\u001b[39mclick()\n\u001b[0;32m     23\u001b[0m \u001b[38;5;66;03m# Select the start date\u001b[39;00m\n",
      "File \u001b[1;32m~\\anaconda3\\lib\\site-packages\\selenium\\webdriver\\remote\\webdriver.py:861\u001b[0m, in \u001b[0;36mWebDriver.find_element\u001b[1;34m(self, by, value)\u001b[0m\n\u001b[0;32m    858\u001b[0m     by \u001b[38;5;241m=\u001b[39m By\u001b[38;5;241m.\u001b[39mCSS_SELECTOR\n\u001b[0;32m    859\u001b[0m     value \u001b[38;5;241m=\u001b[39m \u001b[38;5;124m'\u001b[39m\u001b[38;5;124m[name=\u001b[39m\u001b[38;5;124m\"\u001b[39m\u001b[38;5;132;01m%s\u001b[39;00m\u001b[38;5;124m\"\u001b[39m\u001b[38;5;124m]\u001b[39m\u001b[38;5;124m'\u001b[39m \u001b[38;5;241m%\u001b[39m value\n\u001b[1;32m--> 861\u001b[0m \u001b[38;5;28;01mreturn\u001b[39;00m \u001b[38;5;28;43mself\u001b[39;49m\u001b[38;5;241;43m.\u001b[39;49m\u001b[43mexecute\u001b[49m\u001b[43m(\u001b[49m\u001b[43mCommand\u001b[49m\u001b[38;5;241;43m.\u001b[39;49m\u001b[43mFIND_ELEMENT\u001b[49m\u001b[43m,\u001b[49m\u001b[43m \u001b[49m\u001b[43m{\u001b[49m\u001b[38;5;124;43m\"\u001b[39;49m\u001b[38;5;124;43musing\u001b[39;49m\u001b[38;5;124;43m\"\u001b[39;49m\u001b[43m:\u001b[49m\u001b[43m \u001b[49m\u001b[43mby\u001b[49m\u001b[43m,\u001b[49m\u001b[43m \u001b[49m\u001b[38;5;124;43m\"\u001b[39;49m\u001b[38;5;124;43mvalue\u001b[39;49m\u001b[38;5;124;43m\"\u001b[39;49m\u001b[43m:\u001b[49m\u001b[43m \u001b[49m\u001b[43mvalue\u001b[49m\u001b[43m}\u001b[49m\u001b[43m)\u001b[49m[\u001b[38;5;124m\"\u001b[39m\u001b[38;5;124mvalue\u001b[39m\u001b[38;5;124m\"\u001b[39m]\n",
      "File \u001b[1;32m~\\anaconda3\\lib\\site-packages\\selenium\\webdriver\\remote\\webdriver.py:444\u001b[0m, in \u001b[0;36mWebDriver.execute\u001b[1;34m(self, driver_command, params)\u001b[0m\n\u001b[0;32m    442\u001b[0m response \u001b[38;5;241m=\u001b[39m \u001b[38;5;28mself\u001b[39m\u001b[38;5;241m.\u001b[39mcommand_executor\u001b[38;5;241m.\u001b[39mexecute(driver_command, params)\n\u001b[0;32m    443\u001b[0m \u001b[38;5;28;01mif\u001b[39;00m response:\n\u001b[1;32m--> 444\u001b[0m     \u001b[38;5;28;43mself\u001b[39;49m\u001b[38;5;241;43m.\u001b[39;49m\u001b[43merror_handler\u001b[49m\u001b[38;5;241;43m.\u001b[39;49m\u001b[43mcheck_response\u001b[49m\u001b[43m(\u001b[49m\u001b[43mresponse\u001b[49m\u001b[43m)\u001b[49m\n\u001b[0;32m    445\u001b[0m     response[\u001b[38;5;124m\"\u001b[39m\u001b[38;5;124mvalue\u001b[39m\u001b[38;5;124m\"\u001b[39m] \u001b[38;5;241m=\u001b[39m \u001b[38;5;28mself\u001b[39m\u001b[38;5;241m.\u001b[39m_unwrap_value(response\u001b[38;5;241m.\u001b[39mget(\u001b[38;5;124m\"\u001b[39m\u001b[38;5;124mvalue\u001b[39m\u001b[38;5;124m\"\u001b[39m, \u001b[38;5;28;01mNone\u001b[39;00m))\n\u001b[0;32m    446\u001b[0m     \u001b[38;5;28;01mreturn\u001b[39;00m response\n",
      "File \u001b[1;32m~\\anaconda3\\lib\\site-packages\\selenium\\webdriver\\remote\\errorhandler.py:249\u001b[0m, in \u001b[0;36mErrorHandler.check_response\u001b[1;34m(self, response)\u001b[0m\n\u001b[0;32m    247\u001b[0m         alert_text \u001b[38;5;241m=\u001b[39m value[\u001b[38;5;124m\"\u001b[39m\u001b[38;5;124malert\u001b[39m\u001b[38;5;124m\"\u001b[39m]\u001b[38;5;241m.\u001b[39mget(\u001b[38;5;124m\"\u001b[39m\u001b[38;5;124mtext\u001b[39m\u001b[38;5;124m\"\u001b[39m)\n\u001b[0;32m    248\u001b[0m     \u001b[38;5;28;01mraise\u001b[39;00m exception_class(message, screen, stacktrace, alert_text)  \u001b[38;5;66;03m# type: ignore[call-arg]  # mypy is not smart enough here\u001b[39;00m\n\u001b[1;32m--> 249\u001b[0m \u001b[38;5;28;01mraise\u001b[39;00m exception_class(message, screen, stacktrace)\n",
      "\u001b[1;31mNoSuchElementException\u001b[0m: Message: no such element: Unable to locate element: {\"method\":\"xpath\",\"selector\":\"//span[contains(@class, 'ui-datepicker-next')]\"}\n  (Session info: chrome=116.0.5845.111)\nStacktrace:\n\tGetHandleVerifier [0x00AF37C3+48947]\n\t(No symbol) [0x00A88551]\n\t(No symbol) [0x0098C92D]\n\t(No symbol) [0x009B9E38]\n\t(No symbol) [0x009B9EFB]\n\t(No symbol) [0x009E8EF2]\n\t(No symbol) [0x009D50D4]\n\t(No symbol) [0x009E75DA]\n\t(No symbol) [0x009D4E86]\n\t(No symbol) [0x009B16C7]\n\t(No symbol) [0x009B284D]\n\tGetHandleVerifier [0x00D3FDF9+2458985]\n\tGetHandleVerifier [0x00D8744F+2751423]\n\tGetHandleVerifier [0x00D81361+2726609]\n\tGetHandleVerifier [0x00B70680+560624]\n\t(No symbol) [0x00A9238C]\n\t(No symbol) [0x00A8E268]\n\t(No symbol) [0x00A8E392]\n\t(No symbol) [0x00A810B7]\n\tBaseThreadInitThunk [0x760700C9+25]\n\tRtlGetAppContainerNamedObjectPath [0x77C57B1E+286]\n\tRtlGetAppContainerNamedObjectPath [0x77C57AEE+238]\n"
     ]
    }
   ],
   "source": [
    "from selenium.webdriver.common.by import By\n",
    "\n",
    "\n",
    "current_date = datetime.date.today()\n",
    "month = current_date.month\n",
    "\n",
    "# Select the month\n",
    "month_selector = driver.find_elements(By.CSS_SELECTOR, \".uitk-date-picker-month\")\n",
    "\n",
    "if len(month_selector) > 0:\n",
    "    first_month_button = month_selector[0]\n",
    "    first_month_button.click()\n",
    "\n",
    "# Check if the next day is in the next month\n",
    "next_day = current_date + datetime.timedelta(days=1)\n",
    "next_month = next_day.month\n",
    "\n",
    "if next_month != month:\n",
    "    # Select the next month\n",
    "    next_month_button = driver.find_element(By.XPATH, \"//span[contains(@class, 'ui-datepicker-next')]\")\n",
    "    next_month_button.click()\n",
    "\n",
    "# Select the start date\n",
    "start_date_button = driver.find_element(By.XPATH, \"//button[contains(@data-day, '1')]\")\n",
    "start_date_button.click()\n",
    "\n",
    "# Find the button with the number of the next day\n",
    "end_date_button = driver.find_element(By.XPATH, \"//button[contains(@data-day, '4')]\")\n",
    "\n",
    "# Click on the button\n",
    "end_date_button.click()\n",
    "\n",
    "# Click on the OK button\n",
    "ok_button = driver.find_element(By.CSS_SELECTOR, \"//button[@data-stid='ok']\")\n",
    "ok_button.click()"
   ]
  },
  {
   "cell_type": "code",
   "execution_count": 59,
   "id": "70e86b8d",
   "metadata": {},
   "outputs": [
    {
     "ename": "NoSuchElementException",
     "evalue": "Message: no such element: Unable to locate element: {\"method\":\"css selector\",\"selector\":\"button[data-day='33']\"}\n  (Session info: chrome=116.0.5845.111)\nStacktrace:\n\tGetHandleVerifier [0x00AF37C3+48947]\n\t(No symbol) [0x00A88551]\n\t(No symbol) [0x0098C92D]\n\t(No symbol) [0x009B9E38]\n\t(No symbol) [0x009B9EFB]\n\t(No symbol) [0x009E8EF2]\n\t(No symbol) [0x009D50D4]\n\t(No symbol) [0x009E75DA]\n\t(No symbol) [0x009D4E86]\n\t(No symbol) [0x009B16C7]\n\t(No symbol) [0x009B284D]\n\tGetHandleVerifier [0x00D3FDF9+2458985]\n\tGetHandleVerifier [0x00D8744F+2751423]\n\tGetHandleVerifier [0x00D81361+2726609]\n\tGetHandleVerifier [0x00B70680+560624]\n\t(No symbol) [0x00A9238C]\n\t(No symbol) [0x00A8E268]\n\t(No symbol) [0x00A8E392]\n\t(No symbol) [0x00A810B7]\n\tBaseThreadInitThunk [0x760700C9+25]\n\tRtlGetAppContainerNamedObjectPath [0x77C57B1E+286]\n\tRtlGetAppContainerNamedObjectPath [0x77C57AEE+238]\n",
     "output_type": "error",
     "traceback": [
      "\u001b[1;31m---------------------------------------------------------------------------\u001b[0m",
      "\u001b[1;31mNoSuchElementException\u001b[0m                    Traceback (most recent call last)",
      "Cell \u001b[1;32mIn[59], line 9\u001b[0m\n\u001b[0;32m      6\u001b[0m \u001b[38;5;66;03m# Click on the button\u001b[39;00m\n\u001b[0;32m      7\u001b[0m start_date_button\u001b[38;5;241m.\u001b[39mclick()\n\u001b[1;32m----> 9\u001b[0m end_date_button \u001b[38;5;241m=\u001b[39m \u001b[43mdriver\u001b[49m\u001b[38;5;241;43m.\u001b[39;49m\u001b[43mfind_element\u001b[49m\u001b[43m(\u001b[49m\u001b[43mBy\u001b[49m\u001b[38;5;241;43m.\u001b[39;49m\u001b[43mCSS_SELECTOR\u001b[49m\u001b[43m,\u001b[49m\u001b[43m \u001b[49m\u001b[38;5;124;43mf\u001b[39;49m\u001b[38;5;124;43m\"\u001b[39;49m\u001b[38;5;124;43mbutton[data-day=\u001b[39;49m\u001b[38;5;124;43m'\u001b[39;49m\u001b[38;5;132;43;01m{\u001b[39;49;00m\u001b[43mcurrent_date\u001b[49m\u001b[38;5;241;43m.\u001b[39;49m\u001b[43mday\u001b[49m\u001b[43m \u001b[49m\u001b[38;5;241;43m+\u001b[39;49m\u001b[43m \u001b[49m\u001b[38;5;241;43m2\u001b[39;49m\u001b[38;5;132;43;01m}\u001b[39;49;00m\u001b[38;5;124;43m'\u001b[39;49m\u001b[38;5;124;43m]\u001b[39;49m\u001b[38;5;124;43m\"\u001b[39;49m\u001b[43m)\u001b[49m\n\u001b[0;32m     11\u001b[0m \u001b[38;5;66;03m# Click on the button\u001b[39;00m\n\u001b[0;32m     12\u001b[0m end_date_button\u001b[38;5;241m.\u001b[39mclick()\n",
      "File \u001b[1;32m~\\anaconda3\\lib\\site-packages\\selenium\\webdriver\\remote\\webdriver.py:861\u001b[0m, in \u001b[0;36mWebDriver.find_element\u001b[1;34m(self, by, value)\u001b[0m\n\u001b[0;32m    858\u001b[0m     by \u001b[38;5;241m=\u001b[39m By\u001b[38;5;241m.\u001b[39mCSS_SELECTOR\n\u001b[0;32m    859\u001b[0m     value \u001b[38;5;241m=\u001b[39m \u001b[38;5;124m'\u001b[39m\u001b[38;5;124m[name=\u001b[39m\u001b[38;5;124m\"\u001b[39m\u001b[38;5;132;01m%s\u001b[39;00m\u001b[38;5;124m\"\u001b[39m\u001b[38;5;124m]\u001b[39m\u001b[38;5;124m'\u001b[39m \u001b[38;5;241m%\u001b[39m value\n\u001b[1;32m--> 861\u001b[0m \u001b[38;5;28;01mreturn\u001b[39;00m \u001b[38;5;28;43mself\u001b[39;49m\u001b[38;5;241;43m.\u001b[39;49m\u001b[43mexecute\u001b[49m\u001b[43m(\u001b[49m\u001b[43mCommand\u001b[49m\u001b[38;5;241;43m.\u001b[39;49m\u001b[43mFIND_ELEMENT\u001b[49m\u001b[43m,\u001b[49m\u001b[43m \u001b[49m\u001b[43m{\u001b[49m\u001b[38;5;124;43m\"\u001b[39;49m\u001b[38;5;124;43musing\u001b[39;49m\u001b[38;5;124;43m\"\u001b[39;49m\u001b[43m:\u001b[49m\u001b[43m \u001b[49m\u001b[43mby\u001b[49m\u001b[43m,\u001b[49m\u001b[43m \u001b[49m\u001b[38;5;124;43m\"\u001b[39;49m\u001b[38;5;124;43mvalue\u001b[39;49m\u001b[38;5;124;43m\"\u001b[39;49m\u001b[43m:\u001b[49m\u001b[43m \u001b[49m\u001b[43mvalue\u001b[49m\u001b[43m}\u001b[49m\u001b[43m)\u001b[49m[\u001b[38;5;124m\"\u001b[39m\u001b[38;5;124mvalue\u001b[39m\u001b[38;5;124m\"\u001b[39m]\n",
      "File \u001b[1;32m~\\anaconda3\\lib\\site-packages\\selenium\\webdriver\\remote\\webdriver.py:444\u001b[0m, in \u001b[0;36mWebDriver.execute\u001b[1;34m(self, driver_command, params)\u001b[0m\n\u001b[0;32m    442\u001b[0m response \u001b[38;5;241m=\u001b[39m \u001b[38;5;28mself\u001b[39m\u001b[38;5;241m.\u001b[39mcommand_executor\u001b[38;5;241m.\u001b[39mexecute(driver_command, params)\n\u001b[0;32m    443\u001b[0m \u001b[38;5;28;01mif\u001b[39;00m response:\n\u001b[1;32m--> 444\u001b[0m     \u001b[38;5;28;43mself\u001b[39;49m\u001b[38;5;241;43m.\u001b[39;49m\u001b[43merror_handler\u001b[49m\u001b[38;5;241;43m.\u001b[39;49m\u001b[43mcheck_response\u001b[49m\u001b[43m(\u001b[49m\u001b[43mresponse\u001b[49m\u001b[43m)\u001b[49m\n\u001b[0;32m    445\u001b[0m     response[\u001b[38;5;124m\"\u001b[39m\u001b[38;5;124mvalue\u001b[39m\u001b[38;5;124m\"\u001b[39m] \u001b[38;5;241m=\u001b[39m \u001b[38;5;28mself\u001b[39m\u001b[38;5;241m.\u001b[39m_unwrap_value(response\u001b[38;5;241m.\u001b[39mget(\u001b[38;5;124m\"\u001b[39m\u001b[38;5;124mvalue\u001b[39m\u001b[38;5;124m\"\u001b[39m, \u001b[38;5;28;01mNone\u001b[39;00m))\n\u001b[0;32m    446\u001b[0m     \u001b[38;5;28;01mreturn\u001b[39;00m response\n",
      "File \u001b[1;32m~\\anaconda3\\lib\\site-packages\\selenium\\webdriver\\remote\\errorhandler.py:249\u001b[0m, in \u001b[0;36mErrorHandler.check_response\u001b[1;34m(self, response)\u001b[0m\n\u001b[0;32m    247\u001b[0m         alert_text \u001b[38;5;241m=\u001b[39m value[\u001b[38;5;124m\"\u001b[39m\u001b[38;5;124malert\u001b[39m\u001b[38;5;124m\"\u001b[39m]\u001b[38;5;241m.\u001b[39mget(\u001b[38;5;124m\"\u001b[39m\u001b[38;5;124mtext\u001b[39m\u001b[38;5;124m\"\u001b[39m)\n\u001b[0;32m    248\u001b[0m     \u001b[38;5;28;01mraise\u001b[39;00m exception_class(message, screen, stacktrace, alert_text)  \u001b[38;5;66;03m# type: ignore[call-arg]  # mypy is not smart enough here\u001b[39;00m\n\u001b[1;32m--> 249\u001b[0m \u001b[38;5;28;01mraise\u001b[39;00m exception_class(message, screen, stacktrace)\n",
      "\u001b[1;31mNoSuchElementException\u001b[0m: Message: no such element: Unable to locate element: {\"method\":\"css selector\",\"selector\":\"button[data-day='33']\"}\n  (Session info: chrome=116.0.5845.111)\nStacktrace:\n\tGetHandleVerifier [0x00AF37C3+48947]\n\t(No symbol) [0x00A88551]\n\t(No symbol) [0x0098C92D]\n\t(No symbol) [0x009B9E38]\n\t(No symbol) [0x009B9EFB]\n\t(No symbol) [0x009E8EF2]\n\t(No symbol) [0x009D50D4]\n\t(No symbol) [0x009E75DA]\n\t(No symbol) [0x009D4E86]\n\t(No symbol) [0x009B16C7]\n\t(No symbol) [0x009B284D]\n\tGetHandleVerifier [0x00D3FDF9+2458985]\n\tGetHandleVerifier [0x00D8744F+2751423]\n\tGetHandleVerifier [0x00D81361+2726609]\n\tGetHandleVerifier [0x00B70680+560624]\n\t(No symbol) [0x00A9238C]\n\t(No symbol) [0x00A8E268]\n\t(No symbol) [0x00A8E392]\n\t(No symbol) [0x00A810B7]\n\tBaseThreadInitThunk [0x760700C9+25]\n\tRtlGetAppContainerNamedObjectPath [0x77C57B1E+286]\n\tRtlGetAppContainerNamedObjectPath [0x77C57AEE+238]\n"
     ]
    }
   ],
   "source": [
    "current_date = datetime.date.today()\n",
    "\n",
    "# Find the button with the number of the current day\n",
    "start_date_button = driver.find_element(By.CSS_SELECTOR, f\"button[data-day='{current_date.day}']\")\n",
    "\n",
    "# Click on the button\n",
    "start_date_button.click()\n"
   ]
  },
  {
   "cell_type": "code",
   "execution_count": null,
   "id": "bb34fa7d",
   "metadata": {},
   "outputs": [],
   "source": [
    "current_date = datetime.date.today()\n",
    "\n",
    "# Find the button with the number of the current day\n",
    "start_date_button = driver.find_element(By.CSS_SELECTOR, f\"button[data-day='{current_date.day}']\")\n",
    "\n",
    "# Click on the button\n",
    "start_date_button.click()\n",
    "\n",
    "end_date_button = driver.find_element(By.CSS_SELECTOR, f\"button[data-day='{current_date.day + 2}']\")\n",
    "\n",
    "# Click on the button\n",
    "end_date_button.click()\n",
    "\n",
    "# Click on the OK button\n",
    "ok_button = driver.find_element(By.CSS_SELECTOR, \"//button[@data-stid='ok']\")\n",
    "ok_button.click()"
   ]
  },
  {
   "cell_type": "code",
   "execution_count": 54,
   "id": "683767d1",
   "metadata": {},
   "outputs": [
    {
     "ename": "NoSuchElementException",
     "evalue": "Message: no such element: Unable to locate element: {\"method\":\"xpath\",\"selector\":\"//button[@data-day='32']\"}\n  (Session info: chrome=116.0.5845.111)\nStacktrace:\n\tGetHandleVerifier [0x00AF37C3+48947]\n\t(No symbol) [0x00A88551]\n\t(No symbol) [0x0098C92D]\n\t(No symbol) [0x009B9E38]\n\t(No symbol) [0x009B9EFB]\n\t(No symbol) [0x009E8EF2]\n\t(No symbol) [0x009D50D4]\n\t(No symbol) [0x009E75DA]\n\t(No symbol) [0x009D4E86]\n\t(No symbol) [0x009B16C7]\n\t(No symbol) [0x009B284D]\n\tGetHandleVerifier [0x00D3FDF9+2458985]\n\tGetHandleVerifier [0x00D8744F+2751423]\n\tGetHandleVerifier [0x00D81361+2726609]\n\tGetHandleVerifier [0x00B70680+560624]\n\t(No symbol) [0x00A9238C]\n\t(No symbol) [0x00A8E268]\n\t(No symbol) [0x00A8E392]\n\t(No symbol) [0x00A810B7]\n\tBaseThreadInitThunk [0x760700C9+25]\n\tRtlGetAppContainerNamedObjectPath [0x77C57B1E+286]\n\tRtlGetAppContainerNamedObjectPath [0x77C57AEE+238]\n",
     "output_type": "error",
     "traceback": [
      "\u001b[1;31m---------------------------------------------------------------------------\u001b[0m",
      "\u001b[1;31mNoSuchElementException\u001b[0m                    Traceback (most recent call last)",
      "Cell \u001b[1;32mIn[54], line 10\u001b[0m\n\u001b[0;32m      7\u001b[0m start_date_button\u001b[38;5;241m.\u001b[39mclick()\n\u001b[0;32m      9\u001b[0m \u001b[38;5;66;03m# Find the button with the number of the next day\u001b[39;00m\n\u001b[1;32m---> 10\u001b[0m end_date_button \u001b[38;5;241m=\u001b[39m \u001b[43mdriver\u001b[49m\u001b[38;5;241;43m.\u001b[39;49m\u001b[43mfind_element\u001b[49m\u001b[43m(\u001b[49m\u001b[43mBy\u001b[49m\u001b[38;5;241;43m.\u001b[39;49m\u001b[43mXPATH\u001b[49m\u001b[43m,\u001b[49m\u001b[43m \u001b[49m\u001b[38;5;124;43mf\u001b[39;49m\u001b[38;5;124;43m\"\u001b[39;49m\u001b[38;5;124;43m//button[@data-day=\u001b[39;49m\u001b[38;5;124;43m'\u001b[39;49m\u001b[38;5;132;43;01m{\u001b[39;49;00m\u001b[43mcurrent_date\u001b[49m\u001b[38;5;241;43m.\u001b[39;49m\u001b[43mday\u001b[49m\u001b[43m \u001b[49m\u001b[38;5;241;43m+\u001b[39;49m\u001b[43m \u001b[49m\u001b[38;5;241;43m1\u001b[39;49m\u001b[38;5;132;43;01m}\u001b[39;49;00m\u001b[38;5;124;43m'\u001b[39;49m\u001b[38;5;124;43m]\u001b[39;49m\u001b[38;5;124;43m\"\u001b[39;49m\u001b[43m)\u001b[49m\n\u001b[0;32m     12\u001b[0m \u001b[38;5;66;03m# Click on the button\u001b[39;00m\n\u001b[0;32m     13\u001b[0m end_date_button\u001b[38;5;241m.\u001b[39mclick()\n",
      "File \u001b[1;32m~\\anaconda3\\lib\\site-packages\\selenium\\webdriver\\remote\\webdriver.py:861\u001b[0m, in \u001b[0;36mWebDriver.find_element\u001b[1;34m(self, by, value)\u001b[0m\n\u001b[0;32m    858\u001b[0m     by \u001b[38;5;241m=\u001b[39m By\u001b[38;5;241m.\u001b[39mCSS_SELECTOR\n\u001b[0;32m    859\u001b[0m     value \u001b[38;5;241m=\u001b[39m \u001b[38;5;124m'\u001b[39m\u001b[38;5;124m[name=\u001b[39m\u001b[38;5;124m\"\u001b[39m\u001b[38;5;132;01m%s\u001b[39;00m\u001b[38;5;124m\"\u001b[39m\u001b[38;5;124m]\u001b[39m\u001b[38;5;124m'\u001b[39m \u001b[38;5;241m%\u001b[39m value\n\u001b[1;32m--> 861\u001b[0m \u001b[38;5;28;01mreturn\u001b[39;00m \u001b[38;5;28;43mself\u001b[39;49m\u001b[38;5;241;43m.\u001b[39;49m\u001b[43mexecute\u001b[49m\u001b[43m(\u001b[49m\u001b[43mCommand\u001b[49m\u001b[38;5;241;43m.\u001b[39;49m\u001b[43mFIND_ELEMENT\u001b[49m\u001b[43m,\u001b[49m\u001b[43m \u001b[49m\u001b[43m{\u001b[49m\u001b[38;5;124;43m\"\u001b[39;49m\u001b[38;5;124;43musing\u001b[39;49m\u001b[38;5;124;43m\"\u001b[39;49m\u001b[43m:\u001b[49m\u001b[43m \u001b[49m\u001b[43mby\u001b[49m\u001b[43m,\u001b[49m\u001b[43m \u001b[49m\u001b[38;5;124;43m\"\u001b[39;49m\u001b[38;5;124;43mvalue\u001b[39;49m\u001b[38;5;124;43m\"\u001b[39;49m\u001b[43m:\u001b[49m\u001b[43m \u001b[49m\u001b[43mvalue\u001b[49m\u001b[43m}\u001b[49m\u001b[43m)\u001b[49m[\u001b[38;5;124m\"\u001b[39m\u001b[38;5;124mvalue\u001b[39m\u001b[38;5;124m\"\u001b[39m]\n",
      "File \u001b[1;32m~\\anaconda3\\lib\\site-packages\\selenium\\webdriver\\remote\\webdriver.py:444\u001b[0m, in \u001b[0;36mWebDriver.execute\u001b[1;34m(self, driver_command, params)\u001b[0m\n\u001b[0;32m    442\u001b[0m response \u001b[38;5;241m=\u001b[39m \u001b[38;5;28mself\u001b[39m\u001b[38;5;241m.\u001b[39mcommand_executor\u001b[38;5;241m.\u001b[39mexecute(driver_command, params)\n\u001b[0;32m    443\u001b[0m \u001b[38;5;28;01mif\u001b[39;00m response:\n\u001b[1;32m--> 444\u001b[0m     \u001b[38;5;28;43mself\u001b[39;49m\u001b[38;5;241;43m.\u001b[39;49m\u001b[43merror_handler\u001b[49m\u001b[38;5;241;43m.\u001b[39;49m\u001b[43mcheck_response\u001b[49m\u001b[43m(\u001b[49m\u001b[43mresponse\u001b[49m\u001b[43m)\u001b[49m\n\u001b[0;32m    445\u001b[0m     response[\u001b[38;5;124m\"\u001b[39m\u001b[38;5;124mvalue\u001b[39m\u001b[38;5;124m\"\u001b[39m] \u001b[38;5;241m=\u001b[39m \u001b[38;5;28mself\u001b[39m\u001b[38;5;241m.\u001b[39m_unwrap_value(response\u001b[38;5;241m.\u001b[39mget(\u001b[38;5;124m\"\u001b[39m\u001b[38;5;124mvalue\u001b[39m\u001b[38;5;124m\"\u001b[39m, \u001b[38;5;28;01mNone\u001b[39;00m))\n\u001b[0;32m    446\u001b[0m     \u001b[38;5;28;01mreturn\u001b[39;00m response\n",
      "File \u001b[1;32m~\\anaconda3\\lib\\site-packages\\selenium\\webdriver\\remote\\errorhandler.py:249\u001b[0m, in \u001b[0;36mErrorHandler.check_response\u001b[1;34m(self, response)\u001b[0m\n\u001b[0;32m    247\u001b[0m         alert_text \u001b[38;5;241m=\u001b[39m value[\u001b[38;5;124m\"\u001b[39m\u001b[38;5;124malert\u001b[39m\u001b[38;5;124m\"\u001b[39m]\u001b[38;5;241m.\u001b[39mget(\u001b[38;5;124m\"\u001b[39m\u001b[38;5;124mtext\u001b[39m\u001b[38;5;124m\"\u001b[39m)\n\u001b[0;32m    248\u001b[0m     \u001b[38;5;28;01mraise\u001b[39;00m exception_class(message, screen, stacktrace, alert_text)  \u001b[38;5;66;03m# type: ignore[call-arg]  # mypy is not smart enough here\u001b[39;00m\n\u001b[1;32m--> 249\u001b[0m \u001b[38;5;28;01mraise\u001b[39;00m exception_class(message, screen, stacktrace)\n",
      "\u001b[1;31mNoSuchElementException\u001b[0m: Message: no such element: Unable to locate element: {\"method\":\"xpath\",\"selector\":\"//button[@data-day='32']\"}\n  (Session info: chrome=116.0.5845.111)\nStacktrace:\n\tGetHandleVerifier [0x00AF37C3+48947]\n\t(No symbol) [0x00A88551]\n\t(No symbol) [0x0098C92D]\n\t(No symbol) [0x009B9E38]\n\t(No symbol) [0x009B9EFB]\n\t(No symbol) [0x009E8EF2]\n\t(No symbol) [0x009D50D4]\n\t(No symbol) [0x009E75DA]\n\t(No symbol) [0x009D4E86]\n\t(No symbol) [0x009B16C7]\n\t(No symbol) [0x009B284D]\n\tGetHandleVerifier [0x00D3FDF9+2458985]\n\tGetHandleVerifier [0x00D8744F+2751423]\n\tGetHandleVerifier [0x00D81361+2726609]\n\tGetHandleVerifier [0x00B70680+560624]\n\t(No symbol) [0x00A9238C]\n\t(No symbol) [0x00A8E268]\n\t(No symbol) [0x00A8E392]\n\t(No symbol) [0x00A810B7]\n\tBaseThreadInitThunk [0x760700C9+25]\n\tRtlGetAppContainerNamedObjectPath [0x77C57B1E+286]\n\tRtlGetAppContainerNamedObjectPath [0x77C57AEE+238]\n"
     ]
    }
   ],
   "source": [
    "\n",
    "\n",
    "current_date = datetime.date.today()\n",
    "\n",
    "# Find the button with the number of the current day\n",
    "start_date_button = driver.find_element(By.XPATH, f\"//button[@data-day='{current_date.day}']\")\n",
    "\n",
    "# Click on the button\n",
    "start_date_button.click()\n",
    "\n",
    "# Find the button with the number of the next day\n",
    "end_date_button = driver.find_element(By.XPATH, f\"//button[@data-day='{current_date.day + 1}']\")\n",
    "\n",
    "# Click on the button\n",
    "end_date_button.click()\n",
    "\n",
    "# Click on the OK button\n",
    "ok_button = driver.find_element_by_xpath(\"//button[@data-stid='ok']\")\n",
    "ok_button.click()"
   ]
  },
  {
   "cell_type": "code",
   "execution_count": 51,
   "id": "48ce515d",
   "metadata": {
    "scrolled": true
   },
   "outputs": [
    {
     "ename": "NoSuchElementException",
     "evalue": "Message: no such element: Unable to locate element: {\"method\":\"xpath\",\"selector\":\"//*[@id='date_form_field']//td[@data-date='2023-08-31']\"}\n  (Session info: chrome=116.0.5845.111)\nStacktrace:\n\tGetHandleVerifier [0x00AF37C3+48947]\n\t(No symbol) [0x00A88551]\n\t(No symbol) [0x0098C92D]\n\t(No symbol) [0x009B9E38]\n\t(No symbol) [0x009B9EFB]\n\t(No symbol) [0x009E8EF2]\n\t(No symbol) [0x009D50D4]\n\t(No symbol) [0x009E75DA]\n\t(No symbol) [0x009D4E86]\n\t(No symbol) [0x009B16C7]\n\t(No symbol) [0x009B284D]\n\tGetHandleVerifier [0x00D3FDF9+2458985]\n\tGetHandleVerifier [0x00D8744F+2751423]\n\tGetHandleVerifier [0x00D81361+2726609]\n\tGetHandleVerifier [0x00B70680+560624]\n\t(No symbol) [0x00A9238C]\n\t(No symbol) [0x00A8E268]\n\t(No symbol) [0x00A8E392]\n\t(No symbol) [0x00A810B7]\n\tBaseThreadInitThunk [0x760700C9+25]\n\tRtlGetAppContainerNamedObjectPath [0x77C57B1E+286]\n\tRtlGetAppContainerNamedObjectPath [0x77C57AEE+238]\n",
     "output_type": "error",
     "traceback": [
      "\u001b[1;31m---------------------------------------------------------------------------\u001b[0m",
      "\u001b[1;31mNoSuchElementException\u001b[0m                    Traceback (most recent call last)",
      "Cell \u001b[1;32mIn[51], line 7\u001b[0m\n\u001b[0;32m      5\u001b[0m \u001b[38;5;66;03m# Select the current date\u001b[39;00m\n\u001b[0;32m      6\u001b[0m today \u001b[38;5;241m=\u001b[39m datetime\u001b[38;5;241m.\u001b[39mdate\u001b[38;5;241m.\u001b[39mtoday()\n\u001b[1;32m----> 7\u001b[0m \u001b[43mdriver\u001b[49m\u001b[38;5;241;43m.\u001b[39;49m\u001b[43mfind_element\u001b[49m\u001b[43m(\u001b[49m\u001b[43mBy\u001b[49m\u001b[38;5;241;43m.\u001b[39;49m\u001b[43mXPATH\u001b[49m\u001b[43m,\u001b[49m\u001b[43m \u001b[49m\u001b[38;5;124;43mf\u001b[39;49m\u001b[38;5;124;43m\"\u001b[39;49m\u001b[38;5;124;43m//*[@id=\u001b[39;49m\u001b[38;5;124;43m'\u001b[39;49m\u001b[38;5;124;43mdate_form_field\u001b[39;49m\u001b[38;5;124;43m'\u001b[39;49m\u001b[38;5;124;43m]//td[@data-date=\u001b[39;49m\u001b[38;5;124;43m'\u001b[39;49m\u001b[38;5;132;43;01m{\u001b[39;49;00m\u001b[43mtoday\u001b[49m\u001b[38;5;241;43m.\u001b[39;49m\u001b[43misoformat\u001b[49m\u001b[43m(\u001b[49m\u001b[43m)\u001b[49m\u001b[38;5;132;43;01m}\u001b[39;49;00m\u001b[38;5;124;43m'\u001b[39;49m\u001b[38;5;124;43m]\u001b[39;49m\u001b[38;5;124;43m\"\u001b[39;49m\u001b[43m)\u001b[49m\u001b[38;5;241m.\u001b[39mclick()\n\u001b[0;32m      9\u001b[0m \u001b[38;5;66;03m# Select the day after\u001b[39;00m\n\u001b[0;32m     10\u001b[0m day_after \u001b[38;5;241m=\u001b[39m today \u001b[38;5;241m+\u001b[39m timedelta(days\u001b[38;5;241m=\u001b[39m\u001b[38;5;241m1\u001b[39m)\n",
      "File \u001b[1;32m~\\anaconda3\\lib\\site-packages\\selenium\\webdriver\\remote\\webdriver.py:861\u001b[0m, in \u001b[0;36mWebDriver.find_element\u001b[1;34m(self, by, value)\u001b[0m\n\u001b[0;32m    858\u001b[0m     by \u001b[38;5;241m=\u001b[39m By\u001b[38;5;241m.\u001b[39mCSS_SELECTOR\n\u001b[0;32m    859\u001b[0m     value \u001b[38;5;241m=\u001b[39m \u001b[38;5;124m'\u001b[39m\u001b[38;5;124m[name=\u001b[39m\u001b[38;5;124m\"\u001b[39m\u001b[38;5;132;01m%s\u001b[39;00m\u001b[38;5;124m\"\u001b[39m\u001b[38;5;124m]\u001b[39m\u001b[38;5;124m'\u001b[39m \u001b[38;5;241m%\u001b[39m value\n\u001b[1;32m--> 861\u001b[0m \u001b[38;5;28;01mreturn\u001b[39;00m \u001b[38;5;28;43mself\u001b[39;49m\u001b[38;5;241;43m.\u001b[39;49m\u001b[43mexecute\u001b[49m\u001b[43m(\u001b[49m\u001b[43mCommand\u001b[49m\u001b[38;5;241;43m.\u001b[39;49m\u001b[43mFIND_ELEMENT\u001b[49m\u001b[43m,\u001b[49m\u001b[43m \u001b[49m\u001b[43m{\u001b[49m\u001b[38;5;124;43m\"\u001b[39;49m\u001b[38;5;124;43musing\u001b[39;49m\u001b[38;5;124;43m\"\u001b[39;49m\u001b[43m:\u001b[49m\u001b[43m \u001b[49m\u001b[43mby\u001b[49m\u001b[43m,\u001b[49m\u001b[43m \u001b[49m\u001b[38;5;124;43m\"\u001b[39;49m\u001b[38;5;124;43mvalue\u001b[39;49m\u001b[38;5;124;43m\"\u001b[39;49m\u001b[43m:\u001b[49m\u001b[43m \u001b[49m\u001b[43mvalue\u001b[49m\u001b[43m}\u001b[49m\u001b[43m)\u001b[49m[\u001b[38;5;124m\"\u001b[39m\u001b[38;5;124mvalue\u001b[39m\u001b[38;5;124m\"\u001b[39m]\n",
      "File \u001b[1;32m~\\anaconda3\\lib\\site-packages\\selenium\\webdriver\\remote\\webdriver.py:444\u001b[0m, in \u001b[0;36mWebDriver.execute\u001b[1;34m(self, driver_command, params)\u001b[0m\n\u001b[0;32m    442\u001b[0m response \u001b[38;5;241m=\u001b[39m \u001b[38;5;28mself\u001b[39m\u001b[38;5;241m.\u001b[39mcommand_executor\u001b[38;5;241m.\u001b[39mexecute(driver_command, params)\n\u001b[0;32m    443\u001b[0m \u001b[38;5;28;01mif\u001b[39;00m response:\n\u001b[1;32m--> 444\u001b[0m     \u001b[38;5;28;43mself\u001b[39;49m\u001b[38;5;241;43m.\u001b[39;49m\u001b[43merror_handler\u001b[49m\u001b[38;5;241;43m.\u001b[39;49m\u001b[43mcheck_response\u001b[49m\u001b[43m(\u001b[49m\u001b[43mresponse\u001b[49m\u001b[43m)\u001b[49m\n\u001b[0;32m    445\u001b[0m     response[\u001b[38;5;124m\"\u001b[39m\u001b[38;5;124mvalue\u001b[39m\u001b[38;5;124m\"\u001b[39m] \u001b[38;5;241m=\u001b[39m \u001b[38;5;28mself\u001b[39m\u001b[38;5;241m.\u001b[39m_unwrap_value(response\u001b[38;5;241m.\u001b[39mget(\u001b[38;5;124m\"\u001b[39m\u001b[38;5;124mvalue\u001b[39m\u001b[38;5;124m\"\u001b[39m, \u001b[38;5;28;01mNone\u001b[39;00m))\n\u001b[0;32m    446\u001b[0m     \u001b[38;5;28;01mreturn\u001b[39;00m response\n",
      "File \u001b[1;32m~\\anaconda3\\lib\\site-packages\\selenium\\webdriver\\remote\\errorhandler.py:249\u001b[0m, in \u001b[0;36mErrorHandler.check_response\u001b[1;34m(self, response)\u001b[0m\n\u001b[0;32m    247\u001b[0m         alert_text \u001b[38;5;241m=\u001b[39m value[\u001b[38;5;124m\"\u001b[39m\u001b[38;5;124malert\u001b[39m\u001b[38;5;124m\"\u001b[39m]\u001b[38;5;241m.\u001b[39mget(\u001b[38;5;124m\"\u001b[39m\u001b[38;5;124mtext\u001b[39m\u001b[38;5;124m\"\u001b[39m)\n\u001b[0;32m    248\u001b[0m     \u001b[38;5;28;01mraise\u001b[39;00m exception_class(message, screen, stacktrace, alert_text)  \u001b[38;5;66;03m# type: ignore[call-arg]  # mypy is not smart enough here\u001b[39;00m\n\u001b[1;32m--> 249\u001b[0m \u001b[38;5;28;01mraise\u001b[39;00m exception_class(message, screen, stacktrace)\n",
      "\u001b[1;31mNoSuchElementException\u001b[0m: Message: no such element: Unable to locate element: {\"method\":\"xpath\",\"selector\":\"//*[@id='date_form_field']//td[@data-date='2023-08-31']\"}\n  (Session info: chrome=116.0.5845.111)\nStacktrace:\n\tGetHandleVerifier [0x00AF37C3+48947]\n\t(No symbol) [0x00A88551]\n\t(No symbol) [0x0098C92D]\n\t(No symbol) [0x009B9E38]\n\t(No symbol) [0x009B9EFB]\n\t(No symbol) [0x009E8EF2]\n\t(No symbol) [0x009D50D4]\n\t(No symbol) [0x009E75DA]\n\t(No symbol) [0x009D4E86]\n\t(No symbol) [0x009B16C7]\n\t(No symbol) [0x009B284D]\n\tGetHandleVerifier [0x00D3FDF9+2458985]\n\tGetHandleVerifier [0x00D8744F+2751423]\n\tGetHandleVerifier [0x00D81361+2726609]\n\tGetHandleVerifier [0x00B70680+560624]\n\t(No symbol) [0x00A9238C]\n\t(No symbol) [0x00A8E268]\n\t(No symbol) [0x00A8E392]\n\t(No symbol) [0x00A810B7]\n\tBaseThreadInitThunk [0x760700C9+25]\n\tRtlGetAppContainerNamedObjectPath [0x77C57B1E+286]\n\tRtlGetAppContainerNamedObjectPath [0x77C57AEE+238]\n"
     ]
    }
   ],
   "source": [
    "import datetime\n",
    "\n",
    "wait = WebDriverWait(driver, 20)\n",
    "\n",
    "# Select the current date\n",
    "today = datetime.date.today()\n",
    "driver.find_element(By.XPATH, f\"//*[@id='date_form_field']//td[@data-date='{today.isoformat()}']\").click()\n",
    "\n",
    "# Select the day after\n",
    "day_after = today + timedelta(days=1)\n",
    "driver.find_element(By.XPATH, f\"//*[@id='date_form_field']//td[@data-date='{day_after.isoformat()}']\").click()\n",
    "\n",
    "wait = WebDriverWait(driver, 20)\n",
    "\n",
    "# Click OK\n",
    "driver.find_element(By.XPATH, \"//*[@id='date_form_field-dialog']//button[@data-stid='ok']\").click()"
   ]
  },
  {
   "cell_type": "code",
   "execution_count": null,
   "id": "b7db1779",
   "metadata": {},
   "outputs": [],
   "source": []
  },
  {
   "cell_type": "code",
   "execution_count": null,
   "id": "4baa6a03",
   "metadata": {},
   "outputs": [],
   "source": []
  },
  {
   "cell_type": "code",
   "execution_count": null,
   "id": "474c6941",
   "metadata": {},
   "outputs": [],
   "source": []
  },
  {
   "cell_type": "code",
   "execution_count": null,
   "id": "f01468bd",
   "metadata": {},
   "outputs": [],
   "source": []
  },
  {
   "cell_type": "code",
   "execution_count": null,
   "id": "c36ba8bf",
   "metadata": {},
   "outputs": [],
   "source": []
  }
 ],
 "metadata": {
  "kernelspec": {
   "display_name": "Python 3 (ipykernel)",
   "language": "python",
   "name": "python3"
  },
  "language_info": {
   "codemirror_mode": {
    "name": "ipython",
    "version": 3
   },
   "file_extension": ".py",
   "mimetype": "text/x-python",
   "name": "python",
   "nbconvert_exporter": "python",
   "pygments_lexer": "ipython3",
   "version": "3.10.9"
  }
 },
 "nbformat": 4,
 "nbformat_minor": 5
}
