{
 "cells": [
  {
   "cell_type": "code",
   "execution_count": 1,
   "id": "d0927e67",
   "metadata": {},
   "outputs": [],
   "source": [
    "import time\n",
    "from seleniumwire import webdriver\n",
    "from selenium.webdriver.chrome.service import Service\n",
    "from webdriver_manager.chrome import ChromeDriverManager\n",
    "from selenium.webdriver.common.by import By\n",
    "from selenium.webdriver.chrome.options import Options\n",
    "from selenium.common.exceptions import NoSuchElementException\n",
    "from selenium.webdriver.support.ui import WebDriverWait\n",
    "from selenium.webdriver.support import expected_conditions as EC\n",
    "from selenium.common.exceptions import StaleElementReferenceException\n",
    "from selenium.webdriver.common.action_chains import ActionChains\n",
    "\n",
    "opciones=Options()\n",
    "\n",
    "opciones.add_experimental_option('excludeSwitches', ['enable-automation'])\n",
    "opciones.add_experimental_option('useAutomationExtension', False)\n",
    "opciones.headless=False    \n",
    "opciones.add_argument('--start-maximized')         \n",
    "opciones.add_argument('--incognito')\n",
    "opciones.add_argument(\"--disable-cookies\")\n"
   ]
  },
  {
   "cell_type": "code",
   "execution_count": 2,
   "id": "addd8bb4",
   "metadata": {},
   "outputs": [],
   "source": [
    "# Initialize the Chrome driver\n",
    "driver = webdriver.Chrome(service=Service(ChromeDriverManager().install()), options=opciones)\n",
    "\n",
    "url = \"https://www.booking.com/searchresults.pt-br.html?ss=Pinheiros%2C+S%C3%A3o+Paulo%2C+Estado+de+S%C3%A3o+Paulo%2C+Brasil&ssne=S%C3%A3o+Paulo&ssne_untouched=S%C3%A3o+Paulo&efdco=1&label=pt-br-booking-desktop-9_uvqir24qvA6x6xGiDvCQS652796015463%3Apl%3Ata%3Ap1%3Ap2%3Aac%3Aap%3Aneg%3Afi%3Atikwd-65526620%3Alp9061033%3Ali1001773%3Adec%3Adm&aid=2311236&lang=pt-br&sb=1&src_elem=sb&src=index&dest_id=2350&dest_type=district&ac_position=0&ac_click_type=b&ac_langcode=xb&ac_suggestion_list_length=5&search_selected=true&search_pageview_id=6a8e61d6955d032f&ac_meta=GhA2YThlNjFkNjk1NWQwMzJmIAAoATICeGI6CXBpbmhlaXJvc0AASgBQAA%3D%3D&checkin=2023-09-12&checkout=2023-09-13&group_adults=2&no_rooms=1&group_children=0&sb_travel_purpose=leisure\"\n",
    "driver.get(url)"
   ]
  },
  {
   "cell_type": "code",
   "execution_count": 3,
   "id": "11dba126",
   "metadata": {},
   "outputs": [],
   "source": [
    "wait = WebDriverWait(driver, 20)\n",
    "\n",
    "try:\n",
    "    cookie_button = wait.until(EC.element_to_be_clickable((By.ID, \"onetrust-reject-all-handler\")))\n",
    "    cookie_button.click()\n",
    "    \n",
    "    \n",
    "except TimeoutException:\n",
    "    pass  "
   ]
  },
  {
   "cell_type": "code",
   "execution_count": 10,
   "id": "55c49ba1",
   "metadata": {},
   "outputs": [
    {
     "name": "stdout",
     "output_type": "stream",
     "text": [
      "Total pages: 4\n"
     ]
    }
   ],
   "source": [
    "properties = []\n",
    "\n",
    "\n",
    "def extract_properties():\n",
    "    property_cards = driver.find_elements(By.CSS_SELECTOR, 'div[data-testid=\"property-card\"]')\n",
    "    for property in property_cards:\n",
    "        name = property.find_element(By.CSS_SELECTOR, 'div[data-testid=\"title\"]').text\n",
    "        price = property.find_element(By.CSS_SELECTOR, '[data-testid=\"price-and-discounted-price\"]').text\n",
    "        chk_out = property.find_element(By.XPATH, '//button[contains(@class, \"d47738b911\") and @data-testid=\"date-display-field-end\"]').text\n",
    "        \n",
    "        new_property = {}\n",
    "        new_property['name'] = name\n",
    "        new_property['price'] = price\n",
    "        new_property['chk_out'] = chk_out\n",
    "        \n",
    "        properties.append(new_property)\n",
    "\n",
    "\n",
    "total_pages = int(driver.find_element(By.CSS_SELECTOR, 'div[data-testid=\"pagination\"] li:last-child').text)\n",
    "print(f\"Total pages: {total_pages}\")\n",
    "\n",
    "current_page = 0"
   ]
  },
  {
   "cell_type": "code",
   "execution_count": 11,
   "id": "e7b47d47",
   "metadata": {},
   "outputs": [
    {
     "ename": "StaleElementReferenceException",
     "evalue": "Message: stale element reference: stale element not found\n  (Session info: chrome=116.0.5845.112)\nStacktrace:\n\tGetHandleVerifier [0x005137C3+48947]\n\t(No symbol) [0x004A8551]\n\t(No symbol) [0x003AC92D]\n\t(No symbol) [0x003AFD62]\n\t(No symbol) [0x003B106A]\n\t(No symbol) [0x003B1110]\n\t(No symbol) [0x003D66FD]\n\t(No symbol) [0x003F508C]\n\t(No symbol) [0x003D2EB6]\n\t(No symbol) [0x003F53E4]\n\t(No symbol) [0x004075DA]\n\t(No symbol) [0x003F4E86]\n\t(No symbol) [0x003D16C7]\n\t(No symbol) [0x003D284D]\n\tGetHandleVerifier [0x0075FDF9+2458985]\n\tGetHandleVerifier [0x007A744F+2751423]\n\tGetHandleVerifier [0x007A1361+2726609]\n\tGetHandleVerifier [0x00590680+560624]\n\t(No symbol) [0x004B238C]\n\t(No symbol) [0x004AE268]\n\t(No symbol) [0x004AE392]\n\t(No symbol) [0x004A10B7]\n\tBaseThreadInitThunk [0x760700C9+25]\n\tRtlGetAppContainerNamedObjectPath [0x77C57B1E+286]\n\tRtlGetAppContainerNamedObjectPath [0x77C57AEE+238]\n",
     "output_type": "error",
     "traceback": [
      "\u001b[1;31m---------------------------------------------------------------------------\u001b[0m",
      "\u001b[1;31mStaleElementReferenceException\u001b[0m            Traceback (most recent call last)",
      "Cell \u001b[1;32mIn[11], line 3\u001b[0m\n\u001b[0;32m      1\u001b[0m \u001b[38;5;28;01mfor\u001b[39;00m current_page \u001b[38;5;129;01min\u001b[39;00m \u001b[38;5;28mrange\u001b[39m(total_pages):\n\u001b[0;32m      2\u001b[0m     driver\u001b[38;5;241m.\u001b[39mdelete_all_cookies()\n\u001b[1;32m----> 3\u001b[0m     \u001b[43mextract_properties\u001b[49m\u001b[43m(\u001b[49m\u001b[43m)\u001b[49m\n\u001b[0;32m      4\u001b[0m     next_page_btn \u001b[38;5;241m=\u001b[39m driver\u001b[38;5;241m.\u001b[39mfind_element(By\u001b[38;5;241m.\u001b[39mCSS_SELECTOR, \u001b[38;5;124m'\u001b[39m\u001b[38;5;124mbutton[aria-label*=\u001b[39m\u001b[38;5;124m\"\u001b[39m\u001b[38;5;124mPágina seguinte\u001b[39m\u001b[38;5;124m\"\u001b[39m\u001b[38;5;124m]\u001b[39m\u001b[38;5;124m'\u001b[39m)\n\u001b[0;32m      5\u001b[0m     next_page_btn\u001b[38;5;241m.\u001b[39mclick()\n",
      "Cell \u001b[1;32mIn[10], line 7\u001b[0m, in \u001b[0;36mextract_properties\u001b[1;34m()\u001b[0m\n\u001b[0;32m      5\u001b[0m property_cards \u001b[38;5;241m=\u001b[39m driver\u001b[38;5;241m.\u001b[39mfind_elements(By\u001b[38;5;241m.\u001b[39mCSS_SELECTOR, \u001b[38;5;124m'\u001b[39m\u001b[38;5;124mdiv[data-testid=\u001b[39m\u001b[38;5;124m\"\u001b[39m\u001b[38;5;124mproperty-card\u001b[39m\u001b[38;5;124m\"\u001b[39m\u001b[38;5;124m]\u001b[39m\u001b[38;5;124m'\u001b[39m)\n\u001b[0;32m      6\u001b[0m \u001b[38;5;28;01mfor\u001b[39;00m \u001b[38;5;28mproperty\u001b[39m \u001b[38;5;129;01min\u001b[39;00m property_cards:\n\u001b[1;32m----> 7\u001b[0m     name \u001b[38;5;241m=\u001b[39m \u001b[38;5;28;43mproperty\u001b[39;49m\u001b[38;5;241;43m.\u001b[39;49m\u001b[43mfind_element\u001b[49m\u001b[43m(\u001b[49m\u001b[43mBy\u001b[49m\u001b[38;5;241;43m.\u001b[39;49m\u001b[43mCSS_SELECTOR\u001b[49m\u001b[43m,\u001b[49m\u001b[43m \u001b[49m\u001b[38;5;124;43m'\u001b[39;49m\u001b[38;5;124;43mdiv[data-testid=\u001b[39;49m\u001b[38;5;124;43m\"\u001b[39;49m\u001b[38;5;124;43mtitle\u001b[39;49m\u001b[38;5;124;43m\"\u001b[39;49m\u001b[38;5;124;43m]\u001b[39;49m\u001b[38;5;124;43m'\u001b[39;49m\u001b[43m)\u001b[49m\u001b[38;5;241;43m.\u001b[39;49m\u001b[43mtext\u001b[49m\n\u001b[0;32m      8\u001b[0m     price \u001b[38;5;241m=\u001b[39m \u001b[38;5;28mproperty\u001b[39m\u001b[38;5;241m.\u001b[39mfind_element(By\u001b[38;5;241m.\u001b[39mCSS_SELECTOR, \u001b[38;5;124m'\u001b[39m\u001b[38;5;124m[data-testid=\u001b[39m\u001b[38;5;124m\"\u001b[39m\u001b[38;5;124mprice-and-discounted-price\u001b[39m\u001b[38;5;124m\"\u001b[39m\u001b[38;5;124m]\u001b[39m\u001b[38;5;124m'\u001b[39m)\u001b[38;5;241m.\u001b[39mtext\n\u001b[0;32m      9\u001b[0m     chk_out \u001b[38;5;241m=\u001b[39m \u001b[38;5;28mproperty\u001b[39m\u001b[38;5;241m.\u001b[39mfind_element(By\u001b[38;5;241m.\u001b[39mXPATH, \u001b[38;5;124m'\u001b[39m\u001b[38;5;124m//button[contains(@class, \u001b[39m\u001b[38;5;124m\"\u001b[39m\u001b[38;5;124md47738b911\u001b[39m\u001b[38;5;124m\"\u001b[39m\u001b[38;5;124m) and @data-testid=\u001b[39m\u001b[38;5;124m\"\u001b[39m\u001b[38;5;124mdate-display-field-end\u001b[39m\u001b[38;5;124m\"\u001b[39m\u001b[38;5;124m]\u001b[39m\u001b[38;5;124m'\u001b[39m)\u001b[38;5;241m.\u001b[39mtext\n",
      "File \u001b[1;32m~\\anaconda3\\lib\\site-packages\\selenium\\webdriver\\remote\\webelement.py:89\u001b[0m, in \u001b[0;36mWebElement.text\u001b[1;34m(self)\u001b[0m\n\u001b[0;32m     86\u001b[0m \u001b[38;5;129m@property\u001b[39m\n\u001b[0;32m     87\u001b[0m \u001b[38;5;28;01mdef\u001b[39;00m \u001b[38;5;21mtext\u001b[39m(\u001b[38;5;28mself\u001b[39m) \u001b[38;5;241m-\u001b[39m\u001b[38;5;241m>\u001b[39m \u001b[38;5;28mstr\u001b[39m:\n\u001b[0;32m     88\u001b[0m     \u001b[38;5;124;03m\"\"\"The text of the element.\"\"\"\u001b[39;00m\n\u001b[1;32m---> 89\u001b[0m     \u001b[38;5;28;01mreturn\u001b[39;00m \u001b[38;5;28;43mself\u001b[39;49m\u001b[38;5;241;43m.\u001b[39;49m\u001b[43m_execute\u001b[49m\u001b[43m(\u001b[49m\u001b[43mCommand\u001b[49m\u001b[38;5;241;43m.\u001b[39;49m\u001b[43mGET_ELEMENT_TEXT\u001b[49m\u001b[43m)\u001b[49m[\u001b[38;5;124m\"\u001b[39m\u001b[38;5;124mvalue\u001b[39m\u001b[38;5;124m\"\u001b[39m]\n",
      "File \u001b[1;32m~\\anaconda3\\lib\\site-packages\\selenium\\webdriver\\remote\\webelement.py:410\u001b[0m, in \u001b[0;36mWebElement._execute\u001b[1;34m(self, command, params)\u001b[0m\n\u001b[0;32m    408\u001b[0m     params \u001b[38;5;241m=\u001b[39m {}\n\u001b[0;32m    409\u001b[0m params[\u001b[38;5;124m\"\u001b[39m\u001b[38;5;124mid\u001b[39m\u001b[38;5;124m\"\u001b[39m] \u001b[38;5;241m=\u001b[39m \u001b[38;5;28mself\u001b[39m\u001b[38;5;241m.\u001b[39m_id\n\u001b[1;32m--> 410\u001b[0m \u001b[38;5;28;01mreturn\u001b[39;00m \u001b[38;5;28;43mself\u001b[39;49m\u001b[38;5;241;43m.\u001b[39;49m\u001b[43m_parent\u001b[49m\u001b[38;5;241;43m.\u001b[39;49m\u001b[43mexecute\u001b[49m\u001b[43m(\u001b[49m\u001b[43mcommand\u001b[49m\u001b[43m,\u001b[49m\u001b[43m \u001b[49m\u001b[43mparams\u001b[49m\u001b[43m)\u001b[49m\n",
      "File \u001b[1;32m~\\anaconda3\\lib\\site-packages\\selenium\\webdriver\\remote\\webdriver.py:444\u001b[0m, in \u001b[0;36mWebDriver.execute\u001b[1;34m(self, driver_command, params)\u001b[0m\n\u001b[0;32m    442\u001b[0m response \u001b[38;5;241m=\u001b[39m \u001b[38;5;28mself\u001b[39m\u001b[38;5;241m.\u001b[39mcommand_executor\u001b[38;5;241m.\u001b[39mexecute(driver_command, params)\n\u001b[0;32m    443\u001b[0m \u001b[38;5;28;01mif\u001b[39;00m response:\n\u001b[1;32m--> 444\u001b[0m     \u001b[38;5;28;43mself\u001b[39;49m\u001b[38;5;241;43m.\u001b[39;49m\u001b[43merror_handler\u001b[49m\u001b[38;5;241;43m.\u001b[39;49m\u001b[43mcheck_response\u001b[49m\u001b[43m(\u001b[49m\u001b[43mresponse\u001b[49m\u001b[43m)\u001b[49m\n\u001b[0;32m    445\u001b[0m     response[\u001b[38;5;124m\"\u001b[39m\u001b[38;5;124mvalue\u001b[39m\u001b[38;5;124m\"\u001b[39m] \u001b[38;5;241m=\u001b[39m \u001b[38;5;28mself\u001b[39m\u001b[38;5;241m.\u001b[39m_unwrap_value(response\u001b[38;5;241m.\u001b[39mget(\u001b[38;5;124m\"\u001b[39m\u001b[38;5;124mvalue\u001b[39m\u001b[38;5;124m\"\u001b[39m, \u001b[38;5;28;01mNone\u001b[39;00m))\n\u001b[0;32m    446\u001b[0m     \u001b[38;5;28;01mreturn\u001b[39;00m response\n",
      "File \u001b[1;32m~\\anaconda3\\lib\\site-packages\\selenium\\webdriver\\remote\\errorhandler.py:249\u001b[0m, in \u001b[0;36mErrorHandler.check_response\u001b[1;34m(self, response)\u001b[0m\n\u001b[0;32m    247\u001b[0m         alert_text \u001b[38;5;241m=\u001b[39m value[\u001b[38;5;124m\"\u001b[39m\u001b[38;5;124malert\u001b[39m\u001b[38;5;124m\"\u001b[39m]\u001b[38;5;241m.\u001b[39mget(\u001b[38;5;124m\"\u001b[39m\u001b[38;5;124mtext\u001b[39m\u001b[38;5;124m\"\u001b[39m)\n\u001b[0;32m    248\u001b[0m     \u001b[38;5;28;01mraise\u001b[39;00m exception_class(message, screen, stacktrace, alert_text)  \u001b[38;5;66;03m# type: ignore[call-arg]  # mypy is not smart enough here\u001b[39;00m\n\u001b[1;32m--> 249\u001b[0m \u001b[38;5;28;01mraise\u001b[39;00m exception_class(message, screen, stacktrace)\n",
      "\u001b[1;31mStaleElementReferenceException\u001b[0m: Message: stale element reference: stale element not found\n  (Session info: chrome=116.0.5845.112)\nStacktrace:\n\tGetHandleVerifier [0x005137C3+48947]\n\t(No symbol) [0x004A8551]\n\t(No symbol) [0x003AC92D]\n\t(No symbol) [0x003AFD62]\n\t(No symbol) [0x003B106A]\n\t(No symbol) [0x003B1110]\n\t(No symbol) [0x003D66FD]\n\t(No symbol) [0x003F508C]\n\t(No symbol) [0x003D2EB6]\n\t(No symbol) [0x003F53E4]\n\t(No symbol) [0x004075DA]\n\t(No symbol) [0x003F4E86]\n\t(No symbol) [0x003D16C7]\n\t(No symbol) [0x003D284D]\n\tGetHandleVerifier [0x0075FDF9+2458985]\n\tGetHandleVerifier [0x007A744F+2751423]\n\tGetHandleVerifier [0x007A1361+2726609]\n\tGetHandleVerifier [0x00590680+560624]\n\t(No symbol) [0x004B238C]\n\t(No symbol) [0x004AE268]\n\t(No symbol) [0x004AE392]\n\t(No symbol) [0x004A10B7]\n\tBaseThreadInitThunk [0x760700C9+25]\n\tRtlGetAppContainerNamedObjectPath [0x77C57B1E+286]\n\tRtlGetAppContainerNamedObjectPath [0x77C57AEE+238]\n"
     ]
    }
   ],
   "source": [
    "for current_page in range(total_pages):\n",
    "    driver.delete_all_cookies()\n",
    "    extract_properties()\n",
    "    next_page_btn = driver.find_element(By.CSS_SELECTOR, 'button[aria-label*=\"Página seguinte\"]')\n",
    "    next_page_btn.click()"
   ]
  },
  {
   "cell_type": "code",
   "execution_count": 12,
   "id": "9e05316f",
   "metadata": {},
   "outputs": [
    {
     "name": "stdout",
     "output_type": "stream",
     "text": [
      "[{'name': 'Charlie Alves Guimarães Pinheiros - Soft opening', 'price': '€ 91', 'chk_out': 'qua., 13 de set.'}, {'name': 'Uniclass Hotel Pinheiros', 'price': '€ 78', 'chk_out': 'qua., 13 de set.'}, {'name': 'Charlie Faria Lima', 'price': '€ 97', 'chk_out': 'qua., 13 de set.'}, {'name': 'Charlie Houx Pinheiros', 'price': '€ 77', 'chk_out': 'qua., 13 de set.'}, {'name': 'Studio Quality Oscar Freire', 'price': '€ 58', 'chk_out': 'qua., 13 de set.'}, {'name': 'Charlie Rua dos Pinheiros', 'price': '€ 82', 'chk_out': 'qua., 13 de set.'}, {'name': 'Ô de Casa Hostel', 'price': '€ 39', 'chk_out': 'qua., 13 de set.'}, {'name': 'Radisson Pinheiros', 'price': '€ 245', 'chk_out': 'qua., 13 de set.'}, {'name': 'Q-Flats Hotel - Faria Lima', 'price': '€ 78', 'chk_out': 'qua., 13 de set.'}, {'name': 'Guest Urban Hotel Design Pinheiros', 'price': '€ 82', 'chk_out': 'qua., 13 de set.'}, {'name': 'Casa Savana', 'price': '€ 68', 'chk_out': 'qua., 13 de set.'}, {'name': 'Filadelfia Hotel', 'price': '€ 41', 'chk_out': 'qua., 13 de set.'}, {'name': 'HomeLike ao lado da Av Faria Lima', 'price': '€ 79', 'chk_out': 'qua., 13 de set.'}, {'name': 'Studio Ben', 'price': '€ 50', 'chk_out': 'qua., 13 de set.'}, {'name': 'Golden Tower Pinheiros by Fênix Hotéis', 'price': '€ 172', 'chk_out': 'qua., 13 de set.'}, {'name': 'Hostel e Pousada Vila Madalena', 'price': '€ 37', 'chk_out': 'qua., 13 de set.'}, {'name': 'Moderno e sofisticado', 'price': '€ 120', 'chk_out': 'qua., 13 de set.'}, {'name': 'Cawy Pinheiros - São Paulo', 'price': '€ 63', 'chk_out': 'qua., 13 de set.'}, {'name': 'Elite Oscar Freire - Vivare', 'price': '€ 87', 'chk_out': 'qua., 13 de set.'}, {'name': 'Studio Living Mercure Pinheiros', 'price': '€ 64', 'chk_out': 'qua., 13 de set.'}, {'name': 'Flat Capote Valente 500 Pinheiros', 'price': '€ 65', 'chk_out': 'qua., 13 de set.'}, {'name': 'George V Alto De Pinheiros', 'price': '€ 218', 'chk_out': 'qua., 13 de set.'}, {'name': 'Pousada e Hostel São Paulo Comfort', 'price': '€ 49', 'chk_out': 'qua., 13 de set.'}, {'name': 'Apartamentos Vila Madalena', 'price': '€ 81', 'chk_out': 'qua., 13 de set.'}, {'name': 'Hostel Brasil Boutique', 'price': '€ 34', 'chk_out': 'qua., 13 de set.'}, {'name': 'Selina Madalena Sao Paulo', 'price': '€ 39', 'chk_out': 'qua., 13 de set.'}, {'name': 'Comfort Flat Pinheiros em Hotel 4,5 estrelas', 'price': '€ 101', 'chk_out': 'qua., 13 de set.'}, {'name': 'Studio Savana', 'price': '€ 57', 'chk_out': 'qua., 13 de set.'}, {'name': 'Único Motel Faria Lima', 'price': '€ 37', 'chk_out': 'qua., 13 de set.'}, {'name': 'UrbanComfort Apt Fradique Coutinho SP', 'price': '€ 114', 'chk_out': 'qua., 13 de set.'}, {'name': 'Hotel Pousada Viana', 'price': '€ 35', 'chk_out': 'qua., 13 de set.'}, {'name': 'MichH - Maravilhoso Studio em Pinheiros', 'price': '€ 73', 'chk_out': 'qua., 13 de set.'}, {'name': 'MichiH - Exclusivo Studio em Pinheiros', 'price': '€ 71', 'chk_out': 'qua., 13 de set.'}, {'name': 'Casa 11 by Victoria Design Europe', 'price': '€ 50', 'chk_out': 'qua., 13 de set.'}, {'name': 'Lamparina Hostel', 'price': '€ 48', 'chk_out': 'qua., 13 de set.'}, {'name': 'Smart Charlie Mobi Pinheiros', 'price': '€ 83', 'chk_out': 'qua., 13 de set.'}, {'name': 'Jardim Secreto', 'price': '€ 28', 'chk_out': 'qua., 13 de set.'}, {'name': 'Oh! Madalena Hostel', 'price': '€ 29', 'chk_out': 'qua., 13 de set.'}, {'name': 'Flat Oscar Freire 1948 Pinheiros', 'price': '€ 65', 'chk_out': 'qua., 13 de set.'}, {'name': 'Hotel Jardim América ( Adults only)', 'price': '€ 38', 'chk_out': 'qua., 13 de set.'}, {'name': 'Charlie Pinheiros', 'price': '€ 93', 'chk_out': 'qua., 13 de set.'}, {'name': 'Cawy Pedroso - Pinheiros', 'price': '€ 71', 'chk_out': 'qua., 13 de set.'}, {'name': 'Garoa Hostel', 'price': '€ 49', 'chk_out': 'qua., 13 de set.'}, {'name': 'Hotel Brothers São Paulo - By UP Hotel', 'price': '€ 28', 'chk_out': 'qua., 13 de set.'}, {'name': 'VN Pinheiros Alto Padrão', 'price': '€ 109', 'chk_out': 'qua., 13 de set.'}, {'name': 'Charmoso Flat em Pinheiros', 'price': '€ 54', 'chk_out': 'qua., 13 de set.'}, {'name': '360 Suítes VN Oscar Freire - Apartamentos mobiliados', 'price': '€ 69', 'chk_out': 'qua., 13 de set.'}, {'name': 'Hilton Garden Inn Rebouças', 'price': '€ 208', 'chk_out': 'qua., 13 de set.'}, {'name': 'Lifestyle Pinheiros', 'price': '€ 88', 'chk_out': 'qua., 13 de set.'}, {'name': 'Apto alto padrão Suite 70 metros Pinheiros Prédio Thera, até 6 pessoas Vista Incrivel', 'price': '€ 253', 'chk_out': 'qua., 13 de set.'}, {'name': 'Studio Oscar Freire, na rua mais luxuosa de SP!1120', 'price': '€ 108', 'chk_out': 'qua., 13 de set.'}, {'name': 'VN Oscar Freire com piscina', 'price': '€ 93', 'chk_out': 'qua., 13 de set.'}, {'name': 'Único Motel Faria Lima', 'price': '€ 37', 'chk_out': 'qua., 13 de set.'}, {'name': 'Dois quartos HC, Metrô e Oscar Freire', 'price': '€ 95', 'chk_out': 'qua., 13 de set.'}, {'name': 'QY1207 Flat na Faria Lima Com Vaga de Garagem', 'price': '€ 94', 'chk_out': 'qua., 13 de set.'}, {'name': 'Lamparina Hostel', 'price': '€ 48', 'chk_out': 'qua., 13 de set.'}, {'name': 'Smart Charlie Mobi Pinheiros', 'price': '€ 83', 'chk_out': 'qua., 13 de set.'}, {'name': '360 Suítes VN Capote Valente - Apartamentos mobiliados', 'price': '€ 84', 'chk_out': 'qua., 13 de set.'}, {'name': 'Duplex de Luxo Oscar Freire', 'price': '€ 236', 'chk_out': 'qua., 13 de set.'}, {'name': 'Loft Moderno na Rua Oscar Freire - Jardins', 'price': '€ 96', 'chk_out': 'qua., 13 de set.'}, {'name': 'Flat Lux Mercure in Pinheiros', 'price': '€ 99', 'chk_out': 'qua., 13 de set.'}, {'name': 'Charlie Pinheiros', 'price': '€ 93', 'chk_out': 'qua., 13 de set.'}, {'name': 'MichiH - Lindo Studio em Pinheiros', 'price': '€ 78', 'chk_out': 'qua., 13 de set.'}, {'name': 'Apartamento Contemporâneo Na Oscar Freire', 'price': '€ 793', 'chk_out': 'qua., 13 de set.'}, {'name': 'Pousada e Hostel São Paulo Econômica', 'price': '€ 37', 'chk_out': 'qua., 13 de set.'}, {'name': '360 Suítes Summit Pinheiros - Apartamentos Mobiliados', 'price': '€ 59', 'chk_out': 'qua., 13 de set.'}, {'name': 'Studio exclusivo na Rua Oscar Freire Novo', 'price': '€ 85', 'chk_out': 'qua., 13 de set.'}, {'name': 'SP-VTFL - Ventura Faria Lima', 'price': '€ 79', 'chk_out': 'qua., 13 de set.'}, {'name': 'Apto Alto padrão 2 dorms vista para Piscina até 6 pessoas', 'price': '€ 182', 'chk_out': 'qua., 13 de set.'}, {'name': 'MichiH - Perfeito Studio em Pinheiros', 'price': '€ 82', 'chk_out': 'qua., 13 de set.'}, {'name': 'Studio no Jardins proximo Metro Oscar Freire', 'price': '€ 94', 'chk_out': 'qua., 13 de set.'}, {'name': 'MIO106 Studio Em Pinheiros Prox Oscar Freire', 'price': '€ 92', 'chk_out': 'qua., 13 de set.'}, {'name': 'Condomínio luxuoso, apenas 50m do metrô Oscar freire e 5 minutos da Paulista', 'price': '€ 81', 'chk_out': 'qua., 13 de set.'}, {'name': 'Condomínio Fradik - Coração da Vila Madalena', 'price': '€ 89', 'chk_out': 'qua., 13 de set.'}, {'name': 'Apto luxuoso alto padrão Jardins VN C', 'price': '€ 118', 'chk_out': 'qua., 13 de set.'}, {'name': 'Studio Oscar Freire, na rua mais luxuosa de SP!1120', 'price': '€ 108', 'chk_out': 'qua., 13 de set.'}, {'name': 'VN Oscar Freire com piscina', 'price': '€ 93', 'chk_out': 'qua., 13 de set.'}, {'name': 'Único Motel Faria Lima', 'price': '€ 37', 'chk_out': 'qua., 13 de set.'}, {'name': 'Dois quartos HC, Metrô e Oscar Freire', 'price': '€ 95', 'chk_out': 'qua., 13 de set.'}, {'name': 'QY1207 Flat na Faria Lima Com Vaga de Garagem', 'price': '€ 94', 'chk_out': 'qua., 13 de set.'}, {'name': 'Lamparina Hostel', 'price': '€ 48', 'chk_out': 'qua., 13 de set.'}, {'name': 'Smart Charlie Mobi Pinheiros', 'price': '€ 83', 'chk_out': 'qua., 13 de set.'}, {'name': '360 Suítes VN Capote Valente - Apartamentos mobiliados', 'price': '€ 84', 'chk_out': 'qua., 13 de set.'}, {'name': 'Duplex de Luxo Oscar Freire', 'price': '€ 236', 'chk_out': 'qua., 13 de set.'}, {'name': 'Loft Moderno na Rua Oscar Freire - Jardins', 'price': '€ 96', 'chk_out': 'qua., 13 de set.'}, {'name': 'Flat Lux Mercure in Pinheiros', 'price': '€ 99', 'chk_out': 'qua., 13 de set.'}, {'name': 'Charlie Pinheiros', 'price': '€ 93', 'chk_out': 'qua., 13 de set.'}, {'name': 'MichiH - Lindo Studio em Pinheiros', 'price': '€ 78', 'chk_out': 'qua., 13 de set.'}, {'name': 'Apartamento Contemporâneo Na Oscar Freire', 'price': '€ 793', 'chk_out': 'qua., 13 de set.'}, {'name': 'Pousada e Hostel São Paulo Econômica', 'price': '€ 37', 'chk_out': 'qua., 13 de set.'}, {'name': '360 Suítes Summit Pinheiros - Apartamentos Mobiliados', 'price': '€ 59', 'chk_out': 'qua., 13 de set.'}, {'name': 'Studio exclusivo na Rua Oscar Freire Novo', 'price': '€ 85', 'chk_out': 'qua., 13 de set.'}, {'name': 'SP-VTFL - Ventura Faria Lima', 'price': '€ 79', 'chk_out': 'qua., 13 de set.'}, {'name': 'Apto Alto padrão 2 dorms vista para Piscina até 6 pessoas', 'price': '€ 182', 'chk_out': 'qua., 13 de set.'}, {'name': 'MichiH - Perfeito Studio em Pinheiros', 'price': '€ 82', 'chk_out': 'qua., 13 de set.'}, {'name': 'Studio no Jardins proximo Metro Oscar Freire', 'price': '€ 94', 'chk_out': 'qua., 13 de set.'}]\n"
     ]
    }
   ],
   "source": [
    "print(properties)"
   ]
  },
  {
   "cell_type": "code",
   "execution_count": 15,
   "id": "f326852b",
   "metadata": {},
   "outputs": [
    {
     "data": {
      "text/html": [
       "<div>\n",
       "<style scoped>\n",
       "    .dataframe tbody tr th:only-of-type {\n",
       "        vertical-align: middle;\n",
       "    }\n",
       "\n",
       "    .dataframe tbody tr th {\n",
       "        vertical-align: top;\n",
       "    }\n",
       "\n",
       "    .dataframe thead th {\n",
       "        text-align: right;\n",
       "    }\n",
       "</style>\n",
       "<table border=\"1\" class=\"dataframe\">\n",
       "  <thead>\n",
       "    <tr style=\"text-align: right;\">\n",
       "      <th></th>\n",
       "      <th>name</th>\n",
       "      <th>price</th>\n",
       "      <th>chk_out</th>\n",
       "    </tr>\n",
       "  </thead>\n",
       "  <tbody>\n",
       "    <tr>\n",
       "      <th>0</th>\n",
       "      <td>Charlie Alves Guimarães Pinheiros - Soft opening</td>\n",
       "      <td>€ 91</td>\n",
       "      <td>qua., 13 de set.</td>\n",
       "    </tr>\n",
       "    <tr>\n",
       "      <th>1</th>\n",
       "      <td>Uniclass Hotel Pinheiros</td>\n",
       "      <td>€ 78</td>\n",
       "      <td>qua., 13 de set.</td>\n",
       "    </tr>\n",
       "    <tr>\n",
       "      <th>2</th>\n",
       "      <td>Charlie Faria Lima</td>\n",
       "      <td>€ 97</td>\n",
       "      <td>qua., 13 de set.</td>\n",
       "    </tr>\n",
       "    <tr>\n",
       "      <th>3</th>\n",
       "      <td>Charlie Houx Pinheiros</td>\n",
       "      <td>€ 77</td>\n",
       "      <td>qua., 13 de set.</td>\n",
       "    </tr>\n",
       "    <tr>\n",
       "      <th>4</th>\n",
       "      <td>Studio Quality Oscar Freire</td>\n",
       "      <td>€ 58</td>\n",
       "      <td>qua., 13 de set.</td>\n",
       "    </tr>\n",
       "  </tbody>\n",
       "</table>\n",
       "</div>"
      ],
      "text/plain": [
       "                                               name price           chk_out\n",
       "0  Charlie Alves Guimarães Pinheiros - Soft opening  € 91  qua., 13 de set.\n",
       "1                          Uniclass Hotel Pinheiros  € 78  qua., 13 de set.\n",
       "2                                Charlie Faria Lima  € 97  qua., 13 de set.\n",
       "3                            Charlie Houx Pinheiros  € 77  qua., 13 de set.\n",
       "4                       Studio Quality Oscar Freire  € 58  qua., 13 de set."
      ]
     },
     "execution_count": 15,
     "metadata": {},
     "output_type": "execute_result"
    }
   ],
   "source": [
    "import pandas as pd\n",
    "df = pd.DataFrame(properties)\n",
    "df.head()"
   ]
  },
  {
   "cell_type": "code",
   "execution_count": 16,
   "id": "fc5b7cda",
   "metadata": {},
   "outputs": [
    {
     "data": {
      "text/plain": [
       "<bound method DataFrame.info of                                                  name  price           chk_out\n",
       "0    Charlie Alves Guimarães Pinheiros - Soft opening   € 91  qua., 13 de set.\n",
       "1                            Uniclass Hotel Pinheiros   € 78  qua., 13 de set.\n",
       "2                                  Charlie Faria Lima   € 97  qua., 13 de set.\n",
       "3                              Charlie Houx Pinheiros   € 77  qua., 13 de set.\n",
       "4                         Studio Quality Oscar Freire   € 58  qua., 13 de set.\n",
       "..                                                ...    ...               ...\n",
       "91          Studio exclusivo na Rua Oscar Freire Novo   € 85  qua., 13 de set.\n",
       "92                       SP-VTFL - Ventura Faria Lima   € 79  qua., 13 de set.\n",
       "93  Apto Alto padrão 2 dorms vista para Piscina at...  € 182  qua., 13 de set.\n",
       "94              MichiH - Perfeito Studio em Pinheiros   € 82  qua., 13 de set.\n",
       "95       Studio no Jardins proximo Metro Oscar Freire   € 94  qua., 13 de set.\n",
       "\n",
       "[96 rows x 3 columns]>"
      ]
     },
     "execution_count": 16,
     "metadata": {},
     "output_type": "execute_result"
    }
   ],
   "source": [
    "df.info"
   ]
  },
  {
   "cell_type": "code",
   "execution_count": 18,
   "id": "18c5ee54",
   "metadata": {},
   "outputs": [
    {
     "name": "stdout",
     "output_type": "stream",
     "text": [
      "name\n",
      "Smart Charlie Mobi Pinheiros               3\n",
      "Lamparina Hostel                           3\n",
      "Charlie Pinheiros                          3\n",
      "Único Motel Faria Lima                     3\n",
      "MichiH - Lindo Studio em Pinheiros         2\n",
      "                                          ..\n",
      "Hotel Pousada Viana                        1\n",
      "MichH - Maravilhoso Studio em Pinheiros    1\n",
      "MichiH - Exclusivo Studio em Pinheiros     1\n",
      "Casa 11 by Victoria Design Europe          1\n",
      "Apto luxuoso alto padrão Jardins VN C      1\n",
      "Name: count, Length: 71, dtype: int64\n"
     ]
    }
   ],
   "source": [
    "name_counts = df['name'].value_counts()\n",
    "print(name_counts)"
   ]
  },
  {
   "cell_type": "code",
   "execution_count": null,
   "id": "ecad8472",
   "metadata": {},
   "outputs": [],
   "source": [
    "# https://www.booking.com/searchresults.pt-br.html?ss=Jardins%2C+S%C3%A3o+Paulo%2C+Estado+de+S%C3%A3o+Paulo%2C+Brasil&ssne=Pinheiros&ssne_untouched=Pinheiros&label=pt-br-booking-desktop-9_uvqir24qvA6x6xGiDvCQS652796015463%3Apl%3Ata%3Ap1%3Ap2%3Aac%3Aap%3Aneg%3Afi%3Atikwd-65526620%3Alp9061033%3Ali1001773%3Adec%3Adm&aid=2311236&lang=pt-br&sb=1&src_elem=sb&src=searchresults&dest_id=1805&dest_type=district&ac_position=2&ac_click_type=b&ac_langcode=xb&ac_suggestion_list_length=5&search_selected=true&search_pageview_id=d2b9623de6ea0191&ac_meta=GhBkMmI5NjIzZGU2ZWEwMTkxIAIoATICeGI6B2phcmRpbnNAAEoAUAA%3D&checkin=2023-09-12&checkout=2023-09-13&group_adults=2&no_rooms=1&group_children=0"
   ]
  },
  {
   "cell_type": "code",
   "execution_count": null,
   "id": "abbf0b8a",
   "metadata": {},
   "outputs": [],
   "source": []
  },
  {
   "cell_type": "code",
   "execution_count": null,
   "id": "3e107c21",
   "metadata": {},
   "outputs": [],
   "source": []
  },
  {
   "cell_type": "code",
   "execution_count": null,
   "id": "63ae5112",
   "metadata": {},
   "outputs": [],
   "source": []
  },
  {
   "cell_type": "code",
   "execution_count": null,
   "id": "02029519",
   "metadata": {},
   "outputs": [],
   "source": []
  },
  {
   "cell_type": "code",
   "execution_count": null,
   "id": "f7723f83",
   "metadata": {},
   "outputs": [],
   "source": []
  }
 ],
 "metadata": {
  "kernelspec": {
   "display_name": "Python 3 (ipykernel)",
   "language": "python",
   "name": "python3"
  },
  "language_info": {
   "codemirror_mode": {
    "name": "ipython",
    "version": 3
   },
   "file_extension": ".py",
   "mimetype": "text/x-python",
   "name": "python",
   "nbconvert_exporter": "python",
   "pygments_lexer": "ipython3",
   "version": "3.10.9"
  }
 },
 "nbformat": 4,
 "nbformat_minor": 5
}
