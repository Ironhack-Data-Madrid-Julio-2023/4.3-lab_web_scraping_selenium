{
 "cells": [
  {
   "cell_type": "code",
   "execution_count": 1,
   "id": "9abdddd6",
   "metadata": {
    "scrolled": true
   },
   "outputs": [
    {
     "name": "stdout",
     "output_type": "stream",
     "text": [
      "Requirement already satisfied: selenium==4.7.1 in c:\\users\\demia\\anaconda3\\lib\\site-packages (4.7.1)\n",
      "Requirement already satisfied: urllib3[socks]~=1.26 in c:\\users\\demia\\anaconda3\\lib\\site-packages (from selenium==4.7.1) (1.26.14)\n",
      "Requirement already satisfied: trio-websocket~=0.9 in c:\\users\\demia\\anaconda3\\lib\\site-packages (from selenium==4.7.1) (0.10.3)\n",
      "Requirement already satisfied: certifi>=2021.10.8 in c:\\users\\demia\\anaconda3\\lib\\site-packages (from selenium==4.7.1) (2023.5.7)\n",
      "Requirement already satisfied: trio~=0.17 in c:\\users\\demia\\anaconda3\\lib\\site-packages (from selenium==4.7.1) (0.22.2)\n",
      "Requirement already satisfied: attrs>=20.1.0 in c:\\users\\demia\\anaconda3\\lib\\site-packages (from trio~=0.17->selenium==4.7.1) (22.1.0)\n",
      "Requirement already satisfied: sortedcontainers in c:\\users\\demia\\anaconda3\\lib\\site-packages (from trio~=0.17->selenium==4.7.1) (2.4.0)\n",
      "Requirement already satisfied: exceptiongroup>=1.0.0rc9 in c:\\users\\demia\\anaconda3\\lib\\site-packages (from trio~=0.17->selenium==4.7.1) (1.1.2)\n",
      "Requirement already satisfied: cffi>=1.14 in c:\\users\\demia\\anaconda3\\lib\\site-packages (from trio~=0.17->selenium==4.7.1) (1.15.1)\n",
      "Requirement already satisfied: idna in c:\\users\\demia\\anaconda3\\lib\\site-packages (from trio~=0.17->selenium==4.7.1) (3.4)\n",
      "Requirement already satisfied: sniffio in c:\\users\\demia\\anaconda3\\lib\\site-packages (from trio~=0.17->selenium==4.7.1) (1.2.0)\n",
      "Requirement already satisfied: outcome in c:\\users\\demia\\anaconda3\\lib\\site-packages (from trio~=0.17->selenium==4.7.1) (1.2.0)\n",
      "Requirement already satisfied: wsproto>=0.14 in c:\\users\\demia\\anaconda3\\lib\\site-packages (from trio-websocket~=0.9->selenium==4.7.1) (1.2.0)\n",
      "Requirement already satisfied: PySocks!=1.5.7,<2.0,>=1.5.6 in c:\\users\\demia\\anaconda3\\lib\\site-packages (from urllib3[socks]~=1.26->selenium==4.7.1) (1.7.1)\n",
      "Requirement already satisfied: pycparser in c:\\users\\demia\\anaconda3\\lib\\site-packages (from cffi>=1.14->trio~=0.17->selenium==4.7.1) (2.21)\n",
      "Requirement already satisfied: h11<1,>=0.9.0 in c:\\users\\demia\\anaconda3\\lib\\site-packages (from wsproto>=0.14->trio-websocket~=0.9->selenium==4.7.1) (0.14.0)\n",
      "Note: you may need to restart the kernel to use updated packages.\n"
     ]
    }
   ],
   "source": [
    "%pip install selenium==4.7.1"
   ]
  },
  {
   "cell_type": "code",
   "execution_count": 2,
   "id": "316a1996",
   "metadata": {},
   "outputs": [
    {
     "name": "stdout",
     "output_type": "stream",
     "text": [
      "Requirement already satisfied: webdriver_manager in c:\\users\\demia\\anaconda3\\lib\\site-packages (4.0.0)\n",
      "Requirement already satisfied: packaging in c:\\users\\demia\\anaconda3\\lib\\site-packages (from webdriver_manager) (22.0)\n",
      "Requirement already satisfied: requests in c:\\users\\demia\\anaconda3\\lib\\site-packages (from webdriver_manager) (2.28.1)\n",
      "Requirement already satisfied: python-dotenv in c:\\users\\demia\\anaconda3\\lib\\site-packages (from webdriver_manager) (1.0.0)\n",
      "Requirement already satisfied: charset-normalizer<3,>=2 in c:\\users\\demia\\anaconda3\\lib\\site-packages (from requests->webdriver_manager) (2.0.4)\n",
      "Requirement already satisfied: idna<4,>=2.5 in c:\\users\\demia\\anaconda3\\lib\\site-packages (from requests->webdriver_manager) (3.4)\n",
      "Requirement already satisfied: certifi>=2017.4.17 in c:\\users\\demia\\anaconda3\\lib\\site-packages (from requests->webdriver_manager) (2023.5.7)\n",
      "Requirement already satisfied: urllib3<1.27,>=1.21.1 in c:\\users\\demia\\anaconda3\\lib\\site-packages (from requests->webdriver_manager) (1.26.14)\n",
      "Note: you may need to restart the kernel to use updated packages.\n"
     ]
    }
   ],
   "source": [
    "%pip install webdriver_manager"
   ]
  },
  {
   "cell_type": "code",
   "execution_count": 4,
   "id": "ce84511e",
   "metadata": {},
   "outputs": [],
   "source": [
    "import pandas as pd\n",
    "from selenium import webdriver\n",
    "from selenium.webdriver.chrome.options import Options\n",
    "from webdriver_manager.chrome import ChromeDriverManager\n",
    "from selenium.common.exceptions import TimeoutException\n",
    "from selenium.webdriver.support import expected_conditions as EC\n",
    "from selenium.webdriver.common.by import By\n",
    "from selenium.webdriver.support.ui import WebDriverWait\n",
    "from selenium.common.exceptions import NoSuchElementException\n",
    "from selenium.webdriver.common.keys import Keys\n",
    "from selenium.webdriver.chrome.options import Options\n"
   ]
  },
  {
   "cell_type": "code",
   "execution_count": 5,
   "id": "c2dae706",
   "metadata": {},
   "outputs": [],
   "source": [
    "opciones=Options()\n",
    "\n",
    "opciones.add_experimental_option('excludeSwitches', ['enable-automation'])\n",
    "opciones.add_experimental_option('useAutomationExtension', False)\n",
    "opciones.headless=False    \n",
    "opciones.add_argument('--start-maximized')         \n",
    "opciones.add_argument('--incognito')"
   ]
  },
  {
   "cell_type": "code",
   "execution_count": 42,
   "id": "49bd411d",
   "metadata": {
    "scrolled": false
   },
   "outputs": [
    {
     "name": "stderr",
     "output_type": "stream",
     "text": [
      "C:\\Users\\demia\\AppData\\Local\\Temp\\ipykernel_17972\\557599310.py:3: DeprecationWarning: executable_path has been deprecated, please pass in a Service object\n",
      "  driver = webdriver.Chrome(driver,options = opciones)\n"
     ]
    }
   ],
   "source": [
    "driver = ChromeDriverManager().install()\n",
    "\n",
    "driver = webdriver.Chrome(driver,options = opciones) "
   ]
  },
  {
   "cell_type": "code",
   "execution_count": 43,
   "id": "ad5413fc",
   "metadata": {},
   "outputs": [],
   "source": [
    "driver.get('https://www.booking.com/index.pt-br.html?aid=2311236%3Blabel%3Den-es-booking-desktop-qYWoV_Fr*prpBspmirVxfgS652828998709%3Apl%3Ata%3Ap1%3Ap2%3Aac%3Aap%3Aneg%3Afi%3Atikwd-65526620%3Alp9061033%3Ali%3Adec%3Adm%3Bws%3D&gclid=CjwKCAjwrranBhAEEiwAzbhNtXxn7MaLqZQZOtS_cw0dniBPflRcD91rmMVqHt8_Okfr3Tbl1qcD_BoCbj4QAvD_BwE&lang=pt-br&soz=1&lang_changed=1%27')"
   ]
  },
  {
   "cell_type": "code",
   "execution_count": 44,
   "id": "26fb401a",
   "metadata": {},
   "outputs": [],
   "source": [
    "wait = WebDriverWait(driver, 20)\n",
    "\n",
    "try:\n",
    "    cookie_button = wait.until(EC.element_to_be_clickable((By.ID, \"onetrust-accept-btn-handler\")))\n",
    "    cookie_button.click()\n",
    "    \n",
    "    \n",
    "except TimeoutException:\n",
    "    pass  "
   ]
  },
  {
   "cell_type": "code",
   "execution_count": 45,
   "id": "edccae86",
   "metadata": {},
   "outputs": [],
   "source": [
    "wait = WebDriverWait(driver, 20)\n",
    "input_element = driver.find_element(By.ID, \":re:\")\n",
    "\n",
    "\n",
    "text_to_write = \"Golden Tower Pinheiros by Fênix Hotéis, São Paulo, Estado de São Paulo, Brasil\"\n",
    "input_element.send_keys(text_to_write)\n",
    "wait = WebDriverWait(driver, 20)\n",
    "\n",
    "input_element.send_keys(Keys.RETURN)"
   ]
  },
  {
   "cell_type": "code",
   "execution_count": 48,
   "id": "38c361c4",
   "metadata": {},
   "outputs": [],
   "source": [
    "wait = WebDriverWait(driver, 20)\n",
    "try:\n",
    "    \n",
    "    button_element = driver.find_element(By.XPATH, \"//button[@aria-label='Ignorar informações de login.']\")\n",
    "    button_element.click()\n",
    "except NoSuchElementException:\n",
    "    pass"
   ]
  },
  {
   "cell_type": "code",
   "execution_count": 49,
   "id": "e1eb00fa",
   "metadata": {},
   "outputs": [],
   "source": [
    "wait = WebDriverWait(driver, 20)\n",
    "input_element = driver.find_element(By.ID, \":re:\")\n",
    "\n",
    "\n",
    "text_to_write = \"Golden Tower Pinheiros by Fênix Hotéis, São Paulo, Estado de São Paulo, Brasil\"\n",
    "input_element.send_keys(text_to_write)\n",
    "wait = WebDriverWait(driver, 20)\n",
    "\n",
    "input_element.send_keys(Keys.RETURN)"
   ]
  },
  {
   "cell_type": "code",
   "execution_count": 51,
   "id": "f7d7be30",
   "metadata": {},
   "outputs": [],
   "source": [
    "import datetime\n",
    "\n",
    "wait = WebDriverWait(driver, 20)\n",
    "\n",
    "current_date = datetime.datetime.now().day\n",
    "\n",
    "xpath = f\"//span[text()='{current_date}']\"\n",
    "\n",
    "button_element = wait.until(EC.element_to_be_clickable((By.XPATH, \"//button[@data-testid='date-display-field-start']\")))\n",
    "day_element = wait.until(EC.element_to_be_clickable((By.XPATH, xpath)))\n",
    "\n",
    "day_element.click()"
   ]
  },
  {
   "cell_type": "code",
   "execution_count": 52,
   "id": "e0b2c5ca",
   "metadata": {},
   "outputs": [],
   "source": [
    "wait = WebDriverWait(driver, 20)\n",
    "next_date = current_date + 1\n",
    "\n",
    "\n",
    "xpath = f\"//span[text()='{next_date}']\"\n",
    "\n",
    "\n",
    "wait = WebDriverWait(driver, 20)\n",
    "day_element = wait.until(EC.element_to_be_clickable((By.XPATH, xpath)))\n",
    "\n",
    "\n",
    "day_element.click()"
   ]
  },
  {
   "cell_type": "code",
   "execution_count": 53,
   "id": "4c08e909",
   "metadata": {},
   "outputs": [],
   "source": [
    "wait = WebDriverWait(driver, 20)\n",
    "try:\n",
    "    \n",
    "    button_element = driver.find_element(By.XPATH, \"//button[@aria-label='Ignorar informações de login.']\")\n",
    "    button_element.click()\n",
    "except NoSuchElementException:\n",
    "    pass"
   ]
  },
  {
   "cell_type": "code",
   "execution_count": 54,
   "id": "6b5faf14",
   "metadata": {},
   "outputs": [],
   "source": [
    "wait = WebDriverWait(driver, 20)\n",
    "pesquisar_element = driver.find_element(By.XPATH, \"//span[text()='Pesquisar']\")\n",
    "\n",
    "# Click on the element\n",
    "pesquisar_element.click()\n"
   ]
  },
  {
   "cell_type": "code",
   "execution_count": 17,
   "id": "6c32253a",
   "metadata": {},
   "outputs": [],
   "source": [
    "element = driver.find_element(\"css selector\", \"div[data-testid='property-card']\")\n"
   ]
  },
  {
   "cell_type": "code",
   "execution_count": 19,
   "id": "232a0d90",
   "metadata": {},
   "outputs": [],
   "source": [
    "element = driver.find_element(\"css selector\", \"div[data-testid='property-card']\")\n",
    "link_element = driver.find_element(By.XPATH, \"//a[@data-testid='list-item']\")\n",
    "\n",
    "link_element.click()"
   ]
  },
  {
   "cell_type": "code",
   "execution_count": 20,
   "id": "4cfa089a",
   "metadata": {},
   "outputs": [
    {
     "name": "stdout",
     "output_type": "stream",
     "text": [
      "Element not found\n"
     ]
    }
   ],
   "source": [
    "try:\n",
    "    element = driver.find_element(\"css selector\", \"div[data-testid='property-card']\")\n",
    "    element.click()\n",
    "except NoSuchElementException:\n",
    "    # Find the element using XPath\n",
    "    try:\n",
    "        link_element = driver.find_element(By.XPATH, \"//a[@data-testid='list-item']\")\n",
    "        link_element.click()\n",
    "    except NoSuchElementException:\n",
    "        # Alternative code to execute if element is not found\n",
    "        print(\"Element not found\")"
   ]
  },
  {
   "cell_type": "code",
   "execution_count": 88,
   "id": "12d3538c",
   "metadata": {},
   "outputs": [
    {
     "ename": "WebDriverException",
     "evalue": "Message: disconnected: not connected to DevTools\n  (failed to check if window was closed: disconnected: not connected to DevTools)\n  (Session info: chrome=116.0.5845.111)\nStacktrace:\n\tGetHandleVerifier [0x012137C3+48947]\n\t(No symbol) [0x011A8551]\n\t(No symbol) [0x010AC92D]\n\t(No symbol) [0x0109DD85]\n\t(No symbol) [0x0109DA79]\n\t(No symbol) [0x010ADDF0]\n\t(No symbol) [0x01107133]\n\t(No symbol) [0x010F4E86]\n\t(No symbol) [0x010D16C7]\n\t(No symbol) [0x010D284D]\n\tGetHandleVerifier [0x0145FDF9+2458985]\n\tGetHandleVerifier [0x014A744F+2751423]\n\tGetHandleVerifier [0x014A1361+2726609]\n\tGetHandleVerifier [0x01290680+560624]\n\t(No symbol) [0x011B238C]\n\t(No symbol) [0x011AE268]\n\t(No symbol) [0x011AE392]\n\t(No symbol) [0x011A10B7]\n\tBaseThreadInitThunk [0x758200C9+25]\n\tRtlGetAppContainerNamedObjectPath [0x76F27B1E+286]\n\tRtlGetAppContainerNamedObjectPath [0x76F27AEE+238]\n",
     "output_type": "error",
     "traceback": [
      "\u001b[1;31m---------------------------------------------------------------------------\u001b[0m",
      "\u001b[1;31mWebDriverException\u001b[0m                        Traceback (most recent call last)",
      "Cell \u001b[1;32mIn[88], line 4\u001b[0m\n\u001b[0;32m      1\u001b[0m wait \u001b[38;5;241m=\u001b[39m WebDriverWait(driver, \u001b[38;5;241m20\u001b[39m)\n\u001b[0;32m      2\u001b[0m \u001b[38;5;28;01mtry\u001b[39;00m:\n\u001b[1;32m----> 4\u001b[0m     button_element \u001b[38;5;241m=\u001b[39m \u001b[43mdriver\u001b[49m\u001b[38;5;241;43m.\u001b[39;49m\u001b[43mfind_element\u001b[49m\u001b[43m(\u001b[49m\u001b[43mBy\u001b[49m\u001b[38;5;241;43m.\u001b[39;49m\u001b[43mXPATH\u001b[49m\u001b[43m,\u001b[49m\u001b[43m \u001b[49m\u001b[38;5;124;43m\"\u001b[39;49m\u001b[38;5;124;43m//button[@aria-label=\u001b[39;49m\u001b[38;5;124;43m'\u001b[39;49m\u001b[38;5;124;43mIgnorar informações de login.\u001b[39;49m\u001b[38;5;124;43m'\u001b[39;49m\u001b[38;5;124;43m]\u001b[39;49m\u001b[38;5;124;43m\"\u001b[39;49m\u001b[43m)\u001b[49m\n\u001b[0;32m      5\u001b[0m     button_element\u001b[38;5;241m.\u001b[39mclick()\n\u001b[0;32m      6\u001b[0m \u001b[38;5;28;01mexcept\u001b[39;00m NoSuchElementException:\n",
      "File \u001b[1;32m~\\anaconda3\\lib\\site-packages\\selenium\\webdriver\\remote\\webdriver.py:861\u001b[0m, in \u001b[0;36mWebDriver.find_element\u001b[1;34m(self, by, value)\u001b[0m\n\u001b[0;32m    858\u001b[0m     by \u001b[38;5;241m=\u001b[39m By\u001b[38;5;241m.\u001b[39mCSS_SELECTOR\n\u001b[0;32m    859\u001b[0m     value \u001b[38;5;241m=\u001b[39m \u001b[38;5;124m'\u001b[39m\u001b[38;5;124m[name=\u001b[39m\u001b[38;5;124m\"\u001b[39m\u001b[38;5;132;01m%s\u001b[39;00m\u001b[38;5;124m\"\u001b[39m\u001b[38;5;124m]\u001b[39m\u001b[38;5;124m'\u001b[39m \u001b[38;5;241m%\u001b[39m value\n\u001b[1;32m--> 861\u001b[0m \u001b[38;5;28;01mreturn\u001b[39;00m \u001b[38;5;28;43mself\u001b[39;49m\u001b[38;5;241;43m.\u001b[39;49m\u001b[43mexecute\u001b[49m\u001b[43m(\u001b[49m\u001b[43mCommand\u001b[49m\u001b[38;5;241;43m.\u001b[39;49m\u001b[43mFIND_ELEMENT\u001b[49m\u001b[43m,\u001b[49m\u001b[43m \u001b[49m\u001b[43m{\u001b[49m\u001b[38;5;124;43m\"\u001b[39;49m\u001b[38;5;124;43musing\u001b[39;49m\u001b[38;5;124;43m\"\u001b[39;49m\u001b[43m:\u001b[49m\u001b[43m \u001b[49m\u001b[43mby\u001b[49m\u001b[43m,\u001b[49m\u001b[43m \u001b[49m\u001b[38;5;124;43m\"\u001b[39;49m\u001b[38;5;124;43mvalue\u001b[39;49m\u001b[38;5;124;43m\"\u001b[39;49m\u001b[43m:\u001b[49m\u001b[43m \u001b[49m\u001b[43mvalue\u001b[49m\u001b[43m}\u001b[49m\u001b[43m)\u001b[49m[\u001b[38;5;124m\"\u001b[39m\u001b[38;5;124mvalue\u001b[39m\u001b[38;5;124m\"\u001b[39m]\n",
      "File \u001b[1;32m~\\anaconda3\\lib\\site-packages\\selenium\\webdriver\\remote\\webdriver.py:444\u001b[0m, in \u001b[0;36mWebDriver.execute\u001b[1;34m(self, driver_command, params)\u001b[0m\n\u001b[0;32m    442\u001b[0m response \u001b[38;5;241m=\u001b[39m \u001b[38;5;28mself\u001b[39m\u001b[38;5;241m.\u001b[39mcommand_executor\u001b[38;5;241m.\u001b[39mexecute(driver_command, params)\n\u001b[0;32m    443\u001b[0m \u001b[38;5;28;01mif\u001b[39;00m response:\n\u001b[1;32m--> 444\u001b[0m     \u001b[38;5;28;43mself\u001b[39;49m\u001b[38;5;241;43m.\u001b[39;49m\u001b[43merror_handler\u001b[49m\u001b[38;5;241;43m.\u001b[39;49m\u001b[43mcheck_response\u001b[49m\u001b[43m(\u001b[49m\u001b[43mresponse\u001b[49m\u001b[43m)\u001b[49m\n\u001b[0;32m    445\u001b[0m     response[\u001b[38;5;124m\"\u001b[39m\u001b[38;5;124mvalue\u001b[39m\u001b[38;5;124m\"\u001b[39m] \u001b[38;5;241m=\u001b[39m \u001b[38;5;28mself\u001b[39m\u001b[38;5;241m.\u001b[39m_unwrap_value(response\u001b[38;5;241m.\u001b[39mget(\u001b[38;5;124m\"\u001b[39m\u001b[38;5;124mvalue\u001b[39m\u001b[38;5;124m\"\u001b[39m, \u001b[38;5;28;01mNone\u001b[39;00m))\n\u001b[0;32m    446\u001b[0m     \u001b[38;5;28;01mreturn\u001b[39;00m response\n",
      "File \u001b[1;32m~\\anaconda3\\lib\\site-packages\\selenium\\webdriver\\remote\\errorhandler.py:249\u001b[0m, in \u001b[0;36mErrorHandler.check_response\u001b[1;34m(self, response)\u001b[0m\n\u001b[0;32m    247\u001b[0m         alert_text \u001b[38;5;241m=\u001b[39m value[\u001b[38;5;124m\"\u001b[39m\u001b[38;5;124malert\u001b[39m\u001b[38;5;124m\"\u001b[39m]\u001b[38;5;241m.\u001b[39mget(\u001b[38;5;124m\"\u001b[39m\u001b[38;5;124mtext\u001b[39m\u001b[38;5;124m\"\u001b[39m)\n\u001b[0;32m    248\u001b[0m     \u001b[38;5;28;01mraise\u001b[39;00m exception_class(message, screen, stacktrace, alert_text)  \u001b[38;5;66;03m# type: ignore[call-arg]  # mypy is not smart enough here\u001b[39;00m\n\u001b[1;32m--> 249\u001b[0m \u001b[38;5;28;01mraise\u001b[39;00m exception_class(message, screen, stacktrace)\n",
      "\u001b[1;31mWebDriverException\u001b[0m: Message: disconnected: not connected to DevTools\n  (failed to check if window was closed: disconnected: not connected to DevTools)\n  (Session info: chrome=116.0.5845.111)\nStacktrace:\n\tGetHandleVerifier [0x012137C3+48947]\n\t(No symbol) [0x011A8551]\n\t(No symbol) [0x010AC92D]\n\t(No symbol) [0x0109DD85]\n\t(No symbol) [0x0109DA79]\n\t(No symbol) [0x010ADDF0]\n\t(No symbol) [0x01107133]\n\t(No symbol) [0x010F4E86]\n\t(No symbol) [0x010D16C7]\n\t(No symbol) [0x010D284D]\n\tGetHandleVerifier [0x0145FDF9+2458985]\n\tGetHandleVerifier [0x014A744F+2751423]\n\tGetHandleVerifier [0x014A1361+2726609]\n\tGetHandleVerifier [0x01290680+560624]\n\t(No symbol) [0x011B238C]\n\t(No symbol) [0x011AE268]\n\t(No symbol) [0x011AE392]\n\t(No symbol) [0x011A10B7]\n\tBaseThreadInitThunk [0x758200C9+25]\n\tRtlGetAppContainerNamedObjectPath [0x76F27B1E+286]\n\tRtlGetAppContainerNamedObjectPath [0x76F27AEE+238]\n"
     ]
    }
   ],
   "source": [
    "wait = WebDriverWait(driver, 20)\n",
    "try:\n",
    "   \n",
    "    button_element = driver.find_element(By.XPATH, \"//button[@aria-label='Ignorar informações de login.']\")\n",
    "    button_element.click()\n",
    "except NoSuchElementException:\n",
    "    pass"
   ]
  },
  {
   "cell_type": "code",
   "execution_count": 87,
   "id": "c87849ae",
   "metadata": {},
   "outputs": [
    {
     "ename": "WebDriverException",
     "evalue": "Message: disconnected: not connected to DevTools\n  (failed to check if window was closed: disconnected: not connected to DevTools)\n  (Session info: chrome=116.0.5845.111)\nStacktrace:\n\tGetHandleVerifier [0x012137C3+48947]\n\t(No symbol) [0x011A8551]\n\t(No symbol) [0x010AC92D]\n\t(No symbol) [0x0109DD85]\n\t(No symbol) [0x0109DA79]\n\t(No symbol) [0x010ADDF0]\n\t(No symbol) [0x01107133]\n\t(No symbol) [0x010F4E86]\n\t(No symbol) [0x010D16C7]\n\t(No symbol) [0x010D284D]\n\tGetHandleVerifier [0x0145FDF9+2458985]\n\tGetHandleVerifier [0x014A744F+2751423]\n\tGetHandleVerifier [0x014A1361+2726609]\n\tGetHandleVerifier [0x01290680+560624]\n\t(No symbol) [0x011B238C]\n\t(No symbol) [0x011AE268]\n\t(No symbol) [0x011AE392]\n\t(No symbol) [0x011A10B7]\n\tBaseThreadInitThunk [0x758200C9+25]\n\tRtlGetAppContainerNamedObjectPath [0x76F27B1E+286]\n\tRtlGetAppContainerNamedObjectPath [0x76F27AEE+238]\n",
     "output_type": "error",
     "traceback": [
      "\u001b[1;31m---------------------------------------------------------------------------\u001b[0m",
      "\u001b[1;31mWebDriverException\u001b[0m                        Traceback (most recent call last)",
      "Cell \u001b[1;32mIn[87], line 3\u001b[0m\n\u001b[0;32m      1\u001b[0m \u001b[38;5;28;01mtry\u001b[39;00m:\n\u001b[0;32m      2\u001b[0m     \u001b[38;5;66;03m# Try to find the <a> element with the href containing \"golden-tower-sao-paulo\" in any part\u001b[39;00m\n\u001b[1;32m----> 3\u001b[0m     link_element \u001b[38;5;241m=\u001b[39m \u001b[43mdriver\u001b[49m\u001b[38;5;241;43m.\u001b[39;49m\u001b[43mfind_element\u001b[49m\u001b[43m(\u001b[49m\u001b[43mBy\u001b[49m\u001b[38;5;241;43m.\u001b[39;49m\u001b[43mCSS_SELECTOR\u001b[49m\u001b[43m,\u001b[49m\u001b[43m \u001b[49m\u001b[38;5;124;43m'\u001b[39;49m\u001b[38;5;124;43ma[href~=\u001b[39;49m\u001b[38;5;124;43m\"\u001b[39;49m\u001b[38;5;124;43mgolden-tower-sao-paulo\u001b[39;49m\u001b[38;5;124;43m\"\u001b[39;49m\u001b[38;5;124;43m]\u001b[39;49m\u001b[38;5;124;43m'\u001b[39;49m\u001b[43m)\u001b[49m\n\u001b[0;32m      5\u001b[0m     \u001b[38;5;28;01mif\u001b[39;00m link_element\u001b[38;5;241m.\u001b[39mis_displayed():\n\u001b[0;32m      6\u001b[0m         \u001b[38;5;66;03m# Click on the link element\u001b[39;00m\n\u001b[0;32m      7\u001b[0m         link_element\u001b[38;5;241m.\u001b[39mclick()\n",
      "File \u001b[1;32m~\\anaconda3\\lib\\site-packages\\selenium\\webdriver\\remote\\webdriver.py:861\u001b[0m, in \u001b[0;36mWebDriver.find_element\u001b[1;34m(self, by, value)\u001b[0m\n\u001b[0;32m    858\u001b[0m     by \u001b[38;5;241m=\u001b[39m By\u001b[38;5;241m.\u001b[39mCSS_SELECTOR\n\u001b[0;32m    859\u001b[0m     value \u001b[38;5;241m=\u001b[39m \u001b[38;5;124m'\u001b[39m\u001b[38;5;124m[name=\u001b[39m\u001b[38;5;124m\"\u001b[39m\u001b[38;5;132;01m%s\u001b[39;00m\u001b[38;5;124m\"\u001b[39m\u001b[38;5;124m]\u001b[39m\u001b[38;5;124m'\u001b[39m \u001b[38;5;241m%\u001b[39m value\n\u001b[1;32m--> 861\u001b[0m \u001b[38;5;28;01mreturn\u001b[39;00m \u001b[38;5;28;43mself\u001b[39;49m\u001b[38;5;241;43m.\u001b[39;49m\u001b[43mexecute\u001b[49m\u001b[43m(\u001b[49m\u001b[43mCommand\u001b[49m\u001b[38;5;241;43m.\u001b[39;49m\u001b[43mFIND_ELEMENT\u001b[49m\u001b[43m,\u001b[49m\u001b[43m \u001b[49m\u001b[43m{\u001b[49m\u001b[38;5;124;43m\"\u001b[39;49m\u001b[38;5;124;43musing\u001b[39;49m\u001b[38;5;124;43m\"\u001b[39;49m\u001b[43m:\u001b[49m\u001b[43m \u001b[49m\u001b[43mby\u001b[49m\u001b[43m,\u001b[49m\u001b[43m \u001b[49m\u001b[38;5;124;43m\"\u001b[39;49m\u001b[38;5;124;43mvalue\u001b[39;49m\u001b[38;5;124;43m\"\u001b[39;49m\u001b[43m:\u001b[49m\u001b[43m \u001b[49m\u001b[43mvalue\u001b[49m\u001b[43m}\u001b[49m\u001b[43m)\u001b[49m[\u001b[38;5;124m\"\u001b[39m\u001b[38;5;124mvalue\u001b[39m\u001b[38;5;124m\"\u001b[39m]\n",
      "File \u001b[1;32m~\\anaconda3\\lib\\site-packages\\selenium\\webdriver\\remote\\webdriver.py:444\u001b[0m, in \u001b[0;36mWebDriver.execute\u001b[1;34m(self, driver_command, params)\u001b[0m\n\u001b[0;32m    442\u001b[0m response \u001b[38;5;241m=\u001b[39m \u001b[38;5;28mself\u001b[39m\u001b[38;5;241m.\u001b[39mcommand_executor\u001b[38;5;241m.\u001b[39mexecute(driver_command, params)\n\u001b[0;32m    443\u001b[0m \u001b[38;5;28;01mif\u001b[39;00m response:\n\u001b[1;32m--> 444\u001b[0m     \u001b[38;5;28;43mself\u001b[39;49m\u001b[38;5;241;43m.\u001b[39;49m\u001b[43merror_handler\u001b[49m\u001b[38;5;241;43m.\u001b[39;49m\u001b[43mcheck_response\u001b[49m\u001b[43m(\u001b[49m\u001b[43mresponse\u001b[49m\u001b[43m)\u001b[49m\n\u001b[0;32m    445\u001b[0m     response[\u001b[38;5;124m\"\u001b[39m\u001b[38;5;124mvalue\u001b[39m\u001b[38;5;124m\"\u001b[39m] \u001b[38;5;241m=\u001b[39m \u001b[38;5;28mself\u001b[39m\u001b[38;5;241m.\u001b[39m_unwrap_value(response\u001b[38;5;241m.\u001b[39mget(\u001b[38;5;124m\"\u001b[39m\u001b[38;5;124mvalue\u001b[39m\u001b[38;5;124m\"\u001b[39m, \u001b[38;5;28;01mNone\u001b[39;00m))\n\u001b[0;32m    446\u001b[0m     \u001b[38;5;28;01mreturn\u001b[39;00m response\n",
      "File \u001b[1;32m~\\anaconda3\\lib\\site-packages\\selenium\\webdriver\\remote\\errorhandler.py:249\u001b[0m, in \u001b[0;36mErrorHandler.check_response\u001b[1;34m(self, response)\u001b[0m\n\u001b[0;32m    247\u001b[0m         alert_text \u001b[38;5;241m=\u001b[39m value[\u001b[38;5;124m\"\u001b[39m\u001b[38;5;124malert\u001b[39m\u001b[38;5;124m\"\u001b[39m]\u001b[38;5;241m.\u001b[39mget(\u001b[38;5;124m\"\u001b[39m\u001b[38;5;124mtext\u001b[39m\u001b[38;5;124m\"\u001b[39m)\n\u001b[0;32m    248\u001b[0m     \u001b[38;5;28;01mraise\u001b[39;00m exception_class(message, screen, stacktrace, alert_text)  \u001b[38;5;66;03m# type: ignore[call-arg]  # mypy is not smart enough here\u001b[39;00m\n\u001b[1;32m--> 249\u001b[0m \u001b[38;5;28;01mraise\u001b[39;00m exception_class(message, screen, stacktrace)\n",
      "\u001b[1;31mWebDriverException\u001b[0m: Message: disconnected: not connected to DevTools\n  (failed to check if window was closed: disconnected: not connected to DevTools)\n  (Session info: chrome=116.0.5845.111)\nStacktrace:\n\tGetHandleVerifier [0x012137C3+48947]\n\t(No symbol) [0x011A8551]\n\t(No symbol) [0x010AC92D]\n\t(No symbol) [0x0109DD85]\n\t(No symbol) [0x0109DA79]\n\t(No symbol) [0x010ADDF0]\n\t(No symbol) [0x01107133]\n\t(No symbol) [0x010F4E86]\n\t(No symbol) [0x010D16C7]\n\t(No symbol) [0x010D284D]\n\tGetHandleVerifier [0x0145FDF9+2458985]\n\tGetHandleVerifier [0x014A744F+2751423]\n\tGetHandleVerifier [0x014A1361+2726609]\n\tGetHandleVerifier [0x01290680+560624]\n\t(No symbol) [0x011B238C]\n\t(No symbol) [0x011AE268]\n\t(No symbol) [0x011AE392]\n\t(No symbol) [0x011A10B7]\n\tBaseThreadInitThunk [0x758200C9+25]\n\tRtlGetAppContainerNamedObjectPath [0x76F27B1E+286]\n\tRtlGetAppContainerNamedObjectPath [0x76F27AEE+238]\n"
     ]
    }
   ],
   "source": [
    "try:\n",
    "    # Try to find the <a> element with the href containing \"golden-tower-sao-paulo\" in any part\n",
    "    link_element = driver.find_element(By.CSS_SELECTOR, 'a[href~=\"golden-tower-sao-paulo\"]')\n",
    "    \n",
    "    if link_element.is_displayed():\n",
    "        # Click on the link element\n",
    "        link_element.click()\n",
    "    else:\n",
    "        print('The link element is not displayed')\n",
    "except NoSuchElementException:\n",
    "    pass\n"
   ]
  },
  {
   "cell_type": "code",
   "execution_count": 18,
   "id": "1b1f2de5",
   "metadata": {},
   "outputs": [],
   "source": [
    "wait = WebDriverWait(driver, 20)\n",
    "\n",
    "title_element = driver.find_element(By.XPATH, \"//div[@data-testid='title' and contains(text(), 'Golden Tower Pinheiros by Fênix Hotéis')]\")\n",
    "\n",
    "if title_element:\n",
    "    availability_button_element = title_element.find_element(By.XPATH, \"//a[@data-testid='availability-cta-btn']\")\n",
    "    availability_button_element.click()"
   ]
  },
  {
   "cell_type": "code",
   "execution_count": null,
   "id": "b3b34a0d",
   "metadata": {},
   "outputs": [],
   "source": [
    "import pandas as pd\n",
    "# Create an empty DataFrame\n",
    "df = pd.DataFrame(columns=[\"hotel\", \"chk_in\", \"chk_out\", \"room_type\", \"max_occup\", \"price\", \"tx_fee\", \"breakfast\", \"rate_category\"])\n",
    "\n",
    "# Iterate over the tr elements with the data-block-id attribute\n",
    "for tr in driver.find_elements(By.XPATH, \"//tr[@data-block-id='[0-9]+']\"):\n",
    "\n",
    "    # Extract the hotel name\n",
    "    hotel_name = tr.find_element(By.XPATH, \".//a\").get_attribute(\"href\")\n",
    "    hotel_name = hotel_name.split(\"/\")[2]\n",
    "\n",
    "    # Extract the check-in date\n",
    "    chk_in_date = tr.find_element(By.XPATH, \".//input[@name='checkin']\").get_attribute(\"value\")\n",
    "\n",
    "    # Extract the check-out date\n",
    "    chk_out_date = tr.find_element(By.XPATH, \".//input[@name='checkout']\").get_attribute(\"value\")\n",
    "\n",
    "    # Extract the room type\n",
    "    room_type = tr.find_element(By.XPATH, \".//span[@class='hprt-roomtype-icon-link']\").text\n",
    "\n",
    "    # Extract the maximum occupancy\n",
    "    max_occup = tr.find_element(By.XPATH, \".//div[@class='hprt-block']/div[2]/span[2]\").text\n",
    "\n",
    "    # Extract the price\n",
    "    price = tr.find_element(By.XPATH, \".//span[@class='prco-valign-middle-helper']\").text\n",
    "\n",
    "    # Extract the tax and fees\n",
    "    tx_fee = tr.find_element(By.XPATH, \".//div[@class='prd-taxes-and-fees-under-price prco-inline-block-maker-helper on-hpage blockuid-1584801_344838028_2_1_0']\").text\n",
    "\n",
    "    # Extract the breakfast information\n",
    "    breakfast_info = tr.find_element(By.XPATH, \".//span[@class='ungreen-condition-bold']\").text\n",
    "\n",
    "    # Extract the rate category\n",
    "    rate_category = tr.find_element(By.XPATH, \".//strong[@class='bui-text--variant-strong_2']\").text\n",
    "\n",
    "    # Create a new row in the DataFrame\n",
    "    df_row = {\n",
    "        \"hotel\": hotel_name,\n",
    "        \"chk_in\": chk_in_date,\n",
    "        \"chk_out\": chk_out_date,\n",
    "        \"room_type\": room_type,\n",
    "        \"max_occup\": max_occup,\n",
    "        \"price\": price,\n",
    "        \"tx_fee\": tx_fee,\n",
    "        \"breakfast\": breakfast_info,\n",
    "        \"rate_category\": rate_category\n",
    "    }\n",
    "\n",
    "    # Append the new row to the DataFrame\n",
    "    df = df.append(df_row, ignore_index=True)\n",
    "\n",
    "# Print the DataFrame\n",
    "df.head()"
   ]
  },
  {
   "cell_type": "code",
   "execution_count": null,
   "id": "8be164f7",
   "metadata": {},
   "outputs": [],
   "source": []
  },
  {
   "cell_type": "code",
   "execution_count": null,
   "id": "8cbbfbdf",
   "metadata": {},
   "outputs": [],
   "source": []
  }
 ],
 "metadata": {
  "kernelspec": {
   "display_name": "Python 3 (ipykernel)",
   "language": "python",
   "name": "python3"
  },
  "language_info": {
   "codemirror_mode": {
    "name": "ipython",
    "version": 3
   },
   "file_extension": ".py",
   "mimetype": "text/x-python",
   "name": "python",
   "nbconvert_exporter": "python",
   "pygments_lexer": "ipython3",
   "version": "3.10.9"
  }
 },
 "nbformat": 4,
 "nbformat_minor": 5
}
