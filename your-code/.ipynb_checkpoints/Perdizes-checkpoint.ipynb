{
 "cells": [
  {
   "cell_type": "code",
   "execution_count": 14,
   "id": "d0927e67",
   "metadata": {},
   "outputs": [],
   "source": [
    "import time\n",
    "from seleniumwire import webdriver\n",
    "from selenium.webdriver.chrome.service import Service\n",
    "from webdriver_manager.chrome import ChromeDriverManager\n",
    "from selenium.webdriver.common.by import By\n",
    "from selenium.webdriver.chrome.options import Options\n",
    "from selenium.common.exceptions import NoSuchElementException\n",
    "from selenium.webdriver.support.ui import WebDriverWait\n",
    "from selenium.webdriver.support import expected_conditions as EC\n",
    "from selenium.common.exceptions import StaleElementReferenceException\n",
    "from selenium.webdriver.common.action_chains import ActionChains\n",
    "\n",
    "opciones=Options()\n",
    "\n",
    "opciones.add_experimental_option('excludeSwitches', ['enable-automation'])\n",
    "opciones.add_experimental_option('useAutomationExtension', False)\n",
    "opciones.headless=False    \n",
    "opciones.add_argument('--start-maximized')         \n",
    "opciones.add_argument('--incognito')\n",
    "opciones.add_argument(\"--disable-cookies\")\n"
   ]
  },
  {
   "cell_type": "code",
   "execution_count": 15,
   "id": "addd8bb4",
   "metadata": {},
   "outputs": [],
   "source": [
    "# Initialize the Chrome driver\n",
    "driver = webdriver.Chrome(service=Service(ChromeDriverManager().install()), options=opciones)\n",
    "\n",
    "url = \"https://www.booking.com/searchresults.pt-br.html?ss=Jardins%2C+S%C3%A3o+Paulo%2C+Estado+de+S%C3%A3o+Paulo%2C+Brasil&ssne=Pinheiros&ssne_untouched=Pinheiros&label=pt-br-booking-desktop-9_uvqir24qvA6x6xGiDvCQS652796015463%3Apl%3Ata%3Ap1%3Ap2%3Aac%3Aap%3Aneg%3Afi%3Atikwd-65526620%3Alp9061033%3Ali1001773%3Adec%3Adm&aid=2311236&lang=pt-br&sb=1&src_elem=sb&src=searchresults&dest_id=1805&dest_type=district&ac_position=2&ac_click_type=b&ac_langcode=xb&ac_suggestion_list_length=5&search_selected=true&search_pageview_id=d2b9623de6ea0191&ac_meta=GhBkMmI5NjIzZGU2ZWEwMTkxIAIoATICeGI6B2phcmRpbnNAAEoAUAA%3D&checkin=2023-09-12&checkout=2023-09-13&group_adults=2&no_rooms=1&group_children=0\"\n",
    "driver.get(url)"
   ]
  },
  {
   "cell_type": "code",
   "execution_count": 16,
   "id": "11dba126",
   "metadata": {},
   "outputs": [],
   "source": [
    "wait = WebDriverWait(driver, 20)\n",
    "\n",
    "try:\n",
    "    cookie_button = wait.until(EC.element_to_be_clickable((By.ID, \"onetrust-reject-all-handler\")))\n",
    "    cookie_button.click()\n",
    "    \n",
    "    \n",
    "except TimeoutException:\n",
    "    pass  "
   ]
  },
  {
   "cell_type": "code",
   "execution_count": 17,
   "id": "7df76004",
   "metadata": {},
   "outputs": [],
   "source": [
    "button = driver.find_element(By.CSS_SELECTOR, 'button[data-testid=\"header-currency-picker-trigger\"]')\n",
    "button.click()"
   ]
  },
  {
   "cell_type": "code",
   "execution_count": 18,
   "id": "02ee5d73",
   "metadata": {},
   "outputs": [],
   "source": [
    "button = driver.find_element(By.CSS_SELECTOR, 'button[data-testid=\"selection-item\"]')\n",
    "button.click()"
   ]
  },
  {
   "cell_type": "code",
   "execution_count": 20,
   "id": "75813799",
   "metadata": {},
   "outputs": [],
   "source": [
    "try:\n",
    "    \n",
    "    button_element = driver.find_element(By.XPATH, \"//button[@aria-label='Ignorar informações de login.']\")\n",
    "    button_element.click()\n",
    "except NoSuchElementException:\n",
    "    pass"
   ]
  },
  {
   "cell_type": "code",
   "execution_count": 26,
   "id": "55c49ba1",
   "metadata": {},
   "outputs": [
    {
     "name": "stdout",
     "output_type": "stream",
     "text": [
      "Total pages: 7\n"
     ]
    }
   ],
   "source": [
    "properties = []\n",
    "\n",
    "\n",
    "def extract_properties():\n",
    "    property_cards = driver.find_elements(By.CSS_SELECTOR, 'div[data-testid=\"property-card\"]')\n",
    "    for property in property_cards:\n",
    "        name = property.find_element(By.CSS_SELECTOR, 'div[data-testid=\"title\"]').text\n",
    "        price = property.find_element(By.CSS_SELECTOR, '[data-testid=\"price-and-discounted-price\"]').text\n",
    "        chk_out = property.find_element(By.XPATH, '//button[contains(@class, \"d47738b911\") and @data-testid=\"date-display-field-end\"]').text\n",
    "        \n",
    "        new_property = {}\n",
    "        new_property['name'] = name\n",
    "        new_property['price'] = price\n",
    "        new_property['chk_out'] = chk_out\n",
    "        \n",
    "        properties.append(new_property)\n",
    "\n",
    "\n",
    "total_pages = int(driver.find_element(By.CSS_SELECTOR, 'div[data-testid=\"pagination\"] li:last-child').text)\n",
    "print(f\"Total pages: {total_pages}\")\n",
    "\n",
    "current_page = 0"
   ]
  },
  {
   "cell_type": "code",
   "execution_count": 27,
   "id": "e7b47d47",
   "metadata": {},
   "outputs": [],
   "source": [
    "for current_page in range(total_pages):\n",
    "    driver.delete_all_cookies()\n",
    "    extract_properties()\n",
    "    next_page_btn = driver.find_element(By.CSS_SELECTOR, 'button[aria-label*=\"Página seguinte\"]')\n",
    "    next_page_btn.click()"
   ]
  },
  {
   "cell_type": "code",
   "execution_count": 28,
   "id": "9e05316f",
   "metadata": {},
   "outputs": [
    {
     "name": "stdout",
     "output_type": "stream",
     "text": [
      "[{'name': 'Apê Paulista Alameda Santos', 'price': 'R$ 303', 'chk_out': 'qua., 13 de set.'}, {'name': 'Hotel Brigadeiro', 'price': 'R$ 275', 'chk_out': 'qua., 13 de set.'}, {'name': 'NEXT AW Franca ao lado da Paulista', 'price': 'R$ 415', 'chk_out': 'qua., 13 de set.'}, {'name': 'Charlie Pamplona - Soft Opening', 'price': 'R$ 473', 'chk_out': 'qua., 13 de set.'}, {'name': 'Hampton Park São Paulo Jardins', 'price': 'R$ 473', 'chk_out': 'qua., 13 de set.'}, {'name': 'GoodStay São Paulo Ibirapuera', 'price': 'R$ 442', 'chk_out': 'qua., 13 de set.'}, {'name': 'The Landmark Residence - Oficial', 'price': 'R$ 533', 'chk_out': 'qua., 13 de set.'}, {'name': 'Wyndhan Al. Campinas', 'price': 'R$ 360', 'chk_out': 'qua., 13 de set.'}, {'name': 'H4 La Residence Paulista', 'price': 'R$ 588', 'chk_out': 'qua., 13 de set.'}, {'name': 'Charlie Jardins Alameda Franca', 'price': 'R$ 493', 'chk_out': 'qua., 13 de set.'}, {'name': 'Apê Paulista Augusta', 'price': 'R$ 283', 'chk_out': 'qua., 13 de set.'}, {'name': 'Hotel Trianon Paulista', 'price': 'R$ 577', 'chk_out': 'qua., 13 de set.'}, {'name': 'ibis budget Sao Paulo Jardins', 'price': 'R$ 408', 'chk_out': 'qua., 13 de set.'}, {'name': 'Canopy By Hilton Sao Paulo Jardins', 'price': 'R$ 1.153', 'chk_out': 'qua., 13 de set.'}, {'name': 'Transamerica Executive Jardins', 'price': 'R$ 784', 'chk_out': 'qua., 13 de set.'}, {'name': 'Pestana São Paulo', 'price': 'R$ 744', 'chk_out': 'qua., 13 de set.'}, {'name': 'Next Paulista a passos da Paulista', 'price': 'R$ 421', 'chk_out': 'qua., 13 de set.'}, {'name': 'Flat Alameda Lorena - Prédio Ninety - Jardim Paulista', 'price': 'R$ 420', 'chk_out': 'qua., 13 de set.'}, {'name': 'Transamerica Executive Bela Cintra (Paulista)', 'price': 'R$ 673', 'chk_out': 'qua., 13 de set.'}, {'name': 'FLAT Ibirapuera Jardins ótima localização com garagem inclusa!', 'price': 'R$ 288', 'chk_out': 'qua., 13 de set.'}, {'name': 'Elite Oscar Freire - Vivare', 'price': 'R$ 462', 'chk_out': 'qua., 13 de set.'}, {'name': 'Transamerica Prime International Plaza (Paulista)', 'price': 'R$ 693', 'chk_out': 'qua., 13 de set.'}, {'name': 'Travel Inn Park Avenue Jardins', 'price': 'R$ 538', 'chk_out': 'qua., 13 de set.'}, {'name': 'London Class Hotéis', 'price': 'R$ 445', 'chk_out': 'qua., 13 de set.'}, {'name': 'Radisson Oscar Freire', 'price': 'R$ 1.129', 'chk_out': 'qua., 13 de set.'}, {'name': 'Apê Paulista Alameda Santos', 'price': 'R$ 303', 'chk_out': 'qua., 13 de set.'}, {'name': 'Hotel Brigadeiro', 'price': 'R$ 275', 'chk_out': 'qua., 13 de set.'}, {'name': 'NEXT AW Franca ao lado da Paulista', 'price': 'R$ 415', 'chk_out': 'qua., 13 de set.'}, {'name': 'Charlie Pamplona - Soft Opening', 'price': 'R$ 473', 'chk_out': 'qua., 13 de set.'}, {'name': 'Hampton Park São Paulo Jardins', 'price': 'R$ 473', 'chk_out': 'qua., 13 de set.'}, {'name': 'GoodStay São Paulo Ibirapuera', 'price': 'R$ 442', 'chk_out': 'qua., 13 de set.'}, {'name': 'The Landmark Residence - Oficial', 'price': 'R$ 533', 'chk_out': 'qua., 13 de set.'}, {'name': 'Wyndhan Al. Campinas', 'price': 'R$ 360', 'chk_out': 'qua., 13 de set.'}, {'name': 'H4 La Residence Paulista', 'price': 'R$ 588', 'chk_out': 'qua., 13 de set.'}, {'name': 'Charlie Jardins Alameda Franca', 'price': 'R$ 493', 'chk_out': 'qua., 13 de set.'}, {'name': 'Apê Paulista Augusta', 'price': 'R$ 283', 'chk_out': 'qua., 13 de set.'}, {'name': 'Hotel Trianon Paulista', 'price': 'R$ 577', 'chk_out': 'qua., 13 de set.'}, {'name': 'ibis budget Sao Paulo Jardins', 'price': 'R$ 408', 'chk_out': 'qua., 13 de set.'}, {'name': 'Canopy By Hilton Sao Paulo Jardins', 'price': 'R$ 1.153', 'chk_out': 'qua., 13 de set.'}, {'name': 'Transamerica Executive Jardins', 'price': 'R$ 784', 'chk_out': 'qua., 13 de set.'}, {'name': 'Pestana São Paulo', 'price': 'R$ 744', 'chk_out': 'qua., 13 de set.'}, {'name': 'Next Paulista a passos da Paulista', 'price': 'R$ 421', 'chk_out': 'qua., 13 de set.'}, {'name': 'Flat Alameda Lorena - Prédio Ninety - Jardim Paulista', 'price': 'R$ 420', 'chk_out': 'qua., 13 de set.'}, {'name': 'Transamerica Executive Bela Cintra (Paulista)', 'price': 'R$ 673', 'chk_out': 'qua., 13 de set.'}, {'name': 'FLAT Ibirapuera Jardins ótima localização com garagem inclusa!', 'price': 'R$ 288', 'chk_out': 'qua., 13 de set.'}, {'name': 'Elite Oscar Freire - Vivare', 'price': 'R$ 462', 'chk_out': 'qua., 13 de set.'}, {'name': 'Transamerica Prime International Plaza (Paulista)', 'price': 'R$ 693', 'chk_out': 'qua., 13 de set.'}, {'name': 'Travel Inn Park Avenue Jardins', 'price': 'R$ 538', 'chk_out': 'qua., 13 de set.'}, {'name': 'London Class Hotéis', 'price': 'R$ 445', 'chk_out': 'qua., 13 de set.'}, {'name': 'Radisson Oscar Freire', 'price': 'R$ 1.129', 'chk_out': 'qua., 13 de set.'}, {'name': 'Apê Paulista Alameda Santos', 'price': 'R$ 303', 'chk_out': 'qua., 13 de set.'}, {'name': 'Hotel Brigadeiro', 'price': 'R$ 275', 'chk_out': 'qua., 13 de set.'}, {'name': 'NEXT AW Franca ao lado da Paulista', 'price': 'R$ 415', 'chk_out': 'qua., 13 de set.'}, {'name': 'Charlie Pamplona - Soft Opening', 'price': 'R$ 473', 'chk_out': 'qua., 13 de set.'}, {'name': 'Hampton Park São Paulo Jardins', 'price': 'R$ 473', 'chk_out': 'qua., 13 de set.'}, {'name': 'GoodStay São Paulo Ibirapuera', 'price': 'R$ 442', 'chk_out': 'qua., 13 de set.'}, {'name': 'The Landmark Residence - Oficial', 'price': 'R$ 533', 'chk_out': 'qua., 13 de set.'}, {'name': 'Wyndhan Al. Campinas', 'price': 'R$ 360', 'chk_out': 'qua., 13 de set.'}, {'name': 'H4 La Residence Paulista', 'price': 'R$ 588', 'chk_out': 'qua., 13 de set.'}, {'name': 'Charlie Jardins Alameda Franca', 'price': 'R$ 493', 'chk_out': 'qua., 13 de set.'}, {'name': 'Apê Paulista Augusta', 'price': 'R$ 283', 'chk_out': 'qua., 13 de set.'}, {'name': 'Hotel Trianon Paulista', 'price': 'R$ 577', 'chk_out': 'qua., 13 de set.'}, {'name': 'ibis budget Sao Paulo Jardins', 'price': 'R$ 408', 'chk_out': 'qua., 13 de set.'}, {'name': 'Canopy By Hilton Sao Paulo Jardins', 'price': 'R$ 1.153', 'chk_out': 'qua., 13 de set.'}, {'name': 'Transamerica Executive Jardins', 'price': 'R$ 784', 'chk_out': 'qua., 13 de set.'}, {'name': 'Pestana São Paulo', 'price': 'R$ 744', 'chk_out': 'qua., 13 de set.'}, {'name': 'Next Paulista a passos da Paulista', 'price': 'R$ 421', 'chk_out': 'qua., 13 de set.'}, {'name': 'Flat Alameda Lorena - Prédio Ninety - Jardim Paulista', 'price': 'R$ 420', 'chk_out': 'qua., 13 de set.'}, {'name': 'Transamerica Executive Bela Cintra (Paulista)', 'price': 'R$ 673', 'chk_out': 'qua., 13 de set.'}, {'name': 'FLAT Ibirapuera Jardins ótima localização com garagem inclusa!', 'price': 'R$ 288', 'chk_out': 'qua., 13 de set.'}, {'name': 'Elite Oscar Freire - Vivare', 'price': 'R$ 462', 'chk_out': 'qua., 13 de set.'}, {'name': 'Transamerica Prime International Plaza (Paulista)', 'price': 'R$ 693', 'chk_out': 'qua., 13 de set.'}, {'name': 'Travel Inn Park Avenue Jardins', 'price': 'R$ 538', 'chk_out': 'qua., 13 de set.'}, {'name': 'London Class Hotéis', 'price': 'R$ 445', 'chk_out': 'qua., 13 de set.'}, {'name': 'Radisson Oscar Freire', 'price': 'R$ 1.129', 'chk_out': 'qua., 13 de set.'}, {'name': 'Apê Paulista Alameda Santos', 'price': 'R$ 303', 'chk_out': 'qua., 13 de set.'}, {'name': 'Hotel Brigadeiro', 'price': 'R$ 275', 'chk_out': 'qua., 13 de set.'}, {'name': 'NEXT AW Franca ao lado da Paulista', 'price': 'R$ 415', 'chk_out': 'qua., 13 de set.'}, {'name': 'Charlie Pamplona - Soft Opening', 'price': 'R$ 473', 'chk_out': 'qua., 13 de set.'}, {'name': 'Hampton Park São Paulo Jardins', 'price': 'R$ 473', 'chk_out': 'qua., 13 de set.'}, {'name': 'GoodStay São Paulo Ibirapuera', 'price': 'R$ 442', 'chk_out': 'qua., 13 de set.'}, {'name': 'The Landmark Residence - Oficial', 'price': 'R$ 533', 'chk_out': 'qua., 13 de set.'}, {'name': 'Wyndhan Al. Campinas', 'price': 'R$ 360', 'chk_out': 'qua., 13 de set.'}, {'name': 'H4 La Residence Paulista', 'price': 'R$ 588', 'chk_out': 'qua., 13 de set.'}, {'name': 'Charlie Jardins Alameda Franca', 'price': 'R$ 493', 'chk_out': 'qua., 13 de set.'}, {'name': 'Apê Paulista Augusta', 'price': 'R$ 283', 'chk_out': 'qua., 13 de set.'}, {'name': 'Hotel Trianon Paulista', 'price': 'R$ 577', 'chk_out': 'qua., 13 de set.'}, {'name': 'ibis budget Sao Paulo Jardins', 'price': 'R$ 408', 'chk_out': 'qua., 13 de set.'}, {'name': 'Canopy By Hilton Sao Paulo Jardins', 'price': 'R$ 1.153', 'chk_out': 'qua., 13 de set.'}, {'name': 'Transamerica Executive Jardins', 'price': 'R$ 784', 'chk_out': 'qua., 13 de set.'}, {'name': 'Pestana São Paulo', 'price': 'R$ 744', 'chk_out': 'qua., 13 de set.'}, {'name': 'Next Paulista a passos da Paulista', 'price': 'R$ 421', 'chk_out': 'qua., 13 de set.'}, {'name': 'Flat Alameda Lorena - Prédio Ninety - Jardim Paulista', 'price': 'R$ 420', 'chk_out': 'qua., 13 de set.'}, {'name': 'Transamerica Executive Bela Cintra (Paulista)', 'price': 'R$ 673', 'chk_out': 'qua., 13 de set.'}, {'name': 'FLAT Ibirapuera Jardins ótima localização com garagem inclusa!', 'price': 'R$ 288', 'chk_out': 'qua., 13 de set.'}, {'name': 'Elite Oscar Freire - Vivare', 'price': 'R$ 462', 'chk_out': 'qua., 13 de set.'}, {'name': 'Transamerica Prime International Plaza (Paulista)', 'price': 'R$ 693', 'chk_out': 'qua., 13 de set.'}, {'name': 'Travel Inn Park Avenue Jardins', 'price': 'R$ 538', 'chk_out': 'qua., 13 de set.'}, {'name': 'London Class Hotéis', 'price': 'R$ 445', 'chk_out': 'qua., 13 de set.'}, {'name': 'Radisson Oscar Freire', 'price': 'R$ 1.129', 'chk_out': 'qua., 13 de set.'}, {'name': 'Apê Paulista Alameda Santos', 'price': 'R$ 303', 'chk_out': 'qua., 13 de set.'}, {'name': 'Hotel Brigadeiro', 'price': 'R$ 275', 'chk_out': 'qua., 13 de set.'}, {'name': 'NEXT AW Franca ao lado da Paulista', 'price': 'R$ 415', 'chk_out': 'qua., 13 de set.'}, {'name': 'Charlie Pamplona - Soft Opening', 'price': 'R$ 473', 'chk_out': 'qua., 13 de set.'}, {'name': 'Hampton Park São Paulo Jardins', 'price': 'R$ 473', 'chk_out': 'qua., 13 de set.'}, {'name': 'GoodStay São Paulo Ibirapuera', 'price': 'R$ 442', 'chk_out': 'qua., 13 de set.'}, {'name': 'The Landmark Residence - Oficial', 'price': 'R$ 533', 'chk_out': 'qua., 13 de set.'}, {'name': 'Wyndhan Al. Campinas', 'price': 'R$ 360', 'chk_out': 'qua., 13 de set.'}, {'name': 'H4 La Residence Paulista', 'price': 'R$ 588', 'chk_out': 'qua., 13 de set.'}, {'name': 'Charlie Jardins Alameda Franca', 'price': 'R$ 493', 'chk_out': 'qua., 13 de set.'}, {'name': 'Apê Paulista Augusta', 'price': 'R$ 283', 'chk_out': 'qua., 13 de set.'}, {'name': 'Hotel Trianon Paulista', 'price': 'R$ 577', 'chk_out': 'qua., 13 de set.'}, {'name': 'ibis budget Sao Paulo Jardins', 'price': 'R$ 408', 'chk_out': 'qua., 13 de set.'}, {'name': 'Canopy By Hilton Sao Paulo Jardins', 'price': 'R$ 1.153', 'chk_out': 'qua., 13 de set.'}, {'name': 'Transamerica Executive Jardins', 'price': 'R$ 784', 'chk_out': 'qua., 13 de set.'}, {'name': 'Pestana São Paulo', 'price': 'R$ 744', 'chk_out': 'qua., 13 de set.'}, {'name': 'Next Paulista a passos da Paulista', 'price': 'R$ 421', 'chk_out': 'qua., 13 de set.'}, {'name': 'Flat Alameda Lorena - Prédio Ninety - Jardim Paulista', 'price': 'R$ 420', 'chk_out': 'qua., 13 de set.'}, {'name': 'Transamerica Executive Bela Cintra (Paulista)', 'price': 'R$ 673', 'chk_out': 'qua., 13 de set.'}, {'name': 'FLAT Ibirapuera Jardins ótima localização com garagem inclusa!', 'price': 'R$ 288', 'chk_out': 'qua., 13 de set.'}, {'name': 'Elite Oscar Freire - Vivare', 'price': 'R$ 462', 'chk_out': 'qua., 13 de set.'}, {'name': 'Transamerica Prime International Plaza (Paulista)', 'price': 'R$ 693', 'chk_out': 'qua., 13 de set.'}, {'name': 'Travel Inn Park Avenue Jardins', 'price': 'R$ 538', 'chk_out': 'qua., 13 de set.'}, {'name': 'London Class Hotéis', 'price': 'R$ 445', 'chk_out': 'qua., 13 de set.'}, {'name': 'Radisson Oscar Freire', 'price': 'R$ 1.129', 'chk_out': 'qua., 13 de set.'}, {'name': 'Condomínio luxuoso, apenas 50m do metrô Oscar freire e 5 minutos da Paulista', 'price': 'R$ 433', 'chk_out': 'qua., 13 de set.'}, {'name': 'Transamerica Jardins SP', 'price': 'R$ 584', 'chk_out': 'qua., 13 de set.'}, {'name': 'Casa Luxo 14 pessoas Jd Europa', 'price': 'R$ 1.800', 'chk_out': 'qua., 13 de set.'}, {'name': 'UNU Jardins', 'price': 'R$ 438', 'chk_out': 'qua., 13 de set.'}, {'name': 'Hotel Plaza Av Paulista', 'price': 'R$ 636', 'chk_out': 'qua., 13 de set.'}, {'name': 'Flat Whynd Paulista Al Campinas 540', 'price': 'R$ 625', 'chk_out': 'qua., 13 de set.'}, {'name': '1508 - Rentaqui - Flat Cobertura Jardins Diamond', 'price': 'R$ 759', 'chk_out': 'qua., 13 de set.'}, {'name': 'Hotel Transamérica Prime Av Paulista', 'price': 'R$ 607', 'chk_out': 'qua., 13 de set.'}, {'name': 'Transamerica Paulista SP', 'price': 'R$ 531', 'chk_out': 'qua., 13 de set.'}, {'name': 'Apart Alameda Santos - Paulista', 'price': 'R$ 450', 'chk_out': 'qua., 13 de set.'}, {'name': 'Transamerica Al Santos SP', 'price': 'R$ 683', 'chk_out': 'qua., 13 de set.'}, {'name': '21 Century', 'price': 'R$ 547', 'chk_out': 'qua., 13 de set.'}, {'name': 'Transamerica Alameda Santos SP', 'price': 'R$ 742', 'chk_out': 'qua., 13 de set.'}, {'name': 'Vossa Bossa Flat Jardins', 'price': 'R$ 443', 'chk_out': 'qua., 13 de set.'}, {'name': 'Sanches Le Premier', 'price': 'R$ 350', 'chk_out': 'qua., 13 de set.'}, {'name': 'Três de Julho Flats - Jardins II', 'price': 'R$ 500', 'chk_out': 'qua., 13 de set.'}, {'name': 'Transamerica Apart Jardins', 'price': 'R$ 642', 'chk_out': 'qua., 13 de set.'}, {'name': 'Transamerica Paulista', 'price': 'R$ 683', 'chk_out': 'qua., 13 de set.'}, {'name': 'Vossa Bossa Capote Valente', 'price': 'R$ 429', 'chk_out': 'qua., 13 de set.'}, {'name': 'Transamérica Paulista Trianon Masp', 'price': 'R$ 742', 'chk_out': 'qua., 13 de set.'}, {'name': 'Apto Cerqueira Cesar c garagem', 'price': 'R$ 800', 'chk_out': 'qua., 13 de set.'}, {'name': 'Transamerica Al Santos Jardins Paulista', 'price': 'R$ 881', 'chk_out': 'qua., 13 de set.'}, {'name': 'JP Crauford Choice Suites', 'price': 'R$ 447', 'chk_out': 'qua., 13 de set.'}, {'name': 'Transamerica Al Santos Jardins', 'price': 'R$ 689', 'chk_out': 'qua., 13 de set.'}, {'name': 'Elegant Flat Paulista Alameda Campinas Garagem , Pool, Ar Cod,', 'price': 'R$ 555', 'chk_out': 'qua., 13 de set.'}, {'name': 'Condomínio luxuoso, apenas 50m do metrô Oscar freire e 5 minutos da Paulista', 'price': 'R$ 433', 'chk_out': 'qua., 13 de set.'}, {'name': 'Transamerica Jardins SP', 'price': 'R$ 584', 'chk_out': 'qua., 13 de set.'}, {'name': 'Casa Luxo 14 pessoas Jd Europa', 'price': 'R$ 1.800', 'chk_out': 'qua., 13 de set.'}, {'name': 'UNU Jardins', 'price': 'R$ 438', 'chk_out': 'qua., 13 de set.'}, {'name': 'Hotel Plaza Av Paulista', 'price': 'R$ 636', 'chk_out': 'qua., 13 de set.'}, {'name': 'Flat Whynd Paulista Al Campinas 540', 'price': 'R$ 625', 'chk_out': 'qua., 13 de set.'}, {'name': '1508 - Rentaqui - Flat Cobertura Jardins Diamond', 'price': 'R$ 759', 'chk_out': 'qua., 13 de set.'}, {'name': 'Hotel Transamérica Prime Av Paulista', 'price': 'R$ 607', 'chk_out': 'qua., 13 de set.'}, {'name': 'Transamerica Paulista SP', 'price': 'R$ 531', 'chk_out': 'qua., 13 de set.'}, {'name': 'Apart Alameda Santos - Paulista', 'price': 'R$ 450', 'chk_out': 'qua., 13 de set.'}, {'name': 'Transamerica Al Santos SP', 'price': 'R$ 683', 'chk_out': 'qua., 13 de set.'}, {'name': '21 Century', 'price': 'R$ 547', 'chk_out': 'qua., 13 de set.'}, {'name': 'Transamerica Alameda Santos SP', 'price': 'R$ 742', 'chk_out': 'qua., 13 de set.'}, {'name': 'Vossa Bossa Flat Jardins', 'price': 'R$ 443', 'chk_out': 'qua., 13 de set.'}, {'name': 'Sanches Le Premier', 'price': 'R$ 350', 'chk_out': 'qua., 13 de set.'}, {'name': 'Três de Julho Flats - Jardins II', 'price': 'R$ 500', 'chk_out': 'qua., 13 de set.'}, {'name': 'Transamerica Apart Jardins', 'price': 'R$ 642', 'chk_out': 'qua., 13 de set.'}, {'name': 'Transamerica Paulista', 'price': 'R$ 683', 'chk_out': 'qua., 13 de set.'}, {'name': 'Vossa Bossa Capote Valente', 'price': 'R$ 429', 'chk_out': 'qua., 13 de set.'}, {'name': 'Transamérica Paulista Trianon Masp', 'price': 'R$ 742', 'chk_out': 'qua., 13 de set.'}, {'name': 'Apto Cerqueira Cesar c garagem', 'price': 'R$ 800', 'chk_out': 'qua., 13 de set.'}, {'name': 'Transamerica Al Santos Jardins Paulista', 'price': 'R$ 881', 'chk_out': 'qua., 13 de set.'}, {'name': 'JP Crauford Choice Suites', 'price': 'R$ 447', 'chk_out': 'qua., 13 de set.'}, {'name': 'Transamerica Al Santos Jardins', 'price': 'R$ 689', 'chk_out': 'qua., 13 de set.'}, {'name': 'Elegant Flat Paulista Alameda Campinas Garagem , Pool, Ar Cod,', 'price': 'R$ 555', 'chk_out': 'qua., 13 de set.'}]\n"
     ]
    }
   ],
   "source": [
    "print(properties)"
   ]
  },
  {
   "cell_type": "code",
   "execution_count": 29,
   "id": "f326852b",
   "metadata": {},
   "outputs": [
    {
     "data": {
      "text/html": [
       "<div>\n",
       "<style scoped>\n",
       "    .dataframe tbody tr th:only-of-type {\n",
       "        vertical-align: middle;\n",
       "    }\n",
       "\n",
       "    .dataframe tbody tr th {\n",
       "        vertical-align: top;\n",
       "    }\n",
       "\n",
       "    .dataframe thead th {\n",
       "        text-align: right;\n",
       "    }\n",
       "</style>\n",
       "<table border=\"1\" class=\"dataframe\">\n",
       "  <thead>\n",
       "    <tr style=\"text-align: right;\">\n",
       "      <th></th>\n",
       "      <th>name</th>\n",
       "      <th>price</th>\n",
       "      <th>chk_out</th>\n",
       "    </tr>\n",
       "  </thead>\n",
       "  <tbody>\n",
       "    <tr>\n",
       "      <th>0</th>\n",
       "      <td>Apê Paulista Alameda Santos</td>\n",
       "      <td>R$ 303</td>\n",
       "      <td>qua., 13 de set.</td>\n",
       "    </tr>\n",
       "    <tr>\n",
       "      <th>1</th>\n",
       "      <td>Hotel Brigadeiro</td>\n",
       "      <td>R$ 275</td>\n",
       "      <td>qua., 13 de set.</td>\n",
       "    </tr>\n",
       "    <tr>\n",
       "      <th>2</th>\n",
       "      <td>NEXT AW Franca ao lado da Paulista</td>\n",
       "      <td>R$ 415</td>\n",
       "      <td>qua., 13 de set.</td>\n",
       "    </tr>\n",
       "    <tr>\n",
       "      <th>3</th>\n",
       "      <td>Charlie Pamplona - Soft Opening</td>\n",
       "      <td>R$ 473</td>\n",
       "      <td>qua., 13 de set.</td>\n",
       "    </tr>\n",
       "    <tr>\n",
       "      <th>4</th>\n",
       "      <td>Hampton Park São Paulo Jardins</td>\n",
       "      <td>R$ 473</td>\n",
       "      <td>qua., 13 de set.</td>\n",
       "    </tr>\n",
       "  </tbody>\n",
       "</table>\n",
       "</div>"
      ],
      "text/plain": [
       "                                 name   price           chk_out\n",
       "0         Apê Paulista Alameda Santos  R$ 303  qua., 13 de set.\n",
       "1                    Hotel Brigadeiro  R$ 275  qua., 13 de set.\n",
       "2  NEXT AW Franca ao lado da Paulista  R$ 415  qua., 13 de set.\n",
       "3     Charlie Pamplona - Soft Opening  R$ 473  qua., 13 de set.\n",
       "4      Hampton Park São Paulo Jardins  R$ 473  qua., 13 de set."
      ]
     },
     "execution_count": 29,
     "metadata": {},
     "output_type": "execute_result"
    }
   ],
   "source": [
    "import pandas as pd\n",
    "df = pd.DataFrame(properties)\n",
    "df.head()"
   ]
  },
  {
   "cell_type": "code",
   "execution_count": 30,
   "id": "18c84a98",
   "metadata": {},
   "outputs": [
    {
     "data": {
      "text/plain": [
       "(175, 3)"
      ]
     },
     "execution_count": 30,
     "metadata": {},
     "output_type": "execute_result"
    }
   ],
   "source": [
    "df.shape"
   ]
  },
  {
   "cell_type": "code",
   "execution_count": 31,
   "id": "fc5b7cda",
   "metadata": {},
   "outputs": [
    {
     "data": {
      "text/plain": [
       "<bound method DataFrame.info of                                                   name   price  \\\n",
       "0                          Apê Paulista Alameda Santos  R$ 303   \n",
       "1                                     Hotel Brigadeiro  R$ 275   \n",
       "2                   NEXT AW Franca ao lado da Paulista  R$ 415   \n",
       "3                      Charlie Pamplona - Soft Opening  R$ 473   \n",
       "4                       Hampton Park São Paulo Jardins  R$ 473   \n",
       "..                                                 ...     ...   \n",
       "170                     Apto Cerqueira Cesar c garagem  R$ 800   \n",
       "171            Transamerica Al Santos Jardins Paulista  R$ 881   \n",
       "172                          JP Crauford Choice Suites  R$ 447   \n",
       "173                     Transamerica Al Santos Jardins  R$ 689   \n",
       "174  Elegant Flat Paulista Alameda Campinas Garagem...  R$ 555   \n",
       "\n",
       "              chk_out  \n",
       "0    qua., 13 de set.  \n",
       "1    qua., 13 de set.  \n",
       "2    qua., 13 de set.  \n",
       "3    qua., 13 de set.  \n",
       "4    qua., 13 de set.  \n",
       "..                ...  \n",
       "170  qua., 13 de set.  \n",
       "171  qua., 13 de set.  \n",
       "172  qua., 13 de set.  \n",
       "173  qua., 13 de set.  \n",
       "174  qua., 13 de set.  \n",
       "\n",
       "[175 rows x 3 columns]>"
      ]
     },
     "execution_count": 31,
     "metadata": {},
     "output_type": "execute_result"
    }
   ],
   "source": [
    "df.info"
   ]
  },
  {
   "cell_type": "code",
   "execution_count": 32,
   "id": "18c5ee54",
   "metadata": {},
   "outputs": [
    {
     "name": "stdout",
     "output_type": "stream",
     "text": [
      "name\n",
      "Apê Paulista Alameda Santos                                                     5\n",
      "Canopy By Hilton Sao Paulo Jardins                                              5\n",
      "Hotel Brigadeiro                                                                5\n",
      "Radisson Oscar Freire                                                           5\n",
      "London Class Hotéis                                                             5\n",
      "Travel Inn Park Avenue Jardins                                                  5\n",
      "Transamerica Prime International Plaza (Paulista)                               5\n",
      "Elite Oscar Freire - Vivare                                                     5\n",
      "FLAT Ibirapuera Jardins ótima localização com garagem inclusa!                  5\n",
      "Flat Alameda Lorena - Prédio Ninety - Jardim Paulista                           5\n",
      "Next Paulista a passos da Paulista                                              5\n",
      "Pestana São Paulo                                                               5\n",
      "Transamerica Executive Jardins                                                  5\n",
      "Transamerica Executive Bela Cintra (Paulista)                                   5\n",
      "ibis budget Sao Paulo Jardins                                                   5\n",
      "The Landmark Residence - Oficial                                                5\n",
      "Hotel Trianon Paulista                                                          5\n",
      "Charlie Pamplona - Soft Opening                                                 5\n",
      "Hampton Park São Paulo Jardins                                                  5\n",
      "GoodStay São Paulo Ibirapuera                                                   5\n",
      "NEXT AW Franca ao lado da Paulista                                              5\n",
      "Wyndhan Al. Campinas                                                            5\n",
      "H4 La Residence Paulista                                                        5\n",
      "Charlie Jardins Alameda Franca                                                  5\n",
      "Apê Paulista Augusta                                                            5\n",
      "Transamerica Alameda Santos SP                                                  2\n",
      "Transamerica Al Santos Jardins                                                  2\n",
      "JP Crauford Choice Suites                                                       2\n",
      "Transamerica Al Santos Jardins Paulista                                         2\n",
      "Apto Cerqueira Cesar c garagem                                                  2\n",
      "Transamérica Paulista Trianon Masp                                              2\n",
      "Vossa Bossa Capote Valente                                                      2\n",
      "Transamerica Paulista                                                           2\n",
      "Transamerica Apart Jardins                                                      2\n",
      "Três de Julho Flats - Jardins II                                                2\n",
      "Sanches Le Premier                                                              2\n",
      "Vossa Bossa Flat Jardins                                                        2\n",
      "Condomínio luxuoso, apenas 50m do metrô Oscar freire e 5 minutos da Paulista    2\n",
      "21 Century                                                                      2\n",
      "Transamerica Al Santos SP                                                       2\n",
      "Apart Alameda Santos - Paulista                                                 2\n",
      "Transamerica Paulista SP                                                        2\n",
      "Hotel Transamérica Prime Av Paulista                                            2\n",
      "1508 - Rentaqui - Flat Cobertura Jardins Diamond                                2\n",
      "Flat Whynd Paulista Al Campinas 540                                             2\n",
      "Hotel Plaza Av Paulista                                                         2\n",
      "UNU Jardins                                                                     2\n",
      "Casa Luxo 14 pessoas Jd Europa                                                  2\n",
      "Transamerica Jardins SP                                                         2\n",
      "Elegant Flat Paulista Alameda Campinas Garagem , Pool, Ar Cod,                  2\n",
      "Name: count, dtype: int64\n"
     ]
    }
   ],
   "source": [
    "name_counts = df['name'].value_counts()\n",
    "print(name_counts)"
   ]
  },
  {
   "cell_type": "code",
   "execution_count": 33,
   "id": "ecad8472",
   "metadata": {},
   "outputs": [],
   "source": [
    "df.to_csv('jardins.csv', index=False)"
   ]
  },
  {
   "cell_type": "code",
   "execution_count": 34,
   "id": "abbf0b8a",
   "metadata": {},
   "outputs": [],
   "source": [
    "driver.quit()"
   ]
  },
  {
   "cell_type": "code",
   "execution_count": 11,
   "id": "3e107c21",
   "metadata": {},
   "outputs": [],
   "source": []
  },
  {
   "cell_type": "code",
   "execution_count": null,
   "id": "63ae5112",
   "metadata": {},
   "outputs": [],
   "source": []
  },
  {
   "cell_type": "code",
   "execution_count": null,
   "id": "02029519",
   "metadata": {},
   "outputs": [],
   "source": []
  },
  {
   "cell_type": "code",
   "execution_count": null,
   "id": "f7723f83",
   "metadata": {},
   "outputs": [],
   "source": []
  }
 ],
 "metadata": {
  "kernelspec": {
   "display_name": "Python 3 (ipykernel)",
   "language": "python",
   "name": "python3"
  },
  "language_info": {
   "codemirror_mode": {
    "name": "ipython",
    "version": 3
   },
   "file_extension": ".py",
   "mimetype": "text/x-python",
   "name": "python",
   "nbconvert_exporter": "python",
   "pygments_lexer": "ipython3",
   "version": "3.10.9"
  }
 },
 "nbformat": 4,
 "nbformat_minor": 5
}
