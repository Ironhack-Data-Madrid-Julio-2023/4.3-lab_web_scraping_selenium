{
 "cells": [
  {
   "cell_type": "markdown",
   "metadata": {},
   "source": [
    "# Web Scraping Lab\n",
    "\n",
    "You will find in this notebook some scrapy exercises to practise your scraping skills.\n",
    "\n",
    "**Tips:**\n",
    "\n",
    "- Check the response status code for each request to ensure you have obtained the intended contennt.\n",
    "- Print the response text in each request to understand the kind of info you are getting and its format.\n",
    "- Check for patterns in the response text to extract the data/info requested in each question.\n",
    "- Visit each url and take a look at its source through Chrome DevTools. You'll need to identify the html tags, special class names etc. used for the html content you are expected to extract."
   ]
  },
  {
   "cell_type": "markdown",
   "metadata": {},
   "source": [
    "- [Selenium Doc](https://www.selenium.dev/documentation/)\n",
    "- [Requests library](http://docs.python-requests.org/en/master/#the-user-guide) documentation \n",
    "- [Urllib](https://docs.python.org/3/library/urllib.html#module-urllib)\n",
    "- [re lib](https://docs.python.org/3/library/re.html)\n",
    "- [lxml lib](https://lxml.de/)\n",
    "- [Scrapy](https://scrapy.org/)\n",
    "- [List of HTTP status codes](https://en.wikipedia.org/wiki/List_of_HTTP_status_codes)\n",
    "- [HTML basics](http://www.simplehtmlguide.com/cheatsheet.php)\n",
    "- [CSS basics](https://www.cssbasics.com/#page_start)"
   ]
  },
  {
   "cell_type": "markdown",
   "metadata": {},
   "source": [
    "#### Below are the libraries and modules you may need. `Selenium` and `pandas` are imported for you."
   ]
  },
  {
   "cell_type": "code",
   "execution_count": null,
   "metadata": {},
   "outputs": [],
   "source": []
  },
  {
   "cell_type": "code",
   "execution_count": 27,
   "metadata": {},
   "outputs": [],
   "source": [
    "import pandas as pd\n",
    "from selenium import webdriver\n",
    "from selenium.webdriver.chrome.options import Options\n",
    "from webdriver_manager.chrome import ChromeDriverManager\n",
    "from selenium.webdriver.common.by import By"
   ]
  },
  {
   "cell_type": "code",
   "execution_count": null,
   "metadata": {},
   "outputs": [],
   "source": []
  },
  {
   "cell_type": "markdown",
   "metadata": {},
   "source": [
    "#### Enable the options you may need. In the next cell you have an example of them but you can choose to use them or not."
   ]
  },
  {
   "cell_type": "code",
   "execution_count": 28,
   "metadata": {},
   "outputs": [],
   "source": [
    "#driver configuration\n",
    "opciones=Options()\n",
    "\n",
    "opciones.add_experimental_option('excludeSwitches', ['enable-automation'])\n",
    "opciones.add_experimental_option('useAutomationExtension', False)\n",
    "opciones.headless=False    # si True, no aperece la ventana (headless=no visible)\n",
    "opciones.add_argument('--start-maximized')         # comienza maximizado\n",
    "#opciones.add_argument('user-data-dir=selenium')    # mantiene las cookies\n",
    "#opciones.add_extension('driver_folder/adblock.crx')       # adblocker\n",
    "opciones.add_argument('--incognito')"
   ]
  },
  {
   "cell_type": "code",
   "execution_count": 32,
   "metadata": {
    "scrolled": false
   },
   "outputs": [
    {
     "name": "stderr",
     "output_type": "stream",
     "text": [
      "C:\\Users\\VANT\\AppData\\Local\\Temp\\ipykernel_16716\\107603887.py:3: DeprecationWarning: executable_path has been deprecated, please pass in a Service object\n",
      "  driver = webdriver.Chrome(PATH)\n",
      "C:\\Users\\VANT\\AppData\\Local\\Temp\\ipykernel_16716\\107603887.py:4: DeprecationWarning: executable_path has been deprecated, please pass in a Service object\n",
      "  driver = webdriver.Chrome(driver,options = opciones)\n"
     ]
    },
    {
     "ename": "TypeError",
     "evalue": "expected str, bytes or os.PathLike object, not WebDriver",
     "output_type": "error",
     "traceback": [
      "\u001b[1;31m---------------------------------------------------------------------------\u001b[0m",
      "\u001b[1;31mTypeError\u001b[0m                                 Traceback (most recent call last)",
      "Cell \u001b[1;32mIn[32], line 4\u001b[0m\n\u001b[0;32m      1\u001b[0m PATH \u001b[38;5;241m=\u001b[39m \u001b[38;5;124m'\u001b[39m\u001b[38;5;124mdriver/chromedriver\u001b[39m\u001b[38;5;124m'\u001b[39m\n\u001b[0;32m      3\u001b[0m driver \u001b[38;5;241m=\u001b[39m webdriver\u001b[38;5;241m.\u001b[39mChrome(PATH) \n\u001b[1;32m----> 4\u001b[0m driver \u001b[38;5;241m=\u001b[39m \u001b[43mwebdriver\u001b[49m\u001b[38;5;241;43m.\u001b[39;49m\u001b[43mChrome\u001b[49m\u001b[43m(\u001b[49m\u001b[43mdriver\u001b[49m\u001b[43m,\u001b[49m\u001b[43moptions\u001b[49m\u001b[43m \u001b[49m\u001b[38;5;241;43m=\u001b[39;49m\u001b[43m \u001b[49m\u001b[43mopciones\u001b[49m\u001b[43m)\u001b[49m\n",
      "File \u001b[1;32m~\\AppData\\Local\\Programs\\Python\\Python311\\Lib\\site-packages\\selenium\\webdriver\\chrome\\webdriver.py:81\u001b[0m, in \u001b[0;36mWebDriver.__init__\u001b[1;34m(self, executable_path, port, options, service_args, desired_capabilities, service_log_path, chrome_options, service, keep_alive)\u001b[0m\n\u001b[0;32m     78\u001b[0m \u001b[38;5;28;01mif\u001b[39;00m \u001b[38;5;129;01mnot\u001b[39;00m service:\n\u001b[0;32m     79\u001b[0m     service \u001b[38;5;241m=\u001b[39m Service(executable_path, port, service_args, service_log_path)\n\u001b[1;32m---> 81\u001b[0m \u001b[38;5;28;43msuper\u001b[39;49m\u001b[43m(\u001b[49m\u001b[43m)\u001b[49m\u001b[38;5;241;43m.\u001b[39;49m\u001b[38;5;21;43m__init__\u001b[39;49m\u001b[43m(\u001b[49m\n\u001b[0;32m     82\u001b[0m \u001b[43m    \u001b[49m\u001b[43mDesiredCapabilities\u001b[49m\u001b[38;5;241;43m.\u001b[39;49m\u001b[43mCHROME\u001b[49m\u001b[43m[\u001b[49m\u001b[38;5;124;43m\"\u001b[39;49m\u001b[38;5;124;43mbrowserName\u001b[39;49m\u001b[38;5;124;43m\"\u001b[39;49m\u001b[43m]\u001b[49m\u001b[43m,\u001b[49m\n\u001b[0;32m     83\u001b[0m \u001b[43m    \u001b[49m\u001b[38;5;124;43m\"\u001b[39;49m\u001b[38;5;124;43mgoog\u001b[39;49m\u001b[38;5;124;43m\"\u001b[39;49m\u001b[43m,\u001b[49m\n\u001b[0;32m     84\u001b[0m \u001b[43m    \u001b[49m\u001b[43mport\u001b[49m\u001b[43m,\u001b[49m\n\u001b[0;32m     85\u001b[0m \u001b[43m    \u001b[49m\u001b[43moptions\u001b[49m\u001b[43m,\u001b[49m\n\u001b[0;32m     86\u001b[0m \u001b[43m    \u001b[49m\u001b[43mservice_args\u001b[49m\u001b[43m,\u001b[49m\n\u001b[0;32m     87\u001b[0m \u001b[43m    \u001b[49m\u001b[43mdesired_capabilities\u001b[49m\u001b[43m,\u001b[49m\n\u001b[0;32m     88\u001b[0m \u001b[43m    \u001b[49m\u001b[43mservice_log_path\u001b[49m\u001b[43m,\u001b[49m\n\u001b[0;32m     89\u001b[0m \u001b[43m    \u001b[49m\u001b[43mservice\u001b[49m\u001b[43m,\u001b[49m\n\u001b[0;32m     90\u001b[0m \u001b[43m    \u001b[49m\u001b[43mkeep_alive\u001b[49m\u001b[43m,\u001b[49m\n\u001b[0;32m     91\u001b[0m \u001b[43m\u001b[49m\u001b[43m)\u001b[49m\n",
      "File \u001b[1;32m~\\AppData\\Local\\Programs\\Python\\Python311\\Lib\\site-packages\\selenium\\webdriver\\chromium\\webdriver.py:103\u001b[0m, in \u001b[0;36mChromiumDriver.__init__\u001b[1;34m(self, browser_name, vendor_prefix, port, options, service_args, desired_capabilities, service_log_path, service, keep_alive)\u001b[0m\n\u001b[0;32m    100\u001b[0m     \u001b[38;5;28;01mraise\u001b[39;00m \u001b[38;5;167;01mAttributeError\u001b[39;00m(\u001b[38;5;124m\"\u001b[39m\u001b[38;5;124mservice cannot be None\u001b[39m\u001b[38;5;124m\"\u001b[39m)\n\u001b[0;32m    102\u001b[0m \u001b[38;5;28mself\u001b[39m\u001b[38;5;241m.\u001b[39mservice \u001b[38;5;241m=\u001b[39m service\n\u001b[1;32m--> 103\u001b[0m \u001b[38;5;28;43mself\u001b[39;49m\u001b[38;5;241;43m.\u001b[39;49m\u001b[43mservice\u001b[49m\u001b[38;5;241;43m.\u001b[39;49m\u001b[43mstart\u001b[49m\u001b[43m(\u001b[49m\u001b[43m)\u001b[49m\n\u001b[0;32m    105\u001b[0m \u001b[38;5;28;01mtry\u001b[39;00m:\n\u001b[0;32m    106\u001b[0m     \u001b[38;5;28msuper\u001b[39m()\u001b[38;5;241m.\u001b[39m\u001b[38;5;21m__init__\u001b[39m(\n\u001b[0;32m    107\u001b[0m         command_executor\u001b[38;5;241m=\u001b[39mChromiumRemoteConnection(\n\u001b[0;32m    108\u001b[0m             remote_server_addr\u001b[38;5;241m=\u001b[39m\u001b[38;5;28mself\u001b[39m\u001b[38;5;241m.\u001b[39mservice\u001b[38;5;241m.\u001b[39mservice_url,\n\u001b[1;32m   (...)\u001b[0m\n\u001b[0;32m    114\u001b[0m         options\u001b[38;5;241m=\u001b[39moptions,\n\u001b[0;32m    115\u001b[0m     )\n",
      "File \u001b[1;32m~\\AppData\\Local\\Programs\\Python\\Python311\\Lib\\site-packages\\selenium\\webdriver\\common\\service.py:90\u001b[0m, in \u001b[0;36mService.start\u001b[1;34m(self)\u001b[0m\n\u001b[0;32m     82\u001b[0m \u001b[38;5;250m\u001b[39m\u001b[38;5;124;03m\"\"\"\u001b[39;00m\n\u001b[0;32m     83\u001b[0m \u001b[38;5;124;03mStarts the Service.\u001b[39;00m\n\u001b[0;32m     84\u001b[0m \n\u001b[1;32m   (...)\u001b[0m\n\u001b[0;32m     87\u001b[0m \u001b[38;5;124;03m   or when it can't connect to the service\u001b[39;00m\n\u001b[0;32m     88\u001b[0m \u001b[38;5;124;03m\"\"\"\u001b[39;00m\n\u001b[0;32m     89\u001b[0m \u001b[38;5;28;01mtry\u001b[39;00m:\n\u001b[1;32m---> 90\u001b[0m     \u001b[38;5;28;43mself\u001b[39;49m\u001b[38;5;241;43m.\u001b[39;49m\u001b[43m_start_process\u001b[49m\u001b[43m(\u001b[49m\u001b[38;5;28;43mself\u001b[39;49m\u001b[38;5;241;43m.\u001b[39;49m\u001b[43mpath\u001b[49m\u001b[43m)\u001b[49m\n\u001b[0;32m     91\u001b[0m \u001b[38;5;28;01mexcept\u001b[39;00m WebDriverException \u001b[38;5;28;01mas\u001b[39;00m err:\n\u001b[0;32m     92\u001b[0m     \u001b[38;5;28;01mif\u001b[39;00m \u001b[38;5;124m\"\u001b[39m\u001b[38;5;124mexecutable needs to be in PATH\u001b[39m\u001b[38;5;124m\"\u001b[39m \u001b[38;5;129;01min\u001b[39;00m err\u001b[38;5;241m.\u001b[39mmsg:\n",
      "File \u001b[1;32m~\\AppData\\Local\\Programs\\Python\\Python311\\Lib\\site-packages\\selenium\\webdriver\\common\\service.py:200\u001b[0m, in \u001b[0;36mService._start_process\u001b[1;34m(self, path)\u001b[0m\n\u001b[0;32m    198\u001b[0m cmd\u001b[38;5;241m.\u001b[39mextend(\u001b[38;5;28mself\u001b[39m\u001b[38;5;241m.\u001b[39mcommand_line_args())\n\u001b[0;32m    199\u001b[0m \u001b[38;5;28;01mtry\u001b[39;00m:\n\u001b[1;32m--> 200\u001b[0m     \u001b[38;5;28mself\u001b[39m\u001b[38;5;241m.\u001b[39mprocess \u001b[38;5;241m=\u001b[39m \u001b[43msubprocess\u001b[49m\u001b[38;5;241;43m.\u001b[39;49m\u001b[43mPopen\u001b[49m\u001b[43m(\u001b[49m\n\u001b[0;32m    201\u001b[0m \u001b[43m        \u001b[49m\u001b[43mcmd\u001b[49m\u001b[43m,\u001b[49m\n\u001b[0;32m    202\u001b[0m \u001b[43m        \u001b[49m\u001b[43menv\u001b[49m\u001b[38;5;241;43m=\u001b[39;49m\u001b[38;5;28;43mself\u001b[39;49m\u001b[38;5;241;43m.\u001b[39;49m\u001b[43menv\u001b[49m\u001b[43m,\u001b[49m\n\u001b[0;32m    203\u001b[0m \u001b[43m        \u001b[49m\u001b[43mclose_fds\u001b[49m\u001b[38;5;241;43m=\u001b[39;49m\u001b[43msystem\u001b[49m\u001b[43m(\u001b[49m\u001b[43m)\u001b[49m\u001b[43m \u001b[49m\u001b[38;5;241;43m!=\u001b[39;49m\u001b[43m \u001b[49m\u001b[38;5;124;43m\"\u001b[39;49m\u001b[38;5;124;43mWindows\u001b[39;49m\u001b[38;5;124;43m\"\u001b[39;49m\u001b[43m,\u001b[49m\n\u001b[0;32m    204\u001b[0m \u001b[43m        \u001b[49m\u001b[43mstdout\u001b[49m\u001b[38;5;241;43m=\u001b[39;49m\u001b[38;5;28;43mself\u001b[39;49m\u001b[38;5;241;43m.\u001b[39;49m\u001b[43mlog_file\u001b[49m\u001b[43m,\u001b[49m\n\u001b[0;32m    205\u001b[0m \u001b[43m        \u001b[49m\u001b[43mstderr\u001b[49m\u001b[38;5;241;43m=\u001b[39;49m\u001b[38;5;28;43mself\u001b[39;49m\u001b[38;5;241;43m.\u001b[39;49m\u001b[43mlog_file\u001b[49m\u001b[43m,\u001b[49m\n\u001b[0;32m    206\u001b[0m \u001b[43m        \u001b[49m\u001b[43mstdin\u001b[49m\u001b[38;5;241;43m=\u001b[39;49m\u001b[43mPIPE\u001b[49m\u001b[43m,\u001b[49m\n\u001b[0;32m    207\u001b[0m \u001b[43m        \u001b[49m\u001b[43mcreationflags\u001b[49m\u001b[38;5;241;43m=\u001b[39;49m\u001b[38;5;28;43mself\u001b[39;49m\u001b[38;5;241;43m.\u001b[39;49m\u001b[43mcreation_flags\u001b[49m\u001b[43m,\u001b[49m\n\u001b[0;32m    208\u001b[0m \u001b[43m    \u001b[49m\u001b[43m)\u001b[49m\n\u001b[0;32m    209\u001b[0m     logger\u001b[38;5;241m.\u001b[39mdebug(\u001b[38;5;124mf\u001b[39m\u001b[38;5;124m\"\u001b[39m\u001b[38;5;124mStarted executable: `\u001b[39m\u001b[38;5;132;01m{\u001b[39;00m\u001b[38;5;28mself\u001b[39m\u001b[38;5;241m.\u001b[39mpath\u001b[38;5;132;01m}\u001b[39;00m\u001b[38;5;124m` in a child process with pid: \u001b[39m\u001b[38;5;132;01m{\u001b[39;00m\u001b[38;5;28mself\u001b[39m\u001b[38;5;241m.\u001b[39mprocess\u001b[38;5;241m.\u001b[39mpid\u001b[38;5;132;01m}\u001b[39;00m\u001b[38;5;124m\"\u001b[39m)\n\u001b[0;32m    210\u001b[0m \u001b[38;5;28;01mexcept\u001b[39;00m \u001b[38;5;167;01mTypeError\u001b[39;00m:\n",
      "File \u001b[1;32m~\\AppData\\Local\\Programs\\Python\\Python311\\Lib\\subprocess.py:1024\u001b[0m, in \u001b[0;36mPopen.__init__\u001b[1;34m(self, args, bufsize, executable, stdin, stdout, stderr, preexec_fn, close_fds, shell, cwd, env, universal_newlines, startupinfo, creationflags, restore_signals, start_new_session, pass_fds, user, group, extra_groups, encoding, errors, text, umask, pipesize, process_group)\u001b[0m\n\u001b[0;32m   1020\u001b[0m         \u001b[38;5;28;01mif\u001b[39;00m \u001b[38;5;28mself\u001b[39m\u001b[38;5;241m.\u001b[39mtext_mode:\n\u001b[0;32m   1021\u001b[0m             \u001b[38;5;28mself\u001b[39m\u001b[38;5;241m.\u001b[39mstderr \u001b[38;5;241m=\u001b[39m io\u001b[38;5;241m.\u001b[39mTextIOWrapper(\u001b[38;5;28mself\u001b[39m\u001b[38;5;241m.\u001b[39mstderr,\n\u001b[0;32m   1022\u001b[0m                     encoding\u001b[38;5;241m=\u001b[39mencoding, errors\u001b[38;5;241m=\u001b[39merrors)\n\u001b[1;32m-> 1024\u001b[0m     \u001b[38;5;28;43mself\u001b[39;49m\u001b[38;5;241;43m.\u001b[39;49m\u001b[43m_execute_child\u001b[49m\u001b[43m(\u001b[49m\u001b[43margs\u001b[49m\u001b[43m,\u001b[49m\u001b[43m \u001b[49m\u001b[43mexecutable\u001b[49m\u001b[43m,\u001b[49m\u001b[43m \u001b[49m\u001b[43mpreexec_fn\u001b[49m\u001b[43m,\u001b[49m\u001b[43m \u001b[49m\u001b[43mclose_fds\u001b[49m\u001b[43m,\u001b[49m\n\u001b[0;32m   1025\u001b[0m \u001b[43m                        \u001b[49m\u001b[43mpass_fds\u001b[49m\u001b[43m,\u001b[49m\u001b[43m \u001b[49m\u001b[43mcwd\u001b[49m\u001b[43m,\u001b[49m\u001b[43m \u001b[49m\u001b[43menv\u001b[49m\u001b[43m,\u001b[49m\n\u001b[0;32m   1026\u001b[0m \u001b[43m                        \u001b[49m\u001b[43mstartupinfo\u001b[49m\u001b[43m,\u001b[49m\u001b[43m \u001b[49m\u001b[43mcreationflags\u001b[49m\u001b[43m,\u001b[49m\u001b[43m \u001b[49m\u001b[43mshell\u001b[49m\u001b[43m,\u001b[49m\n\u001b[0;32m   1027\u001b[0m \u001b[43m                        \u001b[49m\u001b[43mp2cread\u001b[49m\u001b[43m,\u001b[49m\u001b[43m \u001b[49m\u001b[43mp2cwrite\u001b[49m\u001b[43m,\u001b[49m\n\u001b[0;32m   1028\u001b[0m \u001b[43m                        \u001b[49m\u001b[43mc2pread\u001b[49m\u001b[43m,\u001b[49m\u001b[43m \u001b[49m\u001b[43mc2pwrite\u001b[49m\u001b[43m,\u001b[49m\n\u001b[0;32m   1029\u001b[0m \u001b[43m                        \u001b[49m\u001b[43merrread\u001b[49m\u001b[43m,\u001b[49m\u001b[43m \u001b[49m\u001b[43merrwrite\u001b[49m\u001b[43m,\u001b[49m\n\u001b[0;32m   1030\u001b[0m \u001b[43m                        \u001b[49m\u001b[43mrestore_signals\u001b[49m\u001b[43m,\u001b[49m\n\u001b[0;32m   1031\u001b[0m \u001b[43m                        \u001b[49m\u001b[43mgid\u001b[49m\u001b[43m,\u001b[49m\u001b[43m \u001b[49m\u001b[43mgids\u001b[49m\u001b[43m,\u001b[49m\u001b[43m \u001b[49m\u001b[43muid\u001b[49m\u001b[43m,\u001b[49m\u001b[43m \u001b[49m\u001b[43mumask\u001b[49m\u001b[43m,\u001b[49m\n\u001b[0;32m   1032\u001b[0m \u001b[43m                        \u001b[49m\u001b[43mstart_new_session\u001b[49m\u001b[43m,\u001b[49m\u001b[43m \u001b[49m\u001b[43mprocess_group\u001b[49m\u001b[43m)\u001b[49m\n\u001b[0;32m   1033\u001b[0m \u001b[38;5;28;01mexcept\u001b[39;00m:\n\u001b[0;32m   1034\u001b[0m     \u001b[38;5;66;03m# Cleanup if the child failed starting.\u001b[39;00m\n\u001b[0;32m   1035\u001b[0m     \u001b[38;5;28;01mfor\u001b[39;00m f \u001b[38;5;129;01min\u001b[39;00m \u001b[38;5;28mfilter\u001b[39m(\u001b[38;5;28;01mNone\u001b[39;00m, (\u001b[38;5;28mself\u001b[39m\u001b[38;5;241m.\u001b[39mstdin, \u001b[38;5;28mself\u001b[39m\u001b[38;5;241m.\u001b[39mstdout, \u001b[38;5;28mself\u001b[39m\u001b[38;5;241m.\u001b[39mstderr)):\n",
      "File \u001b[1;32m~\\AppData\\Local\\Programs\\Python\\Python311\\Lib\\subprocess.py:1433\u001b[0m, in \u001b[0;36mPopen._execute_child\u001b[1;34m(self, args, executable, preexec_fn, close_fds, pass_fds, cwd, env, startupinfo, creationflags, shell, p2cread, p2cwrite, c2pread, c2pwrite, errread, errwrite, unused_restore_signals, unused_gid, unused_gids, unused_uid, unused_umask, unused_start_new_session, unused_process_group)\u001b[0m\n\u001b[0;32m   1431\u001b[0m     args \u001b[38;5;241m=\u001b[39m list2cmdline([args])\n\u001b[0;32m   1432\u001b[0m \u001b[38;5;28;01melse\u001b[39;00m:\n\u001b[1;32m-> 1433\u001b[0m     args \u001b[38;5;241m=\u001b[39m \u001b[43mlist2cmdline\u001b[49m\u001b[43m(\u001b[49m\u001b[43margs\u001b[49m\u001b[43m)\u001b[49m\n\u001b[0;32m   1435\u001b[0m \u001b[38;5;28;01mif\u001b[39;00m executable \u001b[38;5;129;01mis\u001b[39;00m \u001b[38;5;129;01mnot\u001b[39;00m \u001b[38;5;28;01mNone\u001b[39;00m:\n\u001b[0;32m   1436\u001b[0m     executable \u001b[38;5;241m=\u001b[39m os\u001b[38;5;241m.\u001b[39mfsdecode(executable)\n",
      "File \u001b[1;32m~\\AppData\\Local\\Programs\\Python\\Python311\\Lib\\subprocess.py:608\u001b[0m, in \u001b[0;36mlist2cmdline\u001b[1;34m(seq)\u001b[0m\n\u001b[0;32m    606\u001b[0m result \u001b[38;5;241m=\u001b[39m []\n\u001b[0;32m    607\u001b[0m needquote \u001b[38;5;241m=\u001b[39m \u001b[38;5;28;01mFalse\u001b[39;00m\n\u001b[1;32m--> 608\u001b[0m \u001b[38;5;28;01mfor\u001b[39;00m arg \u001b[38;5;129;01min\u001b[39;00m \u001b[38;5;28mmap\u001b[39m(os\u001b[38;5;241m.\u001b[39mfsdecode, seq):\n\u001b[0;32m    609\u001b[0m     bs_buf \u001b[38;5;241m=\u001b[39m []\n\u001b[0;32m    611\u001b[0m     \u001b[38;5;66;03m# Add a space to separate this argument from the others\u001b[39;00m\n",
      "File \u001b[1;32m<frozen os>:824\u001b[0m, in \u001b[0;36mfsdecode\u001b[1;34m(filename)\u001b[0m\n",
      "\u001b[1;31mTypeError\u001b[0m: expected str, bytes or os.PathLike object, not WebDriver"
     ]
    }
   ],
   "source": [
    "\n",
    "PATH = 'driver/chromedriver'\n",
    "\n",
    "driver = webdriver.Chrome(PATH) \n",
    "driver = webdriver.Chrome(driver,options = opciones)"
   ]
  },
  {
   "cell_type": "markdown",
   "metadata": {},
   "source": [
    "#### Download, parse, and print the content from the Trending Developers page from GitHub:"
   ]
  },
  {
   "cell_type": "code",
   "execution_count": null,
   "metadata": {},
   "outputs": [],
   "source": [
    "# This is the url you will scrape in this exercise\n",
    "url = 'https://github.com/trending/developers'"
   ]
  },
  {
   "cell_type": "code",
   "execution_count": 33,
   "metadata": {},
   "outputs": [],
   "source": [
    "driver.get(url)"
   ]
  },
  {
   "cell_type": "markdown",
   "metadata": {},
   "source": [
    "#### Display the names of the trending developers retrieved in the previous step.\n",
    "\n",
    "Your output should be a Python list of developer names. Each name should not contain any html tag.\n",
    "\n",
    "**Instructions:**\n",
    "\n",
    "1. Find out the html tag and class names used for the developer names.\n",
    "\n",
    "1. Use string manipulation techniques to replace whitespaces and linebreaks (i.e. `\\n`) in the *text* of each html element. Use a list to store the clean names.\n",
    "\n",
    "1. Print the list of names.\n",
    "\n",
    "Your output should look like below:\n",
    "\n",
    "```\n",
    "['trimstray (@trimstray)',\n",
    " 'joewalnes (JoeWalnes)',\n",
    " 'charlax (Charles-AxelDein)',\n",
    " 'ForrestKnight (ForrestKnight)',\n",
    " 'revery-ui (revery-ui)',\n",
    " 'alibaba (Alibaba)',\n",
    " 'Microsoft (Microsoft)',\n",
    " 'github (GitHub)',\n",
    " 'facebook (Facebook)',\n",
    " 'boazsegev (Bo)',\n",
    " 'google (Google)',\n",
    " 'cloudfetch',\n",
    " 'sindresorhus (SindreSorhus)',\n",
    " 'tensorflow',\n",
    " 'apache (TheApacheSoftwareFoundation)',\n",
    " 'DevonCrawford (DevonCrawford)',\n",
    " 'ARMmbed (ArmMbed)',\n",
    " 'vuejs (vuejs)',\n",
    " 'fastai (fast.ai)',\n",
    " 'QiShaoXuan (Qi)',\n",
    " 'joelparkerhenderson (JoelParkerHenderson)',\n",
    " 'torvalds (LinusTorvalds)',\n",
    " 'CyC2018',\n",
    " 'komeiji-satori (神楽坂覚々)',\n",
    " 'script-8']\n",
    " ```"
   ]
  },
  {
   "cell_type": "code",
   "execution_count": 34,
   "metadata": {},
   "outputs": [],
   "source": [
    "developers=driver.find_elements(By.CSS_SELECTOR,'div.d-sm-flex.flex-auto > div.col-sm-8.d-md-flex > div:nth-child(1) > h1' )"
   ]
  },
  {
   "cell_type": "code",
   "execution_count": null,
   "metadata": {},
   "outputs": [],
   "source": []
  },
  {
   "cell_type": "code",
   "execution_count": 35,
   "metadata": {},
   "outputs": [
    {
     "data": {
      "text/plain": [
       "['Yiming Cui',\n",
       " 'Stephen Celis',\n",
       " 'Nikita Sobolev',\n",
       " 'Jeff Dickey',\n",
       " 'Suyeol Jeon',\n",
       " 'Boni García',\n",
       " 'Adeeb Shihadeh',\n",
       " 'Bo-Yi Wu',\n",
       " 'Abdullah Atta',\n",
       " 'Dominic Farolino',\n",
       " 'Jan-Erik Rediger',\n",
       " 'Ismail Pelaseyed',\n",
       " 'Steve Macenski',\n",
       " 'Philipp Schmid',\n",
       " 'Alessandro Ros',\n",
       " 'Vladimir Mihailenco',\n",
       " 'dennis zhuang',\n",
       " 'Cameron Dutro',\n",
       " 'MichaIng',\n",
       " '二货爱吃白萝卜',\n",
       " 'Mattt',\n",
       " 'Justin Clift',\n",
       " 'Laurent Mazare',\n",
       " 'Steven Tey',\n",
       " 'Ha Thach']"
      ]
     },
     "execution_count": 35,
     "metadata": {},
     "output_type": "execute_result"
    }
   ],
   "source": [
    "[e.text.strip() for e in developers]"
   ]
  },
  {
   "cell_type": "markdown",
   "metadata": {},
   "source": [
    "#### Display the trending Python repositories in GitHub\n",
    "\n",
    "The steps to solve this problem is similar to the previous one except that you need to find out the repository names instead of developer names."
   ]
  },
  {
   "cell_type": "code",
   "execution_count": 36,
   "metadata": {},
   "outputs": [],
   "source": [
    "# This is the url you will scrape in this exercise\n",
    "url = 'https://github.com/trending/python?since=daily'"
   ]
  },
  {
   "cell_type": "code",
   "execution_count": 37,
   "metadata": {},
   "outputs": [],
   "source": [
    "user=driver.find_elements(By.CSS_SELECTOR,'div.d-sm-flex.flex-auto > div.col-sm-8.d-md-flex > div:nth-child(2) > div > article > h1' )"
   ]
  },
  {
   "cell_type": "code",
   "execution_count": 38,
   "metadata": {},
   "outputs": [
    {
     "data": {
      "text/plain": [
       "['Chinese-LLaMA-Alpaca-2',\n",
       " 'SQLite.swift',\n",
       " 'awesome-cryptography',\n",
       " 'rtx',\n",
       " 'SwiftyImage',\n",
       " 'webdrivermanager',\n",
       " 'ssh-action',\n",
       " 'fdir',\n",
       " 'observable',\n",
       " 'mdbook-mermaid',\n",
       " 'superagent',\n",
       " 'slam_toolbox',\n",
       " 'deep-learning-pytorch-huggingface',\n",
       " 'gst-darknet',\n",
       " 'taskq',\n",
       " 'aviatorscript',\n",
       " 'DietPi',\n",
       " 'Ono',\n",
       " 'candle',\n",
       " 'dub',\n",
       " 'tinyusb']"
      ]
     },
     "execution_count": 38,
     "metadata": {},
     "output_type": "execute_result"
    }
   ],
   "source": [
    "[e.text.strip() for e in user]\n"
   ]
  },
  {
   "cell_type": "code",
   "execution_count": 39,
   "metadata": {},
   "outputs": [
    {
     "data": {
      "text/plain": [
       "{'Yiming Cui': 'Chinese-LLaMA-Alpaca-2',\n",
       " 'Stephen Celis': 'SQLite.swift',\n",
       " 'Nikita Sobolev': 'awesome-cryptography',\n",
       " 'Jeff Dickey': 'rtx',\n",
       " 'Suyeol Jeon': 'SwiftyImage',\n",
       " 'Boni García': 'webdrivermanager',\n",
       " 'Adeeb Shihadeh': 'ssh-action',\n",
       " 'Bo-Yi Wu': 'fdir',\n",
       " 'Abdullah Atta': 'observable',\n",
       " 'Dominic Farolino': 'mdbook-mermaid',\n",
       " 'Jan-Erik Rediger': 'superagent',\n",
       " 'Ismail Pelaseyed': 'slam_toolbox',\n",
       " 'Steve Macenski': 'deep-learning-pytorch-huggingface',\n",
       " 'Philipp Schmid': 'gst-darknet',\n",
       " 'Alessandro Ros': 'taskq',\n",
       " 'Vladimir Mihailenco': 'aviatorscript',\n",
       " 'dennis zhuang': 'DietPi',\n",
       " 'Cameron Dutro': 'Ono',\n",
       " 'MichaIng': 'candle',\n",
       " '二货爱吃白萝卜': 'dub',\n",
       " 'Mattt': 'tinyusb'}"
      ]
     },
     "execution_count": 39,
     "metadata": {},
     "output_type": "execute_result"
    }
   ],
   "source": [
    "dictio= dict(zip([e.text.strip() for e in developers],[e.text.strip() for e in user]))\n",
    "\n",
    "dictio"
   ]
  },
  {
   "cell_type": "markdown",
   "metadata": {},
   "source": [
    "#### Display all the image links from Walt Disney wikipedia page"
   ]
  },
  {
   "cell_type": "code",
   "execution_count": null,
   "metadata": {},
   "outputs": [],
   "source": []
  },
  {
   "cell_type": "code",
   "execution_count": 40,
   "metadata": {},
   "outputs": [],
   "source": [
    "# This is the url you will scrape in this exercise\n",
    "url = 'https://en.wikipedia.org/wiki/Walt_Disney'"
   ]
  },
  {
   "cell_type": "code",
   "execution_count": 41,
   "metadata": {},
   "outputs": [],
   "source": [
    "driver.get(url)"
   ]
  },
  {
   "cell_type": "code",
   "execution_count": 42,
   "metadata": {},
   "outputs": [],
   "source": [
    "IMG=driver.find_elements(By.TAG_NAME,'img' )"
   ]
  },
  {
   "cell_type": "code",
   "execution_count": 43,
   "metadata": {},
   "outputs": [
    {
     "data": {
      "text/plain": [
       "['https://en.wikipedia.org/static/images/icons/wikipedia.png',\n",
       " 'https://en.wikipedia.org/static/images/mobile/copyright/wikipedia-wordmark-en.svg',\n",
       " 'https://en.wikipedia.org/static/images/mobile/copyright/wikipedia-tagline-en.svg',\n",
       " 'https://upload.wikimedia.org/wikipedia/en/thumb/e/e7/Cscr-featured.svg/20px-Cscr-featured.svg.png',\n",
       " 'https://upload.wikimedia.org/wikipedia/en/thumb/8/8c/Extended-protection-shackle.svg/20px-Extended-protection-shackle.svg.png',\n",
       " 'https://upload.wikimedia.org/wikipedia/commons/thumb/d/df/Walt_Disney_1946.JPG/220px-Walt_Disney_1946.JPG',\n",
       " 'https://upload.wikimedia.org/wikipedia/commons/thumb/8/87/Walt_Disney_1942_signature.svg/150px-Walt_Disney_1942_signature.svg.png',\n",
       " 'https://upload.wikimedia.org/wikipedia/commons/thumb/3/3a/Walt_Disney_Birthplace_Exterior_Hermosa_Chicago_Illinois.jpg/220px-Walt_Disney_Birthplace_Exterior_Hermosa_Chicago_Illinois.jpg',\n",
       " 'https://upload.wikimedia.org/wikipedia/commons/thumb/c/c4/Walt_Disney_envelope_ca._1921.jpg/220px-Walt_Disney_envelope_ca._1921.jpg',\n",
       " 'https://upload.wikimedia.org/wikipedia/en/thumb/4/4e/Steamboat-willie.jpg/220px-Steamboat-willie.jpg',\n",
       " 'https://upload.wikimedia.org/wikipedia/commons/thumb/c/cd/Walt_Disney_Snow_white_1937_trailer_screenshot_%2813%29.jpg/220px-Walt_Disney_Snow_white_1937_trailer_screenshot_%2813%29.jpg',\n",
       " 'https://upload.wikimedia.org/wikipedia/commons/thumb/1/15/Disney_drawing_goofy.jpg/170px-Disney_drawing_goofy.jpg',\n",
       " 'https://upload.wikimedia.org/wikipedia/commons/thumb/8/8c/WaltDisneyplansDisneylandDec1954.jpg/220px-WaltDisneyplansDisneylandDec1954.jpg',\n",
       " 'https://upload.wikimedia.org/wikipedia/commons/thumb/f/ff/Walt_disney_portrait_right.jpg/170px-Walt_disney_portrait_right.jpg',\n",
       " 'https://upload.wikimedia.org/wikipedia/commons/thumb/1/1a/Walt_Disney_Grave.JPG/170px-Walt_Disney_Grave.JPG',\n",
       " 'https://upload.wikimedia.org/wikipedia/commons/thumb/1/13/DisneySchiphol1951.jpg/220px-DisneySchiphol1951.jpg',\n",
       " 'https://upload.wikimedia.org/wikipedia/commons/thumb/6/6c/Disney1968.jpg/170px-Disney1968.jpg',\n",
       " 'https://upload.wikimedia.org/wikipedia/commons/thumb/b/b0/Disney_Oscar_1953_%28cropped%29.jpg/170px-Disney_Oscar_1953_%28cropped%29.jpg',\n",
       " 'https://upload.wikimedia.org/wikipedia/en/thumb/4/4a/Commons-logo.svg/30px-Commons-logo.svg.png',\n",
       " 'https://upload.wikimedia.org/wikipedia/commons/thumb/4/4c/Wikisource-logo.svg/38px-Wikisource-logo.svg.png',\n",
       " 'https://upload.wikimedia.org/wikipedia/commons/thumb/f/fa/Wikiquote-logo.svg/34px-Wikiquote-logo.svg.png',\n",
       " 'https://upload.wikimedia.org/wikipedia/en/thumb/8/8a/OOjs_UI_icon_edit-ltr-progressive.svg/10px-OOjs_UI_icon_edit-ltr-progressive.svg.png',\n",
       " 'https://upload.wikimedia.org/wikipedia/en/thumb/8/8a/OOjs_UI_icon_edit-ltr-progressive.svg/10px-OOjs_UI_icon_edit-ltr-progressive.svg.png',\n",
       " 'https://upload.wikimedia.org/wikipedia/commons/thumb/e/e3/Disneyland_Resort_logo.svg/135px-Disneyland_Resort_logo.svg.png',\n",
       " 'https://upload.wikimedia.org/wikipedia/commons/thumb/d/da/Animation_disc.svg/20px-Animation_disc.svg.png',\n",
       " 'https://upload.wikimedia.org/wikipedia/en/thumb/6/69/P_vip.svg/19px-P_vip.svg.png',\n",
       " 'https://upload.wikimedia.org/wikipedia/commons/thumb/1/1a/Magic_Kingdom_castle.jpg/15px-Magic_Kingdom_castle.jpg',\n",
       " 'https://upload.wikimedia.org/wikipedia/en/thumb/e/e7/Video-x-generic.svg/19px-Video-x-generic.svg.png',\n",
       " 'https://upload.wikimedia.org/wikipedia/commons/thumb/a/a3/Flag_of_Los_Angeles_County%2C_California.svg/21px-Flag_of_Los_Angeles_County%2C_California.svg.png',\n",
       " 'https://upload.wikimedia.org/wikipedia/commons/thumb/8/8c/Blank_television_set.svg/21px-Blank_television_set.svg.png',\n",
       " 'https://upload.wikimedia.org/wikipedia/en/thumb/a/a4/Flag_of_the_United_States.svg/21px-Flag_of_the_United_States.svg.png',\n",
       " 'https://upload.wikimedia.org/wikipedia/en/thumb/4/4a/Commons-logo.svg/14px-Commons-logo.svg.png',\n",
       " 'https://upload.wikimedia.org/wikipedia/commons/thumb/f/fa/Wikiquote-logo.svg/16px-Wikiquote-logo.svg.png',\n",
       " 'https://upload.wikimedia.org/wikipedia/commons/thumb/4/4c/Wikisource-logo.svg/18px-Wikisource-logo.svg.png',\n",
       " 'https://upload.wikimedia.org/wikipedia/commons/thumb/f/ff/Wikidata-logo.svg/21px-Wikidata-logo.svg.png',\n",
       " 'https://upload.wikimedia.org/wikipedia/en/thumb/8/8a/OOjs_UI_icon_edit-ltr-progressive.svg/10px-OOjs_UI_icon_edit-ltr-progressive.svg.png',\n",
       " 'https://en.wikipedia.org/static/images/footer/wikimedia-button.png',\n",
       " 'https://en.wikipedia.org/static/images/footer/poweredby_mediawiki_88x31.png']"
      ]
     },
     "execution_count": 43,
     "metadata": {},
     "output_type": "execute_result"
    }
   ],
   "source": [
    "[e.get_attribute('src').strip('') for e in IMG]"
   ]
  },
  {
   "cell_type": "markdown",
   "metadata": {},
   "source": [
    "#### Retrieve an arbitary Wikipedia page of \"Python\" and create a list of links on that page"
   ]
  },
  {
   "cell_type": "code",
   "execution_count": 44,
   "metadata": {},
   "outputs": [],
   "source": [
    "# This is the url you will scrape in this exercise\n",
    "url ='https://en.wikipedia.org/wiki/Python' "
   ]
  },
  {
   "cell_type": "code",
   "execution_count": 45,
   "metadata": {},
   "outputs": [],
   "source": [
    "#your code\n",
    "driver.get(url)\n",
    "\n",
    "python= driver.find_elements(By.TAG_NAME,'a')"
   ]
  },
  {
   "cell_type": "code",
   "execution_count": 46,
   "metadata": {},
   "outputs": [
    {
     "data": {
      "text/plain": [
       "['https://en.wikipedia.org/wiki/Python#bodyContent',\n",
       " 'https://en.wikipedia.org/wiki/Main_Page',\n",
       " 'https://en.wikipedia.org/wiki/Wikipedia:Contents',\n",
       " 'https://en.wikipedia.org/wiki/Portal:Current_events',\n",
       " 'https://en.wikipedia.org/wiki/Special:Random',\n",
       " 'https://en.wikipedia.org/wiki/Wikipedia:About',\n",
       " 'https://en.wikipedia.org/wiki/Wikipedia:Contact_us',\n",
       " 'https://donate.wikimedia.org/wiki/Special:FundraiserRedirector?utm_source=donate&utm_medium=sidebar&utm_campaign=C13_en.wikipedia.org&uselang=en',\n",
       " 'https://en.wikipedia.org/wiki/Help:Contents',\n",
       " 'https://en.wikipedia.org/wiki/Help:Introduction',\n",
       " 'https://en.wikipedia.org/wiki/Wikipedia:Community_portal',\n",
       " 'https://en.wikipedia.org/wiki/Special:RecentChanges',\n",
       " 'https://en.wikipedia.org/wiki/Wikipedia:File_upload_wizard',\n",
       " 'https://en.wikipedia.org/wiki/Main_Page',\n",
       " 'https://en.wikipedia.org/wiki/Special:Search',\n",
       " 'https://en.wikipedia.org/w/index.php?title=Special:CreateAccount&returnto=Python',\n",
       " 'https://en.wikipedia.org/w/index.php?title=Special:UserLogin&returnto=Python',\n",
       " 'https://en.wikipedia.org/w/index.php?title=Special:CreateAccount&returnto=Python',\n",
       " 'https://en.wikipedia.org/w/index.php?title=Special:UserLogin&returnto=Python',\n",
       " 'https://en.wikipedia.org/wiki/Help:Introduction',\n",
       " 'https://en.wikipedia.org/wiki/Special:MyContributions',\n",
       " 'https://en.wikipedia.org/wiki/Special:MyTalk',\n",
       " 'https://en.wikipedia.org/wiki/Python#',\n",
       " 'https://en.wikipedia.org/wiki/Python#Snakes',\n",
       " 'https://en.wikipedia.org/wiki/Python#Computing',\n",
       " 'https://en.wikipedia.org/wiki/Python#People',\n",
       " 'https://en.wikipedia.org/wiki/Python#Roller_coasters',\n",
       " 'https://en.wikipedia.org/wiki/Python#Vehicles',\n",
       " 'https://en.wikipedia.org/wiki/Python#Weaponry',\n",
       " 'https://en.wikipedia.org/wiki/Python#Other_uses',\n",
       " 'https://en.wikipedia.org/wiki/Python#See_also',\n",
       " 'https://af.wikipedia.org/wiki/Python',\n",
       " 'https://als.wikipedia.org/wiki/Python',\n",
       " 'https://ar.wikipedia.org/wiki/%D8%A8%D8%A7%D9%8A%D8%AB%D9%88%D9%86_(%D8%AA%D9%88%D8%B6%D9%8A%D8%AD)',\n",
       " 'https://az.wikipedia.org/wiki/Python_(d%C9%99qiql%C9%99%C5%9Fdirm%C9%99)',\n",
       " 'https://bn.wikipedia.org/wiki/%E0%A6%AA%E0%A6%BE%E0%A6%87%E0%A6%A5%E0%A6%A8_(%E0%A6%A6%E0%A7%8D%E0%A6%AC%E0%A7%8D%E0%A6%AF%E0%A6%B0%E0%A7%8D%E0%A6%A5%E0%A6%A4%E0%A6%BE_%E0%A6%A8%E0%A6%BF%E0%A6%B0%E0%A6%B8%E0%A6%A8)',\n",
       " 'https://be.wikipedia.org/wiki/Python',\n",
       " 'https://bg.wikipedia.org/wiki/%D0%9F%D0%B8%D1%82%D0%BE%D0%BD_(%D0%BF%D0%BE%D1%8F%D1%81%D0%BD%D0%B5%D0%BD%D0%B8%D0%B5)',\n",
       " 'https://cs.wikipedia.org/wiki/Python_(rozcestn%C3%ADk)',\n",
       " 'https://da.wikipedia.org/wiki/Python',\n",
       " 'https://de.wikipedia.org/wiki/Python',\n",
       " 'https://eo.wikipedia.org/wiki/Pitono_(apartigilo)',\n",
       " 'https://eu.wikipedia.org/wiki/Python_(argipena)',\n",
       " 'https://fa.wikipedia.org/wiki/%D9%BE%D8%A7%DB%8C%D8%AA%D9%88%D9%86',\n",
       " 'https://fr.wikipedia.org/wiki/Python',\n",
       " 'https://ko.wikipedia.org/wiki/%ED%8C%8C%EC%9D%B4%EC%84%A0',\n",
       " 'https://hr.wikipedia.org/wiki/Python_(razdvojba)',\n",
       " 'https://io.wikipedia.org/wiki/Pitono',\n",
       " 'https://id.wikipedia.org/wiki/Python',\n",
       " 'https://ia.wikipedia.org/wiki/Python_(disambiguation)',\n",
       " 'https://is.wikipedia.org/wiki/Python_(a%C3%B0greining)',\n",
       " 'https://it.wikipedia.org/wiki/Python_(disambigua)',\n",
       " 'https://he.wikipedia.org/wiki/%D7%A4%D7%99%D7%AA%D7%95%D7%9F',\n",
       " 'https://ka.wikipedia.org/wiki/%E1%83%9E%E1%83%98%E1%83%97%E1%83%9D%E1%83%9C%E1%83%98_(%E1%83%9B%E1%83%A0%E1%83%90%E1%83%95%E1%83%90%E1%83%9A%E1%83%9B%E1%83%9C%E1%83%98%E1%83%A8%E1%83%95%E1%83%9C%E1%83%94%E1%83%9A%E1%83%9D%E1%83%95%E1%83%90%E1%83%9C%E1%83%98)',\n",
       " 'https://kg.wikipedia.org/wiki/Mboma_(nyoka)',\n",
       " 'https://la.wikipedia.org/wiki/Python_(discretiva)',\n",
       " 'https://lb.wikipedia.org/wiki/Python',\n",
       " 'https://hu.wikipedia.org/wiki/Python_(egy%C3%A9rtelm%C5%B1s%C3%ADt%C5%91_lap)',\n",
       " 'https://mr.wikipedia.org/wiki/%E0%A4%AA%E0%A4%BE%E0%A4%AF%E0%A4%A5%E0%A5%89%E0%A4%A8_(%E0%A4%86%E0%A4%9C%E0%A5%8D%E0%A4%9E%E0%A4%BE%E0%A4%B5%E0%A4%B2%E0%A5%80_%E0%A4%AD%E0%A4%BE%E0%A4%B7%E0%A4%BE)',\n",
       " 'https://nl.wikipedia.org/wiki/Python',\n",
       " 'https://ja.wikipedia.org/wiki/%E3%83%91%E3%82%A4%E3%82%BD%E3%83%B3',\n",
       " 'https://no.wikipedia.org/wiki/Pyton',\n",
       " 'https://pl.wikipedia.org/wiki/Pyton',\n",
       " 'https://pt.wikipedia.org/wiki/Python_(desambigua%C3%A7%C3%A3o)',\n",
       " 'https://ru.wikipedia.org/wiki/Python_(%D0%B7%D0%BD%D0%B0%D1%87%D0%B5%D0%BD%D0%B8%D1%8F)',\n",
       " 'https://sk.wikipedia.org/wiki/Python',\n",
       " 'https://sr.wikipedia.org/wiki/%D0%9F%D0%B8%D1%82%D0%BE%D0%BD_(%D0%B2%D0%B8%D1%88%D0%B5%D0%B7%D0%BD%D0%B0%D1%87%D0%BD%D0%B0_%D0%BE%D0%B4%D1%80%D0%B5%D0%B4%D0%BD%D0%B8%D1%86%D0%B0)',\n",
       " 'https://sh.wikipedia.org/wiki/Python',\n",
       " 'https://fi.wikipedia.org/wiki/Python',\n",
       " 'https://sv.wikipedia.org/wiki/Pyton',\n",
       " 'https://th.wikipedia.org/wiki/%E0%B9%84%E0%B8%9E%E0%B8%97%E0%B8%AD%E0%B8%99',\n",
       " 'https://tr.wikipedia.org/wiki/Python_(anlam_ayr%C4%B1m%C4%B1)',\n",
       " 'https://uk.wikipedia.org/wiki/%D0%9F%D1%96%D1%84%D0%BE%D0%BD',\n",
       " 'https://ur.wikipedia.org/wiki/%D9%BE%D8%A7%D8%A6%DB%8C%D8%AA%DA%BE%D9%88%D9%86',\n",
       " 'https://vi.wikipedia.org/wiki/Python',\n",
       " 'https://zh.wikipedia.org/wiki/Python_(%E6%B6%88%E6%AD%A7%E4%B9%89)',\n",
       " 'https://www.wikidata.org/wiki/Special:EntityPage/Q747452#sitelinks-wikipedia',\n",
       " 'https://en.wikipedia.org/wiki/Python',\n",
       " 'https://en.wikipedia.org/wiki/Talk:Python',\n",
       " 'https://en.wikipedia.org/wiki/Python',\n",
       " 'https://en.wikipedia.org/w/index.php?title=Python&action=edit&editintro=Template:Disambig_editintro',\n",
       " 'https://en.wikipedia.org/w/index.php?title=Python&action=history',\n",
       " 'https://en.wikipedia.org/wiki/Python',\n",
       " 'https://en.wikipedia.org/w/index.php?title=Python&action=edit',\n",
       " 'https://en.wikipedia.org/w/index.php?title=Python&action=history',\n",
       " 'https://en.wikipedia.org/wiki/Special:WhatLinksHere/Python',\n",
       " 'https://en.wikipedia.org/wiki/Special:RecentChangesLinked/Python',\n",
       " 'https://en.wikipedia.org/wiki/Wikipedia:File_Upload_Wizard',\n",
       " 'https://en.wikipedia.org/wiki/Special:SpecialPages',\n",
       " 'https://en.wikipedia.org/w/index.php?title=Python&oldid=1166737625',\n",
       " 'https://en.wikipedia.org/w/index.php?title=Python&action=info',\n",
       " 'https://en.wikipedia.org/w/index.php?title=Special:CiteThisPage&page=Python&id=1166737625&wpFormIdentifier=titleform',\n",
       " 'https://www.wikidata.org/wiki/Special:EntityPage/Q747452',\n",
       " 'https://en.wikipedia.org/w/index.php?title=Special:DownloadAsPdf&page=Python&action=show-download-screen',\n",
       " 'https://en.wikipedia.org/w/index.php?title=Python&printable=yes',\n",
       " 'https://commons.wikimedia.org/wiki/Category:Python',\n",
       " 'https://en.wiktionary.org/wiki/Python',\n",
       " 'https://en.wiktionary.org/wiki/python',\n",
       " 'https://en.wikipedia.org/w/index.php?title=Python&action=edit&section=1&editintro=Template:Disambig_editintro',\n",
       " 'https://en.wikipedia.org/wiki/Pythonidae',\n",
       " 'https://en.wikipedia.org/wiki/Python_(genus)',\n",
       " 'https://en.wikipedia.org/wiki/Python_(mythology)',\n",
       " 'https://en.wikipedia.org/w/index.php?title=Python&action=edit&section=2&editintro=Template:Disambig_editintro',\n",
       " 'https://en.wikipedia.org/wiki/Python_(programming_language)',\n",
       " 'https://en.wikipedia.org/wiki/CMU_Common_Lisp',\n",
       " 'https://en.wikipedia.org/wiki/PERQ#PERQ_3',\n",
       " 'https://en.wikipedia.org/w/index.php?title=Python&action=edit&section=3&editintro=Template:Disambig_editintro',\n",
       " 'https://en.wikipedia.org/wiki/Python_of_Aenus',\n",
       " 'https://en.wikipedia.org/wiki/Python_(painter)',\n",
       " 'https://en.wikipedia.org/wiki/Python_of_Byzantium',\n",
       " 'https://en.wikipedia.org/wiki/Python_of_Catana',\n",
       " 'https://en.wikipedia.org/wiki/Python_Anghelo',\n",
       " 'https://en.wikipedia.org/w/index.php?title=Python&action=edit&section=4&editintro=Template:Disambig_editintro',\n",
       " 'https://en.wikipedia.org/wiki/Python_(Efteling)',\n",
       " 'https://en.wikipedia.org/wiki/Python_(Busch_Gardens_Tampa_Bay)',\n",
       " 'https://en.wikipedia.org/wiki/Python_(Coney_Island,_Cincinnati,_Ohio)',\n",
       " 'https://en.wikipedia.org/w/index.php?title=Python&action=edit&section=5&editintro=Template:Disambig_editintro',\n",
       " 'https://en.wikipedia.org/wiki/Python_(automobile_maker)',\n",
       " 'https://en.wikipedia.org/wiki/Python_(Ford_prototype)',\n",
       " 'https://en.wikipedia.org/w/index.php?title=Python&action=edit&section=6&editintro=Template:Disambig_editintro',\n",
       " 'https://en.wikipedia.org/wiki/Python_(missile)',\n",
       " 'https://en.wikipedia.org/wiki/Python_(nuclear_primary)',\n",
       " 'https://en.wikipedia.org/wiki/Colt_Python',\n",
       " 'https://en.wikipedia.org/w/index.php?title=Python&action=edit&section=7&editintro=Template:Disambig_editintro',\n",
       " 'https://en.wikipedia.org/wiki/Python_(codename)',\n",
       " 'https://en.wikipedia.org/wiki/Python_(film)',\n",
       " 'https://en.wikipedia.org/wiki/Monty_Python',\n",
       " 'https://en.wikipedia.org/wiki/Python_(Monty)_Pictures',\n",
       " 'https://en.wikipedia.org/wiki/Timon_of_Phlius',\n",
       " 'https://en.wikipedia.org/w/index.php?title=Python&action=edit&section=8&editintro=Template:Disambig_editintro',\n",
       " 'https://en.wikipedia.org/wiki/Pyton',\n",
       " 'https://en.wikipedia.org/wiki/Pithon',\n",
       " 'https://en.wikipedia.org/wiki/File:Disambig_gray.svg',\n",
       " 'https://en.wikipedia.org/wiki/Help:Disambiguation',\n",
       " 'https://en.wikipedia.org/w/index.php?title=Special:WhatLinksHere/Python&namespace=0',\n",
       " 'https://en.wikipedia.org/w/index.php?title=Python&oldid=1166737625',\n",
       " 'https://en.wikipedia.org/wiki/Help:Category',\n",
       " 'https://en.wikipedia.org/wiki/Category:Disambiguation_pages',\n",
       " 'https://en.wikipedia.org/wiki/Category:Human_name_disambiguation_pages',\n",
       " 'https://en.wikipedia.org/wiki/Category:Disambiguation_pages_with_given-name-holder_lists',\n",
       " 'https://en.wikipedia.org/wiki/Category:Short_description_is_different_from_Wikidata',\n",
       " 'https://en.wikipedia.org/wiki/Category:All_article_disambiguation_pages',\n",
       " 'https://en.wikipedia.org/wiki/Category:All_disambiguation_pages',\n",
       " 'https://en.wikipedia.org/wiki/Category:Animal_common_name_disambiguation_pages',\n",
       " 'https://creativecommons.org/licenses/by-sa/4.0/',\n",
       " 'https://creativecommons.org/licenses/by-sa/4.0/',\n",
       " 'https://foundation.wikimedia.org/wiki/Terms_of_Use',\n",
       " 'https://foundation.wikimedia.org/wiki/Privacy_policy',\n",
       " 'https://www.wikimediafoundation.org/',\n",
       " 'https://foundation.wikimedia.org/wiki/Special:MyLanguage/Policy:Privacy_policy',\n",
       " 'https://en.wikipedia.org/wiki/Wikipedia:About',\n",
       " 'https://en.wikipedia.org/wiki/Wikipedia:General_disclaimer',\n",
       " 'https://en.wikipedia.org/wiki/Wikipedia:Contact_us',\n",
       " 'https://foundation.wikimedia.org/wiki/Special:MyLanguage/Universal_Code_of_Conduct',\n",
       " 'https://en.m.wikipedia.org/w/index.php?title=Python&mobileaction=toggle_view_mobile',\n",
       " 'https://developer.wikimedia.org/',\n",
       " 'https://stats.wikimedia.org/#/en.wikipedia.org',\n",
       " 'https://foundation.wikimedia.org/wiki/Special:MyLanguage/Policy:Cookie_statement',\n",
       " 'https://wikimediafoundation.org/',\n",
       " 'https://www.mediawiki.org/']"
      ]
     },
     "execution_count": 46,
     "metadata": {},
     "output_type": "execute_result"
    }
   ],
   "source": [
    "[e.get_attribute('href').strip('\\n') for e in python]"
   ]
  },
  {
   "cell_type": "markdown",
   "metadata": {},
   "source": [
    "#### Number of Titles that have changed in the United States Code since its last release point "
   ]
  },
  {
   "cell_type": "code",
   "execution_count": 47,
   "metadata": {},
   "outputs": [],
   "source": [
    "# This is the url you will scrape in this exercise\n",
    "url = 'http://uscode.house.gov/download/download.shtml'"
   ]
  },
  {
   "cell_type": "code",
   "execution_count": 48,
   "metadata": {},
   "outputs": [],
   "source": [
    "driver.get(url)\n",
    "\n",
    "unc= driver.find_elements(By.CLASS_NAME,'usctitlechanged')"
   ]
  },
  {
   "cell_type": "code",
   "execution_count": 49,
   "metadata": {},
   "outputs": [
    {
     "data": {
      "text/plain": [
       "['Title 31 - Money and Finance ٭',\n",
       " 'Title 54 - National Park Service and Related Programs ٭']"
      ]
     },
     "execution_count": 49,
     "metadata": {},
     "output_type": "execute_result"
    }
   ],
   "source": [
    "[e.text.strip() for e in unc]"
   ]
  },
  {
   "cell_type": "markdown",
   "metadata": {},
   "source": [
    "#### A Python list with the top ten FBI's Most Wanted names "
   ]
  },
  {
   "cell_type": "code",
   "execution_count": 50,
   "metadata": {},
   "outputs": [],
   "source": [
    "# This is the url you will scrape in this exercise\n",
    "url = 'https://www.fbi.gov/wanted/topten'"
   ]
  },
  {
   "cell_type": "code",
   "execution_count": 51,
   "metadata": {},
   "outputs": [],
   "source": [
    "#your code \n",
    "\n",
    "driver.get(url)\n",
    "fbi= driver.find_elements(By.CLASS_NAME, 'title')\n"
   ]
  },
  {
   "cell_type": "code",
   "execution_count": 52,
   "metadata": {},
   "outputs": [
    {
     "data": {
      "text/plain": [
       "['ARNOLDO JIMENEZ',\n",
       " 'OMAR ALEXANDER CARDENAS',\n",
       " 'ALEXIS FLORES',\n",
       " 'YULAN ADONAY ARCHAGA CARIAS',\n",
       " 'BHADRESHKUMAR CHETANBHAI PATEL',\n",
       " 'WILVER VILLEGAS-PALOMINO',\n",
       " 'ALEJANDRO ROSALES CASTILLO',\n",
       " 'RUJA IGNATOVA',\n",
       " 'DONALD EUGENE FIELDS II',\n",
       " 'JOSE RODOLFO VILLARREAL-HERNANDEZ']"
      ]
     },
     "execution_count": 52,
     "metadata": {},
     "output_type": "execute_result"
    }
   ],
   "source": [
    "[e.text.strip() for e in fbi][1:]"
   ]
  },
  {
   "cell_type": "markdown",
   "metadata": {},
   "source": [
    "####  20 latest earthquakes info (date, time, latitude, longitude and region name) by the EMSC as a pandas dataframe"
   ]
  },
  {
   "cell_type": "code",
   "execution_count": 53,
   "metadata": {},
   "outputs": [],
   "source": [
    "# This is the url you will scrape in this exercise\n",
    "url = 'https://www.emsc-csem.org/Earthquake/'"
   ]
  },
  {
   "cell_type": "code",
   "execution_count": 74,
   "metadata": {},
   "outputs": [],
   "source": [
    "#your code\n",
    "driver.get(url)\n",
    "titulos=driver.find_elements(By.TAG_NAME,'thead')\n",
    "date=driver.find_elements(By.CLASS_NAME,'tbdat')\n",
    "latitud=driver.find_elements(By.CLASS_NAME,'tblat')\n",
    "longitud=driver.find_elements(By.CLASS_NAME,'tblon')\n",
    "depth=driver.find_elements(By.CLASS_NAME,'tbdep')\n",
    "mag=driver.find_elements(By.CLASS_NAME,'tbmag')\n",
    "region=driver.find_elements(By.CLASS_NAME,'tbreg')"
   ]
  },
  {
   "cell_type": "code",
   "execution_count": 65,
   "metadata": {},
   "outputs": [
    {
     "data": {
      "text/plain": [
       "['2023-08-02 15:05:34\\n23 min ago',\n",
       " '2023-08-02 14:48:35\\n39 min ago',\n",
       " '2023-08-02 14:48:03\\n40 min ago',\n",
       " '2023-08-02 14:47:14\\n41 min ago',\n",
       " '2023-08-02 14:45:02\\n43 min ago',\n",
       " '2023-08-02 14:33:46\\n54 min ago',\n",
       " '2023-08-02 14:29:59\\n58 min ago',\n",
       " '2023-08-02 14:28:57\\n59 min ago',\n",
       " '2023-08-02 14:24:36\\n1 hr 03 min ago',\n",
       " '2023-08-02 14:20:43\\n1 hr 07 min ago',\n",
       " '2023-08-02 14:17:53\\n1 hr 10 min ago',\n",
       " '2023-08-02 14:12:44\\n1 hr 15 min ago',\n",
       " '2023-08-02 14:04:22\\n1 hr 24 min ago',\n",
       " '2023-08-02 13:52:15\\n1 hr 36 min ago',\n",
       " '2023-08-02 13:48:13\\n1 hr 40 min ago',\n",
       " '2023-08-02 13:45:23\\n1 hr 43 min ago',\n",
       " '2023-08-02 13:39:40\\n1 hr 48 min ago',\n",
       " '2023-08-02 13:28:19\\n2 hr 00 min ago',\n",
       " '2023-08-02 13:22:35\\n2 hr 05 min ago',\n",
       " '2023-08-02 13:14:47\\n2 hr 13 min ago',\n",
       " '2023-08-02 13:07:24\\n2 hr 21 min ago',\n",
       " '2023-08-02 12:55:05\\n2 hr 33 min ago',\n",
       " '2023-08-02 12:55:00\\n2 hr 33 min ago',\n",
       " '2023-08-02 12:33:33\\n2 hr 55 min ago',\n",
       " '2023-08-02 12:22:26\\n3 hr 06 min ago',\n",
       " '2023-08-02 12:17:36\\n3 hr 10 min ago',\n",
       " '2023-08-02 12:12:49\\n3 hr 15 min ago',\n",
       " '2023-08-02 12:12:47\\n3 hr 15 min ago',\n",
       " '2023-08-02 12:08:54\\n3 hr 19 min ago',\n",
       " '2023-08-02 11:56:23\\n3 hr 32 min ago',\n",
       " '2023-08-02 11:54:49\\n3 hr 33 min ago',\n",
       " '2023-08-02 11:49:14\\n3 hr 39 min ago',\n",
       " '2023-08-02 11:35:10\\n3 hr 53 min ago',\n",
       " '2023-08-02 11:14:43\\n4 hr 13 min ago',\n",
       " '2023-08-02 11:11:56\\n4 hr 16 min ago',\n",
       " '2023-08-02 11:11:27\\n4 hr 17 min ago',\n",
       " '2023-08-02 10:56:59\\n4 hr 31 min ago',\n",
       " '2023-08-02 10:55:34\\n4 hr 33 min ago',\n",
       " '2023-08-02 10:50:34\\n4 hr 38 min ago',\n",
       " '2023-08-02 10:39:43\\n4 hr 48 min ago',\n",
       " '2023-08-02 10:33:24\\n4 hr 55 min ago',\n",
       " '2023-08-02 10:31:29\\n4 hr 57 min ago',\n",
       " '2023-08-02 10:16:40\\n5 hr 11 min ago',\n",
       " '2023-08-02 10:11:29\\n5 hr 17 min ago',\n",
       " '2023-08-02 09:58:05\\n5 hr 30 min ago',\n",
       " '2023-08-02 09:57:22\\n5 hr 31 min ago',\n",
       " '2023-08-02 09:48:01\\n5 hr 40 min ago',\n",
       " '2023-08-02 09:45:45\\n5 hr 42 min ago',\n",
       " '2023-08-02 09:41:19\\n5 hr 47 min ago',\n",
       " '2023-08-02 09:32:43\\n5 hr 55 min ago',\n",
       " '2023-08-02 09:29:30\\n5 hr 59 min ago',\n",
       " '2023-08-02 09:22:21\\n6 hr 06 min ago',\n",
       " '2023-08-02 09:21:00\\n6 hr 07 min ago',\n",
       " '2023-08-02 09:20:39\\n6 hr 07 min ago',\n",
       " '2023-08-02 09:20:26\\n6 hr 08 min ago',\n",
       " '2023-08-02 09:20:17\\n6 hr 08 min ago',\n",
       " '2023-08-02 09:10:20\\n6 hr 18 min ago',\n",
       " '2023-08-02 08:58:58\\n6 hr 29 min ago',\n",
       " '2023-08-02 08:55:08\\n6 hr 33 min ago',\n",
       " '2023-08-02 08:46:16\\n6 hr 42 min ago',\n",
       " '2023-08-02 08:38:17\\n6 hr 50 min ago',\n",
       " '2023-08-02 08:37:12\\n6 hr 51 min ago',\n",
       " '2023-08-02 08:32:33\\n6 hr 56 min ago',\n",
       " '2023-08-02 08:32:10\\n6 hr 56 min ago',\n",
       " '2023-08-02 08:28:09\\n7 hr 00 min ago',\n",
       " '2023-08-02 08:27:34\\n7 hr 01 min ago',\n",
       " '2023-08-02 08:25:52\\n7 hr 02 min ago',\n",
       " '2023-08-02 08:22:34\\n7 hr 06 min ago',\n",
       " '2023-08-02 08:20:30\\n7 hr 08 min ago',\n",
       " '2023-08-02 08:18:50\\n7 hr 09 min ago',\n",
       " '2023-08-02 08:16:23\\n7 hr 12 min ago',\n",
       " '2023-08-02 08:13:24\\n7 hr 15 min ago',\n",
       " '2023-08-02 08:11:08\\n7 hr 17 min ago',\n",
       " '2023-08-02 08:04:10\\n7 hr 24 min ago',\n",
       " '2023-08-02 08:03:53\\n7 hr 24 min ago',\n",
       " '2023-08-02 07:55:31\\n7 hr 33 min ago',\n",
       " '2023-08-02 07:49:13\\n7 hr 39 min ago',\n",
       " '2023-08-02 07:35:41\\n7 hr 52 min ago',\n",
       " '2023-08-02 07:22:54\\n8 hr 05 min ago',\n",
       " '2023-08-02 07:00:37\\n8 hr 27 min ago',\n",
       " '2023-08-02 06:45:36\\n8 hr 42 min ago',\n",
       " '2023-08-02 06:44:50\\n8 hr 43 min ago',\n",
       " '2023-08-02 06:40:33\\n8 hr 48 min ago',\n",
       " '2023-08-02 06:40:04\\n8 hr 48 min ago',\n",
       " '2023-08-02 06:33:40\\n8 hr 54 min ago',\n",
       " '2023-08-02 06:31:00\\n8 hr 57 min ago',\n",
       " '2023-08-02 06:22:54\\n9 hr 05 min ago',\n",
       " '2023-08-02 06:22:15\\n9 hr 06 min ago',\n",
       " '2023-08-02 06:18:22\\n9 hr 10 min ago',\n",
       " '2023-08-02 06:06:18\\n9 hr 22 min ago',\n",
       " '2023-08-02 06:03:29\\n9 hr 25 min ago',\n",
       " '2023-08-02 05:48:53\\n9 hr 39 min ago',\n",
       " '2023-08-02 05:40:35\\n9 hr 47 min ago',\n",
       " '2023-08-02 05:38:08\\n9 hr 50 min ago',\n",
       " '2023-08-02 05:36:41\\n9 hr 51 min ago',\n",
       " '2023-08-02 05:30:56\\n9 hr 57 min ago',\n",
       " '2023-08-02 05:30:33\\n9 hr 58 min ago',\n",
       " '2023-08-02 05:26:34\\n10 hr 02 min ago',\n",
       " '2023-08-02 05:26:30\\n10 hr 02 min ago',\n",
       " '2023-08-02 05:21:51\\n10 hr 06 min ago']"
      ]
     },
     "execution_count": 65,
     "metadata": {},
     "output_type": "execute_result"
    }
   ],
   "source": [
    "[e.text.strip('\\n') for e in date][1:]"
   ]
  },
  {
   "cell_type": "code",
   "execution_count": 66,
   "metadata": {},
   "outputs": [
    {
     "data": {
      "text/plain": [
       "['46.305',\n",
       " '40.586',\n",
       " '37.644',\n",
       " '-26.977',\n",
       " '-8.560',\n",
       " '14.880',\n",
       " '46.246',\n",
       " '38.115',\n",
       " '-24.150',\n",
       " '-20.030',\n",
       " '19.157',\n",
       " '19.161',\n",
       " '40.640',\n",
       " '12.670',\n",
       " '19.081',\n",
       " '-22.090',\n",
       " '-21.320',\n",
       " '37.552',\n",
       " '5.080',\n",
       " '-5.886',\n",
       " '-23.920',\n",
       " '19.367',\n",
       " '-20.020',\n",
       " '19.164',\n",
       " '34.945',\n",
       " '15.030',\n",
       " '29.281',\n",
       " '-5.130',\n",
       " '38.486',\n",
       " '38.322',\n",
       " '38.315',\n",
       " '43.269',\n",
       " '46.713',\n",
       " '38.870',\n",
       " '-1.480',\n",
       " '18.516',\n",
       " '21.072',\n",
       " '-1.540',\n",
       " '46.903',\n",
       " '41.973',\n",
       " '-48.005',\n",
       " '39.185',\n",
       " '18.150',\n",
       " '-22.450',\n",
       " '36.502',\n",
       " '56.175',\n",
       " '12.630',\n",
       " '41.400',\n",
       " '17.130',\n",
       " '44.408',\n",
       " '8.536',\n",
       " '47.990',\n",
       " '46.496',\n",
       " '12.630',\n",
       " '36.147',\n",
       " '63.228',\n",
       " '38.075',\n",
       " '18.051',\n",
       " '17.070',\n",
       " '6.770',\n",
       " '11.900',\n",
       " '18.680',\n",
       " '39.344',\n",
       " '48.391',\n",
       " '42.462',\n",
       " '-21.980',\n",
       " '13.110',\n",
       " '13.120',\n",
       " '13.130',\n",
       " '16.480',\n",
       " '38.315',\n",
       " '17.915',\n",
       " '38.131',\n",
       " '36.584',\n",
       " '8.649',\n",
       " '-14.760',\n",
       " '37.751',\n",
       " '-32.740',\n",
       " '14.790',\n",
       " '37.291',\n",
       " '38.060',\n",
       " '37.913',\n",
       " '38.517',\n",
       " '38.617',\n",
       " '38.768',\n",
       " '14.030',\n",
       " '17.982',\n",
       " '40.416',\n",
       " '38.117',\n",
       " '-7.330',\n",
       " '37.051',\n",
       " '-44.966',\n",
       " '-22.300',\n",
       " '33.172',\n",
       " '38.066',\n",
       " '18.546',\n",
       " '38.130',\n",
       " '23.000',\n",
       " '-23.020',\n",
       " '14.810']"
      ]
     },
     "execution_count": 66,
     "metadata": {},
     "output_type": "execute_result"
    }
   ],
   "source": [
    "[e.text.strip() for e in latitud][1:]"
   ]
  },
  {
   "cell_type": "code",
   "execution_count": 67,
   "metadata": {},
   "outputs": [
    {
     "data": {
      "text/plain": [
       "['13.658',\n",
       " '27.944',\n",
       " '35.852',\n",
       " '26.786',\n",
       " '112.730',\n",
       " '-94.090',\n",
       " '6.962',\n",
       " '38.451',\n",
       " '-67.450',\n",
       " '-69.250',\n",
       " '-66.439',\n",
       " '-155.474',\n",
       " '22.880',\n",
       " '-88.300',\n",
       " '-66.495',\n",
       " '-69.860',\n",
       " '-68.850',\n",
       " '20.911',\n",
       " '127.340',\n",
       " '154.699',\n",
       " '-67.220',\n",
       " '-155.358',\n",
       " '-69.190',\n",
       " '-155.490',\n",
       " '25.588',\n",
       " '-94.330',\n",
       " '-97.487',\n",
       " '104.600',\n",
       " '37.295',\n",
       " '38.682',\n",
       " '38.734',\n",
       " '-127.147',\n",
       " '152.525',\n",
       " '-83.248',\n",
       " '99.370',\n",
       " '-66.907',\n",
       " '100.042',\n",
       " '126.450',\n",
       " '-0.265',\n",
       " '13.421',\n",
       " '165.642',\n",
       " '40.448',\n",
       " '-103.430',\n",
       " '-69.230',\n",
       " '70.315',\n",
       " '-161.612',\n",
       " '-88.310',\n",
       " '20.463',\n",
       " '-95.190',\n",
       " '3.246',\n",
       " '-83.162',\n",
       " '152.740',\n",
       " '-0.791',\n",
       " '-88.190',\n",
       " '40.171',\n",
       " '-150.522',\n",
       " '37.021',\n",
       " '-67.025',\n",
       " '-99.520',\n",
       " '126.860',\n",
       " '-86.410',\n",
       " '-73.552',\n",
       " '29.754',\n",
       " '-2.256',\n",
       " '13.377',\n",
       " '-68.680',\n",
       " '-87.550',\n",
       " '-87.540',\n",
       " '-87.530',\n",
       " '-99.040',\n",
       " '38.176',\n",
       " '-67.124',\n",
       " '37.128',\n",
       " '-121.181',\n",
       " '-78.013',\n",
       " '-75.830',\n",
       " '27.168',\n",
       " '-71.860',\n",
       " '-94.090',\n",
       " '37.051',\n",
       " '14.447',\n",
       " '21.070',\n",
       " '39.397',\n",
       " '-29.264',\n",
       " '15.672',\n",
       " '-92.390',\n",
       " '-66.859',\n",
       " '34.161',\n",
       " '37.473',\n",
       " '106.710',\n",
       " '-4.263',\n",
       " '167.461',\n",
       " '-68.930',\n",
       " '-115.592',\n",
       " '36.882',\n",
       " '-66.840',\n",
       " '32.587',\n",
       " '-100.120',\n",
       " '-66.500',\n",
       " '-93.990']"
      ]
     },
     "execution_count": 67,
     "metadata": {},
     "output_type": "execute_result"
    }
   ],
   "source": [
    "[e.text.strip() for e in longitud][1:]"
   ]
  },
  {
   "cell_type": "code",
   "execution_count": 68,
   "metadata": {},
   "outputs": [
    {
     "data": {
      "text/plain": [
       "['2',\n",
       " '8',\n",
       " '7',\n",
       " '10',\n",
       " '105',\n",
       " '32',\n",
       " '3',\n",
       " '5',\n",
       " '205',\n",
       " '95',\n",
       " '34',\n",
       " '32',\n",
       " '10',\n",
       " '31',\n",
       " '12',\n",
       " '83',\n",
       " '116',\n",
       " '16',\n",
       " '12',\n",
       " '199',\n",
       " '243',\n",
       " '27',\n",
       " '95',\n",
       " '37',\n",
       " '15',\n",
       " '14',\n",
       " '2',\n",
       " '96',\n",
       " '5',\n",
       " '5',\n",
       " '8',\n",
       " '10',\n",
       " '7',\n",
       " '21',\n",
       " '10',\n",
       " '6',\n",
       " '14',\n",
       " '10',\n",
       " '0',\n",
       " '11',\n",
       " '5',\n",
       " '9',\n",
       " '14',\n",
       " '106',\n",
       " '215',\n",
       " '211',\n",
       " '36',\n",
       " '9',\n",
       " '115',\n",
       " '0',\n",
       " '14',\n",
       " '140',\n",
       " '0',\n",
       " '26',\n",
       " '20',\n",
       " '129',\n",
       " '5',\n",
       " '8',\n",
       " '36',\n",
       " '18',\n",
       " '105',\n",
       " '32',\n",
       " '29',\n",
       " '0',\n",
       " '12',\n",
       " '130',\n",
       " '5',\n",
       " '6',\n",
       " '3',\n",
       " '3',\n",
       " '17',\n",
       " '8',\n",
       " '14',\n",
       " '5',\n",
       " '10',\n",
       " '55',\n",
       " '10',\n",
       " '28',\n",
       " '16',\n",
       " '5',\n",
       " '11',\n",
       " '10',\n",
       " '5',\n",
       " '0',\n",
       " '158',\n",
       " '12',\n",
       " '12',\n",
       " '10',\n",
       " '4',\n",
       " '86',\n",
       " '8',\n",
       " '99',\n",
       " '135',\n",
       " '5',\n",
       " '9',\n",
       " '19',\n",
       " '3',\n",
       " '5',\n",
       " '254',\n",
       " '10']"
      ]
     },
     "execution_count": 68,
     "metadata": {},
     "output_type": "execute_result"
    }
   ],
   "source": [
    "[e.text.strip() for e in depth][1:]"
   ]
  },
  {
   "cell_type": "code",
   "execution_count": 89,
   "metadata": {},
   "outputs": [],
   "source": [
    "date = [e.text.strip('\\n') for e in driver.find_elements(By.CLASS_NAME, 'tbdat')][1:]\n",
    "latitude = [e.text.strip('\\n') for e in driver.find_elements(By.CLASS_NAME, 'tblat')][1:]\n",
    "longitude = [e.text.strip('\\n') for e in driver.find_elements(By.CLASS_NAME, 'tblon')][1:]\n",
    "depth = [e.text.strip('\\n') for e in driver.find_elements(By.CLASS_NAME, 'tbdep')][1:]\n",
    "magnitude = [e.text.strip('\\n') for e in driver.find_elements(By.CLASS_NAME, 'tbmag')][1:]\n",
    "region_name = [e.text.strip('\\n') for e in driver.find_elements(By.CLASS_NAME, 'tbreg')][1:]"
   ]
  },
  {
   "cell_type": "code",
   "execution_count": 69,
   "metadata": {},
   "outputs": [
    {
     "data": {
      "text/plain": [
       "['0.8',\n",
       " '2.7',\n",
       " '2.0',\n",
       " '3.3',\n",
       " '3.1',\n",
       " '4.0',\n",
       " '1.5',\n",
       " '2.8',\n",
       " '3.6',\n",
       " '2.5',\n",
       " '3.2',\n",
       " '2.6',\n",
       " '2.5',\n",
       " '3.3',\n",
       " '3.1',\n",
       " '4.2',\n",
       " '2.6',\n",
       " '3.0',\n",
       " '3.2',\n",
       " '4.8',\n",
       " '3.4',\n",
       " '2.1',\n",
       " '2.8',\n",
       " '2.2',\n",
       " '3.3',\n",
       " '4.1',\n",
       " '2.3',\n",
       " '2.7',\n",
       " '2.0',\n",
       " '2.5',\n",
       " '2.2',\n",
       " '2.5',\n",
       " '4.9',\n",
       " '2.4',\n",
       " '3.7',\n",
       " '3.0',\n",
       " '4.4',\n",
       " '3.6',\n",
       " '2.1',\n",
       " '2.2',\n",
       " '3.9',\n",
       " '2.3',\n",
       " '3.7',\n",
       " '2.9',\n",
       " '4.0',\n",
       " '2.8',\n",
       " '2.8',\n",
       " '2.1',\n",
       " '3.8',\n",
       " '2.1',\n",
       " '3.2',\n",
       " '4.3',\n",
       " '2.3',\n",
       " '2.5',\n",
       " '2.8',\n",
       " '3.1',\n",
       " '3.1',\n",
       " '2.5',\n",
       " '3.5',\n",
       " '3.6',\n",
       " '2.5',\n",
       " '3.0',\n",
       " '2.0',\n",
       " '2.1',\n",
       " '2.1',\n",
       " '4.1',\n",
       " '2.7',\n",
       " '3.1',\n",
       " '2.9',\n",
       " '3.7',\n",
       " '2.1',\n",
       " '2.2',\n",
       " '2.2',\n",
       " '2.2',\n",
       " '3.0',\n",
       " '4.3',\n",
       " '2.1',\n",
       " '2.5',\n",
       " '3.9',\n",
       " '2.9',\n",
       " '2.1',\n",
       " '3.4',\n",
       " '3.6',\n",
       " '2.2',\n",
       " '2.4',\n",
       " '3.9',\n",
       " '2.8',\n",
       " '2.0',\n",
       " '2.4',\n",
       " '3.2',\n",
       " '1.9',\n",
       " '3.8',\n",
       " '3.8',\n",
       " '4.2',\n",
       " '1.8',\n",
       " '2.9',\n",
       " '2.4',\n",
       " '3.4',\n",
       " '3.4',\n",
       " '3.8']"
      ]
     },
     "execution_count": 69,
     "metadata": {},
     "output_type": "execute_result"
    }
   ],
   "source": [
    "[e.text.strip() for e in mag][1:]"
   ]
  },
  {
   "cell_type": "code",
   "execution_count": 87,
   "metadata": {},
   "outputs": [],
   "source": [
    "region = [e.text.strip() for e in region][1:]"
   ]
  },
  {
   "cell_type": "code",
   "execution_count": 91,
   "metadata": {},
   "outputs": [
    {
     "data": {
      "text/html": [
       "<div>\n",
       "<style scoped>\n",
       "    .dataframe tbody tr th:only-of-type {\n",
       "        vertical-align: middle;\n",
       "    }\n",
       "\n",
       "    .dataframe tbody tr th {\n",
       "        vertical-align: top;\n",
       "    }\n",
       "\n",
       "    .dataframe thead th {\n",
       "        text-align: right;\n",
       "    }\n",
       "</style>\n",
       "<table border=\"1\" class=\"dataframe\">\n",
       "  <thead>\n",
       "    <tr style=\"text-align: right;\">\n",
       "      <th></th>\n",
       "      <th>Date</th>\n",
       "      <th>Latitude</th>\n",
       "      <th>Longitude</th>\n",
       "      <th>Depth</th>\n",
       "      <th>Magnitude</th>\n",
       "      <th>Region</th>\n",
       "    </tr>\n",
       "  </thead>\n",
       "  <tbody>\n",
       "    <tr>\n",
       "      <th>0</th>\n",
       "      <td>2023-08-02 15:38:00\\n4 min ago</td>\n",
       "      <td>37.453</td>\n",
       "      <td>-121.776</td>\n",
       "      <td>6</td>\n",
       "      <td>2.1</td>\n",
       "      <td>SAN FRANCISCO BAY AREA, CALIF.</td>\n",
       "    </tr>\n",
       "    <tr>\n",
       "      <th>1</th>\n",
       "      <td>2023-08-02 15:24:23\\n18 min ago</td>\n",
       "      <td>-9.210</td>\n",
       "      <td>115.380</td>\n",
       "      <td>59</td>\n",
       "      <td>3.4</td>\n",
       "      <td>SOUTH OF BALI, INDONESIA</td>\n",
       "    </tr>\n",
       "    <tr>\n",
       "      <th>2</th>\n",
       "      <td>2023-08-02 15:21:12\\n21 min ago</td>\n",
       "      <td>19.114</td>\n",
       "      <td>-156.064</td>\n",
       "      <td>34</td>\n",
       "      <td>3.8</td>\n",
       "      <td>HAWAII REGION, HAWAII</td>\n",
       "    </tr>\n",
       "    <tr>\n",
       "      <th>3</th>\n",
       "      <td>2023-08-02 15:20:50\\n22 min ago</td>\n",
       "      <td>12.740</td>\n",
       "      <td>-88.080</td>\n",
       "      <td>60</td>\n",
       "      <td>2.7</td>\n",
       "      <td>OFFSHORE EL SALVADOR</td>\n",
       "    </tr>\n",
       "    <tr>\n",
       "      <th>4</th>\n",
       "      <td>2023-08-02 15:05:34\\n37 min ago</td>\n",
       "      <td>46.305</td>\n",
       "      <td>13.658</td>\n",
       "      <td>2</td>\n",
       "      <td>0.8</td>\n",
       "      <td>SLOVENIA</td>\n",
       "    </tr>\n",
       "    <tr>\n",
       "      <th>...</th>\n",
       "      <td>...</td>\n",
       "      <td>...</td>\n",
       "      <td>...</td>\n",
       "      <td>...</td>\n",
       "      <td>...</td>\n",
       "      <td>...</td>\n",
       "    </tr>\n",
       "    <tr>\n",
       "      <th>96</th>\n",
       "      <td>2023-08-02 05:48:53\\n9 hr 54 min ago</td>\n",
       "      <td>-44.966</td>\n",
       "      <td>167.461</td>\n",
       "      <td>99</td>\n",
       "      <td>3.8</td>\n",
       "      <td>SOUTH ISLAND OF NEW ZEALAND</td>\n",
       "    </tr>\n",
       "    <tr>\n",
       "      <th>97</th>\n",
       "      <td>2023-08-02 05:40:35\\n10 hr 02 min ago</td>\n",
       "      <td>-22.300</td>\n",
       "      <td>-68.930</td>\n",
       "      <td>135</td>\n",
       "      <td>3.8</td>\n",
       "      <td>ANTOFAGASTA, CHILE</td>\n",
       "    </tr>\n",
       "    <tr>\n",
       "      <th>98</th>\n",
       "      <td>2023-08-02 05:38:08\\n10 hr 04 min ago</td>\n",
       "      <td>33.172</td>\n",
       "      <td>-115.592</td>\n",
       "      <td>5</td>\n",
       "      <td>4.2</td>\n",
       "      <td>SOUTHERN CALIFORNIA</td>\n",
       "    </tr>\n",
       "    <tr>\n",
       "      <th>99</th>\n",
       "      <td>2023-08-02 05:36:41\\n10 hr 06 min ago</td>\n",
       "      <td>38.066</td>\n",
       "      <td>36.882</td>\n",
       "      <td>9</td>\n",
       "      <td>1.8</td>\n",
       "      <td>CENTRAL TURKEY</td>\n",
       "    </tr>\n",
       "    <tr>\n",
       "      <th>100</th>\n",
       "      <td>2023-08-02 05:30:56\\n10 hr 11 min ago</td>\n",
       "      <td>18.546</td>\n",
       "      <td>-66.840</td>\n",
       "      <td>19</td>\n",
       "      <td>2.9</td>\n",
       "      <td>PUERTO RICO REGION</td>\n",
       "    </tr>\n",
       "  </tbody>\n",
       "</table>\n",
       "<p>101 rows × 6 columns</p>\n",
       "</div>"
      ],
      "text/plain": [
       "                                      Date Latitude Longitude Depth Magnitude  \\\n",
       "0           2023-08-02 15:38:00\\n4 min ago   37.453  -121.776     6       2.1   \n",
       "1          2023-08-02 15:24:23\\n18 min ago   -9.210   115.380    59       3.4   \n",
       "2          2023-08-02 15:21:12\\n21 min ago   19.114  -156.064    34       3.8   \n",
       "3          2023-08-02 15:20:50\\n22 min ago   12.740   -88.080    60       2.7   \n",
       "4          2023-08-02 15:05:34\\n37 min ago   46.305    13.658     2       0.8   \n",
       "..                                     ...      ...       ...   ...       ...   \n",
       "96    2023-08-02 05:48:53\\n9 hr 54 min ago  -44.966   167.461    99       3.8   \n",
       "97   2023-08-02 05:40:35\\n10 hr 02 min ago  -22.300   -68.930   135       3.8   \n",
       "98   2023-08-02 05:38:08\\n10 hr 04 min ago   33.172  -115.592     5       4.2   \n",
       "99   2023-08-02 05:36:41\\n10 hr 06 min ago   38.066    36.882     9       1.8   \n",
       "100  2023-08-02 05:30:56\\n10 hr 11 min ago   18.546   -66.840    19       2.9   \n",
       "\n",
       "                             Region  \n",
       "0    SAN FRANCISCO BAY AREA, CALIF.  \n",
       "1          SOUTH OF BALI, INDONESIA  \n",
       "2             HAWAII REGION, HAWAII  \n",
       "3              OFFSHORE EL SALVADOR  \n",
       "4                          SLOVENIA  \n",
       "..                              ...  \n",
       "96      SOUTH ISLAND OF NEW ZEALAND  \n",
       "97               ANTOFAGASTA, CHILE  \n",
       "98              SOUTHERN CALIFORNIA  \n",
       "99                   CENTRAL TURKEY  \n",
       "100              PUERTO RICO REGION  \n",
       "\n",
       "[101 rows x 6 columns]"
      ]
     },
     "execution_count": 91,
     "metadata": {},
     "output_type": "execute_result"
    }
   ],
   "source": [
    "data = {\n",
    "    'Date': date,\n",
    "    'Latitude': latitude,\n",
    "    'Longitude': longitude,\n",
    "    'Depth': depth,\n",
    "    'Magnitude': magnitude,\n",
    "    'Region': region_name\n",
    "}\n",
    "\n",
    "\n",
    "\n",
    "\n",
    "\n",
    "\n",
    "earthquake_df = pd.DataFrame(data)\n",
    "earthquake_df"
   ]
  },
  {
   "cell_type": "markdown",
   "metadata": {},
   "source": [
    "#### Count number of tweets by a given Twitter account."
   ]
  },
  {
   "cell_type": "markdown",
   "metadata": {},
   "source": [
    "You will need to include a ***try/except block*** for account names not found. \n",
    "<br>***Hint:*** the program should count the number of tweets for any provided account"
   ]
  },
  {
   "cell_type": "code",
   "execution_count": null,
   "metadata": {},
   "outputs": [],
   "source": [
    "# This is the url you will scrape in this exercise \n",
    "# You will need to add the account credentials to this url\n",
    "url = 'https://twitter.com/'"
   ]
  },
  {
   "cell_type": "code",
   "execution_count": null,
   "metadata": {},
   "outputs": [],
   "source": [
    "#your code"
   ]
  },
  {
   "cell_type": "markdown",
   "metadata": {},
   "source": [
    "#### Number of followers of a given twitter account"
   ]
  },
  {
   "cell_type": "markdown",
   "metadata": {},
   "source": [
    "You will need to include a ***try/except block*** in case account/s name not found. \n",
    "<br>***Hint:*** the program should count the followers for any provided account"
   ]
  },
  {
   "cell_type": "code",
   "execution_count": null,
   "metadata": {},
   "outputs": [],
   "source": [
    "# This is the url you will scrape in this exercise \n",
    "# You will need to add the account credentials to this url\n",
    "url = 'https://twitter.com/'"
   ]
  },
  {
   "cell_type": "code",
   "execution_count": null,
   "metadata": {},
   "outputs": [],
   "source": [
    "#your code"
   ]
  },
  {
   "cell_type": "markdown",
   "metadata": {},
   "source": [
    "#### List all language names and number of related articles in the order they appear in wikipedia.org"
   ]
  },
  {
   "cell_type": "code",
   "execution_count": null,
   "metadata": {},
   "outputs": [],
   "source": [
    "# This is the url you will scrape in this exercise\n",
    "url = 'https://www.wikipedia.org/'"
   ]
  },
  {
   "cell_type": "code",
   "execution_count": null,
   "metadata": {},
   "outputs": [],
   "source": [
    "#your code"
   ]
  },
  {
   "cell_type": "markdown",
   "metadata": {},
   "source": [
    "#### A list with the different kind of datasets available in data.gov.uk "
   ]
  },
  {
   "cell_type": "code",
   "execution_count": null,
   "metadata": {},
   "outputs": [],
   "source": [
    "# This is the url you will scrape in this exercise\n",
    "url = 'https://data.gov.uk/'"
   ]
  },
  {
   "cell_type": "code",
   "execution_count": null,
   "metadata": {},
   "outputs": [],
   "source": [
    "#your code "
   ]
  },
  {
   "cell_type": "markdown",
   "metadata": {},
   "source": [
    "#### Top 10 languages by number of native speakers stored in a Pandas Dataframe"
   ]
  },
  {
   "cell_type": "code",
   "execution_count": null,
   "metadata": {},
   "outputs": [],
   "source": [
    "# This is the url you will scrape in this exercise\n",
    "url = 'https://en.wikipedia.org/wiki/List_of_languages_by_number_of_native_speakers'"
   ]
  },
  {
   "cell_type": "code",
   "execution_count": null,
   "metadata": {},
   "outputs": [],
   "source": [
    "#your code"
   ]
  },
  {
   "cell_type": "markdown",
   "metadata": {},
   "source": [
    "### BONUS QUESTIONS"
   ]
  },
  {
   "cell_type": "markdown",
   "metadata": {},
   "source": [
    "#### Scrape a certain number of tweets of a given Twitter account."
   ]
  },
  {
   "cell_type": "code",
   "execution_count": null,
   "metadata": {},
   "outputs": [],
   "source": [
    "# This is the url you will scrape in this exercise \n",
    "# You will need to add the account credentials to this url\n",
    "url = 'https://twitter.com/'"
   ]
  },
  {
   "cell_type": "code",
   "execution_count": null,
   "metadata": {},
   "outputs": [],
   "source": [
    "# your code"
   ]
  },
  {
   "cell_type": "markdown",
   "metadata": {},
   "source": [
    "#### IMDB's Top 250 data (movie name, Initial release, director name and stars) as a pandas dataframe"
   ]
  },
  {
   "cell_type": "code",
   "execution_count": null,
   "metadata": {},
   "outputs": [],
   "source": [
    "# This is the url you will scrape in this exercise \n",
    "url = 'https://www.imdb.com/chart/top'"
   ]
  },
  {
   "cell_type": "code",
   "execution_count": null,
   "metadata": {},
   "outputs": [],
   "source": [
    "# your code"
   ]
  },
  {
   "cell_type": "markdown",
   "metadata": {},
   "source": [
    "#### Movie name, year and a brief summary of the top 10 random movies (IMDB) as a pandas dataframe."
   ]
  },
  {
   "cell_type": "code",
   "execution_count": null,
   "metadata": {},
   "outputs": [],
   "source": [
    "#This is the url you will scrape in this exercise\n",
    "url = 'http://www.imdb.com/chart/top'"
   ]
  },
  {
   "cell_type": "code",
   "execution_count": null,
   "metadata": {},
   "outputs": [],
   "source": [
    "#your code"
   ]
  },
  {
   "cell_type": "markdown",
   "metadata": {},
   "source": [
    "#### Find the live weather report (temperature, wind speed, description and weather) of a given city."
   ]
  },
  {
   "cell_type": "code",
   "execution_count": null,
   "metadata": {},
   "outputs": [],
   "source": [
    "#https://openweathermap.org/current\n",
    "city = city=input('Enter the city:')\n",
    "url = 'http://api.openweathermap.org/data/2.5/weather?'+'q='+city+'&APPID=b35975e18dc93725acb092f7272cc6b8&units=metric'"
   ]
  },
  {
   "cell_type": "code",
   "execution_count": null,
   "metadata": {},
   "outputs": [],
   "source": [
    "# your code"
   ]
  },
  {
   "cell_type": "markdown",
   "metadata": {},
   "source": [
    "#### Book name,price and stock availability as a pandas dataframe."
   ]
  },
  {
   "cell_type": "code",
   "execution_count": null,
   "metadata": {},
   "outputs": [],
   "source": [
    "# This is the url you will scrape in this exercise. \n",
    "# It is a fictional bookstore created to be scraped. \n",
    "url = 'http://books.toscrape.com/'"
   ]
  },
  {
   "cell_type": "code",
   "execution_count": null,
   "metadata": {},
   "outputs": [],
   "source": [
    "#your code"
   ]
  }
 ],
 "metadata": {
  "kernelspec": {
   "display_name": "Nicolas",
   "language": "python",
   "name": "nicolas"
  },
  "language_info": {
   "codemirror_mode": {
    "name": "ipython",
    "version": 3
   },
   "file_extension": ".py",
   "mimetype": "text/x-python",
   "name": "python",
   "nbconvert_exporter": "python",
   "pygments_lexer": "ipython3",
   "version": "3.11.3"
  }
 },
 "nbformat": 4,
 "nbformat_minor": 2
}
