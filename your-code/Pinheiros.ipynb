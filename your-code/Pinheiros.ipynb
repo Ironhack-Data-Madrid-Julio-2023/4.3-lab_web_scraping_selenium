{
 "cells": [
  {
   "cell_type": "code",
   "execution_count": 21,
   "id": "3f68b7a7",
   "metadata": {},
   "outputs": [],
   "source": [
    "import time\n",
    "from seleniumwire import webdriver\n",
    "from selenium.webdriver.chrome.service import Service\n",
    "from webdriver_manager.chrome import ChromeDriverManager\n",
    "from selenium.webdriver.common.by import By\n",
    "from selenium.webdriver.chrome.options import Options\n",
    "from selenium.common.exceptions import NoSuchElementException\n",
    "from selenium.webdriver.support.ui import WebDriverWait\n",
    "from selenium.webdriver.support import expected_conditions as EC\n",
    "from selenium.common.exceptions import StaleElementReferenceException\n",
    "from selenium.webdriver.common.action_chains import ActionChains\n",
    "\n",
    "opciones=Options()\n",
    "\n",
    "opciones.add_experimental_option('excludeSwitches', ['enable-automation'])\n",
    "opciones.add_experimental_option('useAutomationExtension', False)\n",
    "opciones.headless=False    \n",
    "opciones.add_argument('--start-maximized')         \n",
    "opciones.add_argument('--incognito')\n",
    "opciones.add_argument(\"--disable-cookies\")\n"
   ]
  },
  {
   "cell_type": "code",
   "execution_count": 22,
   "id": "c73ed165",
   "metadata": {},
   "outputs": [],
   "source": [
    "# Initialize the Chrome driver\n",
    "driver = webdriver.Chrome(service=Service(ChromeDriverManager().install()), options=opciones)\n",
    "\n",
    "url = \"https://www.booking.com/searchresults.pt-br.html?ss=Pinheiros%2C+S%C3%A3o+Paulo%2C+Estado+de+S%C3%A3o+Paulo%2C+Brasil&ssne=S%C3%A3o+Paulo&ssne_untouched=S%C3%A3o+Paulo&efdco=1&label=pt-br-booking-desktop-9_uvqir24qvA6x6xGiDvCQS652796015463%3Apl%3Ata%3Ap1%3Ap2%3Aac%3Aap%3Aneg%3Afi%3Atikwd-65526620%3Alp9061033%3Ali1001773%3Adec%3Adm&aid=2311236&lang=pt-br&sb=1&src_elem=sb&src=index&dest_id=2350&dest_type=district&ac_position=0&ac_click_type=b&ac_langcode=xb&ac_suggestion_list_length=5&search_selected=true&search_pageview_id=6a8e61d6955d032f&ac_meta=GhA2YThlNjFkNjk1NWQwMzJmIAAoATICeGI6CXBpbmhlaXJvc0AASgBQAA%3D%3D&checkin=2023-09-12&checkout=2023-09-13&group_adults=2&no_rooms=1&group_children=0&sb_travel_purpose=leisure\"\n",
    "driver.get(url)"
   ]
  },
  {
   "cell_type": "code",
   "execution_count": 23,
   "id": "ced35434",
   "metadata": {},
   "outputs": [],
   "source": [
    "wait = WebDriverWait(driver, 20)\n",
    "\n",
    "try:\n",
    "    cookie_button = wait.until(EC.element_to_be_clickable((By.ID, \"onetrust-reject-all-handler\")))\n",
    "    cookie_button.click()\n",
    "    \n",
    "    \n",
    "except TimeoutException:\n",
    "    pass  "
   ]
  },
  {
   "cell_type": "code",
   "execution_count": 24,
   "id": "a6b729c0",
   "metadata": {},
   "outputs": [],
   "source": [
    "button = driver.find_element(By.CSS_SELECTOR, 'button[data-testid=\"header-currency-picker-trigger\"]')\n",
    "button.click()"
   ]
  },
  {
   "cell_type": "code",
   "execution_count": 25,
   "id": "71b606be",
   "metadata": {},
   "outputs": [],
   "source": [
    "button = driver.find_element(By.CSS_SELECTOR, 'button[data-testid=\"selection-item\"]')\n",
    "button.click()"
   ]
  },
  {
   "cell_type": "code",
   "execution_count": 26,
   "id": "5cc6303b",
   "metadata": {},
   "outputs": [],
   "source": [
    "try:\n",
    "    \n",
    "    button_element = driver.find_element(By.XPATH, \"//button[@aria-label='Ignorar informações de login.']\")\n",
    "    button_element.click()\n",
    "except NoSuchElementException:\n",
    "    pass"
   ]
  },
  {
   "cell_type": "code",
   "execution_count": 42,
   "id": "4e3ce3df",
   "metadata": {},
   "outputs": [
    {
     "name": "stdout",
     "output_type": "stream",
     "text": [
      "Total pages: 4\n"
     ]
    }
   ],
   "source": [
    "properties = []\n",
    "\n",
    "\n",
    "def extract_properties():\n",
    "    property_cards = driver.find_elements(By.CSS_SELECTOR, 'div[data-testid=\"property-card\"]')\n",
    "    for property in property_cards:\n",
    "        name = property.find_element(By.CSS_SELECTOR, 'div[data-testid=\"title\"]').text\n",
    "        price = property.find_element(By.CSS_SELECTOR, '[data-testid=\"price-and-discounted-price\"]').text\n",
    "        chk_out = property.find_element(By.XPATH, '//button[contains(@class, \"d47738b911\") and @data-testid=\"date-display-field-end\"]').text\n",
    "        \n",
    "        new_property = {}\n",
    "        new_property['name'] = name\n",
    "        new_property['price'] = price\n",
    "        new_property['chk_out'] = chk_out\n",
    "        \n",
    "        properties.append(new_property)\n",
    "\n",
    "\n",
    "total_pages = int(driver.find_element(By.CSS_SELECTOR, 'div[data-testid=\"pagination\"] li:last-child').text)\n",
    "print(f\"Total pages: {total_pages}\")\n",
    "\n",
    "current_page = 0"
   ]
  },
  {
   "cell_type": "code",
   "execution_count": 43,
   "id": "bdf70b3c",
   "metadata": {},
   "outputs": [],
   "source": [
    "for current_page in range(total_pages):\n",
    "    driver.delete_all_cookies()\n",
    "    extract_properties()\n",
    "    next_page_btn = driver.find_element(By.CSS_SELECTOR, 'button[aria-label*=\"Página seguinte\"]')\n",
    "    next_page_btn.click()"
   ]
  },
  {
   "cell_type": "code",
   "execution_count": 44,
   "id": "c5d77bfe",
   "metadata": {},
   "outputs": [
    {
     "name": "stdout",
     "output_type": "stream",
     "text": [
      "[{'name': 'Charlie Alves Guimarães Pinheiros - Soft opening', 'price': 'R$ 485', 'chk_out': 'qua., 13 de set.'}, {'name': 'Uniclass Hotel Pinheiros', 'price': 'R$ 417', 'chk_out': 'qua., 13 de set.'}, {'name': 'Charlie Faria Lima', 'price': 'R$ 517', 'chk_out': 'qua., 13 de set.'}, {'name': 'Studio Quality Oscar Freire', 'price': 'R$ 307', 'chk_out': 'qua., 13 de set.'}, {'name': 'Charlie Rua dos Pinheiros', 'price': 'R$ 435', 'chk_out': 'qua., 13 de set.'}, {'name': 'Ô de Casa Hostel', 'price': 'R$ 209', 'chk_out': 'qua., 13 de set.'}, {'name': 'Radisson Pinheiros', 'price': 'R$ 1.307', 'chk_out': 'qua., 13 de set.'}, {'name': 'Q-Flats Hotel - Faria Lima', 'price': 'R$ 419', 'chk_out': 'qua., 13 de set.'}, {'name': 'Guest Urban Hotel Design Pinheiros', 'price': 'R$ 437', 'chk_out': 'qua., 13 de set.'}, {'name': 'Casa Savana', 'price': 'R$ 360', 'chk_out': 'qua., 13 de set.'}, {'name': 'Filadelfia Hotel', 'price': 'R$ 218', 'chk_out': 'qua., 13 de set.'}, {'name': 'HomeLike ao lado da Av Faria Lima', 'price': 'R$ 421', 'chk_out': 'qua., 13 de set.'}, {'name': 'Studio Ben', 'price': 'R$ 269', 'chk_out': 'qua., 13 de set.'}, {'name': 'Hostel e Pousada Vila Madalena', 'price': 'R$ 199', 'chk_out': 'qua., 13 de set.'}, {'name': 'Golden Tower Pinheiros by Fênix Hotéis', 'price': 'R$ 919', 'chk_out': 'qua., 13 de set.'}, {'name': 'Moderno e sofisticado', 'price': 'R$ 640', 'chk_out': 'qua., 13 de set.'}, {'name': 'Cawy Pinheiros - São Paulo', 'price': 'R$ 334', 'chk_out': 'qua., 13 de set.'}, {'name': 'Elite Oscar Freire - Vivare', 'price': 'R$ 462', 'chk_out': 'qua., 13 de set.'}, {'name': 'Flat Capote Valente 500 Pinheiros', 'price': 'R$ 349', 'chk_out': 'qua., 13 de set.'}, {'name': 'Pousada e Hostel São Paulo Comfort', 'price': 'R$ 260', 'chk_out': 'qua., 13 de set.'}, {'name': 'Studio Living Mercure Pinheiros', 'price': 'R$ 402', 'chk_out': 'qua., 13 de set.'}, {'name': 'Apartamentos Vila Madalena', 'price': 'R$ 433', 'chk_out': 'qua., 13 de set.'}, {'name': 'Hostel Brasil Boutique', 'price': 'R$ 180', 'chk_out': 'qua., 13 de set.'}, {'name': 'Selina Madalena Sao Paulo', 'price': 'R$ 205', 'chk_out': 'qua., 13 de set.'}, {'name': 'Comfort Flat Pinheiros em Hotel 4,5 estrelas', 'price': 'R$ 536', 'chk_out': 'qua., 13 de set.'}, {'name': 'Charlie Alves Guimarães Pinheiros - Soft opening', 'price': 'R$ 485', 'chk_out': 'qua., 13 de set.'}, {'name': 'Uniclass Hotel Pinheiros', 'price': 'R$ 417', 'chk_out': 'qua., 13 de set.'}, {'name': 'Charlie Faria Lima', 'price': 'R$ 517', 'chk_out': 'qua., 13 de set.'}, {'name': 'Studio Quality Oscar Freire', 'price': 'R$ 307', 'chk_out': 'qua., 13 de set.'}, {'name': 'Charlie Rua dos Pinheiros', 'price': 'R$ 435', 'chk_out': 'qua., 13 de set.'}, {'name': 'Ô de Casa Hostel', 'price': 'R$ 209', 'chk_out': 'qua., 13 de set.'}, {'name': 'Radisson Pinheiros', 'price': 'R$ 1.307', 'chk_out': 'qua., 13 de set.'}, {'name': 'Q-Flats Hotel - Faria Lima', 'price': 'R$ 419', 'chk_out': 'qua., 13 de set.'}, {'name': 'Guest Urban Hotel Design Pinheiros', 'price': 'R$ 437', 'chk_out': 'qua., 13 de set.'}, {'name': 'Casa Savana', 'price': 'R$ 360', 'chk_out': 'qua., 13 de set.'}, {'name': 'Filadelfia Hotel', 'price': 'R$ 218', 'chk_out': 'qua., 13 de set.'}, {'name': 'HomeLike ao lado da Av Faria Lima', 'price': 'R$ 421', 'chk_out': 'qua., 13 de set.'}, {'name': 'Studio Ben', 'price': 'R$ 269', 'chk_out': 'qua., 13 de set.'}, {'name': 'Hostel e Pousada Vila Madalena', 'price': 'R$ 199', 'chk_out': 'qua., 13 de set.'}, {'name': 'Golden Tower Pinheiros by Fênix Hotéis', 'price': 'R$ 919', 'chk_out': 'qua., 13 de set.'}, {'name': 'Moderno e sofisticado', 'price': 'R$ 640', 'chk_out': 'qua., 13 de set.'}, {'name': 'Cawy Pinheiros - São Paulo', 'price': 'R$ 334', 'chk_out': 'qua., 13 de set.'}, {'name': 'Elite Oscar Freire - Vivare', 'price': 'R$ 462', 'chk_out': 'qua., 13 de set.'}, {'name': 'Flat Capote Valente 500 Pinheiros', 'price': 'R$ 349', 'chk_out': 'qua., 13 de set.'}, {'name': 'Pousada e Hostel São Paulo Comfort', 'price': 'R$ 260', 'chk_out': 'qua., 13 de set.'}, {'name': 'Studio Living Mercure Pinheiros', 'price': 'R$ 402', 'chk_out': 'qua., 13 de set.'}, {'name': 'Apartamentos Vila Madalena', 'price': 'R$ 433', 'chk_out': 'qua., 13 de set.'}, {'name': 'Hostel Brasil Boutique', 'price': 'R$ 180', 'chk_out': 'qua., 13 de set.'}, {'name': 'Selina Madalena Sao Paulo', 'price': 'R$ 205', 'chk_out': 'qua., 13 de set.'}, {'name': 'Comfort Flat Pinheiros em Hotel 4,5 estrelas', 'price': 'R$ 536', 'chk_out': 'qua., 13 de set.'}, {'name': 'Charlie Oscar Freire', 'price': 'R$ 505', 'chk_out': 'qua., 13 de set.'}, {'name': 'Apartamento espaçoso em Pinheiros ao lado do metrô', 'price': 'R$ 627', 'chk_out': 'qua., 13 de set.'}, {'name': 'Xtay São Paulo Oscar Freire', 'price': 'R$ 493', 'chk_out': 'qua., 13 de set.'}, {'name': 'Quality Suítes Oscar Freire - Ex Comfort Suítes', 'price': 'R$ 977', 'chk_out': 'qua., 13 de set.'}, {'name': 'Happy Sweet Home 3', 'price': 'R$ 343', 'chk_out': 'qua., 13 de set.'}, {'name': 'Cawy Cardeal Arcoverde - Prox ao metrô Faria Lima', 'price': 'R$ 617', 'chk_out': 'qua., 13 de set.'}, {'name': 'Vossa Bossa Pinheiros Style', 'price': 'R$ 348', 'chk_out': 'qua., 13 de set.'}, {'name': 'Studio Oscar Freire, na rua mais luxuosa de SP!1120', 'price': 'R$ 574', 'chk_out': 'qua., 13 de set.'}, {'name': 'VN Oscar Freire com piscina', 'price': 'R$ 495', 'chk_out': 'qua., 13 de set.'}, {'name': 'QY1207 Flat na Faria Lima Com Vaga de Garagem', 'price': 'R$ 503', 'chk_out': 'qua., 13 de set.'}, {'name': 'Dois quartos HC, Metrô e Oscar Freire', 'price': 'R$ 505', 'chk_out': 'qua., 13 de set.'}, {'name': 'Lamparina Hostel', 'price': 'R$ 255', 'chk_out': 'qua., 13 de set.'}, {'name': '360 Suítes VN Capote Valente - Apartamentos mobiliados', 'price': 'R$ 450', 'chk_out': 'qua., 13 de set.'}, {'name': 'Loft Moderno na Rua Oscar Freire - Jardins', 'price': 'R$ 513', 'chk_out': 'qua., 13 de set.'}, {'name': 'Flat Lux Mercure in Pinheiros', 'price': 'R$ 530', 'chk_out': 'qua., 13 de set.'}, {'name': 'Duplex de Luxo Oscar Freire', 'price': 'R$ 1.260', 'chk_out': 'qua., 13 de set.'}, {'name': 'MichiH - Lindo Studio em Pinheiros', 'price': 'R$ 415', 'chk_out': 'qua., 13 de set.'}, {'name': 'Apartamento Contemporâneo Na Oscar Freire', 'price': 'R$ 4.228', 'chk_out': 'qua., 13 de set.'}, {'name': 'Pousada e Hostel São Paulo Econômica', 'price': 'R$ 199', 'chk_out': 'qua., 13 de set.'}, {'name': '360 Suítes Summit Pinheiros - Apartamentos Mobiliados', 'price': 'R$ 315', 'chk_out': 'qua., 13 de set.'}, {'name': 'Studio exclusivo na Rua Oscar Freire Novo', 'price': 'R$ 455', 'chk_out': 'qua., 13 de set.'}, {'name': 'SP-VTFL - Ventura Faria Lima', 'price': 'R$ 420', 'chk_out': 'qua., 13 de set.'}, {'name': 'Apto Alto padrão 2 dorms vista para Piscina até 6 pessoas', 'price': 'R$ 970', 'chk_out': 'qua., 13 de set.'}, {'name': 'MichiH - Perfeito Studio em Pinheiros', 'price': 'R$ 438', 'chk_out': 'qua., 13 de set.'}, {'name': 'Studio no Jardins proximo Metro Oscar Freire', 'price': 'R$ 499', 'chk_out': 'qua., 13 de set.'}, {'name': 'Studio no Jardins proximo Metro Oscar Freire', 'price': 'R$ 499', 'chk_out': 'qua., 13 de set.'}, {'name': 'MIO106 Studio Em Pinheiros Prox Oscar Freire', 'price': 'R$ 493', 'chk_out': 'qua., 13 de set.'}, {'name': 'Condomínio luxuoso, apenas 50m do metrô Oscar freire e 5 minutos da Paulista', 'price': 'R$ 433', 'chk_out': 'qua., 13 de set.'}, {'name': 'Condomínio Fradik - Coração da Vila Madalena', 'price': 'R$ 476', 'chk_out': 'qua., 13 de set.'}, {'name': 'Apto luxuoso alto padrão Jardins VN C', 'price': 'R$ 630', 'chk_out': 'qua., 13 de set.'}, {'name': 'MiP6 Studio Pinheiros OscarFreire Prox Metrô', 'price': 'R$ 457', 'chk_out': 'qua., 13 de set.'}, {'name': 'Vossa Bossa Capote Valente', 'price': 'R$ 429', 'chk_out': 'qua., 13 de set.'}, {'name': 'Loft Oscar Freire, na rua mais luxuosa de SP!', 'price': 'R$ 535', 'chk_out': 'qua., 13 de set.'}, {'name': 'Hotel Pousada Clínicas Valente', 'price': 'R$ 202', 'chk_out': 'qua., 13 de set.'}, {'name': 'Hotel Bali', 'price': 'R$ 240', 'chk_out': 'qua., 13 de set.'}, {'name': 'Pinheiros Hostel & Food', 'price': 'R$ 96', 'chk_out': 'qua., 13 de set.'}, {'name': 'Hostel Calábria 5 minutos da Vila Madalena e Beco do Batman', 'price': 'R$ 187', 'chk_out': 'qua., 13 de set.'}, {'name': 'Vilarejo Hostel Pinheiros Guest House', 'price': 'R$ 145', 'chk_out': 'qua., 13 de set.'}]\n"
     ]
    }
   ],
   "source": [
    "print(properties)"
   ]
  },
  {
   "cell_type": "code",
   "execution_count": 45,
   "id": "44b12266",
   "metadata": {},
   "outputs": [
    {
     "data": {
      "text/html": [
       "<div>\n",
       "<style scoped>\n",
       "    .dataframe tbody tr th:only-of-type {\n",
       "        vertical-align: middle;\n",
       "    }\n",
       "\n",
       "    .dataframe tbody tr th {\n",
       "        vertical-align: top;\n",
       "    }\n",
       "\n",
       "    .dataframe thead th {\n",
       "        text-align: right;\n",
       "    }\n",
       "</style>\n",
       "<table border=\"1\" class=\"dataframe\">\n",
       "  <thead>\n",
       "    <tr style=\"text-align: right;\">\n",
       "      <th></th>\n",
       "      <th>name</th>\n",
       "      <th>price</th>\n",
       "      <th>chk_out</th>\n",
       "    </tr>\n",
       "  </thead>\n",
       "  <tbody>\n",
       "    <tr>\n",
       "      <th>0</th>\n",
       "      <td>Charlie Alves Guimarães Pinheiros - Soft opening</td>\n",
       "      <td>R$ 485</td>\n",
       "      <td>qua., 13 de set.</td>\n",
       "    </tr>\n",
       "    <tr>\n",
       "      <th>1</th>\n",
       "      <td>Uniclass Hotel Pinheiros</td>\n",
       "      <td>R$ 417</td>\n",
       "      <td>qua., 13 de set.</td>\n",
       "    </tr>\n",
       "    <tr>\n",
       "      <th>2</th>\n",
       "      <td>Charlie Faria Lima</td>\n",
       "      <td>R$ 517</td>\n",
       "      <td>qua., 13 de set.</td>\n",
       "    </tr>\n",
       "    <tr>\n",
       "      <th>3</th>\n",
       "      <td>Studio Quality Oscar Freire</td>\n",
       "      <td>R$ 307</td>\n",
       "      <td>qua., 13 de set.</td>\n",
       "    </tr>\n",
       "    <tr>\n",
       "      <th>4</th>\n",
       "      <td>Charlie Rua dos Pinheiros</td>\n",
       "      <td>R$ 435</td>\n",
       "      <td>qua., 13 de set.</td>\n",
       "    </tr>\n",
       "  </tbody>\n",
       "</table>\n",
       "</div>"
      ],
      "text/plain": [
       "                                               name   price           chk_out\n",
       "0  Charlie Alves Guimarães Pinheiros - Soft opening  R$ 485  qua., 13 de set.\n",
       "1                          Uniclass Hotel Pinheiros  R$ 417  qua., 13 de set.\n",
       "2                                Charlie Faria Lima  R$ 517  qua., 13 de set.\n",
       "3                       Studio Quality Oscar Freire  R$ 307  qua., 13 de set.\n",
       "4                         Charlie Rua dos Pinheiros  R$ 435  qua., 13 de set."
      ]
     },
     "execution_count": 45,
     "metadata": {},
     "output_type": "execute_result"
    }
   ],
   "source": [
    "import pandas as pd\n",
    "df = pd.DataFrame(properties)\n",
    "df.head()"
   ]
  },
  {
   "cell_type": "code",
   "execution_count": 46,
   "id": "c2d94f26",
   "metadata": {},
   "outputs": [
    {
     "data": {
      "text/plain": [
       "(88, 3)"
      ]
     },
     "execution_count": 46,
     "metadata": {},
     "output_type": "execute_result"
    }
   ],
   "source": [
    "df.shape"
   ]
  },
  {
   "cell_type": "code",
   "execution_count": 47,
   "id": "c43243ae",
   "metadata": {},
   "outputs": [
    {
     "data": {
      "text/plain": [
       "<bound method DataFrame.info of                                                  name   price  \\\n",
       "0    Charlie Alves Guimarães Pinheiros - Soft opening  R$ 485   \n",
       "1                            Uniclass Hotel Pinheiros  R$ 417   \n",
       "2                                  Charlie Faria Lima  R$ 517   \n",
       "3                         Studio Quality Oscar Freire  R$ 307   \n",
       "4                           Charlie Rua dos Pinheiros  R$ 435   \n",
       "..                                                ...     ...   \n",
       "83                     Hotel Pousada Clínicas Valente  R$ 202   \n",
       "84                                         Hotel Bali  R$ 240   \n",
       "85                            Pinheiros Hostel & Food   R$ 96   \n",
       "86  Hostel Calábria 5 minutos da Vila Madalena e B...  R$ 187   \n",
       "87              Vilarejo Hostel Pinheiros Guest House  R$ 145   \n",
       "\n",
       "             chk_out  \n",
       "0   qua., 13 de set.  \n",
       "1   qua., 13 de set.  \n",
       "2   qua., 13 de set.  \n",
       "3   qua., 13 de set.  \n",
       "4   qua., 13 de set.  \n",
       "..               ...  \n",
       "83  qua., 13 de set.  \n",
       "84  qua., 13 de set.  \n",
       "85  qua., 13 de set.  \n",
       "86  qua., 13 de set.  \n",
       "87  qua., 13 de set.  \n",
       "\n",
       "[88 rows x 3 columns]>"
      ]
     },
     "execution_count": 47,
     "metadata": {},
     "output_type": "execute_result"
    }
   ],
   "source": [
    "df.info"
   ]
  },
  {
   "cell_type": "code",
   "execution_count": 48,
   "id": "980a2598",
   "metadata": {},
   "outputs": [
    {
     "name": "stdout",
     "output_type": "stream",
     "text": [
      "name\n",
      "Charlie Alves Guimarães Pinheiros - Soft opening          2\n",
      "Golden Tower Pinheiros by Fênix Hotéis                    2\n",
      "Studio no Jardins proximo Metro Oscar Freire              2\n",
      "Uniclass Hotel Pinheiros                                  2\n",
      "Comfort Flat Pinheiros em Hotel 4,5 estrelas              2\n",
      "                                                         ..\n",
      "360 Suítes VN Capote Valente - Apartamentos mobiliados    1\n",
      "Loft Moderno na Rua Oscar Freire - Jardins                1\n",
      "Flat Lux Mercure in Pinheiros                             1\n",
      "Duplex de Luxo Oscar Freire                               1\n",
      "Vilarejo Hostel Pinheiros Guest House                     1\n",
      "Name: count, Length: 62, dtype: int64\n"
     ]
    }
   ],
   "source": [
    "name_counts = df['name'].value_counts()\n",
    "print(name_counts)"
   ]
  },
  {
   "cell_type": "code",
   "execution_count": 49,
   "id": "841e69b2",
   "metadata": {},
   "outputs": [],
   "source": [
    "# https://www.booking.com/searchresults.pt-br.html?ss=Jardins%2C+S%C3%A3o+Paulo%2C+Estado+de+S%C3%A3o+Paulo%2C+Brasil&ssne=Pinheiros&ssne_untouched=Pinheiros&label=pt-br-booking-desktop-9_uvqir24qvA6x6xGiDvCQS652796015463%3Apl%3Ata%3Ap1%3Ap2%3Aac%3Aap%3Aneg%3Afi%3Atikwd-65526620%3Alp9061033%3Ali1001773%3Adec%3Adm&aid=2311236&lang=pt-br&sb=1&src_elem=sb&src=searchresults&dest_id=1805&dest_type=district&ac_position=2&ac_click_type=b&ac_langcode=xb&ac_suggestion_list_length=5&search_selected=true&search_pageview_id=d2b9623de6ea0191&ac_meta=GhBkMmI5NjIzZGU2ZWEwMTkxIAIoATICeGI6B2phcmRpbnNAAEoAUAA%3D&checkin=2023-09-12&checkout=2023-09-13&group_adults=2&no_rooms=1&group_children=0"
   ]
  },
  {
   "cell_type": "code",
   "execution_count": 50,
   "id": "e613a576",
   "metadata": {},
   "outputs": [],
   "source": [
    "driver.quit()"
   ]
  },
  {
   "cell_type": "code",
   "execution_count": 51,
   "id": "2bf7a43f",
   "metadata": {},
   "outputs": [],
   "source": [
    "df.to_csv('pinheiros.csv', index=False)"
   ]
  },
  {
   "cell_type": "code",
   "execution_count": null,
   "id": "a3269494",
   "metadata": {},
   "outputs": [],
   "source": []
  },
  {
   "cell_type": "code",
   "execution_count": null,
   "id": "bdbb2797",
   "metadata": {},
   "outputs": [],
   "source": []
  },
  {
   "cell_type": "code",
   "execution_count": null,
   "id": "b1f52d50",
   "metadata": {},
   "outputs": [],
   "source": []
  }
 ],
 "metadata": {
  "kernelspec": {
   "display_name": "Python 3 (ipykernel)",
   "language": "python",
   "name": "python3"
  },
  "language_info": {
   "codemirror_mode": {
    "name": "ipython",
    "version": 3
   },
   "file_extension": ".py",
   "mimetype": "text/x-python",
   "name": "python",
   "nbconvert_exporter": "python",
   "pygments_lexer": "ipython3",
   "version": "3.10.9"
  }
 },
 "nbformat": 4,
 "nbformat_minor": 5
}
