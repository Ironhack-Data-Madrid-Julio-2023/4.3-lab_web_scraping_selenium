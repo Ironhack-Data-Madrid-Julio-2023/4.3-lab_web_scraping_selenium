{
 "cells": [
  {
   "cell_type": "markdown",
   "metadata": {},
   "source": [
    "# Web Scraping Lab\n",
    "\n",
    "You will find in this notebook some scrapy exercises to practise your scraping skills.\n",
    "\n",
    "**Tips:**\n",
    "\n",
    "- Check the response status code for each request to ensure you have obtained the intended contennt.\n",
    "- Print the response text in each request to understand the kind of info you are getting and its format.\n",
    "- Check for patterns in the response text to extract the data/info requested in each question.\n",
    "- Visit each url and take a look at its source through Chrome DevTools. You'll need to identify the html tags, special class names etc. used for the html content you are expected to extract."
   ]
  },
  {
   "cell_type": "markdown",
   "metadata": {},
   "source": [
    "- [Selenium Doc](https://www.selenium.dev/documentation/)\n",
    "- [Requests library](http://docs.python-requests.org/en/master/#the-user-guide) documentation \n",
    "- [Urllib](https://docs.python.org/3/library/urllib.html#module-urllib)\n",
    "- [re lib](https://docs.python.org/3/library/re.html)\n",
    "- [lxml lib](https://lxml.de/)\n",
    "- [Scrapy](https://scrapy.org/)\n",
    "- [List of HTTP status codes](https://en.wikipedia.org/wiki/List_of_HTTP_status_codes)\n",
    "- [HTML basics](http://www.simplehtmlguide.com/cheatsheet.php)\n",
    "- [CSS basics](https://www.cssbasics.com/#page_start)"
   ]
  },
  {
   "cell_type": "markdown",
   "metadata": {},
   "source": [
    "#### Below are the libraries and modules you may need. `Selenium` and `pandas` are imported for you."
   ]
  },
  {
   "cell_type": "code",
   "execution_count": 73,
   "metadata": {},
   "outputs": [],
   "source": [
    "import pandas as pd\n",
    "from selenium.webdriver.chrome.options import Options\n",
    "from webdriver_manager.chrome import ChromeDriverManager\n",
    "from selenium import webdriver\n",
    "import requests as req\n",
    "from selenium.webdriver.common.by import By\n",
    "from IPython.display import HTML\n",
    "import random as rd"
   ]
  },
  {
   "cell_type": "markdown",
   "metadata": {},
   "source": [
    "#### Enable the options you may need. In the next cell you have an example of them but you can choose to use them or not."
   ]
  },
  {
   "cell_type": "code",
   "execution_count": 2,
   "metadata": {},
   "outputs": [],
   "source": [
    "#driver configuration\n",
    "opciones=Options()\n",
    "\n",
    "opciones.add_experimental_option('excludeSwitches', ['enable-automation'])\n",
    "opciones.add_experimental_option('useAutomationExtension', False)\n",
    "opciones.headless=False    # si True, no aperece la ventana (headless=no visible)\n",
    "opciones.add_argument('--start-maximized')         # comienza maximizado\n",
    "#opciones.add_argument('user-data-dir=selenium')    # mantiene las cookies\n",
    "#opciones.add_extension('driver_folder/adblock.crx')       # adblocker\n",
    "opciones.add_argument('--incognito')"
   ]
  },
  {
   "cell_type": "code",
   "execution_count": 5,
   "metadata": {},
   "outputs": [
    {
     "name": "stderr",
     "output_type": "stream",
     "text": [
      "/tmp/ipykernel_17975/924073579.py:3: DeprecationWarning: executable_path has been deprecated, please pass in a Service object\n",
      "  driver = webdriver.Chrome(PATH, options = opciones)\n"
     ]
    }
   ],
   "source": [
    "PATH = 'driver/chromedriver'\n",
    "\n",
    "driver = webdriver.Chrome(PATH, options = opciones)"
   ]
  },
  {
   "cell_type": "markdown",
   "metadata": {},
   "source": [
    "#### Download, parse, and print the content from the Trending Developers page from GitHub:"
   ]
  },
  {
   "cell_type": "code",
   "execution_count": 14,
   "metadata": {},
   "outputs": [],
   "source": [
    "# This is the url you will scrape in this exercise\n",
    "\n",
    "url = 'https://github.com/trending/developers'\n",
    "\n",
    "driver.get(url)"
   ]
  },
  {
   "cell_type": "code",
   "execution_count": 16,
   "metadata": {},
   "outputs": [],
   "source": [
    "# no printeamos la sopa porque no es necesario, y además habría que tirar del paquete request"
   ]
  },
  {
   "cell_type": "markdown",
   "metadata": {},
   "source": [
    "#### Display the names of the trending developers retrieved in the previous step.\n",
    "\n",
    "Your output should be a Python list of developer names. Each name should not contain any html tag.\n",
    "\n",
    "**Instructions:**\n",
    "\n",
    "1. Find out the html tag and class names used for the developer names.\n",
    "\n",
    "1. Use string manipulation techniques to replace whitespaces and linebreaks (i.e. `\\n`) in the *text* of each html element. Use a list to store the clean names.\n",
    "\n",
    "1. Print the list of names.\n",
    "\n",
    "Your output should look like below:\n",
    "\n",
    "```\n",
    "['trimstray (@trimstray)',\n",
    " 'joewalnes (JoeWalnes)',\n",
    " 'charlax (Charles-AxelDein)',\n",
    " 'ForrestKnight (ForrestKnight)',\n",
    " 'revery-ui (revery-ui)',\n",
    " 'alibaba (Alibaba)',\n",
    " 'Microsoft (Microsoft)',\n",
    " 'github (GitHub)',\n",
    " 'facebook (Facebook)',\n",
    " 'boazsegev (Bo)',\n",
    " 'google (Google)',\n",
    " 'cloudfetch',\n",
    " 'sindresorhus (SindreSorhus)',\n",
    " 'tensorflow',\n",
    " 'apache (TheApacheSoftwareFoundation)',\n",
    " 'DevonCrawford (DevonCrawford)',\n",
    " 'ARMmbed (ArmMbed)',\n",
    " 'vuejs (vuejs)',\n",
    " 'fastai (fast.ai)',\n",
    " 'QiShaoXuan (Qi)',\n",
    " 'joelparkerhenderson (JoelParkerHenderson)',\n",
    " 'torvalds (LinusTorvalds)',\n",
    " 'CyC2018',\n",
    " 'komeiji-satori (神楽坂覚々)',\n",
    " 'script-8']\n",
    " ```"
   ]
  },
  {
   "cell_type": "code",
   "execution_count": 24,
   "metadata": {},
   "outputs": [
    {
     "data": {
      "text/plain": [
       "['Yiming Cui (ymcui)',\n",
       " 'Stephen Celis (stephencelis)',\n",
       " 'Nikita Sobolev (sobolevn)',\n",
       " 'Jeff Dickey (jdxcode)',\n",
       " 'Suyeol Jeon (devxoul)',\n",
       " 'Boni García (bonigarcia)',\n",
       " 'Adeeb Shihadeh (adeebshihadeh)',\n",
       " 'Bo-Yi Wu (appleboy)',\n",
       " 'Abdullah Atta (thecodrr)',\n",
       " 'Dominic Farolino (domfarolino)',\n",
       " 'Jan-Erik Rediger (badboy)',\n",
       " 'Ismail Pelaseyed (homanp)',\n",
       " 'Steve Macenski (SteveMacenski)',\n",
       " 'Philipp Schmid (philschmid)',\n",
       " 'Alessandro Ros (aler9)',\n",
       " 'Vladimir Mihailenco (vmihailenco)',\n",
       " 'dennis zhuang (killme2008)',\n",
       " 'Cameron Dutro (camertron)',\n",
       " 'MichaIng (zombieJ)',\n",
       " '二货爱吃白萝卜 (mattt)',\n",
       " 'Mattt (justinclift)',\n",
       " 'Justin Clift (LaurentMazare)',\n",
       " 'Laurent Mazare (steven-tey)',\n",
       " 'Steven Tey (hathach)']"
      ]
     },
     "execution_count": 24,
     "metadata": {},
     "output_type": "execute_result"
    }
   ],
   "source": [
    "names = [i.text for i in driver.find_elements(By.CLASS_NAME, 'h3.lh-condensed')]\n",
    "nicks = [i.text for i in driver.find_elements(By.CLASS_NAME, 'f4.text-normal.mb-1')]\n",
    "\n",
    "final = [i+' ('+j+')' for i,j in zip(names,nicks)]\n",
    "\n",
    "final"
   ]
  },
  {
   "cell_type": "markdown",
   "metadata": {},
   "source": [
    "#### Display the trending Python repositories in GitHub\n",
    "\n",
    "The steps to solve this problem is similar to the previous one except that you need to find out the repository names instead of developer names."
   ]
  },
  {
   "cell_type": "code",
   "execution_count": 25,
   "metadata": {},
   "outputs": [],
   "source": [
    "# This is the url you will scrape in this exercise\n",
    "\n",
    "url = 'https://github.com/trending/python?since=daily'\n",
    "\n",
    "driver.get(url)"
   ]
  },
  {
   "cell_type": "code",
   "execution_count": 29,
   "metadata": {},
   "outputs": [
    {
     "data": {
      "text/plain": [
       "['devops-exercises',\n",
       " 'Python',\n",
       " 'LLaMA2-Accessory',\n",
       " 'Chinese-LLaMA-Alpaca-2',\n",
       " 'openpilot',\n",
       " 'ultralytics',\n",
       " 'aws-devops-zero-to-hero',\n",
       " 'MetaGPT',\n",
       " 'sweep',\n",
       " 'llama_index',\n",
       " 'wagtail',\n",
       " 'python-exercises',\n",
       " 'prompttools',\n",
       " 'gorilla',\n",
       " 'EditAnything',\n",
       " 'checkov',\n",
       " 'HelloGitHub',\n",
       " 'FastEdit',\n",
       " 'ml-stable-diffusion',\n",
       " 'cupp',\n",
       " 'gpt4free',\n",
       " 'med-flamingo',\n",
       " 'yolov5',\n",
       " 'system-design-primer',\n",
       " 'llm-attacks']"
      ]
     },
     "execution_count": 29,
     "metadata": {},
     "output_type": "execute_result"
    }
   ],
   "source": [
    "repos = [i.text.split('/')[1].strip()  for i in driver.find_elements(By.CLASS_NAME, 'h3.lh-condensed')]\n",
    "\n",
    "repos"
   ]
  },
  {
   "cell_type": "markdown",
   "metadata": {},
   "source": [
    "#### Display all the image links from Walt Disney wikipedia page"
   ]
  },
  {
   "cell_type": "code",
   "execution_count": 30,
   "metadata": {},
   "outputs": [],
   "source": [
    "# This is the url you will scrape in this exercise\n",
    "\n",
    "url = 'https://en.wikipedia.org/wiki/Walt_Disney'\n",
    "\n",
    "driver.get(url)"
   ]
  },
  {
   "cell_type": "code",
   "execution_count": 42,
   "metadata": {},
   "outputs": [
    {
     "data": {
      "text/html": [
       "<table border=\"1\" class=\"dataframe\">\n",
       "  <thead>\n",
       "    <tr style=\"text-align: right;\">\n",
       "      <th></th>\n",
       "      <th>image_links</th>\n",
       "    </tr>\n",
       "  </thead>\n",
       "  <tbody>\n",
       "    <tr>\n",
       "      <th>0</th>\n",
       "      <td><a href=\"https://upload.wikimedia.org/wikipedia/commons/thumb/d/df/Walt_Disney_1946.JPG/220px-Walt_Disney_1946.JPG\" target=\"_blank\">https://upload.wikimedia.org/wikipedia/commons/thumb/d/df/Walt_Disney_1946.JPG/220px-Walt_Disney_1946.JPG</a></td>\n",
       "    </tr>\n",
       "    <tr>\n",
       "      <th>1</th>\n",
       "      <td><a href=\"https://upload.wikimedia.org/wikipedia/commons/thumb/3/3a/Walt_Disney_Birthplace_Exterior_Hermosa_Chicago_Illinois.jpg/220px-Walt_Disney_Birthplace_Exterior_Hermosa_Chicago_Illinois.jpg\" target=\"_blank\">https://upload.wikimedia.org/wikipedia/commons/thumb/3/3a/Walt_Disney_Birthplace_Exterior_Hermosa_Chicago_Illinois.jpg/220px-Walt_Disney_Birthplace_Exterior_Hermosa_Chicago_Illinois.jpg</a></td>\n",
       "    </tr>\n",
       "    <tr>\n",
       "      <th>2</th>\n",
       "      <td><a href=\"https://upload.wikimedia.org/wikipedia/commons/thumb/c/c4/Walt_Disney_envelope_ca._1921.jpg/220px-Walt_Disney_envelope_ca._1921.jpg\" target=\"_blank\">https://upload.wikimedia.org/wikipedia/commons/thumb/c/c4/Walt_Disney_envelope_ca._1921.jpg/220px-Walt_Disney_envelope_ca._1921.jpg</a></td>\n",
       "    </tr>\n",
       "    <tr>\n",
       "      <th>3</th>\n",
       "      <td><a href=\"https://upload.wikimedia.org/wikipedia/en/thumb/4/4e/Steamboat-willie.jpg/220px-Steamboat-willie.jpg\" target=\"_blank\">https://upload.wikimedia.org/wikipedia/en/thumb/4/4e/Steamboat-willie.jpg/220px-Steamboat-willie.jpg</a></td>\n",
       "    </tr>\n",
       "    <tr>\n",
       "      <th>4</th>\n",
       "      <td><a href=\"https://upload.wikimedia.org/wikipedia/commons/thumb/c/cd/Walt_Disney_Snow_white_1937_trailer_screenshot_%2813%29.jpg/220px-Walt_Disney_Snow_white_1937_trailer_screenshot_%2813%29.jpg\" target=\"_blank\">https://upload.wikimedia.org/wikipedia/commons/thumb/c/cd/Walt_Disney_Snow_white_1937_trailer_screenshot_%2813%29.jpg/220px-Walt_Disney_Snow_white_1937_trailer_screenshot_%2813%29.jpg</a></td>\n",
       "    </tr>\n",
       "    <tr>\n",
       "      <th>5</th>\n",
       "      <td><a href=\"https://upload.wikimedia.org/wikipedia/commons/thumb/1/15/Disney_drawing_goofy.jpg/170px-Disney_drawing_goofy.jpg\" target=\"_blank\">https://upload.wikimedia.org/wikipedia/commons/thumb/1/15/Disney_drawing_goofy.jpg/170px-Disney_drawing_goofy.jpg</a></td>\n",
       "    </tr>\n",
       "    <tr>\n",
       "      <th>6</th>\n",
       "      <td><a href=\"https://upload.wikimedia.org/wikipedia/commons/thumb/8/8c/WaltDisneyplansDisneylandDec1954.jpg/220px-WaltDisneyplansDisneylandDec1954.jpg\" target=\"_blank\">https://upload.wikimedia.org/wikipedia/commons/thumb/8/8c/WaltDisneyplansDisneylandDec1954.jpg/220px-WaltDisneyplansDisneylandDec1954.jpg</a></td>\n",
       "    </tr>\n",
       "    <tr>\n",
       "      <th>7</th>\n",
       "      <td><a href=\"https://upload.wikimedia.org/wikipedia/commons/thumb/f/ff/Walt_disney_portrait_right.jpg/170px-Walt_disney_portrait_right.jpg\" target=\"_blank\">https://upload.wikimedia.org/wikipedia/commons/thumb/f/ff/Walt_disney_portrait_right.jpg/170px-Walt_disney_portrait_right.jpg</a></td>\n",
       "    </tr>\n",
       "    <tr>\n",
       "      <th>8</th>\n",
       "      <td><a href=\"https://upload.wikimedia.org/wikipedia/commons/thumb/1/1a/Walt_Disney_Grave.JPG/170px-Walt_Disney_Grave.JPG\" target=\"_blank\">https://upload.wikimedia.org/wikipedia/commons/thumb/1/1a/Walt_Disney_Grave.JPG/170px-Walt_Disney_Grave.JPG</a></td>\n",
       "    </tr>\n",
       "    <tr>\n",
       "      <th>9</th>\n",
       "      <td><a href=\"https://upload.wikimedia.org/wikipedia/commons/thumb/1/13/DisneySchiphol1951.jpg/220px-DisneySchiphol1951.jpg\" target=\"_blank\">https://upload.wikimedia.org/wikipedia/commons/thumb/1/13/DisneySchiphol1951.jpg/220px-DisneySchiphol1951.jpg</a></td>\n",
       "    </tr>\n",
       "    <tr>\n",
       "      <th>10</th>\n",
       "      <td><a href=\"https://upload.wikimedia.org/wikipedia/commons/thumb/6/6c/Disney1968.jpg/170px-Disney1968.jpg\" target=\"_blank\">https://upload.wikimedia.org/wikipedia/commons/thumb/6/6c/Disney1968.jpg/170px-Disney1968.jpg</a></td>\n",
       "    </tr>\n",
       "    <tr>\n",
       "      <th>11</th>\n",
       "      <td><a href=\"https://upload.wikimedia.org/wikipedia/commons/thumb/b/b0/Disney_Oscar_1953_%28cropped%29.jpg/170px-Disney_Oscar_1953_%28cropped%29.jpg\" target=\"_blank\">https://upload.wikimedia.org/wikipedia/commons/thumb/b/b0/Disney_Oscar_1953_%28cropped%29.jpg/170px-Disney_Oscar_1953_%28cropped%29.jpg</a></td>\n",
       "    </tr>\n",
       "    <tr>\n",
       "      <th>12</th>\n",
       "      <td><a href=\"https://upload.wikimedia.org/wikipedia/commons/thumb/1/1a/Magic_Kingdom_castle.jpg/15px-Magic_Kingdom_castle.jpg\" target=\"_blank\">https://upload.wikimedia.org/wikipedia/commons/thumb/1/1a/Magic_Kingdom_castle.jpg/15px-Magic_Kingdom_castle.jpg</a></td>\n",
       "    </tr>\n",
       "  </tbody>\n",
       "</table>"
      ],
      "text/plain": [
       "<IPython.core.display.HTML object>"
      ]
     },
     "execution_count": 42,
     "metadata": {},
     "output_type": "execute_result"
    }
   ],
   "source": [
    "links = [i.get_attribute(\"src\") for i in driver.find_elements(By.CLASS_NAME, 'mw-file-element')]\n",
    "\n",
    "links = [i for i in links if i.lower()[-3:] == 'jpg'] # Nos quedamos con los jpg, para evitar iconos en lo posible\n",
    "\n",
    "links = pd.DataFrame(links) # Pasamos a dataframe\n",
    "\n",
    "links.columns = ['image_links'] # Nombre de columna\n",
    "\n",
    "HTML(links.to_html(render_links = True)) # Ahí van"
   ]
  },
  {
   "cell_type": "markdown",
   "metadata": {},
   "source": [
    "#### Retrieve an arbitary Wikipedia page of \"Python\" and create a list of links on that page"
   ]
  },
  {
   "cell_type": "code",
   "execution_count": 43,
   "metadata": {},
   "outputs": [],
   "source": [
    "# This is the url you will scrape in this exercise\n",
    "\n",
    "url ='https://en.wikipedia.org/wiki/Python' \n",
    "\n",
    "driver.get(url)"
   ]
  },
  {
   "cell_type": "code",
   "execution_count": 102,
   "metadata": {},
   "outputs": [
    {
     "data": {
      "text/plain": [
       "''"
      ]
     },
     "execution_count": 102,
     "metadata": {},
     "output_type": "execute_result"
    }
   ],
   "source": [
    "driver.find_elements(By.TAG_NAME, 'li')[0].find_element(By.TAG_NAME,'a').text \n",
    "driver.find_elements(By.TAG_NAME, 'li')[0].find_element(By.CSS_SELECTOR,'li:nth-child(1) > a').text \n",
    "\n",
    "# No podemos ver el contenido de las cajas... tendremos que sacar todos los links a lo bruto"
   ]
  },
  {
   "cell_type": "code",
   "execution_count": 72,
   "metadata": {},
   "outputs": [
    {
     "data": {
      "text/plain": [
       "['https://en.wikipedia.org/wiki/Python#',\n",
       " 'https://en.wikipedia.org/wiki/Python#Snakes',\n",
       " 'https://en.wikipedia.org/wiki/Python#Computing',\n",
       " 'https://en.wikipedia.org/wiki/Python#People',\n",
       " 'https://en.wikipedia.org/wiki/Python#Roller_coasters',\n",
       " 'https://en.wikipedia.org/wiki/Python#Vehicles',\n",
       " 'https://en.wikipedia.org/wiki/Python#Weaponry',\n",
       " 'https://en.wikipedia.org/wiki/Python#Other_uses',\n",
       " 'https://en.wikipedia.org/wiki/Python#See_also',\n",
       " 'https://af.wikipedia.org/wiki/Python',\n",
       " 'https://als.wikipedia.org/wiki/Python',\n",
       " 'https://az.wikipedia.org/wiki/Python_(d%C9%99qiql%C9%99%C5%9Fdirm%C9%99)',\n",
       " 'https://be.wikipedia.org/wiki/Python',\n",
       " 'https://cs.wikipedia.org/wiki/Python_(rozcestn%C3%ADk)',\n",
       " 'https://da.wikipedia.org/wiki/Python',\n",
       " 'https://de.wikipedia.org/wiki/Python',\n",
       " 'https://eu.wikipedia.org/wiki/Python_(argipena)',\n",
       " 'https://fr.wikipedia.org/wiki/Python',\n",
       " 'https://hr.wikipedia.org/wiki/Python_(razdvojba)',\n",
       " 'https://id.wikipedia.org/wiki/Python',\n",
       " 'https://ia.wikipedia.org/wiki/Python_(disambiguation)',\n",
       " 'https://is.wikipedia.org/wiki/Python_(a%C3%B0greining)',\n",
       " 'https://it.wikipedia.org/wiki/Python_(disambigua)',\n",
       " 'https://la.wikipedia.org/wiki/Python_(discretiva)',\n",
       " 'https://lb.wikipedia.org/wiki/Python',\n",
       " 'https://hu.wikipedia.org/wiki/Python_(egy%C3%A9rtelm%C5%B1s%C3%ADt%C5%91_lap)',\n",
       " 'https://nl.wikipedia.org/wiki/Python',\n",
       " 'https://pt.wikipedia.org/wiki/Python_(desambigua%C3%A7%C3%A3o)',\n",
       " 'https://ru.wikipedia.org/wiki/Python_(%D0%B7%D0%BD%D0%B0%D1%87%D0%B5%D0%BD%D0%B8%D1%8F)',\n",
       " 'https://sk.wikipedia.org/wiki/Python',\n",
       " 'https://sh.wikipedia.org/wiki/Python',\n",
       " 'https://fi.wikipedia.org/wiki/Python',\n",
       " 'https://tr.wikipedia.org/wiki/Python_(anlam_ayr%C4%B1m%C4%B1)',\n",
       " 'https://vi.wikipedia.org/wiki/Python',\n",
       " 'https://zh.wikipedia.org/wiki/Python_(%E6%B6%88%E6%AD%A7%E4%B9%89)',\n",
       " 'https://en.wikipedia.org/wiki/Python',\n",
       " 'https://en.wikipedia.org/wiki/Talk:Python',\n",
       " 'https://en.wikipedia.org/wiki/Python',\n",
       " 'https://en.wikipedia.org/wiki/Python',\n",
       " 'https://en.wikipedia.org/wiki/Special:WhatLinksHere/Python',\n",
       " 'https://en.wikipedia.org/wiki/Special:RecentChangesLinked/Python',\n",
       " 'https://commons.wikimedia.org/wiki/Category:Python',\n",
       " 'https://en.wikipedia.org/wiki/Pythonidae',\n",
       " 'https://en.wikipedia.org/wiki/Python_(genus)',\n",
       " 'https://en.wikipedia.org/wiki/Python_(mythology)',\n",
       " 'https://en.wikipedia.org/wiki/Python_(programming_language)',\n",
       " 'https://en.wikipedia.org/wiki/Python_of_Aenus',\n",
       " 'https://en.wikipedia.org/wiki/Python_(painter)',\n",
       " 'https://en.wikipedia.org/wiki/Python_of_Byzantium',\n",
       " 'https://en.wikipedia.org/wiki/Python_of_Catana',\n",
       " 'https://en.wikipedia.org/wiki/Python_Anghelo',\n",
       " 'https://en.wikipedia.org/wiki/Python_(Efteling)',\n",
       " 'https://en.wikipedia.org/wiki/Python_(Busch_Gardens_Tampa_Bay)',\n",
       " 'https://en.wikipedia.org/wiki/Python_(Coney_Island,_Cincinnati,_Ohio)',\n",
       " 'https://en.wikipedia.org/wiki/Python_(automobile_maker)',\n",
       " 'https://en.wikipedia.org/wiki/Python_(Ford_prototype)',\n",
       " 'https://en.wikipedia.org/wiki/Python_(missile)',\n",
       " 'https://en.wikipedia.org/wiki/Python_(nuclear_primary)',\n",
       " 'https://en.wikipedia.org/wiki/Colt_Python',\n",
       " 'https://en.wikipedia.org/wiki/Python_(codename)',\n",
       " 'https://en.wikipedia.org/wiki/Python_(film)',\n",
       " 'https://en.wikipedia.org/wiki/Monty_Python',\n",
       " 'https://en.wikipedia.org/wiki/Python_(Monty)_Pictures',\n",
       " 'https://en.wikipedia.org/wiki/Python#']"
      ]
     },
     "execution_count": 72,
     "metadata": {},
     "output_type": "execute_result"
    }
   ],
   "source": [
    "raw_links = []\n",
    "\n",
    "for i in driver.find_elements(By.TAG_NAME, 'li'):\n",
    "    \n",
    "    try:\n",
    "        l = i.find_element(By.TAG_NAME,'a').get_attribute(\"href\")\n",
    "        if 'python' in l.lower() and '/wiki/' in l.lower():\n",
    "            raw_links.append(l)\n",
    "        else:\n",
    "            pass\n",
    "        \n",
    "    except:\n",
    "        continue\n",
    "\n",
    "raw_links # Más o menos..."
   ]
  },
  {
   "cell_type": "code",
   "execution_count": 76,
   "metadata": {},
   "outputs": [
    {
     "name": "stdout",
     "output_type": "stream",
     "text": [
      "Selected page: https://en.wikipedia.org/wiki/Python_(Ford_prototype)\n"
     ]
    }
   ],
   "source": [
    "# Elijamos una al azar:\n",
    "\n",
    "url = rd.choice(raw_links)\n",
    "\n",
    "print('Selected page:', url)"
   ]
  },
  {
   "cell_type": "code",
   "execution_count": 79,
   "metadata": {},
   "outputs": [
    {
     "data": {
      "text/html": [
       "<table border=\"1\" class=\"dataframe\">\n",
       "  <thead>\n",
       "    <tr style=\"text-align: right;\">\n",
       "      <th></th>\n",
       "      <th>image_links</th>\n",
       "    </tr>\n",
       "  </thead>\n",
       "  <tbody>\n",
       "    <tr>\n",
       "      <th>0</th>\n",
       "      <td><a href=\"https://en.wikipedia.org/wiki/Python_(Ford_prototype)#bodyContent\" target=\"_blank\">https://en.wikipedia.org/wiki/Python_(Ford_prototype)#bodyContent</a></td>\n",
       "    </tr>\n",
       "    <tr>\n",
       "      <th>1</th>\n",
       "      <td><a href=\"https://en.wikipedia.org/wiki/Main_Page\" target=\"_blank\">https://en.wikipedia.org/wiki/Main_Page</a></td>\n",
       "    </tr>\n",
       "    <tr>\n",
       "      <th>2</th>\n",
       "      <td><a href=\"https://en.wikipedia.org/wiki/Wikipedia:Contents\" target=\"_blank\">https://en.wikipedia.org/wiki/Wikipedia:Contents</a></td>\n",
       "    </tr>\n",
       "    <tr>\n",
       "      <th>3</th>\n",
       "      <td><a href=\"https://en.wikipedia.org/wiki/Portal:Current_events\" target=\"_blank\">https://en.wikipedia.org/wiki/Portal:Current_events</a></td>\n",
       "    </tr>\n",
       "    <tr>\n",
       "      <th>4</th>\n",
       "      <td><a href=\"https://en.wikipedia.org/wiki/Special:Random\" target=\"_blank\">https://en.wikipedia.org/wiki/Special:Random</a></td>\n",
       "    </tr>\n",
       "    <tr>\n",
       "      <th>5</th>\n",
       "      <td><a href=\"https://en.wikipedia.org/wiki/Wikipedia:About\" target=\"_blank\">https://en.wikipedia.org/wiki/Wikipedia:About</a></td>\n",
       "    </tr>\n",
       "    <tr>\n",
       "      <th>6</th>\n",
       "      <td><a href=\"https://en.wikipedia.org/wiki/Wikipedia:Contact_us\" target=\"_blank\">https://en.wikipedia.org/wiki/Wikipedia:Contact_us</a></td>\n",
       "    </tr>\n",
       "    <tr>\n",
       "      <th>7</th>\n",
       "      <td><a href=\"https://donate.wikimedia.org/wiki/Special:FundraiserRedirector?utm_source=donate&utm_medium=sidebar&utm_campaign=C13_en.wikipedia.org&uselang=en\" target=\"_blank\">https://donate.wikimedia.org/wiki/Special:FundraiserRedirector?utm_source=donate&amp;utm_medium=sidebar&amp;utm_campaign=C13_en.wikipedia.org&amp;uselang=en</a></td>\n",
       "    </tr>\n",
       "    <tr>\n",
       "      <th>8</th>\n",
       "      <td><a href=\"https://en.wikipedia.org/wiki/Help:Contents\" target=\"_blank\">https://en.wikipedia.org/wiki/Help:Contents</a></td>\n",
       "    </tr>\n",
       "    <tr>\n",
       "      <th>9</th>\n",
       "      <td><a href=\"https://en.wikipedia.org/wiki/Help:Introduction\" target=\"_blank\">https://en.wikipedia.org/wiki/Help:Introduction</a></td>\n",
       "    </tr>\n",
       "    <tr>\n",
       "      <th>10</th>\n",
       "      <td><a href=\"https://en.wikipedia.org/wiki/Wikipedia:Community_portal\" target=\"_blank\">https://en.wikipedia.org/wiki/Wikipedia:Community_portal</a></td>\n",
       "    </tr>\n",
       "    <tr>\n",
       "      <th>11</th>\n",
       "      <td><a href=\"https://en.wikipedia.org/wiki/Special:RecentChanges\" target=\"_blank\">https://en.wikipedia.org/wiki/Special:RecentChanges</a></td>\n",
       "    </tr>\n",
       "    <tr>\n",
       "      <th>12</th>\n",
       "      <td><a href=\"https://en.wikipedia.org/wiki/Wikipedia:File_upload_wizard\" target=\"_blank\">https://en.wikipedia.org/wiki/Wikipedia:File_upload_wizard</a></td>\n",
       "    </tr>\n",
       "    <tr>\n",
       "      <th>13</th>\n",
       "      <td><a href=\"https://en.wikipedia.org/wiki/Main_Page\" target=\"_blank\">https://en.wikipedia.org/wiki/Main_Page</a></td>\n",
       "    </tr>\n",
       "    <tr>\n",
       "      <th>14</th>\n",
       "      <td><a href=\"https://en.wikipedia.org/wiki/Special:Search\" target=\"_blank\">https://en.wikipedia.org/wiki/Special:Search</a></td>\n",
       "    </tr>\n",
       "    <tr>\n",
       "      <th>15</th>\n",
       "      <td><a href=\"https://en.wikipedia.org/w/index.php?title=Special:CreateAccount&returnto=Python+%28Ford+prototype%29\" target=\"_blank\">https://en.wikipedia.org/w/index.php?title=Special:CreateAccount&amp;returnto=Python+%28Ford+prototype%29</a></td>\n",
       "    </tr>\n",
       "    <tr>\n",
       "      <th>16</th>\n",
       "      <td><a href=\"https://en.wikipedia.org/w/index.php?title=Special:UserLogin&returnto=Python+%28Ford+prototype%29\" target=\"_blank\">https://en.wikipedia.org/w/index.php?title=Special:UserLogin&amp;returnto=Python+%28Ford+prototype%29</a></td>\n",
       "    </tr>\n",
       "    <tr>\n",
       "      <th>17</th>\n",
       "      <td><a href=\"https://en.wikipedia.org/w/index.php?title=Special:CreateAccount&returnto=Python+%28Ford+prototype%29\" target=\"_blank\">https://en.wikipedia.org/w/index.php?title=Special:CreateAccount&amp;returnto=Python+%28Ford+prototype%29</a></td>\n",
       "    </tr>\n",
       "    <tr>\n",
       "      <th>18</th>\n",
       "      <td><a href=\"https://en.wikipedia.org/w/index.php?title=Special:UserLogin&returnto=Python+%28Ford+prototype%29\" target=\"_blank\">https://en.wikipedia.org/w/index.php?title=Special:UserLogin&amp;returnto=Python+%28Ford+prototype%29</a></td>\n",
       "    </tr>\n",
       "    <tr>\n",
       "      <th>19</th>\n",
       "      <td><a href=\"https://en.wikipedia.org/wiki/Help:Introduction\" target=\"_blank\">https://en.wikipedia.org/wiki/Help:Introduction</a></td>\n",
       "    </tr>\n",
       "    <tr>\n",
       "      <th>20</th>\n",
       "      <td><a href=\"https://en.wikipedia.org/wiki/Special:MyContributions\" target=\"_blank\">https://en.wikipedia.org/wiki/Special:MyContributions</a></td>\n",
       "    </tr>\n",
       "    <tr>\n",
       "      <th>21</th>\n",
       "      <td><a href=\"https://en.wikipedia.org/wiki/Special:MyTalk\" target=\"_blank\">https://en.wikipedia.org/wiki/Special:MyTalk</a></td>\n",
       "    </tr>\n",
       "    <tr>\n",
       "      <th>22</th>\n",
       "      <td><a href=\"https://en.wikipedia.org/wiki/Python_(Ford_prototype)#\" target=\"_blank\">https://en.wikipedia.org/wiki/Python_(Ford_prototype)#</a></td>\n",
       "    </tr>\n",
       "    <tr>\n",
       "      <th>23</th>\n",
       "      <td><a href=\"https://en.wikipedia.org/wiki/Python_(Ford_prototype)#References\" target=\"_blank\">https://en.wikipedia.org/wiki/Python_(Ford_prototype)#References</a></td>\n",
       "    </tr>\n",
       "    <tr>\n",
       "      <th>24</th>\n",
       "      <td><a href=\"https://www.wikidata.org/wiki/Special:EntityPage/Q7263921#sitelinks-wikipedia\" target=\"_blank\">https://www.wikidata.org/wiki/Special:EntityPage/Q7263921#sitelinks-wikipedia</a></td>\n",
       "    </tr>\n",
       "    <tr>\n",
       "      <th>25</th>\n",
       "      <td><a href=\"https://en.wikipedia.org/wiki/Python_(Ford_prototype)\" target=\"_blank\">https://en.wikipedia.org/wiki/Python_(Ford_prototype)</a></td>\n",
       "    </tr>\n",
       "    <tr>\n",
       "      <th>26</th>\n",
       "      <td><a href=\"https://en.wikipedia.org/wiki/Talk:Python_(Ford_prototype)\" target=\"_blank\">https://en.wikipedia.org/wiki/Talk:Python_(Ford_prototype)</a></td>\n",
       "    </tr>\n",
       "    <tr>\n",
       "      <th>27</th>\n",
       "      <td><a href=\"https://en.wikipedia.org/wiki/Python_(Ford_prototype)\" target=\"_blank\">https://en.wikipedia.org/wiki/Python_(Ford_prototype)</a></td>\n",
       "    </tr>\n",
       "    <tr>\n",
       "      <th>28</th>\n",
       "      <td><a href=\"https://en.wikipedia.org/w/index.php?title=Python_(Ford_prototype)&action=edit\" target=\"_blank\">https://en.wikipedia.org/w/index.php?title=Python_(Ford_prototype)&amp;action=edit</a></td>\n",
       "    </tr>\n",
       "    <tr>\n",
       "      <th>29</th>\n",
       "      <td><a href=\"https://en.wikipedia.org/w/index.php?title=Python_(Ford_prototype)&action=history\" target=\"_blank\">https://en.wikipedia.org/w/index.php?title=Python_(Ford_prototype)&amp;action=history</a></td>\n",
       "    </tr>\n",
       "    <tr>\n",
       "      <th>30</th>\n",
       "      <td><a href=\"https://en.wikipedia.org/wiki/Python_(Ford_prototype)\" target=\"_blank\">https://en.wikipedia.org/wiki/Python_(Ford_prototype)</a></td>\n",
       "    </tr>\n",
       "    <tr>\n",
       "      <th>31</th>\n",
       "      <td><a href=\"https://en.wikipedia.org/w/index.php?title=Python_(Ford_prototype)&action=edit\" target=\"_blank\">https://en.wikipedia.org/w/index.php?title=Python_(Ford_prototype)&amp;action=edit</a></td>\n",
       "    </tr>\n",
       "    <tr>\n",
       "      <th>32</th>\n",
       "      <td><a href=\"https://en.wikipedia.org/w/index.php?title=Python_(Ford_prototype)&action=history\" target=\"_blank\">https://en.wikipedia.org/w/index.php?title=Python_(Ford_prototype)&amp;action=history</a></td>\n",
       "    </tr>\n",
       "    <tr>\n",
       "      <th>33</th>\n",
       "      <td><a href=\"https://en.wikipedia.org/wiki/Special:WhatLinksHere/Python_(Ford_prototype)\" target=\"_blank\">https://en.wikipedia.org/wiki/Special:WhatLinksHere/Python_(Ford_prototype)</a></td>\n",
       "    </tr>\n",
       "    <tr>\n",
       "      <th>34</th>\n",
       "      <td><a href=\"https://en.wikipedia.org/wiki/Special:RecentChangesLinked/Python_(Ford_prototype)\" target=\"_blank\">https://en.wikipedia.org/wiki/Special:RecentChangesLinked/Python_(Ford_prototype)</a></td>\n",
       "    </tr>\n",
       "    <tr>\n",
       "      <th>35</th>\n",
       "      <td><a href=\"https://en.wikipedia.org/wiki/Wikipedia:File_Upload_Wizard\" target=\"_blank\">https://en.wikipedia.org/wiki/Wikipedia:File_Upload_Wizard</a></td>\n",
       "    </tr>\n",
       "    <tr>\n",
       "      <th>36</th>\n",
       "      <td><a href=\"https://en.wikipedia.org/wiki/Special:SpecialPages\" target=\"_blank\">https://en.wikipedia.org/wiki/Special:SpecialPages</a></td>\n",
       "    </tr>\n",
       "    <tr>\n",
       "      <th>37</th>\n",
       "      <td><a href=\"https://en.wikipedia.org/w/index.php?title=Python_(Ford_prototype)&oldid=1105030126\" target=\"_blank\">https://en.wikipedia.org/w/index.php?title=Python_(Ford_prototype)&amp;oldid=1105030126</a></td>\n",
       "    </tr>\n",
       "    <tr>\n",
       "      <th>38</th>\n",
       "      <td><a href=\"https://en.wikipedia.org/w/index.php?title=Python_(Ford_prototype)&action=info\" target=\"_blank\">https://en.wikipedia.org/w/index.php?title=Python_(Ford_prototype)&amp;action=info</a></td>\n",
       "    </tr>\n",
       "    <tr>\n",
       "      <th>39</th>\n",
       "      <td><a href=\"https://en.wikipedia.org/w/index.php?title=Special:CiteThisPage&page=Python_%28Ford_prototype%29&id=1105030126&wpFormIdentifier=titleform\" target=\"_blank\">https://en.wikipedia.org/w/index.php?title=Special:CiteThisPage&amp;page=Python_%28Ford_prototype%29&amp;id=1105030126&amp;wpFormIdentifier=titleform</a></td>\n",
       "    </tr>\n",
       "    <tr>\n",
       "      <th>40</th>\n",
       "      <td><a href=\"https://www.wikidata.org/wiki/Special:EntityPage/Q7263921\" target=\"_blank\">https://www.wikidata.org/wiki/Special:EntityPage/Q7263921</a></td>\n",
       "    </tr>\n",
       "    <tr>\n",
       "      <th>41</th>\n",
       "      <td><a href=\"https://en.wikipedia.org/w/index.php?title=Special:DownloadAsPdf&page=Python_%28Ford_prototype%29&action=show-download-screen\" target=\"_blank\">https://en.wikipedia.org/w/index.php?title=Special:DownloadAsPdf&amp;page=Python_%28Ford_prototype%29&amp;action=show-download-screen</a></td>\n",
       "    </tr>\n",
       "    <tr>\n",
       "      <th>42</th>\n",
       "      <td><a href=\"https://en.wikipedia.org/w/index.php?title=Python_(Ford_prototype)&printable=yes\" target=\"_blank\">https://en.wikipedia.org/w/index.php?title=Python_(Ford_prototype)&amp;printable=yes</a></td>\n",
       "    </tr>\n",
       "    <tr>\n",
       "      <th>43</th>\n",
       "      <td><a href=\"https://en.wikipedia.org/wiki/File:Kelly_Python.JPG\" target=\"_blank\">https://en.wikipedia.org/wiki/File:Kelly_Python.JPG</a></td>\n",
       "    </tr>\n",
       "    <tr>\n",
       "      <th>44</th>\n",
       "      <td><a href=\"https://en.wikipedia.org/wiki/Ford_Motor_Company\" target=\"_blank\">https://en.wikipedia.org/wiki/Ford_Motor_Company</a></td>\n",
       "    </tr>\n",
       "    <tr>\n",
       "      <th>45</th>\n",
       "      <td><a href=\"https://en.wikipedia.org/wiki/Eugene_Bordinat\" target=\"_blank\">https://en.wikipedia.org/wiki/Eugene_Bordinat</a></td>\n",
       "    </tr>\n",
       "    <tr>\n",
       "      <th>46</th>\n",
       "      <td><a href=\"https://en.wikipedia.org/wiki/Carroll_Shelby\" target=\"_blank\">https://en.wikipedia.org/wiki/Carroll_Shelby</a></td>\n",
       "    </tr>\n",
       "    <tr>\n",
       "      <th>47</th>\n",
       "      <td><a href=\"https://en.wikipedia.org/wiki/AC_Cobra\" target=\"_blank\">https://en.wikipedia.org/wiki/AC_Cobra</a></td>\n",
       "    </tr>\n",
       "    <tr>\n",
       "      <th>48</th>\n",
       "      <td><a href=\"https://en.wikipedia.org/wiki/Royalex\" target=\"_blank\">https://en.wikipedia.org/wiki/Royalex</a></td>\n",
       "    </tr>\n",
       "    <tr>\n",
       "      <th>49</th>\n",
       "      <td><a href=\"https://en.wikipedia.org/wiki/United_States_Rubber_Company\" target=\"_blank\">https://en.wikipedia.org/wiki/United_States_Rubber_Company</a></td>\n",
       "    </tr>\n",
       "    <tr>\n",
       "      <th>50</th>\n",
       "      <td><a href=\"https://en.wikipedia.org/wiki/Python_(Ford_prototype)#cite_note-1\" target=\"_blank\">https://en.wikipedia.org/wiki/Python_(Ford_prototype)#cite_note-1</a></td>\n",
       "    </tr>\n",
       "    <tr>\n",
       "      <th>51</th>\n",
       "      <td><a href=\"https://en.wikipedia.org/wiki/Python_(Ford_prototype)#cite_note-2\" target=\"_blank\">https://en.wikipedia.org/wiki/Python_(Ford_prototype)#cite_note-2</a></td>\n",
       "    </tr>\n",
       "    <tr>\n",
       "      <th>52</th>\n",
       "      <td><a href=\"https://en.wikipedia.org/w/index.php?title=Python_(Ford_prototype)&action=edit&section=1\" target=\"_blank\">https://en.wikipedia.org/w/index.php?title=Python_(Ford_prototype)&amp;action=edit&amp;section=1</a></td>\n",
       "    </tr>\n",
       "    <tr>\n",
       "      <th>53</th>\n",
       "      <td><a href=\"https://en.wikipedia.org/wiki/Python_(Ford_prototype)#cite_ref-1\" target=\"_blank\">https://en.wikipedia.org/wiki/Python_(Ford_prototype)#cite_ref-1</a></td>\n",
       "    </tr>\n",
       "    <tr>\n",
       "      <th>54</th>\n",
       "      <td><a href=\"https://en.wikipedia.org/wiki/Python_(Ford_prototype)#cite_ref-2\" target=\"_blank\">https://en.wikipedia.org/wiki/Python_(Ford_prototype)#cite_ref-2</a></td>\n",
       "    </tr>\n",
       "    <tr>\n",
       "      <th>55</th>\n",
       "      <td><a href=\"https://en.wikipedia.org/w/index.php?title=Python_(Ford_prototype)&oldid=1105030126\" target=\"_blank\">https://en.wikipedia.org/w/index.php?title=Python_(Ford_prototype)&amp;oldid=1105030126</a></td>\n",
       "    </tr>\n",
       "    <tr>\n",
       "      <th>56</th>\n",
       "      <td><a href=\"https://en.wikipedia.org/wiki/Help:Category\" target=\"_blank\">https://en.wikipedia.org/wiki/Help:Category</a></td>\n",
       "    </tr>\n",
       "    <tr>\n",
       "      <th>57</th>\n",
       "      <td><a href=\"https://en.wikipedia.org/wiki/Category:1980s_cars\" target=\"_blank\">https://en.wikipedia.org/wiki/Category:1980s_cars</a></td>\n",
       "    </tr>\n",
       "    <tr>\n",
       "      <th>58</th>\n",
       "      <td><a href=\"https://en.wikipedia.org/wiki/Category:Rear-wheel-drive_vehicles\" target=\"_blank\">https://en.wikipedia.org/wiki/Category:Rear-wheel-drive_vehicles</a></td>\n",
       "    </tr>\n",
       "    <tr>\n",
       "      <th>59</th>\n",
       "      <td><a href=\"https://en.wikipedia.org/wiki/Category:Sports_cars\" target=\"_blank\">https://en.wikipedia.org/wiki/Category:Sports_cars</a></td>\n",
       "    </tr>\n",
       "    <tr>\n",
       "      <th>60</th>\n",
       "      <td><a href=\"https://en.wikipedia.org/wiki/Category:Ford_vehicles\" target=\"_blank\">https://en.wikipedia.org/wiki/Category:Ford_vehicles</a></td>\n",
       "    </tr>\n",
       "    <tr>\n",
       "      <th>61</th>\n",
       "      <td><a href=\"https://en.wikipedia.org/wiki/Category:Articles_with_short_description\" target=\"_blank\">https://en.wikipedia.org/wiki/Category:Articles_with_short_description</a></td>\n",
       "    </tr>\n",
       "    <tr>\n",
       "      <th>62</th>\n",
       "      <td><a href=\"https://en.wikipedia.org/wiki/Category:Short_description_matches_Wikidata\" target=\"_blank\">https://en.wikipedia.org/wiki/Category:Short_description_matches_Wikidata</a></td>\n",
       "    </tr>\n",
       "    <tr>\n",
       "      <th>63</th>\n",
       "      <td><a href=\"https://creativecommons.org/licenses/by-sa/4.0/\" target=\"_blank\">https://creativecommons.org/licenses/by-sa/4.0/</a></td>\n",
       "    </tr>\n",
       "    <tr>\n",
       "      <th>64</th>\n",
       "      <td><a href=\"https://creativecommons.org/licenses/by-sa/4.0/\" target=\"_blank\">https://creativecommons.org/licenses/by-sa/4.0/</a></td>\n",
       "    </tr>\n",
       "    <tr>\n",
       "      <th>65</th>\n",
       "      <td><a href=\"https://foundation.wikimedia.org/wiki/Terms_of_Use\" target=\"_blank\">https://foundation.wikimedia.org/wiki/Terms_of_Use</a></td>\n",
       "    </tr>\n",
       "    <tr>\n",
       "      <th>66</th>\n",
       "      <td><a href=\"https://foundation.wikimedia.org/wiki/Privacy_policy\" target=\"_blank\">https://foundation.wikimedia.org/wiki/Privacy_policy</a></td>\n",
       "    </tr>\n",
       "    <tr>\n",
       "      <th>67</th>\n",
       "      <td><a href=\"https://www.wikimediafoundation.org/\" target=\"_blank\">https://www.wikimediafoundation.org/</a></td>\n",
       "    </tr>\n",
       "    <tr>\n",
       "      <th>68</th>\n",
       "      <td><a href=\"https://foundation.wikimedia.org/wiki/Special:MyLanguage/Policy:Privacy_policy\" target=\"_blank\">https://foundation.wikimedia.org/wiki/Special:MyLanguage/Policy:Privacy_policy</a></td>\n",
       "    </tr>\n",
       "    <tr>\n",
       "      <th>69</th>\n",
       "      <td><a href=\"https://en.wikipedia.org/wiki/Wikipedia:About\" target=\"_blank\">https://en.wikipedia.org/wiki/Wikipedia:About</a></td>\n",
       "    </tr>\n",
       "    <tr>\n",
       "      <th>70</th>\n",
       "      <td><a href=\"https://en.wikipedia.org/wiki/Wikipedia:General_disclaimer\" target=\"_blank\">https://en.wikipedia.org/wiki/Wikipedia:General_disclaimer</a></td>\n",
       "    </tr>\n",
       "    <tr>\n",
       "      <th>71</th>\n",
       "      <td><a href=\"https://en.wikipedia.org/wiki/Wikipedia:Contact_us\" target=\"_blank\">https://en.wikipedia.org/wiki/Wikipedia:Contact_us</a></td>\n",
       "    </tr>\n",
       "    <tr>\n",
       "      <th>72</th>\n",
       "      <td><a href=\"https://foundation.wikimedia.org/wiki/Special:MyLanguage/Universal_Code_of_Conduct\" target=\"_blank\">https://foundation.wikimedia.org/wiki/Special:MyLanguage/Universal_Code_of_Conduct</a></td>\n",
       "    </tr>\n",
       "    <tr>\n",
       "      <th>73</th>\n",
       "      <td><a href=\"https://en.m.wikipedia.org/w/index.php?title=Python_(Ford_prototype)&mobileaction=toggle_view_mobile\" target=\"_blank\">https://en.m.wikipedia.org/w/index.php?title=Python_(Ford_prototype)&amp;mobileaction=toggle_view_mobile</a></td>\n",
       "    </tr>\n",
       "    <tr>\n",
       "      <th>74</th>\n",
       "      <td><a href=\"https://developer.wikimedia.org/\" target=\"_blank\">https://developer.wikimedia.org/</a></td>\n",
       "    </tr>\n",
       "    <tr>\n",
       "      <th>75</th>\n",
       "      <td><a href=\"https://stats.wikimedia.org/#/en.wikipedia.org\" target=\"_blank\">https://stats.wikimedia.org/#/en.wikipedia.org</a></td>\n",
       "    </tr>\n",
       "    <tr>\n",
       "      <th>76</th>\n",
       "      <td><a href=\"https://foundation.wikimedia.org/wiki/Special:MyLanguage/Policy:Cookie_statement\" target=\"_blank\">https://foundation.wikimedia.org/wiki/Special:MyLanguage/Policy:Cookie_statement</a></td>\n",
       "    </tr>\n",
       "    <tr>\n",
       "      <th>77</th>\n",
       "      <td><a href=\"https://wikimediafoundation.org/\" target=\"_blank\">https://wikimediafoundation.org/</a></td>\n",
       "    </tr>\n",
       "    <tr>\n",
       "      <th>78</th>\n",
       "      <td><a href=\"https://www.mediawiki.org/\" target=\"_blank\">https://www.mediawiki.org/</a></td>\n",
       "    </tr>\n",
       "  </tbody>\n",
       "</table>"
      ],
      "text/plain": [
       "<IPython.core.display.HTML object>"
      ]
     },
     "execution_count": 79,
     "metadata": {},
     "output_type": "execute_result"
    }
   ],
   "source": [
    "# Extraigamos todos los links de su interior:\n",
    "\n",
    "driver.get(url)\n",
    "\n",
    "# Buscamos todos los atributos 'href'que haya. Haremos una petición a todas las cajas 'a', y nos quedaremos\n",
    "# con los links de las que lo tengan:\n",
    "\n",
    "links = []\n",
    "\n",
    "for i in driver.find_elements(By.TAG_NAME, 'a'):\n",
    "    \n",
    "    try:\n",
    "        l = i.get_attribute(\"href\")\n",
    "        links.append(l)\n",
    "        \n",
    "    except:\n",
    "        continue\n",
    "        \n",
    "# Pasémoslos a un dataframe y pongámoslos monos:\n",
    "\n",
    "links = pd.DataFrame(links) # Pasamos a dataframe\n",
    "\n",
    "links.columns = ['image_links'] # Nombre de columna\n",
    "\n",
    "HTML(links.to_html(render_links = True)) # Ahí van"
   ]
  },
  {
   "cell_type": "markdown",
   "metadata": {},
   "source": [
    "#### Number of Titles that have changed in the United States Code since its last release point "
   ]
  },
  {
   "cell_type": "code",
   "execution_count": 81,
   "metadata": {},
   "outputs": [],
   "source": [
    "# This is the url you will scrape in this exercise\n",
    "\n",
    "url = 'http://uscode.house.gov/download/download.shtml'\n",
    "\n",
    "driver.get(url)"
   ]
  },
  {
   "cell_type": "code",
   "execution_count": 85,
   "metadata": {},
   "outputs": [
    {
     "data": {
      "text/plain": [
       "['Title 31 - Money and Finance',\n",
       " 'Title 54 - National Park Service and Related Programs']"
      ]
     },
     "execution_count": 85,
     "metadata": {},
     "output_type": "execute_result"
    }
   ],
   "source": [
    "titles = [i.text.replace('٭','').strip() for i in driver.find_elements(By.CLASS_NAME, 'usctitlechanged')]\n",
    "\n",
    "titles"
   ]
  },
  {
   "cell_type": "markdown",
   "metadata": {},
   "source": [
    "#### A Python list with the top ten FBI's Most Wanted names "
   ]
  },
  {
   "cell_type": "code",
   "execution_count": 86,
   "metadata": {},
   "outputs": [],
   "source": [
    "# This is the url you will scrape in this exercise\n",
    "\n",
    "url = 'https://www.fbi.gov/wanted/topten'\n",
    "\n",
    "driver.get(url)"
   ]
  },
  {
   "cell_type": "code",
   "execution_count": 99,
   "metadata": {},
   "outputs": [
    {
     "data": {
      "text/plain": [
       "['ARNOLDO JIMENEZ',\n",
       " 'OMAR ALEXANDER CARDENAS',\n",
       " 'ALEXIS FLORES',\n",
       " 'YULAN ADONAY ARCHAGA CARIAS',\n",
       " 'BHADRESHKUMAR CHETANBHAI PATEL',\n",
       " 'WILVER VILLEGAS-PALOMINO',\n",
       " 'ALEJANDRO ROSALES CASTILLO',\n",
       " 'RUJA IGNATOVA',\n",
       " 'DONALD EUGENE FIELDS II',\n",
       " 'JOSE RODOLFO VILLARREAL-HERNANDEZ']"
      ]
     },
     "execution_count": 99,
     "metadata": {},
     "output_type": "execute_result"
    }
   ],
   "source": [
    "names = [i.text for i in driver.find_elements(By.TAG_NAME,'h3')][:-2]\n",
    "\n",
    "names"
   ]
  },
  {
   "cell_type": "markdown",
   "metadata": {},
   "source": [
    "####  20 latest earthquakes info (date, time, latitude, longitude and region name) by the EMSC as a pandas dataframe"
   ]
  },
  {
   "cell_type": "code",
   "execution_count": 132,
   "metadata": {},
   "outputs": [
    {
     "data": {
      "text/plain": [
       "[<selenium.webdriver.remote.webelement.WebElement (session=\"97fe690241f9f124ab92fc064b21e1df\", element=\"54FB7B9CD48BFF5235471C09685D7B25_element_3408\")>,\n",
       " <selenium.webdriver.remote.webelement.WebElement (session=\"97fe690241f9f124ab92fc064b21e1df\", element=\"54FB7B9CD48BFF5235471C09685D7B25_element_3409\")>,\n",
       " <selenium.webdriver.remote.webelement.WebElement (session=\"97fe690241f9f124ab92fc064b21e1df\", element=\"54FB7B9CD48BFF5235471C09685D7B25_element_3410\")>,\n",
       " <selenium.webdriver.remote.webelement.WebElement (session=\"97fe690241f9f124ab92fc064b21e1df\", element=\"54FB7B9CD48BFF5235471C09685D7B25_element_3411\")>,\n",
       " <selenium.webdriver.remote.webelement.WebElement (session=\"97fe690241f9f124ab92fc064b21e1df\", element=\"54FB7B9CD48BFF5235471C09685D7B25_element_3412\")>]"
      ]
     },
     "execution_count": 132,
     "metadata": {},
     "output_type": "execute_result"
    }
   ],
   "source": [
    "# This is the url you will scrape in this exercise\n",
    "\n",
    "url = 'https://www.emsc-csem.org/Earthquake/'\n",
    "\n",
    "driver.get(url)\n",
    "\n",
    "rows = driver.find_element(By.TAG_NAME, 'table').find_elements(By.TAG_NAME, 'tr')\n",
    "\n",
    "rows"
   ]
  },
  {
   "cell_type": "code",
   "execution_count": 135,
   "metadata": {},
   "outputs": [
    {
     "data": {
      "text/plain": [
       "[<selenium.webdriver.remote.webelement.WebElement (session=\"97fe690241f9f124ab92fc064b21e1df\", element=\"54FB7B9CD48BFF5235471C09685D7B25_element_3418\")>,\n",
       " <selenium.webdriver.remote.webelement.WebElement (session=\"97fe690241f9f124ab92fc064b21e1df\", element=\"54FB7B9CD48BFF5235471C09685D7B25_element_3419\")>,\n",
       " <selenium.webdriver.remote.webelement.WebElement (session=\"97fe690241f9f124ab92fc064b21e1df\", element=\"54FB7B9CD48BFF5235471C09685D7B25_element_3420\")>,\n",
       " <selenium.webdriver.remote.webelement.WebElement (session=\"97fe690241f9f124ab92fc064b21e1df\", element=\"54FB7B9CD48BFF5235471C09685D7B25_element_3421\")>,\n",
       " <selenium.webdriver.remote.webelement.WebElement (session=\"97fe690241f9f124ab92fc064b21e1df\", element=\"54FB7B9CD48BFF5235471C09685D7B25_element_3422\")>,\n",
       " <selenium.webdriver.remote.webelement.WebElement (session=\"97fe690241f9f124ab92fc064b21e1df\", element=\"54FB7B9CD48BFF5235471C09685D7B25_element_3423\")>,\n",
       " <selenium.webdriver.remote.webelement.WebElement (session=\"97fe690241f9f124ab92fc064b21e1df\", element=\"54FB7B9CD48BFF5235471C09685D7B25_element_3424\")>,\n",
       " <selenium.webdriver.remote.webelement.WebElement (session=\"97fe690241f9f124ab92fc064b21e1df\", element=\"54FB7B9CD48BFF5235471C09685D7B25_element_3425\")>,\n",
       " <selenium.webdriver.remote.webelement.WebElement (session=\"97fe690241f9f124ab92fc064b21e1df\", element=\"54FB7B9CD48BFF5235471C09685D7B25_element_3426\")>,\n",
       " <selenium.webdriver.remote.webelement.WebElement (session=\"97fe690241f9f124ab92fc064b21e1df\", element=\"54FB7B9CD48BFF5235471C09685D7B25_element_3427\")>]"
      ]
     },
     "execution_count": 135,
     "metadata": {},
     "output_type": "execute_result"
    }
   ],
   "source": [
    "# No aparecen todas las filas. Si entramos en una de las filas nos enseña los td:\n",
    "\n",
    "cells = rows[1].find_elements(By.TAG_NAME, 'td')\n",
    "\n",
    "cells"
   ]
  },
  {
   "cell_type": "code",
   "execution_count": 138,
   "metadata": {},
   "outputs": [
    {
     "data": {
      "text/plain": [
       "''"
      ]
     },
     "execution_count": 138,
     "metadata": {},
     "output_type": "execute_result"
    }
   ],
   "source": [
    "# Pero no podemos leerlos:\n",
    "\n",
    "cells[4].text"
   ]
  },
  {
   "cell_type": "markdown",
   "metadata": {},
   "source": [
    "#### Count number of tweets by a given Twitter account."
   ]
  },
  {
   "cell_type": "markdown",
   "metadata": {},
   "source": [
    "You will need to include a ***try/except block*** for account names not found. \n",
    "<br>***Hint:*** the program should count the number of tweets for any provided account"
   ]
  },
  {
   "cell_type": "code",
   "execution_count": null,
   "metadata": {},
   "outputs": [],
   "source": [
    "# This is the url you will scrape in this exercise \n",
    "# You will need to add the account credentials to this url\n",
    "\n",
    "url = 'https://twitter.com/'"
   ]
  },
  {
   "cell_type": "code",
   "execution_count": null,
   "metadata": {},
   "outputs": [],
   "source": [
    "# told not to do"
   ]
  },
  {
   "cell_type": "markdown",
   "metadata": {},
   "source": [
    "#### Number of followers of a given twitter account"
   ]
  },
  {
   "cell_type": "markdown",
   "metadata": {},
   "source": [
    "You will need to include a ***try/except block*** in case account/s name not found. \n",
    "<br>***Hint:*** the program should count the followers for any provided account"
   ]
  },
  {
   "cell_type": "code",
   "execution_count": null,
   "metadata": {},
   "outputs": [],
   "source": [
    "# This is the url you will scrape in this exercise \n",
    "# You will need to add the account credentials to this url\n",
    "\n",
    "url = 'https://twitter.com/'"
   ]
  },
  {
   "cell_type": "code",
   "execution_count": null,
   "metadata": {},
   "outputs": [],
   "source": [
    "# told not to do"
   ]
  },
  {
   "cell_type": "markdown",
   "metadata": {},
   "source": [
    "#### List all language names and number of related articles in the order they appear in wikipedia.org"
   ]
  },
  {
   "cell_type": "code",
   "execution_count": 139,
   "metadata": {},
   "outputs": [],
   "source": [
    "# This is the url you will scrape in this exercise\n",
    "\n",
    "url = 'https://www.wikipedia.org/'\n",
    "\n",
    "driver.get(url)"
   ]
  },
  {
   "cell_type": "code",
   "execution_count": 154,
   "metadata": {},
   "outputs": [
    {
     "data": {
      "text/plain": [
       "{'English': 6691000,\n",
       " '日本語': 1382000,\n",
       " 'Español': 1881000,\n",
       " 'Русский': 1930000,\n",
       " 'Deutsch': 2822000,\n",
       " 'Français': 2540000,\n",
       " 'Italiano': 1820000,\n",
       " '中文': 1369000,\n",
       " 'Português': 1105000,\n",
       " 'فارسی': 969000}"
      ]
     },
     "execution_count": 154,
     "metadata": {},
     "output_type": "execute_result"
    }
   ],
   "source": [
    "cells = driver.find_element(By.CLASS_NAME,'central-featured').find_elements(By.TAG_NAME,'div')\n",
    "\n",
    "names = [i.find_element(By.TAG_NAME,'strong').text for i in cells]\n",
    "articles = [int(i.find_element(By.TAG_NAME,'small').text.split('+')[0].replace(' ','')) for i in cells]\n",
    "\n",
    "dictio = dict(zip(names,articles))\n",
    "\n",
    "dictio"
   ]
  },
  {
   "cell_type": "markdown",
   "metadata": {},
   "source": [
    "#### A list with the different kind of datasets available in data.gov.uk "
   ]
  },
  {
   "cell_type": "code",
   "execution_count": 156,
   "metadata": {},
   "outputs": [],
   "source": [
    "# This is the url you will scrape in this exercise\n",
    "\n",
    "url = 'https://data.gov.uk/'\n",
    "\n",
    "driver.get(url)"
   ]
  },
  {
   "cell_type": "code",
   "execution_count": 160,
   "metadata": {},
   "outputs": [
    {
     "data": {
      "text/plain": [
       "['Business and economy',\n",
       " 'Crime and justice',\n",
       " 'Defence',\n",
       " 'Education',\n",
       " 'Environment',\n",
       " 'Government',\n",
       " 'Government spending',\n",
       " 'Health',\n",
       " 'Mapping',\n",
       " 'Society',\n",
       " 'Towns and cities',\n",
       " 'Transport',\n",
       " 'Digital service performance',\n",
       " 'Government reference data']"
      ]
     },
     "execution_count": 160,
     "metadata": {},
     "output_type": "execute_result"
    }
   ],
   "source": [
    "datasets = [i.text for i in driver.find_elements(By.CLASS_NAME, 'govuk-heading-s.dgu-topics__heading')]\n",
    "\n",
    "datasets"
   ]
  },
  {
   "cell_type": "markdown",
   "metadata": {},
   "source": [
    "#### Top 10 languages by number of native speakers stored in a Pandas Dataframe"
   ]
  },
  {
   "cell_type": "code",
   "execution_count": 161,
   "metadata": {},
   "outputs": [],
   "source": [
    "# This is the url you will scrape in this exercise\n",
    "\n",
    "url = 'https://en.wikipedia.org/wiki/List_of_languages_by_number_of_native_speakers'\n",
    "\n",
    "driver.get(url)"
   ]
  },
  {
   "cell_type": "code",
   "execution_count": 182,
   "metadata": {},
   "outputs": [
    {
     "data": {
      "text/html": [
       "<div>\n",
       "<style scoped>\n",
       "    .dataframe tbody tr th:only-of-type {\n",
       "        vertical-align: middle;\n",
       "    }\n",
       "\n",
       "    .dataframe tbody tr th {\n",
       "        vertical-align: top;\n",
       "    }\n",
       "\n",
       "    .dataframe thead th {\n",
       "        text-align: right;\n",
       "    }\n",
       "</style>\n",
       "<table border=\"1\" class=\"dataframe\">\n",
       "  <thead>\n",
       "    <tr style=\"text-align: right;\">\n",
       "      <th></th>\n",
       "      <th>Language</th>\n",
       "      <th>Native speakers (millions)</th>\n",
       "      <th>Language family</th>\n",
       "      <th>Branch</th>\n",
       "    </tr>\n",
       "  </thead>\n",
       "  <tbody>\n",
       "    <tr>\n",
       "      <th>0</th>\n",
       "      <td>Mandarin Chinese (incl. Standard Chinese, but ...</td>\n",
       "      <td>939</td>\n",
       "      <td>Sino-Tibetan</td>\n",
       "      <td>Sinitic</td>\n",
       "    </tr>\n",
       "    <tr>\n",
       "      <th>1</th>\n",
       "      <td>Spanish</td>\n",
       "      <td>485</td>\n",
       "      <td>Indo-European</td>\n",
       "      <td>Romance</td>\n",
       "    </tr>\n",
       "    <tr>\n",
       "      <th>2</th>\n",
       "      <td>English</td>\n",
       "      <td>380</td>\n",
       "      <td>Indo-European</td>\n",
       "      <td>Germanic</td>\n",
       "    </tr>\n",
       "    <tr>\n",
       "      <th>3</th>\n",
       "      <td>Hindi (excl. Urdu, and other languages)</td>\n",
       "      <td>345</td>\n",
       "      <td>Indo-European</td>\n",
       "      <td>Indo-Aryan</td>\n",
       "    </tr>\n",
       "    <tr>\n",
       "      <th>4</th>\n",
       "      <td>Portuguese</td>\n",
       "      <td>236</td>\n",
       "      <td>Indo-European</td>\n",
       "      <td>Romance</td>\n",
       "    </tr>\n",
       "    <tr>\n",
       "      <th>5</th>\n",
       "      <td>Bengali</td>\n",
       "      <td>234</td>\n",
       "      <td>Indo-European</td>\n",
       "      <td>Indo-Aryan</td>\n",
       "    </tr>\n",
       "    <tr>\n",
       "      <th>6</th>\n",
       "      <td>Russian</td>\n",
       "      <td>147</td>\n",
       "      <td>Indo-European</td>\n",
       "      <td>Balto-Slavic</td>\n",
       "    </tr>\n",
       "    <tr>\n",
       "      <th>7</th>\n",
       "      <td>Japanese</td>\n",
       "      <td>123</td>\n",
       "      <td>Japonic</td>\n",
       "      <td>Japanese</td>\n",
       "    </tr>\n",
       "    <tr>\n",
       "      <th>8</th>\n",
       "      <td>Yue Chinese (incl. Cantonese)</td>\n",
       "      <td>86.1</td>\n",
       "      <td>Sino-Tibetan</td>\n",
       "      <td>Sinitic</td>\n",
       "    </tr>\n",
       "    <tr>\n",
       "      <th>9</th>\n",
       "      <td>Vietnamese</td>\n",
       "      <td>85.0</td>\n",
       "      <td>Austroasiatic</td>\n",
       "      <td>Vietic</td>\n",
       "    </tr>\n",
       "    <tr>\n",
       "      <th>10</th>\n",
       "      <td>Turkish</td>\n",
       "      <td>84.0</td>\n",
       "      <td>Turkic</td>\n",
       "      <td>Oghuz</td>\n",
       "    </tr>\n",
       "    <tr>\n",
       "      <th>11</th>\n",
       "      <td>Wu Chinese (incl. Shanghainese)</td>\n",
       "      <td>83.4</td>\n",
       "      <td>Sino-Tibetan</td>\n",
       "      <td>Sinitic</td>\n",
       "    </tr>\n",
       "    <tr>\n",
       "      <th>12</th>\n",
       "      <td>Marathi</td>\n",
       "      <td>83.2</td>\n",
       "      <td>Indo-European</td>\n",
       "      <td>Indo-Aryan</td>\n",
       "    </tr>\n",
       "    <tr>\n",
       "      <th>13</th>\n",
       "      <td>Telugu</td>\n",
       "      <td>83.0</td>\n",
       "      <td>Dravidian</td>\n",
       "      <td>South-Central</td>\n",
       "    </tr>\n",
       "    <tr>\n",
       "      <th>14</th>\n",
       "      <td>Korean</td>\n",
       "      <td>81.7</td>\n",
       "      <td>Koreanic</td>\n",
       "      <td>—</td>\n",
       "    </tr>\n",
       "    <tr>\n",
       "      <th>15</th>\n",
       "      <td>French</td>\n",
       "      <td>80.8</td>\n",
       "      <td>Indo-European</td>\n",
       "      <td>Romance</td>\n",
       "    </tr>\n",
       "    <tr>\n",
       "      <th>16</th>\n",
       "      <td>Tamil</td>\n",
       "      <td>78.6</td>\n",
       "      <td>Dravidian</td>\n",
       "      <td>South</td>\n",
       "    </tr>\n",
       "    <tr>\n",
       "      <th>17</th>\n",
       "      <td>Egyptian Spoken Arabic (excl. Saʽidi Arabic)</td>\n",
       "      <td>77.4</td>\n",
       "      <td>Afroasiatic</td>\n",
       "      <td>Semitic</td>\n",
       "    </tr>\n",
       "    <tr>\n",
       "      <th>18</th>\n",
       "      <td>Standard German</td>\n",
       "      <td>75.3</td>\n",
       "      <td>Indo-European</td>\n",
       "      <td>Germanic</td>\n",
       "    </tr>\n",
       "    <tr>\n",
       "      <th>19</th>\n",
       "      <td>Urdu (excl. Hindi)</td>\n",
       "      <td>70.6</td>\n",
       "      <td>Indo-European</td>\n",
       "      <td>Indo-Aryan</td>\n",
       "    </tr>\n",
       "    <tr>\n",
       "      <th>20</th>\n",
       "      <td>Javanese</td>\n",
       "      <td>68.3</td>\n",
       "      <td>Austronesian</td>\n",
       "      <td>Malayo-Polynesian</td>\n",
       "    </tr>\n",
       "    <tr>\n",
       "      <th>21</th>\n",
       "      <td>Western Punjabi (excl. Eastern Punjabi)</td>\n",
       "      <td>66.7</td>\n",
       "      <td>Indo-European</td>\n",
       "      <td>Indo-Aryan</td>\n",
       "    </tr>\n",
       "    <tr>\n",
       "      <th>22</th>\n",
       "      <td>Italian</td>\n",
       "      <td>64.6</td>\n",
       "      <td>Indo-European</td>\n",
       "      <td>Romance</td>\n",
       "    </tr>\n",
       "    <tr>\n",
       "      <th>23</th>\n",
       "      <td>Gujarati</td>\n",
       "      <td>57.1</td>\n",
       "      <td>Indo-European</td>\n",
       "      <td>Indo-Aryan</td>\n",
       "    </tr>\n",
       "    <tr>\n",
       "      <th>24</th>\n",
       "      <td>Iranian Persian (excl. Dari and Tajik)</td>\n",
       "      <td>57.2</td>\n",
       "      <td>Indo-European</td>\n",
       "      <td>Iranian</td>\n",
       "    </tr>\n",
       "    <tr>\n",
       "      <th>25</th>\n",
       "      <td>Bhojpuri</td>\n",
       "      <td>52.3</td>\n",
       "      <td>Indo-European</td>\n",
       "      <td>Indo-Aryan</td>\n",
       "    </tr>\n",
       "    <tr>\n",
       "      <th>26</th>\n",
       "      <td>Hausa</td>\n",
       "      <td>51.7</td>\n",
       "      <td>Afroasiatic</td>\n",
       "      <td>Chadic</td>\n",
       "    </tr>\n",
       "  </tbody>\n",
       "</table>\n",
       "</div>"
      ],
      "text/plain": [
       "                                             Language  \\\n",
       "0   Mandarin Chinese (incl. Standard Chinese, but ...   \n",
       "1                                             Spanish   \n",
       "2                                             English   \n",
       "3             Hindi (excl. Urdu, and other languages)   \n",
       "4                                          Portuguese   \n",
       "5                                             Bengali   \n",
       "6                                             Russian   \n",
       "7                                            Japanese   \n",
       "8                       Yue Chinese (incl. Cantonese)   \n",
       "9                                          Vietnamese   \n",
       "10                                            Turkish   \n",
       "11                    Wu Chinese (incl. Shanghainese)   \n",
       "12                                            Marathi   \n",
       "13                                             Telugu   \n",
       "14                                             Korean   \n",
       "15                                             French   \n",
       "16                                              Tamil   \n",
       "17       Egyptian Spoken Arabic (excl. Saʽidi Arabic)   \n",
       "18                                    Standard German   \n",
       "19                                 Urdu (excl. Hindi)   \n",
       "20                                           Javanese   \n",
       "21            Western Punjabi (excl. Eastern Punjabi)   \n",
       "22                                            Italian   \n",
       "23                                           Gujarati   \n",
       "24             Iranian Persian (excl. Dari and Tajik)   \n",
       "25                                           Bhojpuri   \n",
       "26                                              Hausa   \n",
       "\n",
       "   Native speakers (millions) Language family             Branch  \n",
       "0                         939    Sino-Tibetan            Sinitic  \n",
       "1                         485   Indo-European            Romance  \n",
       "2                         380   Indo-European           Germanic  \n",
       "3                         345   Indo-European         Indo-Aryan  \n",
       "4                         236   Indo-European            Romance  \n",
       "5                         234   Indo-European         Indo-Aryan  \n",
       "6                         147   Indo-European       Balto-Slavic  \n",
       "7                         123         Japonic           Japanese  \n",
       "8                        86.1    Sino-Tibetan            Sinitic  \n",
       "9                        85.0   Austroasiatic             Vietic  \n",
       "10                       84.0          Turkic              Oghuz  \n",
       "11                       83.4    Sino-Tibetan            Sinitic  \n",
       "12                       83.2   Indo-European         Indo-Aryan  \n",
       "13                       83.0       Dravidian      South-Central  \n",
       "14                       81.7        Koreanic                  —  \n",
       "15                       80.8   Indo-European            Romance  \n",
       "16                       78.6       Dravidian              South  \n",
       "17                       77.4     Afroasiatic            Semitic  \n",
       "18                       75.3   Indo-European           Germanic  \n",
       "19                       70.6   Indo-European         Indo-Aryan  \n",
       "20                       68.3    Austronesian  Malayo-Polynesian  \n",
       "21                       66.7   Indo-European         Indo-Aryan  \n",
       "22                       64.6   Indo-European            Romance  \n",
       "23                       57.1   Indo-European         Indo-Aryan  \n",
       "24                       57.2   Indo-European            Iranian  \n",
       "25                       52.3   Indo-European         Indo-Aryan  \n",
       "26                       51.7     Afroasiatic             Chadic  "
      ]
     },
     "execution_count": 182,
     "metadata": {},
     "output_type": "execute_result"
    }
   ],
   "source": [
    "rows = [[j.text.replace('\\n',' ') for j in i.find_elements(By.TAG_NAME,'td')]\\\n",
    "        for i in driver.find_element(By.TAG_NAME, 'table').find_elements(By.TAG_NAME,'tr')[1:]]\n",
    "\n",
    "table = pd.DataFrame(rows)\n",
    "\n",
    "table.columns = [i.text.replace('\\n',' ') for i in driver.find_element(By.TAG_NAME, 'table')\\\n",
    "                 .find_elements(By.TAG_NAME,'tr')[0].find_elements(By.TAG_NAME,'th')]\n",
    "\n",
    "table"
   ]
  },
  {
   "cell_type": "markdown",
   "metadata": {},
   "source": [
    "### BONUS QUESTIONS"
   ]
  },
  {
   "cell_type": "markdown",
   "metadata": {},
   "source": [
    "#### Scrape a certain number of tweets of a given Twitter account."
   ]
  },
  {
   "cell_type": "code",
   "execution_count": null,
   "metadata": {},
   "outputs": [],
   "source": [
    "# This is the url you will scrape in this exercise \n",
    "# You will need to add the account credentials to this url\n",
    "url = 'https://twitter.com/'"
   ]
  },
  {
   "cell_type": "code",
   "execution_count": null,
   "metadata": {},
   "outputs": [],
   "source": [
    "# your code"
   ]
  },
  {
   "cell_type": "markdown",
   "metadata": {},
   "source": [
    "#### IMDB's Top 250 data (movie name, Initial release, director name and stars) as a pandas dataframe"
   ]
  },
  {
   "cell_type": "code",
   "execution_count": null,
   "metadata": {},
   "outputs": [],
   "source": [
    "# This is the url you will scrape in this exercise \n",
    "url = 'https://www.imdb.com/chart/top'"
   ]
  },
  {
   "cell_type": "code",
   "execution_count": null,
   "metadata": {},
   "outputs": [],
   "source": [
    "# your code"
   ]
  },
  {
   "cell_type": "markdown",
   "metadata": {},
   "source": [
    "#### Movie name, year and a brief summary of the top 10 random movies (IMDB) as a pandas dataframe."
   ]
  },
  {
   "cell_type": "code",
   "execution_count": null,
   "metadata": {},
   "outputs": [],
   "source": [
    "#This is the url you will scrape in this exercise\n",
    "url = 'http://www.imdb.com/chart/top'"
   ]
  },
  {
   "cell_type": "code",
   "execution_count": null,
   "metadata": {},
   "outputs": [],
   "source": [
    "#your code"
   ]
  },
  {
   "cell_type": "markdown",
   "metadata": {},
   "source": [
    "#### Find the live weather report (temperature, wind speed, description and weather) of a given city."
   ]
  },
  {
   "cell_type": "code",
   "execution_count": null,
   "metadata": {},
   "outputs": [],
   "source": [
    "#https://openweathermap.org/current\n",
    "city = city=input('Enter the city:')\n",
    "url = 'http://api.openweathermap.org/data/2.5/weather?'+'q='+city+'&APPID=b35975e18dc93725acb092f7272cc6b8&units=metric'"
   ]
  },
  {
   "cell_type": "code",
   "execution_count": null,
   "metadata": {},
   "outputs": [],
   "source": [
    "# your code"
   ]
  },
  {
   "cell_type": "markdown",
   "metadata": {},
   "source": [
    "#### Book name,price and stock availability as a pandas dataframe."
   ]
  },
  {
   "cell_type": "code",
   "execution_count": null,
   "metadata": {},
   "outputs": [],
   "source": [
    "# This is the url you will scrape in this exercise. \n",
    "# It is a fictional bookstore created to be scraped. \n",
    "url = 'http://books.toscrape.com/'"
   ]
  },
  {
   "cell_type": "code",
   "execution_count": null,
   "metadata": {},
   "outputs": [],
   "source": [
    "#your code"
   ]
  }
 ],
 "metadata": {
  "kernelspec": {
   "display_name": "Python 3 (ipykernel)",
   "language": "python",
   "name": "python3"
  },
  "language_info": {
   "codemirror_mode": {
    "name": "ipython",
    "version": 3
   },
   "file_extension": ".py",
   "mimetype": "text/x-python",
   "name": "python",
   "nbconvert_exporter": "python",
   "pygments_lexer": "ipython3",
   "version": "3.10.9"
  }
 },
 "nbformat": 4,
 "nbformat_minor": 2
}
