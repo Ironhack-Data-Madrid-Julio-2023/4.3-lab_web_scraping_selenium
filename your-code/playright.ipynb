{
 "cells": [
  {
   "cell_type": "code",
   "execution_count": 4,
   "id": "ee13da03",
   "metadata": {},
   "outputs": [
    {
     "name": "stdout",
     "output_type": "stream",
     "text": [
      "Requirement already satisfied: playwright in c:\\users\\demia\\anaconda3\\lib\\site-packages (1.37.0)\n",
      "Requirement already satisfied: pyee==9.0.4 in c:\\users\\demia\\anaconda3\\lib\\site-packages (from playwright) (9.0.4)\n",
      "Requirement already satisfied: greenlet==2.0.2 in c:\\users\\demia\\anaconda3\\lib\\site-packages (from playwright) (2.0.2)\n",
      "Requirement already satisfied: typing-extensions in c:\\users\\demia\\anaconda3\\lib\\site-packages (from pyee==9.0.4->playwright) (4.4.0)\n",
      "Note: you may need to restart the kernel to use updated packages.\n"
     ]
    }
   ],
   "source": [
    "%pip install -U playwright\n"
   ]
  },
  {
   "cell_type": "code",
   "execution_count": 10,
   "id": "1d7a14f5",
   "metadata": {},
   "outputs": [],
   "source": [
    "import asyncio\n",
    "from playwright.async_api import async_playwright"
   ]
  },
  {
   "cell_type": "code",
   "execution_count": 11,
   "id": "38ed56af",
   "metadata": {},
   "outputs": [
    {
     "ename": "ImportError",
     "evalue": "cannot import name 'async_playwright' from 'playwright' (C:\\Users\\demia\\anaconda3\\lib\\site-packages\\playwright\\__init__.py)",
     "output_type": "error",
     "traceback": [
      "\u001b[1;31m---------------------------------------------------------------------------\u001b[0m",
      "\u001b[1;31mImportError\u001b[0m                               Traceback (most recent call last)",
      "Cell \u001b[1;32mIn[11], line 1\u001b[0m\n\u001b[1;32m----> 1\u001b[0m \u001b[38;5;28;01mfrom\u001b[39;00m \u001b[38;5;21;01mplaywright\u001b[39;00m \u001b[38;5;28;01mimport\u001b[39;00m async_playwright\n\u001b[0;32m      3\u001b[0m \u001b[38;5;28;01masync\u001b[39;00m \u001b[38;5;28;01mdef\u001b[39;00m \u001b[38;5;21mmain\u001b[39m():\n\u001b[0;32m      4\u001b[0m     \u001b[38;5;28;01masync\u001b[39;00m \u001b[38;5;28;01mwith\u001b[39;00m async_playwright() \u001b[38;5;28;01mas\u001b[39;00m playwright:\n",
      "\u001b[1;31mImportError\u001b[0m: cannot import name 'async_playwright' from 'playwright' (C:\\Users\\demia\\anaconda3\\lib\\site-packages\\playwright\\__init__.py)"
     ]
    }
   ],
   "source": [
    "\n",
    "from playwright import async_playwright\n",
    "\n",
    "async def main():\n",
    "    async with async_playwright() as playwright:\n",
    "        browser = await playwright.chromium.launch()\n",
    "        page = await browser.new_page()\n",
    "\n",
    "        # Perform actions on the page\n",
    "        await page.goto('https://www.booking.com/searchresults.pt-br.html?ss=Golden+Tower+Pinheiros+by+F%C3%AAnix+Hot%C3%A9is%2C+S%C3%A3o+Paulo%2C+Estado+de+S%C3%A3o+Paulo%2C+Brasil&ssne=S%C3%A3o+Paulo&ssne_untouched=S%C3%A3o+Paulo&label=gen173nr-1BCAEoggI46AdIM1gEaEaIAQGYAS24ARjIAQzYAQHoAQGIAgGoAgS4As7gvKcGwAIB0gIkZTUwZDJmMjktYjBjMC00MjVjLWFjZWYtNzJjMjdlZGQxYTQ12AIF4AIB&aid=304142&lang=pt-br&sb=1&src_elem=sb&src=index&dest_id=15848&dest_type=hotel&ac_position=0&ac_click_type=b&ac_langcode=xb&ac_suggestion_list_length=3&search_selected=true&search_pageview_id=2c7454e7166c0152&ac_meta=GhAyYzc0NTRlNzE2NmMwMTUyIAAoATICeGI6C2Zlbml4IHRvd2VyQABKAFAA&checkin=2023-08-30&checkout=2023-08-31&group_adults=2&no_rooms=1&group_children=0&sb_travel_purpose=leisure')\n",
    "\n",
    "        # Rest of your code...\n",
    "\n",
    "asyncio.run(main())"
   ]
  },
  {
   "cell_type": "code",
   "execution_count": null,
   "id": "b4033b57",
   "metadata": {},
   "outputs": [],
   "source": []
  },
  {
   "cell_type": "code",
   "execution_count": null,
   "id": "3f64c952",
   "metadata": {},
   "outputs": [],
   "source": []
  },
  {
   "cell_type": "code",
   "execution_count": null,
   "id": "26e93dc5",
   "metadata": {},
   "outputs": [],
   "source": []
  }
 ],
 "metadata": {
  "kernelspec": {
   "display_name": "Python 3 (ipykernel)",
   "language": "python",
   "name": "python3"
  },
  "language_info": {
   "codemirror_mode": {
    "name": "ipython",
    "version": 3
   },
   "file_extension": ".py",
   "mimetype": "text/x-python",
   "name": "python",
   "nbconvert_exporter": "python",
   "pygments_lexer": "ipython3",
   "version": "3.10.9"
  }
 },
 "nbformat": 4,
 "nbformat_minor": 5
}
