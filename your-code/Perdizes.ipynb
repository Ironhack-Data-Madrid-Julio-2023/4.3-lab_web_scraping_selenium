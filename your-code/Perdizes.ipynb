{
 "cells": [
  {
   "cell_type": "code",
   "execution_count": 1,
   "id": "d0927e67",
   "metadata": {},
   "outputs": [],
   "source": [
    "import time\n",
    "from seleniumwire import webdriver\n",
    "from selenium.webdriver.chrome.service import Service\n",
    "from webdriver_manager.chrome import ChromeDriverManager\n",
    "from selenium.webdriver.common.by import By\n",
    "from selenium.webdriver.chrome.options import Options\n",
    "from selenium.common.exceptions import NoSuchElementException\n",
    "from selenium.webdriver.support.ui import WebDriverWait\n",
    "from selenium.webdriver.support import expected_conditions as EC\n",
    "from selenium.common.exceptions import StaleElementReferenceException\n",
    "from selenium.webdriver.common.action_chains import ActionChains\n",
    "\n",
    "opciones=Options()\n",
    "\n",
    "opciones.add_experimental_option('excludeSwitches', ['enable-automation'])\n",
    "opciones.add_experimental_option('useAutomationExtension', False)\n",
    "opciones.headless=False    \n",
    "opciones.add_argument('--start-maximized')         \n",
    "opciones.add_argument('--incognito')\n",
    "opciones.add_argument(\"--disable-cookies\")\n"
   ]
  },
  {
   "cell_type": "code",
   "execution_count": 2,
   "id": "addd8bb4",
   "metadata": {},
   "outputs": [],
   "source": [
    "# Initialize the Chrome driver\n",
    "driver = webdriver.Chrome(service=Service(ChromeDriverManager().install()), options=opciones)\n",
    "\n",
    "url = \"https://www.booking.com/searchresults.pt-br.html?ss=Perdizes%2C+S%C3%A3o+Paulo%2C+Estado+de+S%C3%A3o+Paulo%2C+Brasil&ssne=Jardins&ssne_untouched=Jardins&label=pt-br-booking-desktop-9_uvqir24qvA6x6xGiDvCQS652796015463%3Apl%3Ata%3Ap1%3Ap2%3Aac%3Aap%3Aneg%3Afi%3Atikwd-65526620%3Alp9061033%3Ali1001773%3Adec%3Adm&aid=2311236&lang=pt-br&sb=1&src_elem=sb&src=searchresults&dest_id=2352&dest_type=district&ac_position=0&ac_click_type=b&ac_langcode=xb&ac_suggestion_list_length=5&search_selected=true&search_pageview_id=797d7f61fea2020d&ac_meta=GhA3OTdkN2Y2MWZlYTIwMjBkIAAoATICeGI6B3BlcmRpemVAAEoAUAA%3D&checkin=2023-09-12&checkout=2023-09-13&group_adults=2&no_rooms=1&group_children=0\"\n",
    "driver.get(url)"
   ]
  },
  {
   "cell_type": "code",
   "execution_count": 3,
   "id": "11dba126",
   "metadata": {},
   "outputs": [],
   "source": [
    "wait = WebDriverWait(driver, 20)\n",
    "\n",
    "try:\n",
    "    cookie_button = wait.until(EC.element_to_be_clickable((By.ID, \"onetrust-reject-all-handler\")))\n",
    "    cookie_button.click()\n",
    "    \n",
    "    \n",
    "except TimeoutException:\n",
    "    pass  "
   ]
  },
  {
   "cell_type": "code",
   "execution_count": 4,
   "id": "7df76004",
   "metadata": {},
   "outputs": [],
   "source": [
    "button = driver.find_element(By.CSS_SELECTOR, 'button[data-testid=\"header-currency-picker-trigger\"]')\n",
    "button.click()"
   ]
  },
  {
   "cell_type": "code",
   "execution_count": 5,
   "id": "02ee5d73",
   "metadata": {},
   "outputs": [],
   "source": [
    "button = driver.find_element(By.CSS_SELECTOR, 'button[data-testid=\"selection-item\"]')\n",
    "button.click()"
   ]
  },
  {
   "cell_type": "code",
   "execution_count": 6,
   "id": "75813799",
   "metadata": {},
   "outputs": [],
   "source": [
    "try:\n",
    "    \n",
    "    button_element = driver.find_element(By.XPATH, \"//button[@aria-label='Ignorar informações de login.']\")\n",
    "    button_element.click()\n",
    "except NoSuchElementException:\n",
    "    pass"
   ]
  },
  {
   "cell_type": "code",
   "execution_count": 14,
   "id": "55c49ba1",
   "metadata": {},
   "outputs": [
    {
     "name": "stdout",
     "output_type": "stream",
     "text": [
      "Total pages: 2\n"
     ]
    }
   ],
   "source": [
    "properties = []\n",
    "\n",
    "\n",
    "def extract_properties():\n",
    "    property_cards = driver.find_elements(By.CSS_SELECTOR, 'div[data-testid=\"property-card\"]')\n",
    "    for property in property_cards:\n",
    "        name = property.find_element(By.CSS_SELECTOR, 'div[data-testid=\"title\"]').text\n",
    "        price = property.find_element(By.CSS_SELECTOR, '[data-testid=\"price-and-discounted-price\"]').text\n",
    "        chk_out = property.find_element(By.XPATH, '//button[contains(@class, \"d47738b911\") and @data-testid=\"date-display-field-end\"]').text\n",
    "        \n",
    "        new_property = {}\n",
    "        new_property['name'] = name\n",
    "        new_property['price'] = price\n",
    "        new_property['chk_out'] = chk_out\n",
    "        \n",
    "        properties.append(new_property)\n",
    "\n",
    "\n",
    "total_pages = int(driver.find_element(By.CSS_SELECTOR, 'div[data-testid=\"pagination\"] li:last-child').text)\n",
    "print(f\"Total pages: {total_pages}\")\n",
    "\n",
    "current_page = 0"
   ]
  },
  {
   "cell_type": "code",
   "execution_count": 15,
   "id": "e7b47d47",
   "metadata": {},
   "outputs": [],
   "source": [
    "for current_page in range(total_pages):\n",
    "    driver.delete_all_cookies()\n",
    "    extract_properties()\n",
    "    next_page_btn = driver.find_element(By.CSS_SELECTOR, 'button[aria-label*=\"Página seguinte\"]')\n",
    "    next_page_btn.click()"
   ]
  },
  {
   "cell_type": "code",
   "execution_count": 16,
   "id": "9e05316f",
   "metadata": {},
   "outputs": [
    {
     "name": "stdout",
     "output_type": "stream",
     "text": [
      "[{'name': 'Share em Perdizes com ótima área comum', 'price': 'R$ 362', 'chk_out': 'qua., 13 de set.'}, {'name': 'Belíssimo Stúdio', 'price': 'R$ 300', 'chk_out': 'qua., 13 de set.'}, {'name': 'Hospedaria Santo André', 'price': 'R$ 288', 'chk_out': 'qua., 13 de set.'}, {'name': 'FLAT PERDIZES - Executivo', 'price': 'R$ 459', 'chk_out': 'qua., 13 de set.'}, {'name': 'Housi Perdizes By Charlie', 'price': 'R$ 360', 'chk_out': 'qua., 13 de set.'}, {'name': 'Apartamento Palmeiras', 'price': 'R$ 411', 'chk_out': 'qua., 13 de set.'}, {'name': 'Studio Perdizes Allianz', 'price': 'R$ 350', 'chk_out': 'qua., 13 de set.'}, {'name': 'Prédio NOVO em frente ao Majestoso Allianz Parque', 'price': 'R$ 375', 'chk_out': 'qua., 13 de set.'}, {'name': 'Noon Vila Madalena', 'price': 'R$ 544', 'chk_out': 'qua., 13 de set.'}, {'name': 'Vossa Bossa Allianz', 'price': 'R$ 355', 'chk_out': 'qua., 13 de set.'}, {'name': 'Mondo Verde Hostel', 'price': 'R$ 117', 'chk_out': 'qua., 13 de set.'}, {'name': 'Estúdio a 400 metros do Allianz Parque', 'price': 'R$ 448', 'chk_out': 'qua., 13 de set.'}, {'name': 'Studios Novíssimos com Piscina no Rooftop e vista para o Allianz Parque', 'price': 'R$ 329', 'chk_out': 'qua., 13 de set.'}, {'name': '360 Suítes Perdizes - Apartamentos mobiliados', 'price': 'R$ 336', 'chk_out': 'qua., 13 de set.'}, {'name': 'Hotel Pousada Pacaembu', 'price': 'R$ 525', 'chk_out': 'qua., 13 de set.'}, {'name': 'Luxury in Perdizes-Allianz', 'price': 'R$ 899', 'chk_out': 'qua., 13 de set.'}, {'name': 'Allianz Parque , Perdizes', 'price': 'R$ 501', 'chk_out': 'qua., 13 de set.'}, {'name': 'Allianz Park, Perdizes', 'price': 'R$ 440', 'chk_out': 'qua., 13 de set.'}, {'name': 'Studio moderno a 5min a pé do Allianz Parque', 'price': 'R$ 285', 'chk_out': 'qua., 13 de set.'}, {'name': 'Apartamento novo e luxuoso ao lado do Allianz', 'price': 'R$ 429', 'chk_out': 'qua., 13 de set.'}, {'name': 'Apto Moderno em Perdizes.', 'price': 'R$ 501', 'chk_out': 'qua., 13 de set.'}, {'name': 'VS12 Apartamento P4 Pessoas Lindo e Moderno em Perdizes Prox Allianz Com Vaga Garagem', 'price': 'R$ 483', 'chk_out': 'qua., 13 de set.'}, {'name': 'Allianz Parque Studio em São Paulo', 'price': 'R$ 621', 'chk_out': 'qua., 13 de set.'}, {'name': 'Studio Allianz Perdizes', 'price': 'R$ 380', 'chk_out': 'qua., 13 de set.'}, {'name': 'Casa SP011', 'price': 'R$ 195', 'chk_out': 'qua., 13 de set.'}, {'name': 'Casa SP011', 'price': 'R$ 195', 'chk_out': 'qua., 13 de set.'}, {'name': 'Vila Rock Hostel - próximo Allianz Parque, Vila Madalena, Av Paulista, Hospital das Clínicas INCOR FMUSP', 'price': 'R$ 150', 'chk_out': 'qua., 13 de set.'}, {'name': 'Mimos Hospedagem', 'price': 'R$ 276', 'chk_out': 'qua., 13 de set.'}, {'name': 'STUDIO - VN Apiacas próximo ao Allianz Parque á 750 metros - Perdizes', 'price': 'R$ 395', 'chk_out': 'qua., 13 de set.'}, {'name': 'Studio Moderno na Vila Madalena', 'price': 'R$ 390', 'chk_out': 'qua., 13 de set.'}, {'name': 'Casa Sobrado em Perdizes', 'price': 'R$ 1.350', 'chk_out': 'qua., 13 de set.'}, {'name': 'Vossa Bossa Perdizes Alfonso Bovero', 'price': 'R$ 405', 'chk_out': 'qua., 13 de set.'}, {'name': 'ACBH - Adega Café Brasil Hospedagem', 'price': 'R$ 300', 'chk_out': 'qua., 13 de set.'}, {'name': 'Vossa Bossa VN Turiassu', 'price': 'R$ 405', 'chk_out': 'qua., 13 de set.'}, {'name': 'Casa Sumaré', 'price': 'R$ 1.716', 'chk_out': 'qua., 13 de set.'}, {'name': 'Villa Hostel próximo ao Allianz Parque', 'price': 'R$ 175', 'chk_out': 'qua., 13 de set.'}, {'name': 'Hotel Pousada Perdizes', 'price': 'R$ 250', 'chk_out': 'qua., 13 de set.'}, {'name': 'Vila do Chaves bed breakfast', 'price': 'R$ 154', 'chk_out': 'qua., 13 de set.'}]\n"
     ]
    }
   ],
   "source": [
    "print(properties)"
   ]
  },
  {
   "cell_type": "code",
   "execution_count": 17,
   "id": "f326852b",
   "metadata": {},
   "outputs": [
    {
     "data": {
      "text/html": [
       "<div>\n",
       "<style scoped>\n",
       "    .dataframe tbody tr th:only-of-type {\n",
       "        vertical-align: middle;\n",
       "    }\n",
       "\n",
       "    .dataframe tbody tr th {\n",
       "        vertical-align: top;\n",
       "    }\n",
       "\n",
       "    .dataframe thead th {\n",
       "        text-align: right;\n",
       "    }\n",
       "</style>\n",
       "<table border=\"1\" class=\"dataframe\">\n",
       "  <thead>\n",
       "    <tr style=\"text-align: right;\">\n",
       "      <th></th>\n",
       "      <th>name</th>\n",
       "      <th>price</th>\n",
       "      <th>chk_out</th>\n",
       "    </tr>\n",
       "  </thead>\n",
       "  <tbody>\n",
       "    <tr>\n",
       "      <th>0</th>\n",
       "      <td>Share em Perdizes com ótima área comum</td>\n",
       "      <td>R$ 362</td>\n",
       "      <td>qua., 13 de set.</td>\n",
       "    </tr>\n",
       "    <tr>\n",
       "      <th>1</th>\n",
       "      <td>Belíssimo Stúdio</td>\n",
       "      <td>R$ 300</td>\n",
       "      <td>qua., 13 de set.</td>\n",
       "    </tr>\n",
       "    <tr>\n",
       "      <th>2</th>\n",
       "      <td>Hospedaria Santo André</td>\n",
       "      <td>R$ 288</td>\n",
       "      <td>qua., 13 de set.</td>\n",
       "    </tr>\n",
       "    <tr>\n",
       "      <th>3</th>\n",
       "      <td>FLAT PERDIZES - Executivo</td>\n",
       "      <td>R$ 459</td>\n",
       "      <td>qua., 13 de set.</td>\n",
       "    </tr>\n",
       "    <tr>\n",
       "      <th>4</th>\n",
       "      <td>Housi Perdizes By Charlie</td>\n",
       "      <td>R$ 360</td>\n",
       "      <td>qua., 13 de set.</td>\n",
       "    </tr>\n",
       "  </tbody>\n",
       "</table>\n",
       "</div>"
      ],
      "text/plain": [
       "                                     name   price           chk_out\n",
       "0  Share em Perdizes com ótima área comum  R$ 362  qua., 13 de set.\n",
       "1                        Belíssimo Stúdio  R$ 300  qua., 13 de set.\n",
       "2                  Hospedaria Santo André  R$ 288  qua., 13 de set.\n",
       "3               FLAT PERDIZES - Executivo  R$ 459  qua., 13 de set.\n",
       "4               Housi Perdizes By Charlie  R$ 360  qua., 13 de set."
      ]
     },
     "execution_count": 17,
     "metadata": {},
     "output_type": "execute_result"
    }
   ],
   "source": [
    "import pandas as pd\n",
    "df = pd.DataFrame(properties)\n",
    "df.head()"
   ]
  },
  {
   "cell_type": "code",
   "execution_count": 18,
   "id": "18c84a98",
   "metadata": {},
   "outputs": [
    {
     "data": {
      "text/plain": [
       "(38, 3)"
      ]
     },
     "execution_count": 18,
     "metadata": {},
     "output_type": "execute_result"
    }
   ],
   "source": [
    "df.shape"
   ]
  },
  {
   "cell_type": "code",
   "execution_count": 19,
   "id": "fc5b7cda",
   "metadata": {},
   "outputs": [
    {
     "data": {
      "text/plain": [
       "<bound method DataFrame.info of                                                  name     price  \\\n",
       "0              Share em Perdizes com ótima área comum    R$ 362   \n",
       "1                                    Belíssimo Stúdio    R$ 300   \n",
       "2                              Hospedaria Santo André    R$ 288   \n",
       "3                           FLAT PERDIZES - Executivo    R$ 459   \n",
       "4                           Housi Perdizes By Charlie    R$ 360   \n",
       "5                               Apartamento Palmeiras    R$ 411   \n",
       "6                             Studio Perdizes Allianz    R$ 350   \n",
       "7   Prédio NOVO em frente ao Majestoso Allianz Parque    R$ 375   \n",
       "8                                  Noon Vila Madalena    R$ 544   \n",
       "9                                 Vossa Bossa Allianz    R$ 355   \n",
       "10                                 Mondo Verde Hostel    R$ 117   \n",
       "11             Estúdio a 400 metros do Allianz Parque    R$ 448   \n",
       "12  Studios Novíssimos com Piscina no Rooftop e vi...    R$ 329   \n",
       "13      360 Suítes Perdizes - Apartamentos mobiliados    R$ 336   \n",
       "14                             Hotel Pousada Pacaembu    R$ 525   \n",
       "15                         Luxury in Perdizes-Allianz    R$ 899   \n",
       "16                          Allianz Parque , Perdizes    R$ 501   \n",
       "17                             Allianz Park, Perdizes    R$ 440   \n",
       "18       Studio moderno a 5min a pé do Allianz Parque    R$ 285   \n",
       "19      Apartamento novo e luxuoso ao lado do Allianz    R$ 429   \n",
       "20                          Apto Moderno em Perdizes.    R$ 501   \n",
       "21  VS12 Apartamento P4 Pessoas Lindo e Moderno em...    R$ 483   \n",
       "22                 Allianz Parque Studio em São Paulo    R$ 621   \n",
       "23                            Studio Allianz Perdizes    R$ 380   \n",
       "24                                         Casa SP011    R$ 195   \n",
       "25                                         Casa SP011    R$ 195   \n",
       "26  Vila Rock Hostel - próximo Allianz Parque, Vil...    R$ 150   \n",
       "27                                   Mimos Hospedagem    R$ 276   \n",
       "28  STUDIO - VN Apiacas próximo ao Allianz Parque ...    R$ 395   \n",
       "29                    Studio Moderno na Vila Madalena    R$ 390   \n",
       "30                           Casa Sobrado em Perdizes  R$ 1.350   \n",
       "31                Vossa Bossa Perdizes Alfonso Bovero    R$ 405   \n",
       "32                ACBH - Adega Café Brasil Hospedagem    R$ 300   \n",
       "33                            Vossa Bossa VN Turiassu    R$ 405   \n",
       "34                                        Casa Sumaré  R$ 1.716   \n",
       "35             Villa Hostel próximo ao Allianz Parque    R$ 175   \n",
       "36                             Hotel Pousada Perdizes    R$ 250   \n",
       "37                       Vila do Chaves bed breakfast    R$ 154   \n",
       "\n",
       "             chk_out  \n",
       "0   qua., 13 de set.  \n",
       "1   qua., 13 de set.  \n",
       "2   qua., 13 de set.  \n",
       "3   qua., 13 de set.  \n",
       "4   qua., 13 de set.  \n",
       "5   qua., 13 de set.  \n",
       "6   qua., 13 de set.  \n",
       "7   qua., 13 de set.  \n",
       "8   qua., 13 de set.  \n",
       "9   qua., 13 de set.  \n",
       "10  qua., 13 de set.  \n",
       "11  qua., 13 de set.  \n",
       "12  qua., 13 de set.  \n",
       "13  qua., 13 de set.  \n",
       "14  qua., 13 de set.  \n",
       "15  qua., 13 de set.  \n",
       "16  qua., 13 de set.  \n",
       "17  qua., 13 de set.  \n",
       "18  qua., 13 de set.  \n",
       "19  qua., 13 de set.  \n",
       "20  qua., 13 de set.  \n",
       "21  qua., 13 de set.  \n",
       "22  qua., 13 de set.  \n",
       "23  qua., 13 de set.  \n",
       "24  qua., 13 de set.  \n",
       "25  qua., 13 de set.  \n",
       "26  qua., 13 de set.  \n",
       "27  qua., 13 de set.  \n",
       "28  qua., 13 de set.  \n",
       "29  qua., 13 de set.  \n",
       "30  qua., 13 de set.  \n",
       "31  qua., 13 de set.  \n",
       "32  qua., 13 de set.  \n",
       "33  qua., 13 de set.  \n",
       "34  qua., 13 de set.  \n",
       "35  qua., 13 de set.  \n",
       "36  qua., 13 de set.  \n",
       "37  qua., 13 de set.  >"
      ]
     },
     "execution_count": 19,
     "metadata": {},
     "output_type": "execute_result"
    }
   ],
   "source": [
    "df.info"
   ]
  },
  {
   "cell_type": "code",
   "execution_count": 20,
   "id": "18c5ee54",
   "metadata": {},
   "outputs": [
    {
     "name": "stdout",
     "output_type": "stream",
     "text": [
      "name\n",
      "Casa SP011                                                                                                  2\n",
      "Share em Perdizes com ótima área comum                                                                      1\n",
      "Apartamento novo e luxuoso ao lado do Allianz                                                               1\n",
      "VS12 Apartamento P4 Pessoas Lindo e Moderno em Perdizes Prox Allianz Com Vaga Garagem                       1\n",
      "Allianz Parque Studio em São Paulo                                                                          1\n",
      "Studio Allianz Perdizes                                                                                     1\n",
      "Vila Rock Hostel - próximo Allianz Parque, Vila Madalena, Av Paulista, Hospital das Clínicas INCOR FMUSP    1\n",
      "Mimos Hospedagem                                                                                            1\n",
      "STUDIO - VN Apiacas próximo ao Allianz Parque á 750 metros - Perdizes                                       1\n",
      "Studio Moderno na Vila Madalena                                                                             1\n",
      "Casa Sobrado em Perdizes                                                                                    1\n",
      "Vossa Bossa Perdizes Alfonso Bovero                                                                         1\n",
      "ACBH - Adega Café Brasil Hospedagem                                                                         1\n",
      "Vossa Bossa VN Turiassu                                                                                     1\n",
      "Casa Sumaré                                                                                                 1\n",
      "Villa Hostel próximo ao Allianz Parque                                                                      1\n",
      "Hotel Pousada Perdizes                                                                                      1\n",
      "Apto Moderno em Perdizes.                                                                                   1\n",
      "Studio moderno a 5min a pé do Allianz Parque                                                                1\n",
      "Belíssimo Stúdio                                                                                            1\n",
      "Allianz Park, Perdizes                                                                                      1\n",
      "Hospedaria Santo André                                                                                      1\n",
      "FLAT PERDIZES - Executivo                                                                                   1\n",
      "Housi Perdizes By Charlie                                                                                   1\n",
      "Apartamento Palmeiras                                                                                       1\n",
      "Studio Perdizes Allianz                                                                                     1\n",
      "Prédio NOVO em frente ao Majestoso Allianz Parque                                                           1\n",
      "Noon Vila Madalena                                                                                          1\n",
      "Vossa Bossa Allianz                                                                                         1\n",
      "Mondo Verde Hostel                                                                                          1\n",
      "Estúdio a 400 metros do Allianz Parque                                                                      1\n",
      "Studios Novíssimos com Piscina no Rooftop e vista para o Allianz Parque                                     1\n",
      "360 Suítes Perdizes - Apartamentos mobiliados                                                               1\n",
      "Hotel Pousada Pacaembu                                                                                      1\n",
      "Luxury in Perdizes-Allianz                                                                                  1\n",
      "Allianz Parque , Perdizes                                                                                   1\n",
      "Vila do Chaves bed breakfast                                                                                1\n",
      "Name: count, dtype: int64\n"
     ]
    }
   ],
   "source": [
    "name_counts = df['name'].value_counts()\n",
    "print(name_counts)"
   ]
  },
  {
   "cell_type": "code",
   "execution_count": 21,
   "id": "ecad8472",
   "metadata": {},
   "outputs": [],
   "source": [
    "df.to_csv('perdizes.csv', index=False)"
   ]
  },
  {
   "cell_type": "code",
   "execution_count": 22,
   "id": "abbf0b8a",
   "metadata": {},
   "outputs": [],
   "source": [
    "driver.quit()"
   ]
  },
  {
   "cell_type": "code",
   "execution_count": 11,
   "id": "3e107c21",
   "metadata": {},
   "outputs": [],
   "source": []
  },
  {
   "cell_type": "code",
   "execution_count": null,
   "id": "63ae5112",
   "metadata": {},
   "outputs": [],
   "source": []
  },
  {
   "cell_type": "code",
   "execution_count": null,
   "id": "02029519",
   "metadata": {},
   "outputs": [],
   "source": []
  },
  {
   "cell_type": "code",
   "execution_count": null,
   "id": "f7723f83",
   "metadata": {},
   "outputs": [],
   "source": []
  }
 ],
 "metadata": {
  "kernelspec": {
   "display_name": "Python 3 (ipykernel)",
   "language": "python",
   "name": "python3"
  },
  "language_info": {
   "codemirror_mode": {
    "name": "ipython",
    "version": 3
   },
   "file_extension": ".py",
   "mimetype": "text/x-python",
   "name": "python",
   "nbconvert_exporter": "python",
   "pygments_lexer": "ipython3",
   "version": "3.10.9"
  }
 },
 "nbformat": 4,
 "nbformat_minor": 5
}
